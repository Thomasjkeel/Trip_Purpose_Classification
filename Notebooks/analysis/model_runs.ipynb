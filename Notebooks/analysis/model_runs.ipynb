{
 "cells": [
  {
   "cell_type": "markdown",
   "metadata": {},
   "source": [
    "Random Forest model runs for Trip Purpose Estimation using data from the 2017 MTL Trajet"
   ]
  },
  {
   "cell_type": "markdown",
   "metadata": {},
   "source": [
    "# Loading packages"
   ]
  },
  {
   "cell_type": "code",
   "execution_count": 1,
   "metadata": {
    "scrolled": true
   },
   "outputs": [
    {
     "name": "stderr",
     "output_type": "stream",
     "text": [
      "/home/thomaskeel/anaconda3/envs/datasci/lib/python3.8/site-packages/sklearn/utils/deprecation.py:143: FutureWarning: The sklearn.ensemble.forest module is  deprecated in version 0.22 and will be removed in version 0.24. The corresponding classes / functions should instead be imported from sklearn.ensemble. Anything that cannot be imported from sklearn.ensemble is now part of the private API.\n",
      "  warnings.warn(message, FutureWarning)\n"
     ]
    }
   ],
   "source": [
    "import pandas as pd\n",
    "import geopandas as gpd\n",
    "import shapely\n",
    "import matplotlib.pyplot as plt\n",
    "import numpy as np\n",
    "import seaborn as sns\n",
    "import collections\n",
    "import sklearn\n",
    "import sklearn.preprocessing\n",
    "import sklearn.model_selection\n",
    "import sklearn.ensemble\n",
    "import rfpimp\n",
    "from sklearn.feature_selection import SelectFromModel\n",
    "import random\n",
    "import datetime\n",
    "\n",
    "# oversampling\n",
    "from imblearn.over_sampling import SMOTENC\n",
    "from imblearn.under_sampling import RandomUnderSampler\n",
    "\n",
    "%matplotlib inline"
   ]
  },
  {
   "cell_type": "markdown",
   "metadata": {},
   "source": [
    "# Loading data"
   ]
  },
  {
   "cell_type": "markdown",
   "metadata": {},
   "source": [
    "The data should contain the nearby POI information from the Google Place API. \n",
    "\n",
    "`Preprocessing is needed`\n",
    "\n",
    "Consider using the POI types from the paper by Emagun et al."
   ]
  },
  {
   "cell_type": "code",
   "execution_count": 2,
   "metadata": {},
   "outputs": [],
   "source": [
    "X_all = pd.read_csv('../../Data/model_inputs/gdf_2017_X.csv')\n",
    "y_all = pd.read_csv('../../Data/model_inputs/gdf_2017_y.csv')"
   ]
  },
  {
   "cell_type": "code",
   "execution_count": 87,
   "metadata": {},
   "outputs": [],
   "source": [
    "opening_time = pd.read_csv('../../Data/model_inputs/opening_time_by_purpose.csv')"
   ]
  },
  {
   "cell_type": "markdown",
   "metadata": {},
   "source": [
    "The encoding of **purpose** and **mode** is as follows. Note that the trips of home and work have been removed.\n",
    "\n",
    "- purpose: {'leisure': 0, 'food_drink': 1, 'shops': 2, 'pick_up_drop_off': 3, 'education': 4, 'health': 5}\n",
    "- mode: {'walking': 0, 'public_transport': 1, 'car': 2, 'cycling': 3, 'taxi': 4, 'car_sharing': 5,'mixed':6, 'other':7, 'not_available':8}"
   ]
  },
  {
   "cell_type": "code",
   "execution_count": 3,
   "metadata": {},
   "outputs": [
    {
     "data": {
      "text/plain": [
       "0    9143\n",
       "2    8357\n",
       "1    3107\n",
       "4    2769\n",
       "3    1571\n",
       "5    1044\n",
       "Name: purpose, dtype: int64"
      ]
     },
     "execution_count": 3,
     "metadata": {},
     "output_type": "execute_result"
    }
   ],
   "source": [
    "y_all['purpose'].value_counts()"
   ]
  },
  {
   "cell_type": "code",
   "execution_count": 4,
   "metadata": {},
   "outputs": [
    {
     "data": {
      "text/plain": [
       "2    9906\n",
       "0    5913\n",
       "3    3514\n",
       "1    3380\n",
       "6    2635\n",
       "5     407\n",
       "4     111\n",
       "8      65\n",
       "7      60\n",
       "Name: mode, dtype: int64"
      ]
     },
     "execution_count": 4,
     "metadata": {},
     "output_type": "execute_result"
    }
   ],
   "source": [
    "X_all['mode'].value_counts()"
   ]
  },
  {
   "cell_type": "code",
   "execution_count": 5,
   "metadata": {},
   "outputs": [
    {
     "data": {
      "text/plain": [
       "Index(['id_trip', 'mode', 'distance_m', 'duration', 'weekday', 'morning',\n",
       "       'midday', 'afternoon', 'evening', 'midnight', 'lat', 'long'],\n",
       "      dtype='object')"
      ]
     },
     "execution_count": 5,
     "metadata": {},
     "output_type": "execute_result"
    }
   ],
   "source": [
    "X_all.columns"
   ]
  },
  {
   "cell_type": "markdown",
   "metadata": {},
   "source": [
    "The meaning of X variables is shown below.\n",
    "\n",
    "| Variable | Meaning | Unit |\n",
    "|:-------- | :-------- | :---- |\n",
    "| id_trip | Unique ID | NA |\n",
    "| mode | Trip mode | {'walking': 0, 'public_transport': 1, 'car': 2, 'cycling': 3, 'taxi': 4, 'car_sharing': 5,'mixed':6, 'other':7, 'not_available':8}|\n",
    "| duration | Trip duration | Second |\n",
    "| distance_m | Euclidean trip distance calculated from nodes along a Shapely LineString object | Metre |\n",
    "| weekday | Whether this trip occurs in a weekday (Monday to Friday) | {1:True, 0:False} |\n",
    "| precip | Total precipitation within a given hour on a given date | mm |\n",
    "| temp | Average Temperature within a given hour on a given date | Celcius |\n",
    "| morning | Whether this trip occurs in the morning time 0600-1059 | {1:True, 0:False} |\n",
    "| afternoon | Whether this trip occurs in the afternoon time 1100-1359 | {1:True, 0:False} |\n",
    "| evening | Whether this trip occurs in the evening time 1700-2159 | {1:True, 0:False} |\n",
    "| midnight | Whether this trip occurs in the midnight time 2200-0559 | {1:True, 0:False} |\n",
    "| long | The x coordinate of the ending point in the TBC reference system | Metre |\n",
    "| lat | The y coordinate of the ending point in the TBC reference system | Metre |"
   ]
  },
  {
   "cell_type": "code",
   "execution_count": 6,
   "metadata": {},
   "outputs": [],
   "source": [
    "# replace False and True with 0 and 1, respectively\n",
    "X_all = X_all.replace({True: 1, False: 0})"
   ]
  },
  {
   "cell_type": "markdown",
   "metadata": {},
   "source": [
    "Add descriptive analysis of nearby POIs, and compare this with the description of LTPD (in Section 5.1) [Thomas] X_all.head()"
   ]
  },
  {
   "cell_type": "code",
   "execution_count": 7,
   "metadata": {},
   "outputs": [
    {
     "data": {
      "text/plain": [
       "Index(['purpose'], dtype='object')"
      ]
     },
     "execution_count": 7,
     "metadata": {},
     "output_type": "execute_result"
    }
   ],
   "source": [
    "y_all.columns"
   ]
  },
  {
   "cell_type": "code",
   "execution_count": 8,
   "metadata": {},
   "outputs": [
    {
     "name": "stdout",
     "output_type": "stream",
     "text": [
      "The size of each trip purpose:\n"
     ]
    },
    {
     "data": {
      "text/plain": [
       "0    9143\n",
       "2    8357\n",
       "1    3107\n",
       "4    2769\n",
       "3    1571\n",
       "5    1044\n",
       "Name: purpose, dtype: int64"
      ]
     },
     "execution_count": 8,
     "metadata": {},
     "output_type": "execute_result"
    }
   ],
   "source": [
    "print('The size of each trip purpose:')\n",
    "y_all['purpose'].value_counts()"
   ]
  },
  {
   "cell_type": "markdown",
   "metadata": {},
   "source": [
    "# Variable settings and algorithms"
   ]
  },
  {
   "cell_type": "markdown",
   "metadata": {},
   "source": [
    " There are four settings of variables\n",
    " - Basic (without nearby trip purposes or Google nearby Places)\n",
    " - Basic and nearby trips\n",
    " - Basic and Google POIs\n",
    " - Baisc and nearby trips and Google POIs \n",
    " \n",
    " \n",
    " There are two algorithms:\n",
    " - Random Forest\n",
    " - Nested Logit\n",
    " \n",
    " \n",
    " Based on exhaustive combinations of settings and algorithms, eight models will be trained.\n",
    " \n",
    " In this notebook, we will compare four random forest models. Each model will be tuned using GridSearchCV.\n",
    " \n",
    " The basic variables include the following:\n",
    " - 'mode'\n",
    " - 'duration'\n",
    " - 'distance_m'\n",
    " - 'weekday'\n",
    " - 'precip'\n",
    " - 'temp'\n",
    " - 'morning' \n",
    " - 'midday' \n",
    " - 'afternoon'\n",
    " - 'evening'\n",
    " - 'midnight'\n",
    " \n",
    " \n",
    " There is no need to normalise continuous variables before using RF."
   ]
  },
  {
   "cell_type": "markdown",
   "metadata": {},
   "source": [
    "## Utility functions"
   ]
  },
  {
   "cell_type": "markdown",
   "metadata": {},
   "source": [
    "## A function for re-projecting that data"
   ]
  },
  {
   "cell_type": "code",
   "execution_count": 9,
   "metadata": {},
   "outputs": [],
   "source": [
    "def change_crs_of_X(X, crs_from=\"EPSG:4236\",crs_to=\"EPSG:3347\"):\n",
    "    \"\"\"\n",
    "        Function for translating the data into Canada Lambert projection \n",
    "        EPSG: 3347, so that the base unit is 1 m\n",
    "    \"\"\"\n",
    "    new_X = X.copy()\n",
    "    new_X['geometry'] = new_X.apply(lambda row: shapely.geometry.Point(row['long'],row['lat']),axis=1)\n",
    "    new_X = gpd.GeoDataFrame(new_X,crs=crs_from)\n",
    "    new_X = new_X.to_crs(crs_to)\n",
    "    return new_X"
   ]
  },
  {
   "cell_type": "markdown",
   "metadata": {},
   "source": [
    "### A function that runs a standard random forest model"
   ]
  },
  {
   "cell_type": "code",
   "execution_count": 10,
   "metadata": {},
   "outputs": [],
   "source": [
    "def run_rf(X_train, X_test, y_train, y_test, n_estimators=2000, max_depth=20):\n",
    "    \"\"\"\n",
    "        Run a random forest classification model\n",
    "    \"\"\"\n",
    "    clf = sklearn.ensemble.RandomForestClassifier(n_estimators=n_estimators, max_depth=max_depth)\n",
    "    clf.fit(X_train, y_train)\n",
    "    score = clf.score(X_test,y_test)\n",
    "    preds = clf.predict(X_test)\n",
    "    #print(\"Random Forest Classifcation accuracy:\", score)\n",
    "    return clf, score, preds"
   ]
  },
  {
   "cell_type": "markdown",
   "metadata": {},
   "source": [
    "### A function to compute the proportions of nearby trip purposes in the training data (TK)"
   ]
  },
  {
   "cell_type": "code",
   "execution_count": 95,
   "metadata": {},
   "outputs": [],
   "source": [
    "def compute_nearby_purposes(y_train, X_train, X_test, buffer_size_m=200):\n",
    "    \"\"\"\n",
    "        Augment the training and testing data with the proportions of nearby trip purposes in the training data.\n",
    "        :param y_train: (dataframe) the trip purpose of the training data, which is used to compute proportions of nearby trip purposes. Should contain a column of 'purpose'\n",
    "        :param X_train: (dataframe) the predictor variables of the training data. Should contain three columns of 'id', endx' and 'endy'.\n",
    "        :param X_test: (dataframe) the predictor variables of the testing data. Should contain two columns of 'id', 'endx' and 'endy'.\n",
    "        :param buffer_size_m: (int) the size of the buffer in metres around each trip end.\n",
    "        :return: (list) [X_train_aug, X_test_aug]. X_train_aug and X_test_aug are the X_train and X_test augmented with extra columns, respectively. The new columns are ['p_nearby_0', 'p_nearby_1', 'p_nearby_2', 'p_nearby_3', 'p_nearby_4', 'p_nearby_5']\n",
    "        Note: when selecting the trips close to a trip in the training data, remember to exclude this trip itself using the 'id' column.\n",
    "        Note: EPSG:3347 == Canada Lambert Projection\n",
    "    \"\"\"\n",
    "    ## merge train and test X back together\n",
    "    all_X = pd.concat([X_train, X_test],axis=0)\n",
    "    \n",
    "    ## initialise a geo-dataframe of all the X values and create a buffer of 200 m around each trip (for each row)\n",
    "    geo_X = change_crs_of_X(all_X)\n",
    "    \n",
    "    # calculate 200 m buffers around each trip end point\n",
    "    geo_X['buffers'] = geo_X['geometry'].apply(lambda row: row.buffer(buffer_size_m))\n",
    "    \n",
    "    # get a geo-dataframe with only the Trip ID,trip end buffer and trip purpose\n",
    "    only_buffers = geo_X[['id_trip','buffers']]\n",
    "    only_buffers = gpd.GeoDataFrame(only_buffers.rename(columns={'buffers':'geometry'}), crs=\"EPSG:3347\")\n",
    "    \n",
    "    \n",
    "    ## intialise a geo-dataframe of only the training data\n",
    "    # Note: only the purposes of trips of the training dataset are known so this is why we need to create a seperate geoDataFrame of only the training data\n",
    "    all_train = pd.concat([X_train,y_train],axis=1)\n",
    "    all_train.reset_index(drop=True,inplace=True)\n",
    "    geo_train = change_crs_of_X(all_train)\n",
    "\n",
    "    ## perform the spatial join between a buffer of each trip and trip end points from exclusively the training data.\n",
    "    # Note: here we are extracting the purpose of trips where the trip end points from the training geo-dataframe (type==Point) intersect with a buffer of all the trip end points (type==Polygon) \n",
    "    joined_data = gpd.sjoin(only_buffers, geo_train, op='intersects', how='left')\n",
    "\n",
    "    ## drop duplicates (as each trip will fall within a buffer of itself)\n",
    "    to_drop = joined_data[['id_trip_left','id_trip_right']].apply(lambda row: True \\\n",
    "                                                                if row['id_trip_left'] == row['id_trip_right']\\\n",
    "                                                                else False, axis=1)\n",
    "    joined_data = joined_data[~to_drop]\n",
    "    \n",
    "    ## Compute the proportion of nearby purposes types for each trip/row\n",
    "    grouped_data = joined_data.groupby(['id_trip_left', 'purpose']).agg({'mode':'count'})\n",
    "    grouped_data = grouped_data.unstack().apply(lambda row: row/row.sum(),axis=1)['mode'].reset_index()\n",
    "    grouped_data = grouped_data.fillna(0.0)\n",
    "    \n",
    "    ## rename columns\n",
    "    new_columns = ['id_trip','p_nearby_0','p_nearby_1','p_nearby_2','p_nearby_3','p_nearby_4',\\\n",
    "                       'p_nearby_5']\n",
    "    grouped_data.columns = new_columns\n",
    "    \n",
    "    ## Merge p_nearby columns back to X_train and X_test\n",
    "    all_X = all_X.merge(grouped_data, on='id_trip', how='left')\n",
    "    all_X = all_X.fillna(0.0)\n",
    "    X_train_aug = X_train.merge(all_X[new_columns], on='id_trip')\n",
    "    X_test_aug = X_test.merge(all_X[new_columns], on='id_trip')\n",
    "    return X_train_aug, X_test_aug"
   ]
  },
  {
   "cell_type": "code",
   "execution_count": 107,
   "metadata": {},
   "outputs": [],
   "source": [
    "def add_opening_time(X_train, X_test):\n",
    "        \"\"\"\n",
    "        Augment the training and testing data with the proportions of nearby places that are open in the training data.\n",
    "        :param X_train: (dataframe) the predictor variables of the training data. Should contain three columns of 'id', endx' and 'endy'.\n",
    "        :param X_test: (dataframe) the predictor variables of the testing data. Should contain two columns of 'id', 'endx' and 'endy'.\n",
    "        :param buffer_size_m: (int) the size of the buffer in metres around each trip end.\n",
    "        :return: (list) [X_train_aug, X_test_aug]. X_train_aug and X_test_aug are the X_train and X_test augmented with extra columns, respectively. The new columns are ['p_nearby_0', 'p_nearby_1', 'p_nearby_2', 'p_nearby_3', 'p_nearby_4', 'p_nearby_5']\n",
    "        Note: when selecting the trips close to a trip in the training data, remember to exclude this trip itself using the 'id' column.\n",
    "        Note: EPSG:3347 == Canada Lambert Projection\n",
    "    \"\"\"\n",
    "        X_train = pd.merge(X_train, opening_time, on='id_trip', how='left')\n",
    "        X_test = pd.merge(X_test, opening_time, on='id_trip', how='left')\n",
    "        X_train = X_train.fillna(0.0)\n",
    "        X_test = X_test.fillna(0.0)\n",
    "        return X_train, X_test"
   ]
  },
  {
   "cell_type": "markdown",
   "metadata": {},
   "source": [
    "# Basic RF"
   ]
  },
  {
   "cell_type": "code",
   "execution_count": 108,
   "metadata": {},
   "outputs": [],
   "source": [
    "basic_variables = ['mode', 'duration', 'distance_m', 'weekday',\n",
    "    'morning', 'midday', 'afternoon', 'evening', 'midnight']\n",
    "\n",
    "# needed for nearby purpose computation \n",
    "temporary_variables = ['id_trip','long','lat']\n",
    "\n",
    "# extract all variables\n",
    "X_all_basic_variables = X_all[basic_variables + temporary_variables]"
   ]
  },
  {
   "cell_type": "code",
   "execution_count": 109,
   "metadata": {},
   "outputs": [
    {
     "name": "stdout",
     "output_type": "stream",
     "text": [
      "(25991, 12)\n",
      "(25991, 1)\n",
      "(25991,)\n"
     ]
    }
   ],
   "source": [
    "print(X_all_basic_variables.shape)\n",
    "print(y_all.shape)\n",
    "print(np.ravel(y_all).shape)"
   ]
  },
  {
   "cell_type": "code",
   "execution_count": 110,
   "metadata": {},
   "outputs": [
    {
     "data": {
      "text/html": [
       "<div>\n",
       "<style scoped>\n",
       "    .dataframe tbody tr th:only-of-type {\n",
       "        vertical-align: middle;\n",
       "    }\n",
       "\n",
       "    .dataframe tbody tr th {\n",
       "        vertical-align: top;\n",
       "    }\n",
       "\n",
       "    .dataframe thead th {\n",
       "        text-align: right;\n",
       "    }\n",
       "</style>\n",
       "<table border=\"1\" class=\"dataframe\">\n",
       "  <thead>\n",
       "    <tr style=\"text-align: right;\">\n",
       "      <th></th>\n",
       "      <th>mode</th>\n",
       "      <th>duration</th>\n",
       "      <th>distance_m</th>\n",
       "      <th>weekday</th>\n",
       "      <th>morning</th>\n",
       "      <th>midday</th>\n",
       "      <th>afternoon</th>\n",
       "      <th>evening</th>\n",
       "      <th>midnight</th>\n",
       "      <th>id_trip</th>\n",
       "      <th>long</th>\n",
       "      <th>lat</th>\n",
       "    </tr>\n",
       "  </thead>\n",
       "  <tbody>\n",
       "    <tr>\n",
       "      <th>0</th>\n",
       "      <td>2</td>\n",
       "      <td>862</td>\n",
       "      <td>9935.922336</td>\n",
       "      <td>1</td>\n",
       "      <td>1</td>\n",
       "      <td>0</td>\n",
       "      <td>0</td>\n",
       "      <td>0</td>\n",
       "      <td>0</td>\n",
       "      <td>150744</td>\n",
       "      <td>-73.545318</td>\n",
       "      <td>45.550661</td>\n",
       "    </tr>\n",
       "    <tr>\n",
       "      <th>1</th>\n",
       "      <td>2</td>\n",
       "      <td>1873</td>\n",
       "      <td>6832.113937</td>\n",
       "      <td>1</td>\n",
       "      <td>0</td>\n",
       "      <td>1</td>\n",
       "      <td>0</td>\n",
       "      <td>0</td>\n",
       "      <td>0</td>\n",
       "      <td>35763</td>\n",
       "      <td>-73.472673</td>\n",
       "      <td>45.408982</td>\n",
       "    </tr>\n",
       "    <tr>\n",
       "      <th>2</th>\n",
       "      <td>2</td>\n",
       "      <td>1165</td>\n",
       "      <td>12233.968564</td>\n",
       "      <td>1</td>\n",
       "      <td>0</td>\n",
       "      <td>1</td>\n",
       "      <td>0</td>\n",
       "      <td>0</td>\n",
       "      <td>0</td>\n",
       "      <td>323826</td>\n",
       "      <td>-73.720401</td>\n",
       "      <td>45.610037</td>\n",
       "    </tr>\n",
       "    <tr>\n",
       "      <th>3</th>\n",
       "      <td>2</td>\n",
       "      <td>820</td>\n",
       "      <td>3612.405991</td>\n",
       "      <td>1</td>\n",
       "      <td>0</td>\n",
       "      <td>1</td>\n",
       "      <td>0</td>\n",
       "      <td>0</td>\n",
       "      <td>0</td>\n",
       "      <td>375668</td>\n",
       "      <td>-73.545622</td>\n",
       "      <td>45.578748</td>\n",
       "    </tr>\n",
       "    <tr>\n",
       "      <th>4</th>\n",
       "      <td>2</td>\n",
       "      <td>1316</td>\n",
       "      <td>26428.385191</td>\n",
       "      <td>1</td>\n",
       "      <td>0</td>\n",
       "      <td>0</td>\n",
       "      <td>1</td>\n",
       "      <td>0</td>\n",
       "      <td>0</td>\n",
       "      <td>212877</td>\n",
       "      <td>-73.318776</td>\n",
       "      <td>45.632435</td>\n",
       "    </tr>\n",
       "    <tr>\n",
       "      <th>...</th>\n",
       "      <td>...</td>\n",
       "      <td>...</td>\n",
       "      <td>...</td>\n",
       "      <td>...</td>\n",
       "      <td>...</td>\n",
       "      <td>...</td>\n",
       "      <td>...</td>\n",
       "      <td>...</td>\n",
       "      <td>...</td>\n",
       "      <td>...</td>\n",
       "      <td>...</td>\n",
       "      <td>...</td>\n",
       "    </tr>\n",
       "    <tr>\n",
       "      <th>25986</th>\n",
       "      <td>1</td>\n",
       "      <td>245</td>\n",
       "      <td>318.697272</td>\n",
       "      <td>1</td>\n",
       "      <td>0</td>\n",
       "      <td>0</td>\n",
       "      <td>0</td>\n",
       "      <td>0</td>\n",
       "      <td>1</td>\n",
       "      <td>187909</td>\n",
       "      <td>-73.597794</td>\n",
       "      <td>45.531788</td>\n",
       "    </tr>\n",
       "    <tr>\n",
       "      <th>25987</th>\n",
       "      <td>2</td>\n",
       "      <td>142</td>\n",
       "      <td>325.659195</td>\n",
       "      <td>1</td>\n",
       "      <td>0</td>\n",
       "      <td>0</td>\n",
       "      <td>0</td>\n",
       "      <td>0</td>\n",
       "      <td>1</td>\n",
       "      <td>317829</td>\n",
       "      <td>-73.570546</td>\n",
       "      <td>45.603296</td>\n",
       "    </tr>\n",
       "    <tr>\n",
       "      <th>25988</th>\n",
       "      <td>1</td>\n",
       "      <td>1296</td>\n",
       "      <td>2481.960790</td>\n",
       "      <td>1</td>\n",
       "      <td>0</td>\n",
       "      <td>0</td>\n",
       "      <td>0</td>\n",
       "      <td>0</td>\n",
       "      <td>1</td>\n",
       "      <td>182050</td>\n",
       "      <td>-73.577226</td>\n",
       "      <td>45.515994</td>\n",
       "    </tr>\n",
       "    <tr>\n",
       "      <th>25989</th>\n",
       "      <td>2</td>\n",
       "      <td>520</td>\n",
       "      <td>2983.535698</td>\n",
       "      <td>1</td>\n",
       "      <td>0</td>\n",
       "      <td>0</td>\n",
       "      <td>0</td>\n",
       "      <td>0</td>\n",
       "      <td>1</td>\n",
       "      <td>312741</td>\n",
       "      <td>-73.569639</td>\n",
       "      <td>45.490044</td>\n",
       "    </tr>\n",
       "    <tr>\n",
       "      <th>25990</th>\n",
       "      <td>0</td>\n",
       "      <td>1371</td>\n",
       "      <td>1059.744258</td>\n",
       "      <td>1</td>\n",
       "      <td>0</td>\n",
       "      <td>0</td>\n",
       "      <td>0</td>\n",
       "      <td>0</td>\n",
       "      <td>1</td>\n",
       "      <td>333364</td>\n",
       "      <td>-73.806129</td>\n",
       "      <td>45.484168</td>\n",
       "    </tr>\n",
       "  </tbody>\n",
       "</table>\n",
       "<p>25991 rows × 12 columns</p>\n",
       "</div>"
      ],
      "text/plain": [
       "       mode  duration    distance_m  weekday  morning  midday  afternoon  \\\n",
       "0         2       862   9935.922336        1        1       0          0   \n",
       "1         2      1873   6832.113937        1        0       1          0   \n",
       "2         2      1165  12233.968564        1        0       1          0   \n",
       "3         2       820   3612.405991        1        0       1          0   \n",
       "4         2      1316  26428.385191        1        0       0          1   \n",
       "...     ...       ...           ...      ...      ...     ...        ...   \n",
       "25986     1       245    318.697272        1        0       0          0   \n",
       "25987     2       142    325.659195        1        0       0          0   \n",
       "25988     1      1296   2481.960790        1        0       0          0   \n",
       "25989     2       520   2983.535698        1        0       0          0   \n",
       "25990     0      1371   1059.744258        1        0       0          0   \n",
       "\n",
       "       evening  midnight  id_trip       long        lat  \n",
       "0            0         0   150744 -73.545318  45.550661  \n",
       "1            0         0    35763 -73.472673  45.408982  \n",
       "2            0         0   323826 -73.720401  45.610037  \n",
       "3            0         0   375668 -73.545622  45.578748  \n",
       "4            0         0   212877 -73.318776  45.632435  \n",
       "...        ...       ...      ...        ...        ...  \n",
       "25986        0         1   187909 -73.597794  45.531788  \n",
       "25987        0         1   317829 -73.570546  45.603296  \n",
       "25988        0         1   182050 -73.577226  45.515994  \n",
       "25989        0         1   312741 -73.569639  45.490044  \n",
       "25990        0         1   333364 -73.806129  45.484168  \n",
       "\n",
       "[25991 rows x 12 columns]"
      ]
     },
     "execution_count": 110,
     "metadata": {},
     "output_type": "execute_result"
    }
   ],
   "source": [
    "X_all_basic_variables"
   ]
  },
  {
   "cell_type": "markdown",
   "metadata": {},
   "source": [
    "#### test time series split"
   ]
  },
  {
   "cell_type": "code",
   "execution_count": null,
   "metadata": {
    "scrolled": true
   },
   "outputs": [
    {
     "name": "stdout",
     "output_type": "stream",
     "text": [
      "TRAIN: [   0    1    2 ... 4333 4334 4335] TEST: [4336 4337 4338 ... 8664 8665 8666]\n"
     ]
    }
   ],
   "source": [
    "# Time series split\n",
    "tscv = sklearn.model_selection.TimeSeriesSplit(n_splits=5)\n",
    "\n",
    "# all_res = []\n",
    "# for i in range(5):\n",
    "\n",
    "# Run models based on split time series\n",
    "for train_index, test_index in tscv.split(X_all_basic_variables):\n",
    "    print(\"TRAIN:\", train_index, \"TEST:\", test_index)\n",
    "    X_train, X_test = X_all_basic_variables.iloc[train_index], X_all_basic_variables.iloc[test_index]\n",
    "    y_train, y_test = y_all.iloc[train_index], y_all.iloc[test_index]\n",
    "\n",
    "    # compute nearby purposes\n",
    "    X_train, X_test = compute_nearby_purposes(y_train, X_train, X_test, 200)\n",
    "    \n",
    "    # add opening times\n",
    "    X_train, X_test = add_opening_time(X_train, X_test)\n",
    "    # preserve Trip IDs of training and testing data\n",
    "    X_train_IDs = X_train['id_trip']\n",
    "    X_test_IDs = X_test['id_trip']\n",
    "\n",
    "    # remove columns which are not needed\n",
    "    X_train = X_train.drop(columns=temporary_variables, axis=1)\n",
    "    X_test = X_test.drop(columns=temporary_variables, axis=1)\n",
    "\n",
    "    # flatten y train data\n",
    "    y_train = np.ravel(y_train)\n",
    "    y_test = np.ravel(y_test)\n",
    "\n",
    "    # run the random forest algorithm on this dataset\n",
    "    rf_clf, rf_accuracy_rest, rf_pred_test = run_rf(X_train, X_test, y_train, y_test)\n",
    "\n",
    "    # print results\n",
    "    print(\"Accuracy on training data: \", rf_clf.score(X_train, y_train))\n",
    "    print(\"Accuracy on testing data: \", rf_accuracy_rest)\n",
    "#     all_res.append(rf_accuracy_rest)\n",
    "\n",
    "    print(sklearn.metrics.classification_report(y_test, rf_pred_test))\n"
   ]
  },
  {
   "cell_type": "code",
   "execution_count": 75,
   "metadata": {},
   "outputs": [
    {
     "data": {
      "text/plain": [
       "0.5292819210344031"
      ]
     },
     "execution_count": 75,
     "metadata": {},
     "output_type": "execute_result"
    }
   ],
   "source": [
    "all_res_ar = np.array(all_res).reshape(5,5)\n",
    "all_res_ar.mean()"
   ]
  },
  {
   "cell_type": "code",
   "execution_count": 77,
   "metadata": {},
   "outputs": [
    {
     "name": "stdout",
     "output_type": "stream",
     "text": [
      "0.49572846917571\n",
      "0.5203417224659432\n",
      "0.5369660586469637\n",
      "0.5419533595012699\n",
      "0.5514199953821288\n"
     ]
    }
   ],
   "source": [
    "for i in range(5):\n",
    "    print(all_res_ar[:,i].mean())"
   ]
  },
  {
   "cell_type": "markdown",
   "metadata": {},
   "source": [
    "### Loop strat split"
   ]
  },
  {
   "cell_type": "code",
   "execution_count": 79,
   "metadata": {},
   "outputs": [
    {
     "name": "stdout",
     "output_type": "stream",
     "text": [
      "Accuracy on training data:  0.9880723355136591\n",
      "Accuracy on testing data:  0.5002164189871592\n",
      "Accuracy on training data:  0.9851224830062845\n",
      "Accuracy on testing data:  0.5185225898647906\n",
      "Accuracy on training data:  0.9861485186610235\n",
      "Accuracy on testing data:  0.5233087528053864\n",
      "Accuracy on training data:  0.9810824676157497\n",
      "Accuracy on testing data:  0.544580167355968\n",
      "Accuracy on training data:  0.9792708734128511\n",
      "Accuracy on testing data:  0.5497211002115792\n"
     ]
    }
   ],
   "source": [
    "# split training testing data\n",
    "rd_state = 42\n",
    "all_res_split = []\n",
    "for test_size in [0.8, 0.7, 0.6, 0.4, 0.2]:\n",
    "    X_train, X_test, y_train, y_test = sklearn.model_selection.train_test_split(\n",
    "        X_all_basic_variables, y_all, test_size=test_size, stratify=y_all, random_state=rd_state)\n",
    "    # compute nearby purposes\n",
    "    X_train, X_test = compute_nearby_purposes(y_train, X_train, X_test, 200)\n",
    "    \n",
    "    # preserve Trip IDs of training and testing data\n",
    "    X_train_IDs = X_train['id_trip']\n",
    "    X_test_IDs = X_test['id_trip']\n",
    "    # remove columns which are not needed\n",
    "    X_train = X_train.drop(columns=temporary_variables, axis=1)\n",
    "    X_test = X_test.drop(columns=temporary_variables, axis=1)\n",
    "    # flatten y train data\n",
    "    y_train = np.ravel(y_train)\n",
    "    y_test = np.ravel(y_test)\n",
    "    # run the random forest algorithm on this dataset\n",
    "    rf_clf, rf_accuracy_rest, rf_pred_test = run_rf(X_train, X_test, y_train, y_test)\n",
    "    # print results\n",
    "    print(\"Accuracy on training data: \", rf_clf.score(X_train, y_train))\n",
    "    print(\"Accuracy on testing data: \", rf_accuracy_rest)\n",
    "    all_res_split.append(rf_accuracy_rest)"
   ]
  },
  {
   "cell_type": "code",
   "execution_count": 84,
   "metadata": {},
   "outputs": [
    {
     "data": {
      "text/plain": [
       "array([0.50021642, 0.51852259, 0.52330875, 0.54458017, 0.5497211 ])"
      ]
     },
     "execution_count": 84,
     "metadata": {},
     "output_type": "execute_result"
    }
   ],
   "source": [
    "all_res_split_ar = np.array(all_res_split)\n",
    "all_res_split_ar"
   ]
  },
  {
   "cell_type": "code",
   "execution_count": 85,
   "metadata": {},
   "outputs": [
    {
     "data": {
      "text/plain": [
       "0.5272698058449767"
      ]
     },
     "execution_count": 85,
     "metadata": {},
     "output_type": "execute_result"
    }
   ],
   "source": [
    "all_res_split_ar.mean()"
   ]
  },
  {
   "cell_type": "markdown",
   "metadata": {},
   "source": [
    "##### back to strat split"
   ]
  },
  {
   "cell_type": "code",
   "execution_count": 16,
   "metadata": {},
   "outputs": [],
   "source": [
    "# split training testing data\n",
    "rd_state = 42\n",
    "\n",
    "X_train, X_test, y_train, y_test = sklearn.model_selection.train_test_split(\n",
    "    X_all_basic_variables, y_all, stratify=y_all, random_state=rd_state)"
   ]
  },
  {
   "cell_type": "code",
   "execution_count": 17,
   "metadata": {
    "scrolled": true
   },
   "outputs": [],
   "source": [
    "# compute nearby purposes\n",
    "X_train, X_test = compute_nearby_purposes(y_train, X_train, X_test, 200)"
   ]
  },
  {
   "cell_type": "code",
   "execution_count": 18,
   "metadata": {},
   "outputs": [],
   "source": [
    "# preserve Trip IDs of training and testing data\n",
    "X_train_IDs = X_train['id_trip']\n",
    "X_test_IDs = X_test['id_trip']"
   ]
  },
  {
   "cell_type": "code",
   "execution_count": 19,
   "metadata": {
    "scrolled": true
   },
   "outputs": [],
   "source": [
    "# remove columns which are not needed\n",
    "X_train = X_train.drop(columns=temporary_variables, axis=1)\n",
    "X_test = X_test.drop(columns=temporary_variables, axis=1)"
   ]
  },
  {
   "cell_type": "code",
   "execution_count": 20,
   "metadata": {},
   "outputs": [],
   "source": [
    "# flatten y train data\n",
    "y_train = np.ravel(y_train)\n",
    "y_test = np.ravel(y_test)"
   ]
  },
  {
   "cell_type": "code",
   "execution_count": 21,
   "metadata": {},
   "outputs": [],
   "source": [
    "# run the random forest algorithm on this dataset\n",
    "rf_clf, rf_accuracy_rest, rf_pred_test = run_rf(X_train, X_test, y_train, y_test)"
   ]
  },
  {
   "cell_type": "code",
   "execution_count": 22,
   "metadata": {},
   "outputs": [
    {
     "name": "stdout",
     "output_type": "stream",
     "text": [
      "Accuracy on training data:  0.9794798132663007\n",
      "Accuracy on testing data:  0.5470914127423823\n"
     ]
    }
   ],
   "source": [
    "# print results\n",
    "print(\"Accuracy on training data: \", rf_clf.score(X_train, y_train))\n",
    "print(\"Accuracy on testing data: \", rf_accuracy_rest)"
   ]
  },
  {
   "cell_type": "markdown",
   "metadata": {},
   "source": [
    "The prediciton accuracy on the training and testing data is 1.0 and 0.511, respectively, indicating that the model is overfitting."
   ]
  },
  {
   "cell_type": "code",
   "execution_count": 23,
   "metadata": {},
   "outputs": [
    {
     "name": "stdout",
     "output_type": "stream",
     "text": [
      "              precision    recall  f1-score   support\n",
      "\n",
      "           0       0.54      0.69      0.61      2286\n",
      "           1       0.37      0.12      0.18       777\n",
      "           2       0.53      0.62      0.57      2089\n",
      "           3       0.43      0.18      0.25       393\n",
      "           4       0.72      0.71      0.72       692\n",
      "           5       0.41      0.13      0.20       261\n",
      "\n",
      "    accuracy                           0.55      6498\n",
      "   macro avg       0.50      0.41      0.42      6498\n",
      "weighted avg       0.53      0.55      0.52      6498\n",
      "\n"
     ]
    }
   ],
   "source": [
    "print(sklearn.metrics.classification_report(y_test, rf_pred_test))"
   ]
  },
  {
   "cell_type": "markdown",
   "metadata": {},
   "source": [
    "It is seen that the F1 is the highest for the trips of type 0 and 2, and the lowest for type 3 and 5."
   ]
  },
  {
   "cell_type": "markdown",
   "metadata": {},
   "source": [
    "## Feature importance"
   ]
  },
  {
   "cell_type": "code",
   "execution_count": 24,
   "metadata": {},
   "outputs": [],
   "source": [
    "# n_samples is set as 5000 by default. \n",
    "# Setting n_samples as -1 means entire validation set\n",
    "# the score metric used is accuracy, aka number of records that are correctly predicted\n",
    "imp = rfpimp.importances(rf_clf, X_test, y_test, n_samples=-1)"
   ]
  },
  {
   "cell_type": "code",
   "execution_count": 25,
   "metadata": {},
   "outputs": [
    {
     "name": "stdout",
     "output_type": "stream",
     "text": [
      "            Importance\n",
      "Feature               \n",
      "p_nearby_4    0.049246\n",
      "p_nearby_2    0.032164\n",
      "midnight      0.027547\n",
      "mode          0.019391\n",
      "weekday       0.017698\n",
      "p_nearby_0    0.017082\n",
      "midday        0.011696\n",
      "distance_m    0.008002\n",
      "duration      0.004463\n",
      "p_nearby_5    0.003847\n",
      "afternoon     0.002770\n",
      "p_nearby_3    0.001693\n",
      "evening       0.001539\n",
      "morning       0.000923\n",
      "p_nearby_1   -0.000769\n"
     ]
    }
   ],
   "source": [
    "print(imp)"
   ]
  },
  {
   "cell_type": "code",
   "execution_count": 26,
   "metadata": {},
   "outputs": [
    {
     "data": {
      "image/png": "[encoded data removed]",
      "text/plain": [
       "<Figure size 288x239.04 with 1 Axes>"
      ]
     },
     "metadata": {
      "needs_background": "light"
     },
     "output_type": "display_data"
    }
   ],
   "source": [
    "viz = rfpimp.plot_importances(imp)\n",
    "viz.view()"
   ]
  },
  {
   "cell_type": "markdown",
   "metadata": {},
   "source": [
    "It can be seen that the most important variables are:\n",
    "- purpose_nearby_2 # shops\n",
    "- purpose_nearby_4 # education\n",
    "- mode\n",
    "- temp\n",
    "- purpose_nearby_0 # leisure\n",
    "- weekday\n",
    "- purpose_nearby_1 # food/drink\n",
    "- distance_m\n",
    "- purpose_nearby_3 # pick-up/drop-off\n",
    "- purpose_nearby_5 # health\n",
    "- midnight\n",
    "- duration"
   ]
  },
  {
   "cell_type": "markdown",
   "metadata": {},
   "source": [
    "## Model tuning"
   ]
  },
  {
   "cell_type": "markdown",
   "metadata": {},
   "source": [
    "The hyperparameter of **n_estimators** will be tuned using *GridSearchCV*."
   ]
  },
  {
   "cell_type": "code",
   "execution_count": 27,
   "metadata": {},
   "outputs": [
    {
     "name": "stdout",
     "output_type": "stream",
     "text": [
      "Best parameters set found on development set:\n",
      "\n",
      "{'n_estimators': 1000}\n",
      "\n",
      "Grid scores on development set:\n",
      "\n",
      "0.569 (+/-0.014) for {'n_estimators': 200}\n",
      "0.572 (+/-0.014) for {'n_estimators': 1000}\n",
      "0.571 (+/-0.015) for {'n_estimators': 2000}\n",
      "\n",
      "Detailed classification report:\n",
      "\n",
      "The model is trained on the full evaluation set.\n",
      "The scores are computed on the full evaluation set.\n",
      "\n",
      "              precision    recall  f1-score   support\n",
      "\n",
      "           0       0.54      0.67      0.60      2286\n",
      "           1       0.34      0.13      0.19       777\n",
      "           2       0.53      0.61      0.56      2089\n",
      "           3       0.38      0.17      0.24       393\n",
      "           4       0.72      0.71      0.72       692\n",
      "           5       0.36      0.14      0.20       261\n",
      "\n",
      "    accuracy                           0.54      6498\n",
      "   macro avg       0.48      0.41      0.42      6498\n",
      "weighted avg       0.52      0.54      0.51      6498\n",
      "\n"
     ]
    }
   ],
   "source": [
    "# testing on different n_estimators\n",
    "list_n_estimators = [200, 1000, 2000]\n",
    "\n",
    "# by default n_estimator in random forest is 100\n",
    "parameters = {'n_estimators': list_n_estimators}\n",
    "\n",
    "# use the default 5-fold cross validation. \n",
    "# About CV: For integer/None inputs, if the estimator is a classifier and y is either binary or multiclass, StratifiedKFold is used. \n",
    "# In all other cases, KFold is used.\n",
    "gscv_rfc = sklearn.model_selection.GridSearchCV(sklearn.ensemble.RandomForestClassifier(), parameters)\n",
    "gscv_rfc.fit(X_train, y_train)\n",
    "\n",
    "print(\"Best parameters set found on development set:\")\n",
    "print()\n",
    "print(gscv_rfc.best_params_)\n",
    "print()\n",
    "print(\"Grid scores on development set:\")\n",
    "print()\n",
    "means = gscv_rfc.cv_results_['mean_test_score']\n",
    "stds = gscv_rfc.cv_results_['std_test_score']\n",
    "for mean, std, params in zip(means, stds, gscv_rfc.cv_results_['params']):\n",
    "    print(\"%0.3f (+/-%0.03f) for %r\"\n",
    "          % (mean, std * 2, params))\n",
    "print()\n",
    "\n",
    "print(\"Detailed classification report:\")\n",
    "print()\n",
    "print(\"The model is trained on the full evaluation set.\")\n",
    "print(\"The scores are computed on the full evaluation set.\")\n",
    "print()\n",
    "y_true, y_pred = y_test, gscv_rfc.predict(X_test)\n",
    "print(sklearn.metrics.classification_report(y_true, y_pred))\n"
   ]
  },
  {
   "cell_type": "code",
   "execution_count": 28,
   "metadata": {
    "scrolled": true
   },
   "outputs": [
    {
     "name": "stdout",
     "output_type": "stream",
     "text": [
      "Best parameters set found on development set:\n",
      "\n",
      "{'max_depth': 20}\n",
      "\n",
      "Grid scores on development set:\n",
      "\n",
      "0.558 (+/-0.014) for {'max_depth': 10}\n",
      "0.572 (+/-0.015) for {'max_depth': 20}\n",
      "0.567 (+/-0.014) for {'max_depth': 50}\n",
      "0.568 (+/-0.013) for {'max_depth': 100}\n",
      "\n",
      "Detailed classification report:\n",
      "\n",
      "The model is trained on the full evaluation set.\n",
      "The scores are computed on the full evaluation set.\n",
      "\n",
      "              precision    recall  f1-score   support\n",
      "\n",
      "           0       0.54      0.68      0.60      2286\n",
      "           1       0.39      0.14      0.20       777\n",
      "           2       0.53      0.61      0.57      2089\n",
      "           3       0.41      0.18      0.25       393\n",
      "           4       0.73      0.70      0.71       692\n",
      "           5       0.36      0.14      0.20       261\n",
      "\n",
      "    accuracy                           0.54      6498\n",
      "   macro avg       0.49      0.41      0.42      6498\n",
      "weighted avg       0.52      0.54      0.52      6498\n",
      "\n"
     ]
    }
   ],
   "source": [
    "# testing on different max_depth\n",
    "\n",
    "# by default n_estimator in random forest is 100\n",
    "parameters = {'max_depth': [10, 20, 50, 100]}\n",
    "\n",
    "# use the default 5-fold cross validation. \n",
    "# About CV: For integer/None inputs, if the estimator is a classifier and y is either binary or multiclass, StratifiedKFold is used. \n",
    "# In all other cases, KFold is used.\n",
    "gscv_rfc = sklearn.model_selection.GridSearchCV(sklearn.ensemble.RandomForestClassifier(), parameters)\n",
    "gscv_rfc.fit(X_train, y_train)\n",
    "\n",
    "print(\"Best parameters set found on development set:\")\n",
    "print()\n",
    "print(gscv_rfc.best_params_)\n",
    "print()\n",
    "print(\"Grid scores on development set:\")\n",
    "print()\n",
    "means = gscv_rfc.cv_results_['mean_test_score']\n",
    "stds = gscv_rfc.cv_results_['std_test_score']\n",
    "for mean, std, params in zip(means, stds, gscv_rfc.cv_results_['params']):\n",
    "    print(\"%0.3f (+/-%0.03f) for %r\"\n",
    "          % (mean, std * 2, params))\n",
    "print()\n",
    "\n",
    "print(\"Detailed classification report:\")\n",
    "print()\n",
    "print(\"The model is trained on the full evaluation set.\")\n",
    "print(\"The scores are computed on the full evaluation set.\")\n",
    "print()\n",
    "y_true, y_pred = y_test, gscv_rfc.predict(X_test)\n",
    "print(sklearn.metrics.classification_report(y_true, y_pred))\n"
   ]
  },
  {
   "cell_type": "code",
   "execution_count": 29,
   "metadata": {},
   "outputs": [
    {
     "name": "stdout",
     "output_type": "stream",
     "text": [
      "Best parameters set found on development set:\n",
      "\n",
      "{'max_depth': 20, 'n_estimators': 2000}\n",
      "\n",
      "Grid scores on development set:\n",
      "\n",
      "0.557 (+/-0.015) for {'max_depth': 10, 'n_estimators': 200}\n",
      "0.558 (+/-0.012) for {'max_depth': 10, 'n_estimators': 1000}\n",
      "0.557 (+/-0.011) for {'max_depth': 10, 'n_estimators': 2000}\n",
      "0.575 (+/-0.014) for {'max_depth': 20, 'n_estimators': 200}\n",
      "0.574 (+/-0.011) for {'max_depth': 20, 'n_estimators': 1000}\n",
      "0.576 (+/-0.008) for {'max_depth': 20, 'n_estimators': 2000}\n",
      "0.568 (+/-0.016) for {'max_depth': 50, 'n_estimators': 200}\n",
      "0.572 (+/-0.016) for {'max_depth': 50, 'n_estimators': 1000}\n",
      "0.571 (+/-0.013) for {'max_depth': 50, 'n_estimators': 2000}\n",
      "0.569 (+/-0.013) for {'max_depth': 100, 'n_estimators': 200}\n",
      "0.572 (+/-0.014) for {'max_depth': 100, 'n_estimators': 1000}\n",
      "0.572 (+/-0.013) for {'max_depth': 100, 'n_estimators': 2000}\n",
      "\n",
      "Detailed classification report:\n",
      "\n",
      "The model is trained on the full evaluation set.\n",
      "The scores are computed on the full evaluation set.\n",
      "\n",
      "              precision    recall  f1-score   support\n",
      "\n",
      "           0       0.55      0.69      0.61      2286\n",
      "           1       0.38      0.12      0.19       777\n",
      "           2       0.53      0.62      0.57      2089\n",
      "           3       0.44      0.18      0.25       393\n",
      "           4       0.72      0.71      0.71       692\n",
      "           5       0.39      0.14      0.20       261\n",
      "\n",
      "    accuracy                           0.55      6498\n",
      "   macro avg       0.50      0.41      0.42      6498\n",
      "weighted avg       0.53      0.55      0.52      6498\n",
      "\n"
     ]
    }
   ],
   "source": [
    "# testing n_estimators and max_depth\n",
    "\n",
    "# by default n_estimator in random forest is 100\n",
    "parameters = {'max_depth': [10, 20, 50, 100], 'n_estimators':[200, 1000, 2000]}\n",
    "\n",
    "# use the default 5-fold cross validation. \n",
    "# About CV: For integer/None inputs, if the estimator is a classifier and y is either binary or multiclass, StratifiedKFold is used. \n",
    "# In all other cases, KFold is used.\n",
    "gscv_rfc = sklearn.model_selection.GridSearchCV(sklearn.ensemble.RandomForestClassifier(), parameters)\n",
    "gscv_rfc.fit(X_train, y_train)\n",
    "\n",
    "print(\"Best parameters set found on development set:\")\n",
    "print()\n",
    "print(gscv_rfc.best_params_)\n",
    "print()\n",
    "print(\"Grid scores on development set:\")\n",
    "print()\n",
    "means = gscv_rfc.cv_results_['mean_test_score']\n",
    "stds = gscv_rfc.cv_results_['std_test_score']\n",
    "for mean, std, params in zip(means, stds, gscv_rfc.cv_results_['params']):\n",
    "    print(\"%0.3f (+/-%0.03f) for %r\"\n",
    "          % (mean, std * 2, params))\n",
    "print()\n",
    "\n",
    "print(\"Detailed classification report:\")\n",
    "print()\n",
    "print(\"The model is trained on the full evaluation set.\")\n",
    "print(\"The scores are computed on the full evaluation set.\")\n",
    "print()\n",
    "y_true, y_pred = y_test, gscv_rfc.predict(X_test)\n",
    "print(sklearn.metrics.classification_report(y_true, y_pred))"
   ]
  },
  {
   "cell_type": "markdown",
   "metadata": {},
   "source": [
    "The best hyperparameter found is **{'max_depth': 20, 'n_estimators': 200}**."
   ]
  },
  {
   "cell_type": "markdown",
   "metadata": {},
   "source": [
    "## Oversampling"
   ]
  },
  {
   "cell_type": "code",
   "execution_count": 30,
   "metadata": {},
   "outputs": [
    {
     "data": {
      "text/plain": [
       "Index(['mode', 'duration', 'distance_m', 'weekday', 'morning', 'midday',\n",
       "       'afternoon', 'evening', 'midnight', 'p_nearby_0', 'p_nearby_1',\n",
       "       'p_nearby_2', 'p_nearby_3', 'p_nearby_4', 'p_nearby_5'],\n",
       "      dtype='object')"
      ]
     },
     "execution_count": 30,
     "metadata": {},
     "output_type": "execute_result"
    }
   ],
   "source": [
    "X_train.columns"
   ]
  },
  {
   "cell_type": "code",
   "execution_count": 31,
   "metadata": {},
   "outputs": [],
   "source": [
    "# define categorical variables\n",
    "list_categorical_var = ['mode', 'weekday', 'morning', 'midday', 'afternoon', 'evening', 'midnight']\n",
    "mark_cateogrical_var = [e in list_categorical_var for e in X_train.columns]\n",
    "rd_state = 42\n",
    "\n",
    "sm = SMOTENC(random_state=rd_state, categorical_features=mark_cateogrical_var)\n",
    "X_train_res, y_train_res = sm.fit_resample(X_train, y_train)"
   ]
  },
  {
   "cell_type": "code",
   "execution_count": 32,
   "metadata": {},
   "outputs": [
    {
     "name": "stdout",
     "output_type": "stream",
     "text": [
      "Number per trip purpose in y_train\n",
      "0    6857\n",
      "2    6268\n",
      "1    2330\n",
      "4    2077\n",
      "3    1178\n",
      "5     783\n",
      "dtype: int64\n",
      "Number per trip purpose in y_train_res\n",
      "0    6857\n",
      "1    6857\n",
      "2    6857\n",
      "3    6857\n",
      "4    6857\n",
      "5    6857\n",
      "dtype: int64\n"
     ]
    }
   ],
   "source": [
    "# check number of trip purposes in y_train\n",
    "print(\"Number per trip purpose in y_train\")\n",
    "print(pd.Series(y_train).value_counts())\n",
    "print(\"Number per trip purpose in y_train_res\")\n",
    "print(pd.Series(y_train_res).value_counts())\n",
    "# check number of trip purposes in y_train_res"
   ]
  },
  {
   "cell_type": "code",
   "execution_count": 33,
   "metadata": {},
   "outputs": [
    {
     "name": "stdout",
     "output_type": "stream",
     "text": [
      "Accuracy on training data:  0.9794798132663007\n",
      "Accuracy on testing data:  0.5450907971683595\n"
     ]
    }
   ],
   "source": [
    "rf, rf_accuracy_test, rf_pred_test = run_rf(X_train, X_test, y_train, y_test,\\\n",
    "                                                        n_estimators=200, max_depth=20)\n",
    "print(\"Accuracy on training data: \", rf_clf.score(X_train, y_train))\n",
    "print(\"Accuracy on testing data: \", rf_accuracy_test)"
   ]
  },
  {
   "cell_type": "code",
   "execution_count": 34,
   "metadata": {},
   "outputs": [
    {
     "name": "stdout",
     "output_type": "stream",
     "text": [
      "              precision    recall  f1-score   support\n",
      "\n",
      "           0       0.54      0.69      0.61      2286\n",
      "           1       0.35      0.13      0.19       777\n",
      "           2       0.53      0.61      0.57      2089\n",
      "           3       0.42      0.18      0.25       393\n",
      "           4       0.73      0.71      0.72       692\n",
      "           5       0.42      0.15      0.22       261\n",
      "\n",
      "    accuracy                           0.55      6498\n",
      "   macro avg       0.50      0.41      0.42      6498\n",
      "weighted avg       0.52      0.55      0.52      6498\n",
      "\n"
     ]
    }
   ],
   "source": [
    "print(sklearn.metrics.classification_report(y_test, rf_pred_test))"
   ]
  },
  {
   "cell_type": "code",
   "execution_count": 35,
   "metadata": {},
   "outputs": [
    {
     "name": "stdout",
     "output_type": "stream",
     "text": [
      "Accuracy on training data:  0.6386417772592484\n",
      "Accuracy on testing data:  0.5067713142505387\n"
     ]
    }
   ],
   "source": [
    "# compare the model using resampled data and \n",
    "rf_res, rf_res_accuracy_test, rf_res_pred_test = run_rf(X_train_res, X_test, y_train_res, y_test,\\\n",
    "                                                        n_estimators=200, max_depth=20)\n",
    "# print results\n",
    "print(\"Accuracy on training data: \", rf_clf.score(X_train_res, y_train_res))\n",
    "print(\"Accuracy on testing data: \", rf_res_accuracy_test)"
   ]
  },
  {
   "cell_type": "markdown",
   "metadata": {},
   "source": [
    "The encoding of **purpose** and **mode** is as follows. Note that the trips of home and work have been removed.\n",
    "\n",
    "- purpose: {'leisure': 0, 'food_drink': 1, 'shops': 2, 'pick_up_drop_off': 3, 'education': 4, 'health': 5}\n",
    "- mode: {'walking': 0, 'public_transport': 1, 'car': 2, 'cycling': 3, 'public_transport, car': 4, 'other': 5}"
   ]
  },
  {
   "cell_type": "code",
   "execution_count": 36,
   "metadata": {},
   "outputs": [
    {
     "name": "stdout",
     "output_type": "stream",
     "text": [
      "              precision    recall  f1-score   support\n",
      "\n",
      "           0       0.57      0.58      0.58      2286\n",
      "           1       0.28      0.27      0.27       777\n",
      "           2       0.56      0.51      0.53      2089\n",
      "           3       0.27      0.32      0.30       393\n",
      "           4       0.67      0.72      0.70       692\n",
      "           5       0.21      0.26      0.23       261\n",
      "\n",
      "    accuracy                           0.51      6498\n",
      "   macro avg       0.43      0.44      0.43      6498\n",
      "weighted avg       0.51      0.51      0.51      6498\n",
      "\n"
     ]
    }
   ],
   "source": [
    "print(sklearn.metrics.classification_report(y_test, rf_res_pred_test))"
   ]
  },
  {
   "cell_type": "markdown",
   "metadata": {},
   "source": [
    "The oversampling doesn't lead to increase on the prediction accuracy. More predictor variables are needed for this task."
   ]
  },
  {
   "cell_type": "markdown",
   "metadata": {},
   "source": [
    "# Export model results\n",
    "#### Functions in this section:\n",
    "1. `model_setup` – Randomises the stratified train/test split and Trip IDs used  \n",
    "2. `merge_predictions_to_data` – Code to join predictions of testing set back to original data"
   ]
  },
  {
   "cell_type": "code",
   "execution_count": 37,
   "metadata": {},
   "outputs": [],
   "source": [
    "## Globals for columns to keep in the X data\n",
    "BASIC_VARIABLES = ['mode', 'duration', 'distance_m', 'weekday',\n",
    "        'morning', 'midday', 'afternoon', 'evening', 'midnight']\n",
    "TEMPORARY_VARIABLES = ['id_trip','long','lat'] # needed for nearby purpose computation \n",
    "\n",
    "\n",
    "def model_setup(X, y, rd_state):\n",
    "    \"\"\"\n",
    "        Sets up the model by carrying out the train/test splits as well as calculating the nearby purposes columns\n",
    "        :param X: (dataframe) Independent variables\n",
    "        :param y: (dataframe) Dependent variable\n",
    "        :param rd_state: (int) Random state used for stratified train/test split\n",
    "    \"\"\"\n",
    "    ## extract all variables needed based on global column list (see globals)\n",
    "    X = X[BASIC_VARIABLES + TEMPORARY_VARIABLES]\n",
    "    \n",
    "    ## perform stratified train/test split\n",
    "    X_train, X_test, y_train, y_test = sklearn.model_selection.train_test_split(\n",
    "        X, y, stratify=y, random_state=rd_state)\n",
    "    \n",
    "    ## compute nearby purposes\n",
    "    X_train, X_test = compute_nearby_purposes(y_train, X_train, X_test, 200)\n",
    "    \n",
    "    ## preserve Trip IDs of training and testing data\n",
    "    X_train_IDs = X_train['id_trip']\n",
    "    X_test_IDs = X_test['id_trip']\n",
    "    \n",
    "    # remove columns which are not needed\n",
    "    X_train = X_train.drop(columns=TEMPORARY_VARIABLES, axis=1)\n",
    "    X_test = X_test.drop(columns=TEMPORARY_VARIABLES, axis=1)\n",
    "    \n",
    "    # flatten y train data\n",
    "    y_train = np.ravel(y_train)\n",
    "    y_test = np.ravel(y_test)\n",
    "    \n",
    "    return X_train, X_test, y_train, y_test, X_train_IDs, X_test_IDs\n",
    "\n",
    "\n",
    "def merge_predictions_to_data(original_data, predictions, X_test, y_test, test_ids):\n",
    "    \"\"\"\n",
    "        Merge the predictions made by the model on the testing set back to the original data by merging on the trip ID\n",
    "        :param original_data: (dataframe) Original dataframe from which train-test split is carried out\n",
    "        :param predictions: (array) Predictions made on the testing set\n",
    "        :param test_ids: (array) trip IDs for each row in the testing set\n",
    "        :return original_data_with_preds: (dataframe) New dataframe containing only the testing set trip IDs and with predictions for these\n",
    "    \"\"\"\n",
    "    ## make predictions into dataframe\n",
    "    # apply series to the array of predictions\n",
    "    predictions = pd.Series(predictions)\n",
    "    # make a dataframe of ID, purpose and prediction\n",
    "    prediction_data = pd.DataFrame([test_ids, y_test, predictions]).T\n",
    "    prediction_data.columns = ['id_trip','purpose','prediction']\n",
    "    # join back to X_test\n",
    "    X_test = pd.concat([X_test, prediction_data],axis=1)\n",
    "    return X_test\n",
    "    \n",
    "    ## merge to original\n",
    "    # get columns to perform merge on (to miss out duplicates)\n",
    "    cols_to_use = list(prediction_data.columns.difference(X_test.columns))\n",
    "    cols_to_use += ['id_trip', 'p_nearby_0','p_nearby_1','p_nearby_2','p_nearby_3','p_nearby_4','p_nearby_5', 'purpose', 'prediction']\n",
    "\n",
    "    # perform inner join\n",
    "    original_data_with_preds = original_data.merge(X_test[cols_to_use], on='id_trip', how='inner')\n",
    "    return original_data_with_preds\n",
    "    "
   ]
  },
  {
   "cell_type": "code",
   "execution_count": 38,
   "metadata": {},
   "outputs": [
    {
     "name": "stdout",
     "output_type": "stream",
     "text": [
      "466\n"
     ]
    }
   ],
   "source": [
    "# set a random seed for train test split\n",
    "random.seed(datetime.datetime.now())\n",
    "rd_state = random.randint(0,1001)\n",
    "print(rd_state)"
   ]
  },
  {
   "cell_type": "code",
   "execution_count": 39,
   "metadata": {},
   "outputs": [
    {
     "name": "stdout",
     "output_type": "stream",
     "text": [
      "CPU times: user 28.1 s, sys: 284 ms, total: 28.4 s\n",
      "Wall time: 28.3 s\n"
     ]
    }
   ],
   "source": [
    "%%time\n",
    "# create new set of train/test data\n",
    "X_train, X_test, y_train, y_test, X_train_IDs, X_test_IDs = model_setup(X_all, y_all, rd_state)"
   ]
  },
  {
   "cell_type": "code",
   "execution_count": 40,
   "metadata": {},
   "outputs": [
    {
     "name": "stdout",
     "output_type": "stream",
     "text": [
      "accuracy on testing data: 0.5506309633733456\n"
     ]
    }
   ],
   "source": [
    "# carry out modelling\n",
    "rf, rf_accuracy_test, rf_preds = run_rf(X_train, X_test, y_train, y_test,\\\n",
    "                                                        n_estimators=200, max_depth=20)\n",
    "print('accuracy on testing data:', rf_accuracy_test)"
   ]
  },
  {
   "cell_type": "code",
   "execution_count": 41,
   "metadata": {
    "scrolled": false
   },
   "outputs": [
    {
     "name": "stdout",
     "output_type": "stream",
     "text": [
      "mode             6.000000\n",
      "duration      2189.000000\n",
      "distance_m    8743.901038\n",
      "weekday          1.000000\n",
      "morning          0.000000\n",
      "midday           0.000000\n",
      "afternoon        1.000000\n",
      "evening          0.000000\n",
      "midnight         0.000000\n",
      "p_nearby_0       0.061644\n",
      "p_nearby_1       0.068493\n",
      "p_nearby_2       0.130137\n",
      "p_nearby_3       0.006849\n",
      "p_nearby_4       0.726027\n",
      "p_nearby_5       0.006849\n",
      "Name: 0, dtype: float64\n"
     ]
    },
    {
     "data": {
      "text/html": [
       "<div>\n",
       "<style scoped>\n",
       "    .dataframe tbody tr th:only-of-type {\n",
       "        vertical-align: middle;\n",
       "    }\n",
       "\n",
       "    .dataframe tbody tr th {\n",
       "        vertical-align: top;\n",
       "    }\n",
       "\n",
       "    .dataframe thead th {\n",
       "        text-align: right;\n",
       "    }\n",
       "</style>\n",
       "<table border=\"1\" class=\"dataframe\">\n",
       "  <thead>\n",
       "    <tr style=\"text-align: right;\">\n",
       "      <th></th>\n",
       "      <th>id_trip</th>\n",
       "      <th>mode</th>\n",
       "      <th>distance_m</th>\n",
       "      <th>duration</th>\n",
       "      <th>weekday</th>\n",
       "      <th>morning</th>\n",
       "      <th>midday</th>\n",
       "      <th>afternoon</th>\n",
       "      <th>evening</th>\n",
       "      <th>midnight</th>\n",
       "      <th>lat</th>\n",
       "      <th>long</th>\n",
       "    </tr>\n",
       "  </thead>\n",
       "  <tbody>\n",
       "    <tr>\n",
       "      <th>4381</th>\n",
       "      <td>358089</td>\n",
       "      <td>6</td>\n",
       "      <td>8743.901038</td>\n",
       "      <td>2189</td>\n",
       "      <td>1</td>\n",
       "      <td>0</td>\n",
       "      <td>0</td>\n",
       "      <td>1</td>\n",
       "      <td>0</td>\n",
       "      <td>0</td>\n",
       "      <td>45.49431</td>\n",
       "      <td>-73.563775</td>\n",
       "    </tr>\n",
       "  </tbody>\n",
       "</table>\n",
       "</div>"
      ],
      "text/plain": [
       "      id_trip  mode   distance_m  duration  weekday  morning  midday  \\\n",
       "4381   358089     6  8743.901038      2189        1        0       0   \n",
       "\n",
       "      afternoon  evening  midnight       lat       long  \n",
       "4381          1        0         0  45.49431 -73.563775  "
      ]
     },
     "execution_count": 41,
     "metadata": {},
     "output_type": "execute_result"
    }
   ],
   "source": [
    "## DATA CHECK: to see if the ids still match up between the X_test and the original data\n",
    "print(X_test.iloc[0])\n",
    "X_all.loc[X_all.id_trip == X_test_IDs[0]]"
   ]
  },
  {
   "cell_type": "code",
   "execution_count": 42,
   "metadata": {},
   "outputs": [],
   "source": [
    "# merge predictions back to data\n",
    "data_with_preds = merge_predictions_to_data(X_all, rf_preds, X_test, y_test, X_test_IDs)"
   ]
  },
  {
   "cell_type": "code",
   "execution_count": 43,
   "metadata": {},
   "outputs": [
    {
     "data": {
      "text/plain": [
       "array([4, 0, 5, ..., 3, 0, 2])"
      ]
     },
     "execution_count": 43,
     "metadata": {},
     "output_type": "execute_result"
    }
   ],
   "source": [
    "y_test"
   ]
  },
  {
   "cell_type": "code",
   "execution_count": 44,
   "metadata": {},
   "outputs": [
    {
     "data": {
      "text/plain": [
       "Index(['mode', 'duration', 'distance_m', 'weekday', 'morning', 'midday',\n",
       "       'afternoon', 'evening', 'midnight', 'p_nearby_0', 'p_nearby_1',\n",
       "       'p_nearby_2', 'p_nearby_3', 'p_nearby_4', 'p_nearby_5', 'id_trip',\n",
       "       'purpose', 'prediction'],\n",
       "      dtype='object')"
      ]
     },
     "execution_count": 44,
     "metadata": {},
     "output_type": "execute_result"
    }
   ],
   "source": [
    "data_with_preds.columns"
   ]
  },
  {
   "cell_type": "code",
   "execution_count": 45,
   "metadata": {},
   "outputs": [
    {
     "data": {
      "text/html": [
       "<div>\n",
       "<style scoped>\n",
       "    .dataframe tbody tr th:only-of-type {\n",
       "        vertical-align: middle;\n",
       "    }\n",
       "\n",
       "    .dataframe tbody tr th {\n",
       "        vertical-align: top;\n",
       "    }\n",
       "\n",
       "    .dataframe thead th {\n",
       "        text-align: right;\n",
       "    }\n",
       "</style>\n",
       "<table border=\"1\" class=\"dataframe\">\n",
       "  <thead>\n",
       "    <tr style=\"text-align: right;\">\n",
       "      <th></th>\n",
       "      <th>mode</th>\n",
       "      <th>duration</th>\n",
       "      <th>distance_m</th>\n",
       "      <th>weekday</th>\n",
       "      <th>morning</th>\n",
       "      <th>midday</th>\n",
       "      <th>afternoon</th>\n",
       "      <th>evening</th>\n",
       "      <th>midnight</th>\n",
       "      <th>p_nearby_0</th>\n",
       "      <th>p_nearby_1</th>\n",
       "      <th>p_nearby_2</th>\n",
       "      <th>p_nearby_3</th>\n",
       "      <th>p_nearby_4</th>\n",
       "      <th>p_nearby_5</th>\n",
       "      <th>id_trip</th>\n",
       "      <th>purpose</th>\n",
       "      <th>prediction</th>\n",
       "    </tr>\n",
       "  </thead>\n",
       "  <tbody>\n",
       "    <tr>\n",
       "      <th>0</th>\n",
       "      <td>6</td>\n",
       "      <td>2189</td>\n",
       "      <td>8743.901038</td>\n",
       "      <td>1</td>\n",
       "      <td>0</td>\n",
       "      <td>0</td>\n",
       "      <td>1</td>\n",
       "      <td>0</td>\n",
       "      <td>0</td>\n",
       "      <td>0.061644</td>\n",
       "      <td>0.068493</td>\n",
       "      <td>0.130137</td>\n",
       "      <td>0.006849</td>\n",
       "      <td>0.726027</td>\n",
       "      <td>0.006849</td>\n",
       "      <td>358089</td>\n",
       "      <td>4</td>\n",
       "      <td>4</td>\n",
       "    </tr>\n",
       "    <tr>\n",
       "      <th>1</th>\n",
       "      <td>0</td>\n",
       "      <td>1484</td>\n",
       "      <td>1554.030924</td>\n",
       "      <td>1</td>\n",
       "      <td>0</td>\n",
       "      <td>0</td>\n",
       "      <td>0</td>\n",
       "      <td>0</td>\n",
       "      <td>1</td>\n",
       "      <td>0.454545</td>\n",
       "      <td>0.000000</td>\n",
       "      <td>0.090909</td>\n",
       "      <td>0.090909</td>\n",
       "      <td>0.060606</td>\n",
       "      <td>0.303030</td>\n",
       "      <td>458671</td>\n",
       "      <td>0</td>\n",
       "      <td>0</td>\n",
       "    </tr>\n",
       "    <tr>\n",
       "      <th>2</th>\n",
       "      <td>2</td>\n",
       "      <td>360</td>\n",
       "      <td>808.696654</td>\n",
       "      <td>1</td>\n",
       "      <td>1</td>\n",
       "      <td>0</td>\n",
       "      <td>0</td>\n",
       "      <td>0</td>\n",
       "      <td>0</td>\n",
       "      <td>0.250000</td>\n",
       "      <td>0.375000</td>\n",
       "      <td>0.250000</td>\n",
       "      <td>0.125000</td>\n",
       "      <td>0.000000</td>\n",
       "      <td>0.000000</td>\n",
       "      <td>116619</td>\n",
       "      <td>5</td>\n",
       "      <td>1</td>\n",
       "    </tr>\n",
       "    <tr>\n",
       "      <th>3</th>\n",
       "      <td>6</td>\n",
       "      <td>3156</td>\n",
       "      <td>8133.751011</td>\n",
       "      <td>1</td>\n",
       "      <td>0</td>\n",
       "      <td>1</td>\n",
       "      <td>0</td>\n",
       "      <td>0</td>\n",
       "      <td>0</td>\n",
       "      <td>0.200000</td>\n",
       "      <td>0.000000</td>\n",
       "      <td>0.200000</td>\n",
       "      <td>0.000000</td>\n",
       "      <td>0.600000</td>\n",
       "      <td>0.000000</td>\n",
       "      <td>338640</td>\n",
       "      <td>4</td>\n",
       "      <td>4</td>\n",
       "    </tr>\n",
       "    <tr>\n",
       "      <th>4</th>\n",
       "      <td>2</td>\n",
       "      <td>469</td>\n",
       "      <td>2022.836242</td>\n",
       "      <td>1</td>\n",
       "      <td>0</td>\n",
       "      <td>0</td>\n",
       "      <td>0</td>\n",
       "      <td>1</td>\n",
       "      <td>0</td>\n",
       "      <td>0.000000</td>\n",
       "      <td>0.000000</td>\n",
       "      <td>0.000000</td>\n",
       "      <td>0.000000</td>\n",
       "      <td>0.000000</td>\n",
       "      <td>0.000000</td>\n",
       "      <td>15462</td>\n",
       "      <td>0</td>\n",
       "      <td>2</td>\n",
       "    </tr>\n",
       "  </tbody>\n",
       "</table>\n",
       "</div>"
      ],
      "text/plain": [
       "   mode  duration   distance_m  weekday  morning  midday  afternoon  evening  \\\n",
       "0     6      2189  8743.901038        1        0       0          1        0   \n",
       "1     0      1484  1554.030924        1        0       0          0        0   \n",
       "2     2       360   808.696654        1        1       0          0        0   \n",
       "3     6      3156  8133.751011        1        0       1          0        0   \n",
       "4     2       469  2022.836242        1        0       0          0        1   \n",
       "\n",
       "   midnight  p_nearby_0  p_nearby_1  p_nearby_2  p_nearby_3  p_nearby_4  \\\n",
       "0         0    0.061644    0.068493    0.130137    0.006849    0.726027   \n",
       "1         1    0.454545    0.000000    0.090909    0.090909    0.060606   \n",
       "2         0    0.250000    0.375000    0.250000    0.125000    0.000000   \n",
       "3         0    0.200000    0.000000    0.200000    0.000000    0.600000   \n",
       "4         0    0.000000    0.000000    0.000000    0.000000    0.000000   \n",
       "\n",
       "   p_nearby_5  id_trip  purpose  prediction  \n",
       "0    0.006849   358089        4           4  \n",
       "1    0.303030   458671        0           0  \n",
       "2    0.000000   116619        5           1  \n",
       "3    0.000000   338640        4           4  \n",
       "4    0.000000    15462        0           2  "
      ]
     },
     "execution_count": 45,
     "metadata": {},
     "output_type": "execute_result"
    }
   ],
   "source": [
    "# view data\n",
    "data_with_preds.head()"
   ]
  },
  {
   "cell_type": "code",
   "execution_count": 46,
   "metadata": {},
   "outputs": [],
   "source": [
    "# append times for start and end of trip\n",
    "start_end_times = gpd.read_file('../../Data/mtl_trajet/mtl_trajet_2017_final.shp')[['id_trip','starttime','endtime']]\n"
   ]
  },
  {
   "cell_type": "code",
   "execution_count": 47,
   "metadata": {},
   "outputs": [
    {
     "data": {
      "text/html": [
       "<div>\n",
       "<style scoped>\n",
       "    .dataframe tbody tr th:only-of-type {\n",
       "        vertical-align: middle;\n",
       "    }\n",
       "\n",
       "    .dataframe tbody tr th {\n",
       "        vertical-align: top;\n",
       "    }\n",
       "\n",
       "    .dataframe thead th {\n",
       "        text-align: right;\n",
       "    }\n",
       "</style>\n",
       "<table border=\"1\" class=\"dataframe\">\n",
       "  <thead>\n",
       "    <tr style=\"text-align: right;\">\n",
       "      <th></th>\n",
       "      <th>id_trip</th>\n",
       "      <th>mode</th>\n",
       "      <th>distance_m</th>\n",
       "      <th>duration</th>\n",
       "      <th>weekday</th>\n",
       "      <th>morning</th>\n",
       "      <th>midday</th>\n",
       "      <th>afternoon</th>\n",
       "      <th>evening</th>\n",
       "      <th>midnight</th>\n",
       "      <th>lat</th>\n",
       "      <th>long</th>\n",
       "    </tr>\n",
       "  </thead>\n",
       "  <tbody>\n",
       "    <tr>\n",
       "      <th>0</th>\n",
       "      <td>150744</td>\n",
       "      <td>2</td>\n",
       "      <td>9935.922336</td>\n",
       "      <td>862</td>\n",
       "      <td>1</td>\n",
       "      <td>1</td>\n",
       "      <td>0</td>\n",
       "      <td>0</td>\n",
       "      <td>0</td>\n",
       "      <td>0</td>\n",
       "      <td>45.550661</td>\n",
       "      <td>-73.545318</td>\n",
       "    </tr>\n",
       "    <tr>\n",
       "      <th>1</th>\n",
       "      <td>35763</td>\n",
       "      <td>2</td>\n",
       "      <td>6832.113937</td>\n",
       "      <td>1873</td>\n",
       "      <td>1</td>\n",
       "      <td>0</td>\n",
       "      <td>1</td>\n",
       "      <td>0</td>\n",
       "      <td>0</td>\n",
       "      <td>0</td>\n",
       "      <td>45.408982</td>\n",
       "      <td>-73.472673</td>\n",
       "    </tr>\n",
       "    <tr>\n",
       "      <th>2</th>\n",
       "      <td>323826</td>\n",
       "      <td>2</td>\n",
       "      <td>12233.968564</td>\n",
       "      <td>1165</td>\n",
       "      <td>1</td>\n",
       "      <td>0</td>\n",
       "      <td>1</td>\n",
       "      <td>0</td>\n",
       "      <td>0</td>\n",
       "      <td>0</td>\n",
       "      <td>45.610037</td>\n",
       "      <td>-73.720401</td>\n",
       "    </tr>\n",
       "    <tr>\n",
       "      <th>3</th>\n",
       "      <td>375668</td>\n",
       "      <td>2</td>\n",
       "      <td>3612.405991</td>\n",
       "      <td>820</td>\n",
       "      <td>1</td>\n",
       "      <td>0</td>\n",
       "      <td>1</td>\n",
       "      <td>0</td>\n",
       "      <td>0</td>\n",
       "      <td>0</td>\n",
       "      <td>45.578748</td>\n",
       "      <td>-73.545622</td>\n",
       "    </tr>\n",
       "    <tr>\n",
       "      <th>4</th>\n",
       "      <td>212877</td>\n",
       "      <td>2</td>\n",
       "      <td>26428.385191</td>\n",
       "      <td>1316</td>\n",
       "      <td>1</td>\n",
       "      <td>0</td>\n",
       "      <td>0</td>\n",
       "      <td>1</td>\n",
       "      <td>0</td>\n",
       "      <td>0</td>\n",
       "      <td>45.632435</td>\n",
       "      <td>-73.318776</td>\n",
       "    </tr>\n",
       "    <tr>\n",
       "      <th>...</th>\n",
       "      <td>...</td>\n",
       "      <td>...</td>\n",
       "      <td>...</td>\n",
       "      <td>...</td>\n",
       "      <td>...</td>\n",
       "      <td>...</td>\n",
       "      <td>...</td>\n",
       "      <td>...</td>\n",
       "      <td>...</td>\n",
       "      <td>...</td>\n",
       "      <td>...</td>\n",
       "      <td>...</td>\n",
       "    </tr>\n",
       "    <tr>\n",
       "      <th>25986</th>\n",
       "      <td>187909</td>\n",
       "      <td>1</td>\n",
       "      <td>318.697272</td>\n",
       "      <td>245</td>\n",
       "      <td>1</td>\n",
       "      <td>0</td>\n",
       "      <td>0</td>\n",
       "      <td>0</td>\n",
       "      <td>0</td>\n",
       "      <td>1</td>\n",
       "      <td>45.531788</td>\n",
       "      <td>-73.597794</td>\n",
       "    </tr>\n",
       "    <tr>\n",
       "      <th>25987</th>\n",
       "      <td>317829</td>\n",
       "      <td>2</td>\n",
       "      <td>325.659195</td>\n",
       "      <td>142</td>\n",
       "      <td>1</td>\n",
       "      <td>0</td>\n",
       "      <td>0</td>\n",
       "      <td>0</td>\n",
       "      <td>0</td>\n",
       "      <td>1</td>\n",
       "      <td>45.603296</td>\n",
       "      <td>-73.570546</td>\n",
       "    </tr>\n",
       "    <tr>\n",
       "      <th>25988</th>\n",
       "      <td>182050</td>\n",
       "      <td>1</td>\n",
       "      <td>2481.960790</td>\n",
       "      <td>1296</td>\n",
       "      <td>1</td>\n",
       "      <td>0</td>\n",
       "      <td>0</td>\n",
       "      <td>0</td>\n",
       "      <td>0</td>\n",
       "      <td>1</td>\n",
       "      <td>45.515994</td>\n",
       "      <td>-73.577226</td>\n",
       "    </tr>\n",
       "    <tr>\n",
       "      <th>25989</th>\n",
       "      <td>312741</td>\n",
       "      <td>2</td>\n",
       "      <td>2983.535698</td>\n",
       "      <td>520</td>\n",
       "      <td>1</td>\n",
       "      <td>0</td>\n",
       "      <td>0</td>\n",
       "      <td>0</td>\n",
       "      <td>0</td>\n",
       "      <td>1</td>\n",
       "      <td>45.490044</td>\n",
       "      <td>-73.569639</td>\n",
       "    </tr>\n",
       "    <tr>\n",
       "      <th>25990</th>\n",
       "      <td>333364</td>\n",
       "      <td>0</td>\n",
       "      <td>1059.744258</td>\n",
       "      <td>1371</td>\n",
       "      <td>1</td>\n",
       "      <td>0</td>\n",
       "      <td>0</td>\n",
       "      <td>0</td>\n",
       "      <td>0</td>\n",
       "      <td>1</td>\n",
       "      <td>45.484168</td>\n",
       "      <td>-73.806129</td>\n",
       "    </tr>\n",
       "  </tbody>\n",
       "</table>\n",
       "<p>25991 rows × 12 columns</p>\n",
       "</div>"
      ],
      "text/plain": [
       "       id_trip  mode    distance_m  duration  weekday  morning  midday  \\\n",
       "0       150744     2   9935.922336       862        1        1       0   \n",
       "1        35763     2   6832.113937      1873        1        0       1   \n",
       "2       323826     2  12233.968564      1165        1        0       1   \n",
       "3       375668     2   3612.405991       820        1        0       1   \n",
       "4       212877     2  26428.385191      1316        1        0       0   \n",
       "...        ...   ...           ...       ...      ...      ...     ...   \n",
       "25986   187909     1    318.697272       245        1        0       0   \n",
       "25987   317829     2    325.659195       142        1        0       0   \n",
       "25988   182050     1   2481.960790      1296        1        0       0   \n",
       "25989   312741     2   2983.535698       520        1        0       0   \n",
       "25990   333364     0   1059.744258      1371        1        0       0   \n",
       "\n",
       "       afternoon  evening  midnight        lat       long  \n",
       "0              0        0         0  45.550661 -73.545318  \n",
       "1              0        0         0  45.408982 -73.472673  \n",
       "2              0        0         0  45.610037 -73.720401  \n",
       "3              0        0         0  45.578748 -73.545622  \n",
       "4              1        0         0  45.632435 -73.318776  \n",
       "...          ...      ...       ...        ...        ...  \n",
       "25986          0        0         1  45.531788 -73.597794  \n",
       "25987          0        0         1  45.603296 -73.570546  \n",
       "25988          0        0         1  45.515994 -73.577226  \n",
       "25989          0        0         1  45.490044 -73.569639  \n",
       "25990          0        0         1  45.484168 -73.806129  \n",
       "\n",
       "[25991 rows x 12 columns]"
      ]
     },
     "execution_count": 47,
     "metadata": {},
     "output_type": "execute_result"
    }
   ],
   "source": [
    "# append lat and long \n",
    "X_all"
   ]
  },
  {
   "cell_type": "code",
   "execution_count": 48,
   "metadata": {},
   "outputs": [],
   "source": [
    "data_with_preds = data_with_preds.merge(start_end_times, on='id_trip')\n",
    "data_with_preds = data_with_preds.merge(X_all[['id_trip','lat','long']], on='id_trip')"
   ]
  },
  {
   "cell_type": "code",
   "execution_count": 49,
   "metadata": {},
   "outputs": [
    {
     "data": {
      "text/html": [
       "<div>\n",
       "<style scoped>\n",
       "    .dataframe tbody tr th:only-of-type {\n",
       "        vertical-align: middle;\n",
       "    }\n",
       "\n",
       "    .dataframe tbody tr th {\n",
       "        vertical-align: top;\n",
       "    }\n",
       "\n",
       "    .dataframe thead th {\n",
       "        text-align: right;\n",
       "    }\n",
       "</style>\n",
       "<table border=\"1\" class=\"dataframe\">\n",
       "  <thead>\n",
       "    <tr style=\"text-align: right;\">\n",
       "      <th></th>\n",
       "      <th>mode</th>\n",
       "      <th>duration</th>\n",
       "      <th>distance_m</th>\n",
       "      <th>weekday</th>\n",
       "      <th>morning</th>\n",
       "      <th>midday</th>\n",
       "      <th>afternoon</th>\n",
       "      <th>evening</th>\n",
       "      <th>midnight</th>\n",
       "      <th>p_nearby_0</th>\n",
       "      <th>...</th>\n",
       "      <th>p_nearby_3</th>\n",
       "      <th>p_nearby_4</th>\n",
       "      <th>p_nearby_5</th>\n",
       "      <th>id_trip</th>\n",
       "      <th>purpose</th>\n",
       "      <th>prediction</th>\n",
       "      <th>starttime</th>\n",
       "      <th>endtime</th>\n",
       "      <th>lat</th>\n",
       "      <th>long</th>\n",
       "    </tr>\n",
       "  </thead>\n",
       "  <tbody>\n",
       "    <tr>\n",
       "      <th>0</th>\n",
       "      <td>6</td>\n",
       "      <td>2189</td>\n",
       "      <td>8743.901038</td>\n",
       "      <td>1</td>\n",
       "      <td>0</td>\n",
       "      <td>0</td>\n",
       "      <td>1</td>\n",
       "      <td>0</td>\n",
       "      <td>0</td>\n",
       "      <td>0.061644</td>\n",
       "      <td>...</td>\n",
       "      <td>0.006849</td>\n",
       "      <td>0.726027</td>\n",
       "      <td>0.006849</td>\n",
       "      <td>358089</td>\n",
       "      <td>4</td>\n",
       "      <td>4</td>\n",
       "      <td>2017-09-28 15:44:25</td>\n",
       "      <td>2017-09-28 16:20:54</td>\n",
       "      <td>45.494310</td>\n",
       "      <td>-73.563775</td>\n",
       "    </tr>\n",
       "    <tr>\n",
       "      <th>1</th>\n",
       "      <td>0</td>\n",
       "      <td>1484</td>\n",
       "      <td>1554.030924</td>\n",
       "      <td>1</td>\n",
       "      <td>0</td>\n",
       "      <td>0</td>\n",
       "      <td>0</td>\n",
       "      <td>0</td>\n",
       "      <td>1</td>\n",
       "      <td>0.454545</td>\n",
       "      <td>...</td>\n",
       "      <td>0.090909</td>\n",
       "      <td>0.060606</td>\n",
       "      <td>0.303030</td>\n",
       "      <td>458671</td>\n",
       "      <td>0</td>\n",
       "      <td>0</td>\n",
       "      <td>2017-10-04 22:35:17</td>\n",
       "      <td>2017-10-04 23:00:01</td>\n",
       "      <td>45.526987</td>\n",
       "      <td>-73.564104</td>\n",
       "    </tr>\n",
       "    <tr>\n",
       "      <th>2</th>\n",
       "      <td>2</td>\n",
       "      <td>360</td>\n",
       "      <td>808.696654</td>\n",
       "      <td>1</td>\n",
       "      <td>1</td>\n",
       "      <td>0</td>\n",
       "      <td>0</td>\n",
       "      <td>0</td>\n",
       "      <td>0</td>\n",
       "      <td>0.250000</td>\n",
       "      <td>...</td>\n",
       "      <td>0.125000</td>\n",
       "      <td>0.000000</td>\n",
       "      <td>0.000000</td>\n",
       "      <td>116619</td>\n",
       "      <td>5</td>\n",
       "      <td>1</td>\n",
       "      <td>2017-09-27 10:47:17</td>\n",
       "      <td>2017-09-27 10:53:17</td>\n",
       "      <td>45.565236</td>\n",
       "      <td>-73.608322</td>\n",
       "    </tr>\n",
       "    <tr>\n",
       "      <th>3</th>\n",
       "      <td>6</td>\n",
       "      <td>3156</td>\n",
       "      <td>8133.751011</td>\n",
       "      <td>1</td>\n",
       "      <td>0</td>\n",
       "      <td>1</td>\n",
       "      <td>0</td>\n",
       "      <td>0</td>\n",
       "      <td>0</td>\n",
       "      <td>0.200000</td>\n",
       "      <td>...</td>\n",
       "      <td>0.000000</td>\n",
       "      <td>0.600000</td>\n",
       "      <td>0.000000</td>\n",
       "      <td>338640</td>\n",
       "      <td>4</td>\n",
       "      <td>4</td>\n",
       "      <td>2017-10-10 11:39:49</td>\n",
       "      <td>2017-10-10 12:32:25</td>\n",
       "      <td>45.480260</td>\n",
       "      <td>-73.612060</td>\n",
       "    </tr>\n",
       "    <tr>\n",
       "      <th>4</th>\n",
       "      <td>2</td>\n",
       "      <td>469</td>\n",
       "      <td>2022.836242</td>\n",
       "      <td>1</td>\n",
       "      <td>0</td>\n",
       "      <td>0</td>\n",
       "      <td>0</td>\n",
       "      <td>1</td>\n",
       "      <td>0</td>\n",
       "      <td>0.000000</td>\n",
       "      <td>...</td>\n",
       "      <td>0.000000</td>\n",
       "      <td>0.000000</td>\n",
       "      <td>0.000000</td>\n",
       "      <td>15462</td>\n",
       "      <td>0</td>\n",
       "      <td>2</td>\n",
       "      <td>2017-10-09 16:57:38</td>\n",
       "      <td>2017-10-09 17:05:27</td>\n",
       "      <td>45.490374</td>\n",
       "      <td>-73.498311</td>\n",
       "    </tr>\n",
       "  </tbody>\n",
       "</table>\n",
       "<p>5 rows × 22 columns</p>\n",
       "</div>"
      ],
      "text/plain": [
       "   mode  duration   distance_m  weekday  morning  midday  afternoon  evening  \\\n",
       "0     6      2189  8743.901038        1        0       0          1        0   \n",
       "1     0      1484  1554.030924        1        0       0          0        0   \n",
       "2     2       360   808.696654        1        1       0          0        0   \n",
       "3     6      3156  8133.751011        1        0       1          0        0   \n",
       "4     2       469  2022.836242        1        0       0          0        1   \n",
       "\n",
       "   midnight  p_nearby_0  ...  p_nearby_3  p_nearby_4  p_nearby_5  id_trip  \\\n",
       "0         0    0.061644  ...    0.006849    0.726027    0.006849   358089   \n",
       "1         1    0.454545  ...    0.090909    0.060606    0.303030   458671   \n",
       "2         0    0.250000  ...    0.125000    0.000000    0.000000   116619   \n",
       "3         0    0.200000  ...    0.000000    0.600000    0.000000   338640   \n",
       "4         0    0.000000  ...    0.000000    0.000000    0.000000    15462   \n",
       "\n",
       "   purpose  prediction            starttime              endtime        lat  \\\n",
       "0        4           4  2017-09-28 15:44:25  2017-09-28 16:20:54  45.494310   \n",
       "1        0           0  2017-10-04 22:35:17  2017-10-04 23:00:01  45.526987   \n",
       "2        5           1  2017-09-27 10:47:17  2017-09-27 10:53:17  45.565236   \n",
       "3        4           4  2017-10-10 11:39:49  2017-10-10 12:32:25  45.480260   \n",
       "4        0           2  2017-10-09 16:57:38  2017-10-09 17:05:27  45.490374   \n",
       "\n",
       "        long  \n",
       "0 -73.563775  \n",
       "1 -73.564104  \n",
       "2 -73.608322  \n",
       "3 -73.612060  \n",
       "4 -73.498311  \n",
       "\n",
       "[5 rows x 22 columns]"
      ]
     },
     "execution_count": 49,
     "metadata": {},
     "output_type": "execute_result"
    }
   ],
   "source": [
    "data_with_preds.head()"
   ]
  },
  {
   "cell_type": "code",
   "execution_count": 50,
   "metadata": {},
   "outputs": [],
   "source": [
    "# save data \n",
    "# data_with_preds.to_csv('../../Data/model_outputs/predictions_17.csv',index=False)"
   ]
  },
  {
   "cell_type": "markdown",
   "metadata": {},
   "source": [
    "# POI_RF"
   ]
  },
  {
   "cell_type": "code",
   "execution_count": null,
   "metadata": {},
   "outputs": [],
   "source": []
  },
  {
   "cell_type": "code",
   "execution_count": null,
   "metadata": {},
   "outputs": [],
   "source": []
  },
  {
   "cell_type": "markdown",
   "metadata": {},
   "source": [
    "## One vs many\n",
    "see: https://stackoverflow.com/questions/56090541/how-to-plot-precision-and-recall-of-multiclass-classifier/56092736"
   ]
  },
  {
   "cell_type": "code",
   "execution_count": 51,
   "metadata": {},
   "outputs": [
    {
     "ename": "NameError",
     "evalue": "name 'X_17' is not defined",
     "output_type": "error",
     "traceback": [
      "\u001b[0;31m---------------------------------------------------------------------------\u001b[0m",
      "\u001b[0;31mNameError\u001b[0m                                 Traceback (most recent call last)",
      "\u001b[0;32m<timed exec>\u001b[0m in \u001b[0;36m<module>\u001b[0;34m\u001b[0m\n",
      "\u001b[0;31mNameError\u001b[0m: name 'X_17' is not defined"
     ]
    }
   ],
   "source": [
    "%%time\n",
    "# create new set of train/test data\n",
    "X_train, X_test, y_train, y_test, X_train_IDs, X_test_IDs = model_setup(X_17, y_17, rd_state=42)"
   ]
  },
  {
   "cell_type": "code",
   "execution_count": 52,
   "metadata": {},
   "outputs": [],
   "source": [
    "sklearn.preprocessing.label_binarize(y_train, classes=[0,1,2,3,4,5])\n",
    "y_train = sklearn.preprocessing.label_binarize(y_train, classes=[0,1,2,3,4,5])\n",
    "y_test = sklearn.preprocessing.label_binarize(y_test, classes=[0,1,2,3,4,5])"
   ]
  },
  {
   "cell_type": "code",
   "execution_count": 53,
   "metadata": {},
   "outputs": [],
   "source": [
    "import sklearn.multiclass"
   ]
  },
  {
   "cell_type": "code",
   "execution_count": 54,
   "metadata": {},
   "outputs": [],
   "source": [
    "clf = sklearn.multiclass.OneVsRestClassifier(sklearn.ensemble.RandomForestClassifier(n_estimators=200,\n",
    "                             max_depth=20,\n",
    "                             random_state=42))\n",
    "clf.fit(X_train, y_train)\n",
    "\n",
    "y_score = clf.predict_proba(X_test)"
   ]
  },
  {
   "cell_type": "code",
   "execution_count": 55,
   "metadata": {},
   "outputs": [
    {
     "data": {
      "text/plain": [
       "0.38288704216682057"
      ]
     },
     "execution_count": 55,
     "metadata": {},
     "output_type": "execute_result"
    }
   ],
   "source": [
    "clf.score(X_test, y_test)"
   ]
  },
  {
   "cell_type": "code",
   "execution_count": 56,
   "metadata": {},
   "outputs": [
    {
     "data": {
      "image/png": "[encoded data removed]",
      "text/plain": [
       "<Figure size 432x288 with 1 Axes>"
      ]
     },
     "metadata": {
      "needs_background": "light"
     },
     "output_type": "display_data"
    }
   ],
   "source": [
    "# precision recall curve\n",
    "precision = dict()\n",
    "recall = dict()\n",
    "for i in range(6):\n",
    "    precision[i], recall[i], _ = sklearn.metrics.precision_recall_curve(y_test[:, i],\n",
    "                                                        y_score[:, i])\n",
    "    plt.plot(recall[i], precision[i], lw=2, label='class {}'.format(i))\n",
    "\n",
    "plt.xlabel(\"recall\")\n",
    "plt.ylabel(\"precision\")\n",
    "plt.legend(loc=\"best\")\n",
    "plt.title(\"precision vs. recall curve\")\n",
    "plt.show()"
   ]
  },
  {
   "cell_type": "code",
   "execution_count": null,
   "metadata": {},
   "outputs": [],
   "source": []
  },
  {
   "cell_type": "code",
   "execution_count": null,
   "metadata": {},
   "outputs": [],
   "source": []
  },
  {
   "cell_type": "code",
   "execution_count": null,
   "metadata": {},
   "outputs": [],
   "source": []
  },
  {
   "cell_type": "code",
   "execution_count": null,
   "metadata": {},
   "outputs": [],
   "source": []
  }
 ],
 "metadata": {
  "kernelspec": {
   "display_name": "Python 3",
   "language": "python",
   "name": "python3"
  },
  "language_info": {
   "codemirror_mode": {
    "name": "ipython",
    "version": 3
   },
   "file_extension": ".py",
   "mimetype": "text/x-python",
   "name": "python",
   "nbconvert_exporter": "python",
   "pygments_lexer": "ipython3",
   "version": "3.8.6"
  },
  "toc": {
   "base_numbering": 1,
   "nav_menu": {},
   "number_sections": true,
   "sideBar": true,
   "skip_h1_title": false,
   "title_cell": "Table of Contents",
   "title_sidebar": "Contents",
   "toc_cell": false,
   "toc_position": {},
   "toc_section_display": true,
   "toc_window_display": true
  }
 },
 "nbformat": 4,
 "nbformat_minor": 2
}
