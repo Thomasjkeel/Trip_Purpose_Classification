{
 "cells": [
  {
   "cell_type": "code",
   "execution_count": 45,
   "metadata": {},
   "outputs": [
    {
     "name": "stderr",
     "output_type": "stream",
     "text": [
      "/Applications/anaconda/envs/st-ds/lib/python3.7/site-packages/past/types/oldstr.py:5: DeprecationWarning: Using or importing the ABCs from 'collections' instead of from 'collections.abc' is deprecated, and in 3.8 it will stop working\n",
      "  from collections import Iterable\n",
      "/Users/thomaskeel/.local/lib/python3.7/site-packages/nltk/decorators.py:68: DeprecationWarning: `formatargspec` is deprecated since Python 3.5. Use `signature` and the `Signature` object directly\n",
      "  regargs, varargs, varkwargs, defaults, formatvalue=lambda value: \"\"\n",
      "/Users/thomaskeel/.local/lib/python3.7/site-packages/nltk/lm/counter.py:15: DeprecationWarning: Using or importing the ABCs from 'collections' instead of from 'collections.abc' is deprecated, and in 3.8 it will stop working\n",
      "  from collections import Sequence, defaultdict\n",
      "/Applications/anaconda/envs/st-ds/lib/python3.7/site-packages/scipy/sparse/sparsetools.py:21: DeprecationWarning: `scipy.sparse.sparsetools` is deprecated!\n",
      "scipy.sparse.sparsetools is a private module for scipy.sparse, and should not be used.\n",
      "  _deprecated()\n"
     ]
    }
   ],
   "source": [
    "import geopandas as gpd\n",
    "import pandas as pd\n",
    "import numpy as np\n",
    "import matplotlib.pyplot as plt\n",
    "import datetime\n",
    "import seaborn as sns\n",
    "from sklearn.cluster import KMeans\n",
    "import shapely\n",
    "import re\n",
    "import sys\n",
    "sys.path.append('../../../Scripts/') # link to scripts\n",
    "import preprocessing.translate\n",
    "import utils.spatial_utils\n",
    "import utils.temporal_utils\n",
    "\n",
    "# for LDA\n",
    "import pyLDAvis.gensim\n",
    "from nltk.tokenize import RegexpTokenizer\n",
    "from nltk.stem.porter import PorterStemmer\n",
    "from gensim import corpora, models\n",
    "import gensim\n",
    "from gensim.models import CoherenceModel\n",
    "\n",
    "\n",
    "%matplotlib inline"
   ]
  },
  {
   "cell_type": "code",
   "execution_count": 2,
   "metadata": {},
   "outputs": [],
   "source": [
    "# path to the preprocessed MTL Trajet data \n",
    "path_2016 = \"../../../Data/mtl_trajet/mtl_trajet_2016_translated.shp\"\n",
    "path_2017 = \"../../../Data/mtl_trajet/mtl_trajet_2017_translated.shp\""
   ]
  },
  {
   "cell_type": "code",
   "execution_count": 3,
   "metadata": {},
   "outputs": [],
   "source": [
    "gdf_2016 = gpd.read_file(path_2016)\n",
    "gdf_2017 = gpd.read_file(path_2017) "
   ]
  },
  {
   "cell_type": "markdown",
   "metadata": {},
   "source": [
    "## k-means"
   ]
  },
  {
   "cell_type": "code",
   "execution_count": 6,
   "metadata": {},
   "outputs": [
    {
     "name": "stdout",
     "output_type": "stream",
     "text": [
      "CPU times: user 35min 49s, sys: 25.7 s, total: 36min 15s\n",
      "Wall time: 42min 30s\n"
     ]
    }
   ],
   "source": [
    "%%time\n",
    "## calculate start and end points (WGS84)\n",
    "gdf_2016 = gdf_2016.to_crs(crs={'init':'epsg:4326'})\n",
    "gdf_2016['start_wgs'] =  gdf_2016.geometry.apply(utils.spatial_utils.get_point_from_linestring, X=0) \n",
    "gdf_2016['end_wgs'] =  gdf_2016.geometry.apply(utils.spatial_utils.get_point_from_linestring, X=-1) \n",
    "\n",
    "gdf_2017 = gdf_2017.to_crs(crs={'init':'epsg:4326'})\n",
    "gdf_2017['start_wgs'] =  gdf_2017.geometry.apply(utils.spatial_utils.get_point_from_linestring, X=0) \n",
    "gdf_2017['end_wgs'] =  gdf_2017.geometry.apply(utils.spatial_utils.get_point_from_linestring, X=-1) \n",
    "\n",
    "## calculate start and end points (Canada Lambert)\n",
    "gdf_2016 = gdf_2016.to_crs(crs={'init':'epsg:3347'})\n",
    "gdf_2016['start_can'] =  gdf_2016.geometry.apply(utils.spatial_utils.get_point_from_linestring, X=0) \n",
    "gdf_2016['end_can'] =  gdf_2016.geometry.apply(utils.spatial_utils.get_point_from_linestring, X=-1) \n",
    "\n",
    "gdf_2017 = gdf_2017.to_crs(crs={'init':'epsg:3347'})\n",
    "gdf_2017['start_can'] =  gdf_2017.geometry.apply(utils.spatial_utils.get_point_from_linestring, X=0) \n",
    "gdf_2017['end_can'] =  gdf_2017.geometry.apply(utils.spatial_utils.get_point_from_linestring, X=-1) "
   ]
  },
  {
   "cell_type": "code",
   "execution_count": 11,
   "metadata": {},
   "outputs": [],
   "source": [
    "gdf_2016['start_can'] = gdf_2016['start_can'].apply(shapely.geometry.Point)\n",
    "gdf_2016['end_can'] = gdf_2016['end_can'].apply(shapely.geometry.Point)\n",
    "gdf_2017['start_can'] = gdf_2017['start_can'].apply(shapely.geometry.Point)\n",
    "gdf_2017['end_can'] = gdf_2017['end_can'].apply(shapely.geometry.Point)"
   ]
  },
  {
   "cell_type": "code",
   "execution_count": 12,
   "metadata": {},
   "outputs": [],
   "source": [
    "gdf_2016['startx'] = gdf_2016.start_can.apply(lambda row: row.x)\n",
    "gdf_2016['starty'] = gdf_2016.start_can.apply(lambda row: row.y)\n",
    "gdf_2016['endx'] = gdf_2016.end_can.apply(lambda row: row.x)\n",
    "gdf_2016['endy'] = gdf_2016.end_can.apply(lambda row: row.y)\n",
    "\n",
    "gdf_2017['startx'] = gdf_2017.start_can.apply(lambda row: row.x)\n",
    "gdf_2017['starty'] = gdf_2017.start_can.apply(lambda row: row.y)\n",
    "gdf_2017['endx'] = gdf_2017.end_can.apply(lambda row: row.x)\n",
    "gdf_2017['endy'] = gdf_2017.end_can.apply(lambda row: row.y)"
   ]
  },
  {
   "cell_type": "code",
   "execution_count": 14,
   "metadata": {},
   "outputs": [],
   "source": [
    "# Calculate DISTANCE MATRIX\n",
    "coords_st = [[x,y] for x, y in zip(gdf_2016['startx'], gdf_2016['starty'])]\n",
    "coords_en = [[x,y] for x, y in zip(gdf_2016['endx'], gdf_2016['endy'])]"
   ]
  },
  {
   "cell_type": "code",
   "execution_count": 15,
   "metadata": {},
   "outputs": [],
   "source": [
    "# get a list of all end-points for clustering algorithm\n",
    "overall_coords = coords_st\n",
    "overall_coords.extend(coords_en)"
   ]
  },
  {
   "cell_type": "markdown",
   "metadata": {},
   "source": [
    "## testing of K-means and Silhouette Score"
   ]
  },
  {
   "cell_type": "code",
   "execution_count": null,
   "metadata": {},
   "outputs": [],
   "source": [
    "# %%time\n",
    "# Run the Kmeans algorithm and get the index of data points clusters\n",
    "# sse = []\n",
    "# list_k = list(range(1, 25))\n",
    "\n",
    "# for k in list_k:\n",
    "#     km = KMeans(n_clusters=k)\n",
    "#     km.fit(overall_coords)\n",
    "#     sse.append(km.inertia_)"
   ]
  },
  {
   "cell_type": "markdown",
   "metadata": {},
   "source": [
    "## K-means actual"
   ]
  },
  {
   "cell_type": "code",
   "execution_count": 19,
   "metadata": {},
   "outputs": [
    {
     "name": "stdout",
     "output_type": "stream",
     "text": [
      "CPU times: user 29.7 s, sys: 3.47 s, total: 33.1 s\n",
      "Wall time: 30.1 s\n"
     ]
    },
    {
     "data": {
      "text/plain": [
       "array([9, 9, 0, ..., 0, 3, 9], dtype=int32)"
      ]
     },
     "execution_count": 19,
     "metadata": {},
     "output_type": "execute_result"
    }
   ],
   "source": [
    "%%time\n",
    "kmeans = KMeans(n_clusters=12, random_state=0).fit(overall_coords)\n",
    "kmeans.labels_"
   ]
  },
  {
   "cell_type": "code",
   "execution_count": 23,
   "metadata": {},
   "outputs": [],
   "source": [
    "gdf_2016['startclust'] = kmeans.labels_[:int(len(gdf_2016))]\n",
    "gdf_2016['endclust'] = kmeans.labels_[int(len(gdf_2016)):]"
   ]
  },
  {
   "cell_type": "code",
   "execution_count": 27,
   "metadata": {},
   "outputs": [
    {
     "name": "stdout",
     "output_type": "stream",
     "text": [
      "0     80751\n",
      "9     52870\n",
      "11    44981\n",
      "8     32145\n",
      "1     14467\n",
      "6     14192\n",
      "7     10704\n",
      "2      8945\n",
      "3      5990\n",
      "5      4342\n",
      "10     3823\n",
      "4      2414\n",
      "Name: startclust, dtype: int64\n",
      "0     81823\n",
      "9     51467\n",
      "11    43454\n",
      "8     31766\n",
      "6     14811\n",
      "1     14769\n",
      "7     11105\n",
      "2      9222\n",
      "3      6327\n",
      "5      4517\n",
      "10     3892\n",
      "4      2471\n",
      "Name: endclust, dtype: int64\n"
     ]
    }
   ],
   "source": [
    "print(gdf_2016.startclust.value_counts())\n",
    "print(gdf_2016.endclust.value_counts())"
   ]
  },
  {
   "cell_type": "code",
   "execution_count": 29,
   "metadata": {},
   "outputs": [
    {
     "data": {
      "image/png": "[encoded data removed]",
      "text/plain": [
       "<Figure size 720x432 with 1 Axes>"
      ]
     },
     "metadata": {},
     "output_type": "display_data"
    }
   ],
   "source": [
    "col_order = ['0','1','2','3','4','5','6','7','8','9','10','11']\n",
    "\n",
    "sns.set_style(\"darkgrid\")\n",
    "grouped_cluster_origin = gdf_2016.groupby('startclust').count()['mode']\n",
    "grouped_cluster_destination = gdf_2016.groupby('endclust').count()['mode']\n",
    "\n",
    "fig, ax = plt.subplots(1, figsize=(10,6))\n",
    "ind = np.arange(len(grouped_cluster_origin))\n",
    "height = .3\n",
    "\n",
    "ax.barh(y=ind, width=grouped_cluster_origin, height=height, alpha=.75)\n",
    "ax.barh(y=ind+height, width=grouped_cluster_destination,height=height, color='orange', alpha=.75)\n",
    "ax.set_yticks(ind + height / 2)\n",
    "ax.set_yticklabels(col_order, size=16)\n",
    "ax.set_ylabel(\"Cluster ID\", size=20)\n",
    "plt.xticks(size=14)\n",
    "ax.set_xlabel(\"Count of Trips\",size=20)\n",
    "ax.set_title(\"Trips per clusters\", size=24)\n",
    "ax.legend(['origin', 'destination'], fontsize=16);\n",
    "# ax.figure.savefig(\"figures/trips_per_cluster.png\", bbox_inches='tight')"
   ]
  },
  {
   "cell_type": "code",
   "execution_count": null,
   "metadata": {},
   "outputs": [],
   "source": []
  },
  {
   "cell_type": "markdown",
   "metadata": {},
   "source": [
    "## Temporal Clustering using LDA\n",
    "Temporal Words i.e. 'Sunday_9.00, car'.  \n",
    "Create temporal topics, and then look at their make-up, need a Perplexity score first\n",
    "\n",
    "https://www.machinelearningplus.com/nlp/topic-modeling-gensim-python/"
   ]
  },
  {
   "cell_type": "code",
   "execution_count": 34,
   "metadata": {},
   "outputs": [
    {
     "name": "stdout",
     "output_type": "stream",
     "text": [
      "converting start and end timestamps to datetime objects\n"
     ]
    }
   ],
   "source": [
    "if not type(gdf_2016.starttime[0]) == datetime.datetime or not type(gdf_2017.starttime[0]) == datetime.datetime:\n",
    "    print(\"converting start and end timestamps to datetime objects\")\n",
    "    gdf_2016['starttime'] = pd.to_datetime(gdf_2016['starttime'])\n",
    "    gdf_2016['endtime'] = pd.to_datetime(gdf_2016['endtime'])\n",
    "    gdf_2017['starttime'] = pd.to_datetime(gdf_2017['starttime'])\n",
    "    gdf_2017['endtime'] = pd.to_datetime(gdf_2017['endtime'])"
   ]
  },
  {
   "cell_type": "code",
   "execution_count": 42,
   "metadata": {},
   "outputs": [],
   "source": [
    "gdf_2016['hour'] = gdf_2016.starttime.apply(lambda row: row.hour)\n",
    "gdf_2017['hour'] = gdf_2017.starttime.apply(lambda row: row.hour)"
   ]
  },
  {
   "cell_type": "code",
   "execution_count": 43,
   "metadata": {},
   "outputs": [],
   "source": [
    "def create_LDA_words(row):\n",
    "    if row['purpose']:\n",
    "        return row['starttime'].day_name() + \"_\" + str(row['hour']) + \", \" + row['purpose']"
   ]
  },
  {
   "cell_type": "code",
   "execution_count": 44,
   "metadata": {},
   "outputs": [
    {
     "name": "stdout",
     "output_type": "stream",
     "text": [
      "CPU times: user 8.72 s, sys: 176 ms, total: 8.9 s\n",
      "Wall time: 9.26 s\n"
     ]
    }
   ],
   "source": [
    "%%time \n",
    "# about 1 minute\n",
    "gdf_2016['lda_word'] = gdf_2016.apply(lambda row: create_LDA_words(row), axis=1)"
   ]
  },
  {
   "cell_type": "code",
   "execution_count": 46,
   "metadata": {},
   "outputs": [],
   "source": [
    "tokenizer = RegexpTokenizer(r'\\w+')\n",
    "# Create p_stemmer of class PorterStemmer\n",
    "p_stemmer = PorterStemmer()"
   ]
  },
  {
   "cell_type": "code",
   "execution_count": 48,
   "metadata": {},
   "outputs": [],
   "source": [
    "doc_set = list(gdf_2016['lda_word'].dropna())"
   ]
  },
  {
   "cell_type": "code",
   "execution_count": 49,
   "metadata": {},
   "outputs": [
    {
     "data": {
      "text/plain": [
       "57879"
      ]
     },
     "execution_count": 49,
     "metadata": {},
     "output_type": "execute_result"
    }
   ],
   "source": [
    "len(doc_set)"
   ]
  },
  {
   "cell_type": "code",
   "execution_count": 50,
   "metadata": {},
   "outputs": [],
   "source": [
    "# list for tokenized documents in loop\n",
    "texts = []\n",
    "\n",
    "# loop through document list\n",
    "for i in doc_set:\n",
    "    \n",
    "    # clean and tokenize document string\n",
    "    raw = i.lower()\n",
    "    tokens = tokenizer.tokenize(raw)\n",
    "\n",
    "    # remove stop words from tokens\n",
    "    stopped_tokens = [i for i in tokens]\n",
    "    \n",
    "    # stem tokens\n",
    "    stemmed_tokens = [p_stemmer.stem(i) for i in stopped_tokens]\n",
    "    \n",
    "    # add tokens to list\n",
    "    texts.append(stemmed_tokens)\n",
    "\n",
    "# turn our tokenized documents into a id <-> term dictionary\n",
    "dictionary = corpora.Dictionary(texts)\n",
    "    \n",
    "# convert tokenized documents into a document-term matrix\n",
    "corpus = [dictionary.doc2bow(text) for text in texts]"
   ]
  },
  {
   "cell_type": "code",
   "execution_count": 51,
   "metadata": {},
   "outputs": [
    {
     "name": "stdout",
     "output_type": "stream",
     "text": [
      "{'returning_hom': 0, 'wednesday_20': 1, 'thursday_7': 2, 'work': 3, 'leisur': 4, 'thursday_19': 5, 'thursday_21': 6, 'friday_16': 7, 'pick_up_drop_off': 8, 'food_drink': 9, 'friday_18': 10, 'friday_23': 11, 'saturday_0': 12, 'friday_20': 13, 'saturday_10': 14, 'saturday_13': 15, 'saturday_14': 16, 'saturday_19': 17, 'saturday_23': 18, 'saturday_20': 19, 'saturday_21': 20, 'shop': 21, 'sunday_14': 22, 'sunday_20': 23, 'sunday_22': 24, 'sunday_15': 25, 'monday_7': 26, 'monday_16': 27, 'monday_17': 28, 'educ': 29, 'monday_22': 30, 'tuesday_7': 31, 'tuesday_15': 32, 'tuesday_16': 33, 'wednesday_7': 34, 'wednesday_13': 35, 'thursday_16': 36, 'friday_5': 37, 'friday_15': 38, 'sunday_10': 39, 'sunday_12': 40, 'monday_8': 41, 'wednesday_23': 42, 'thursday_14': 43, 'thursday_18': 44, 'friday_0': 45, 'friday_7': 46, 'saturday_11': 47, 'saturday_12': 48, 'saturday_16': 49, 'sunday_17': 50, 'monday_14': 51, 'tuesday_18': 52, 'wednesday_17': 53, 'thursday_5': 54, 'friday_12': 55, 'friday_17': 56, 'friday_22': 57, 'saturday_9': 58, 'sunday_11': 59, 'health': 60, 'sunday_13': 61, 'monday_1': 62, 'tuesday_5': 63, 'wednesday_5': 64, 'tuesday_17': 65, 'wednesday_18': 66, 'thursday_17': 67, 'friday_8': 68, 'friday_10': 69, 'friday_9': 70, 'friday_11': 71, 'friday_14': 72, 'friday_21': 73, 'sunday_21': 74, 'monday_11': 75, 'monday_12': 76, 'monday_15': 77, 'tuesday_12': 78, 'wednesday_16': 79, 'wednesday_19': 80, 'wednesday_21': 81, 'thursday_8': 82, 'thursday_11': 83, 'thursday_20': 84, 'friday_6': 85, 'friday_19': 86, 'saturday_6': 87, 'saturday_7': 88, 'saturday_15': 89, 'saturday_17': 90, 'saturday_18': 91, 'saturday_22': 92, 'sunday_8': 93, 'sunday_7': 94, 'sunday_19': 95, 'monday_6': 96, 'monday_9': 97, 'monday_10': 98, 'monday_13': 99, 'monday_5': 100, 'monday_18': 101, 'monday_19': 102, 'monday_20': 103, 'monday_21': 104, 'monday_23': 105, 'tuesday_0': 106, 'tuesday_2': 107, 'tuesday_1': 108, 'tuesday_3': 109, 'tuesday_4': 110, 'tuesday_6': 111, 'tuesday_8': 112, 'tuesday_9': 113, 'tuesday_10': 114, 'tuesday_11': 115, 'tuesday_13': 116, 'tuesday_14': 117, 'tuesday_19': 118, 'tuesday_20': 119, 'tuesday_21': 120, 'tuesday_22': 121, 'tuesday_23': 122, 'wednesday_0': 123, 'wednesday_1': 124, 'wednesday_2': 125, 'wednesday_3': 126, 'wednesday_4': 127, 'wednesday_6': 128, 'wednesday_8': 129, 'wednesday_9': 130, 'wednesday_10': 131, 'wednesday_11': 132, 'wednesday_12': 133, 'wednesday_14': 134, 'wednesday_15': 135, 'wednesday_22': 136, 'thursday_0': 137, 'thursday_1': 138, 'thursday_2': 139, 'thursday_3': 140, 'thursday_4': 141, 'thursday_6': 142, 'thursday_9': 143, 'thursday_10': 144, 'thursday_12': 145, 'thursday_13': 146, 'thursday_15': 147, 'thursday_22': 148, 'thursday_23': 149, 'friday_1': 150, 'friday_3': 151, 'friday_4': 152, 'friday_2': 153, 'friday_13': 154, 'saturday_1': 155, 'saturday_2': 156, 'saturday_3': 157, 'saturday_4': 158, 'saturday_5': 159, 'saturday_8': 160, 'sunday_0': 161, 'sunday_1': 162, 'sunday_2': 163, 'sunday_3': 164, 'sunday_4': 165, 'sunday_5': 166, 'sunday_6': 167, 'sunday_9': 168, 'sunday_16': 169, 'sunday_18': 170, 'sunday_23': 171, 'monday_0': 172, 'monday_2': 173, 'monday_3': 174, 'monday_4': 175}\n"
     ]
    }
   ],
   "source": [
    "print(dictionary.token2id)"
   ]
  },
  {
   "cell_type": "code",
   "execution_count": 52,
   "metadata": {},
   "outputs": [
    {
     "name": "stdout",
     "output_type": "stream",
     "text": [
      "CPU times: user 6min 27s, sys: 2.54 s, total: 6min 30s\n",
      "Wall time: 6min 31s\n"
     ]
    }
   ],
   "source": [
    "%%time\n",
    "# generate LDA model\n",
    "# 30 seconds for 2 passes and 2 topics\n",
    "# 1 min for 2 passes and 10 topics\n",
    "# 1 min 30 seconds for 10 passes and 20 topics\n",
    "# 50 passes == 10 mins\n",
    "## 6 is the best ##\n",
    "ldamodel = gensim.models.ldamodel.LdaModel(corpus, num_topics=5, id2word = dictionary, passes=50) "
   ]
  },
  {
   "cell_type": "code",
   "execution_count": 53,
   "metadata": {},
   "outputs": [],
   "source": [
    "topics = ldamodel.print_topics(num_topics=5, num_words=177)"
   ]
  },
  {
   "cell_type": "code",
   "execution_count": 54,
   "metadata": {},
   "outputs": [
    {
     "name": "stderr",
     "output_type": "stream",
     "text": [
      "/Applications/anaconda/envs/st-ds/lib/python3.7/site-packages/scipy/sparse/lil.py:504: FutureWarning: future versions will not create a writeable array from broadcast_array. Set the writable flag explicitly to avoid this warning.\n",
      "  if not i.flags.writeable or i.dtype not in (np.int32, np.int64):\n",
      "/Applications/anaconda/envs/st-ds/lib/python3.7/site-packages/scipy/sparse/lil.py:506: FutureWarning: future versions will not create a writeable array from broadcast_array. Set the writable flag explicitly to avoid this warning.\n",
      "  if not j.flags.writeable or j.dtype not in (np.int32, np.int64):\n",
      "/Applications/anaconda/envs/st-ds/lib/python3.7/site-packages/scipy/sparse/lil.py:320: DeprecationWarning: Numpy has detected that you (may be) writing to an array with\n",
      "overlapping memory from np.broadcast_arrays. If this is intentional\n",
      "set the WRITEABLE flag True or make a copy immediately before writing.\n",
      "  i, j, x)\n",
      "/Applications/anaconda/envs/st-ds/lib/python3.7/site-packages/scipy/sparse/lil.py:320: DeprecationWarning: Numpy has detected that you (may be) writing to an array with\n",
      "overlapping memory from np.broadcast_arrays. If this is intentional\n",
      "set the WRITEABLE flag True or make a copy immediately before writing.\n",
      "  i, j, x)\n",
      "/Applications/anaconda/envs/st-ds/lib/python3.7/site-packages/scipy/sparse/lil.py:320: DeprecationWarning: Numpy has detected that you (may be) writing to an array with\n",
      "overlapping memory from np.broadcast_arrays. If this is intentional\n",
      "set the WRITEABLE flag True or make a copy immediately before writing.\n",
      "  i, j, x)\n",
      "/Applications/anaconda/envs/st-ds/lib/python3.7/site-packages/scipy/sparse/lil.py:320: DeprecationWarning: Numpy has detected that you (may be) writing to an array with\n",
      "overlapping memory from np.broadcast_arrays. If this is intentional\n",
      "set the WRITEABLE flag True or make a copy immediately before writing.\n",
      "  i, j, x)\n",
      "/Applications/anaconda/envs/st-ds/lib/python3.7/site-packages/scipy/sparse/lil.py:320: DeprecationWarning: Numpy has detected that you (may be) writing to an array with\n",
      "overlapping memory from np.broadcast_arrays. If this is intentional\n",
      "set the WRITEABLE flag True or make a copy immediately before writing.\n",
      "  i, j, x)\n",
      "/Applications/anaconda/envs/st-ds/lib/python3.7/site-packages/scipy/sparse/lil.py:320: DeprecationWarning: Numpy has detected that you (may be) writing to an array with\n",
      "overlapping memory from np.broadcast_arrays. If this is intentional\n",
      "set the WRITEABLE flag True or make a copy immediately before writing.\n",
      "  i, j, x)\n"
     ]
    },
    {
     "name": "stdout",
     "output_type": "stream",
     "text": [
      "\n",
      "Coherence Score:  0.7399172914320162\n"
     ]
    }
   ],
   "source": [
    "# Compute Coherence Score\n",
    "coherence_model_ldamallet = CoherenceModel(model=ldamodel, texts=texts, dictionary=dictionary, coherence='c_v')\n",
    "coherence_ldamallet = coherence_model_ldamallet.get_coherence()\n",
    "print('\\nCoherence Score: ', coherence_ldamallet)"
   ]
  },
  {
   "cell_type": "code",
   "execution_count": 55,
   "metadata": {},
   "outputs": [
    {
     "name": "stdout",
     "output_type": "stream",
     "text": [
      "\n",
      "Perplexity:  -4.129496972731605\n"
     ]
    }
   ],
   "source": [
    "print('\\nPerplexity: ', ldamodel.log_perplexity(corpus))  # a measure of how good the model is. lower the better."
   ]
  },
  {
   "cell_type": "markdown",
   "metadata": {},
   "source": [
    "## testing of LDA"
   ]
  },
  {
   "cell_type": "code",
   "execution_count": null,
   "metadata": {},
   "outputs": [],
   "source": [
    "%%time\n",
    "# 1 hour 10 mins\n",
    "coherences = []\n",
    "perplexities = []\n",
    "for tp_num in range(20, 30):\n",
    "    ldamodel = gensim.models.ldamodel.LdaModel(corpus, num_topics=tp_num, id2word = dictionary, passes=20) \n",
    "    coherence_model_ldamallet = CoherenceModel(model=ldamodel, texts=texts, dictionary=dictionary, coherence='c_v')\n",
    "    coherence_ldamallet = coherence_model_ldamallet.get_coherence()\n",
    "    log_ldamallet = ldamodel.log_perplexity(corpus)\n",
    "    coherences.append(coherence_ldamallet)\n",
    "    perplexities.append(log_ldamallet)\n",
    "    print('\\nCoherence Score: ', coherence_ldamallet)\n",
    "    print('\\nPerplexity: ', log_ldamallet)  # a measure of how good the model is. lower the better."
   ]
  },
  {
   "cell_type": "code",
   "execution_count": null,
   "metadata": {},
   "outputs": [],
   "source": [
    "cohper = pd.DataFrame([coherences, perplexities]).T\n",
    "cohper.columns = ['coherence','perplexity_score']\n",
    "cohper.head()"
   ]
  },
  {
   "cell_type": "code",
   "execution_count": null,
   "metadata": {},
   "outputs": [],
   "source": [
    "sns.set_style('dark')\n",
    "fig, ax = plt.subplots(1, figsize=(10,6))\n",
    "ax2 = ax.twinx()\n",
    "ax.plot(cohper.coherence[:13], color='b')\n",
    "ax2.plot(cohper.perplexity_score[:13], color='r')\n",
    "ax.set_ylabel('Coherence', color='b', size=18)\n",
    "ax2.set_ylabel('log(Perplexity Score)', color='r', size=18)\n",
    "ax.set_title(\"Results from the Latent Dirichlet Allocation models built on a 1-12 topics\", size=18)\n",
    "plt.xlim(0,11)\n",
    "plt.xticks(np.arange(0,12), labels=np.arange(1,13))\n",
    "# ax2.set_ylim(-5,-3.5)\n",
    "for tick in ax.yaxis.get_major_ticks():\n",
    "    tick.label.set_fontsize(14) \n",
    "for tick in ax2.yaxis.get_major_ticks():\n",
    "    tick.label.set_fontsize(14) \n",
    "\n",
    "for tick in ax.xaxis.get_major_ticks():\n",
    "    tick.label.set_fontsize(14) \n",
    "plt.yticks(size=14)\n",
    "\n",
    "ax.axvline(x=4, ymin=0,ymax=10, linestyle='-.', color='k')\n",
    "ax.set_xlabel(\"Number of Topics (Temporal clusters)\", size=16)\n",
    "# plt.savefig(\"figures/coherence_perplexity_graph_12.png\", bbox_inches='tight')"
   ]
  },
  {
   "cell_type": "markdown",
   "metadata": {},
   "source": [
    "## Join back to data"
   ]
  },
  {
   "cell_type": "code",
   "execution_count": 56,
   "metadata": {},
   "outputs": [],
   "source": [
    "regex = re.compile('[^a-zA-Z_0-9]') # only accept a-z, A-Z, _ or 0-9\n",
    "day_nms = ['mon','tues','wedn','thurs','frid','satur','sund']\n",
    "\n",
    "def get_individual_topics(topic):\n",
    "    individual_topics = topic[1].split(\"+\")\n",
    "    return individual_topics\n",
    "\n",
    "def strip_unneeded_chars(row):\n",
    "    val, topic = row.split('*')\n",
    "    val = val.replace(\" \", \"\")\n",
    "    topic = regex.sub('', topic)\n",
    "    return float(val), topic\n",
    "\n",
    "def print_cluster_content(topic):\n",
    "    ind_tp = get_individual_topics(topic)\n",
    "    for it in ind_tp:\n",
    "        val, tp = strip_unneeded_chars(it)\n",
    "        if val > 0:\n",
    "            day = False\n",
    "            for dy in day_nms:\n",
    "                if tp.startswith(dy):\n",
    "                    day = True\n",
    "            if not day:\n",
    "                print(tp, val)"
   ]
  },
  {
   "cell_type": "code",
   "execution_count": 57,
   "metadata": {},
   "outputs": [
    {
     "data": {
      "text/plain": [
       "(0.173, 'returning_hom')"
      ]
     },
     "execution_count": 57,
     "metadata": {},
     "output_type": "execute_result"
    }
   ],
   "source": [
    "strip_unneeded_chars(get_individual_topics(topics[1])[1])"
   ]
  },
  {
   "cell_type": "code",
   "execution_count": 58,
   "metadata": {},
   "outputs": [],
   "source": [
    "empty_week_profile = np.zeros((7,24)) # empty matrix\n",
    "day_to_num = {'monday':0,'tuesday':1,'wednesday':2,'thursday':3,'friday':4,'saturday':5,'sunday':6}\n",
    "purpose_list = [\"leisur\",\"not_avail\",\"work\",\"returning_hom\",\"pick_up_a_person\",\"cafe\", \"shop\",\"educ\", \"other\",\"health\"]\n",
    "\n",
    "def create_cluster_profile(cluster):\n",
    "    cluster_profile = empty_week_profile.copy()\n",
    "    purposes_clusters = []\n",
    "    ind_tp = get_individual_topics(cluster)\n",
    "    for it in ind_tp:\n",
    "        val, tp = strip_unneeded_chars(it)\n",
    "        if val > 0:\n",
    "            if tp in purpose_list:\n",
    "                purposes_clusters.append([tp, val])\n",
    "            else:\n",
    "                day, tm = tp.split(\"_\")\n",
    "                cluster_profile[day_to_num[day], int(tm)] = val\n",
    "                \n",
    "    return cluster_profile, purposes_clusters"
   ]
  },
  {
   "cell_type": "code",
   "execution_count": 59,
   "metadata": {},
   "outputs": [
    {
     "ename": "KeyError",
     "evalue": "'food'",
     "output_type": "error",
     "traceback": [
      "\u001b[0;31m---------------------------------------------------------------------------\u001b[0m",
      "\u001b[0;31mKeyError\u001b[0m                                  Traceback (most recent call last)",
      "\u001b[0;32m<ipython-input-59-7899fc8eb46d>\u001b[0m in \u001b[0;36m<module>\u001b[0;34m\u001b[0m\n\u001b[0;32m----> 1\u001b[0;31m \u001b[0mcluster_profile\u001b[0m\u001b[0;34m,\u001b[0m \u001b[0mcluster_purposes\u001b[0m \u001b[0;34m=\u001b[0m \u001b[0mcreate_cluster_profile\u001b[0m\u001b[0;34m(\u001b[0m\u001b[0mtopics\u001b[0m\u001b[0;34m[\u001b[0m\u001b[0;36m0\u001b[0m\u001b[0;34m]\u001b[0m\u001b[0;34m)\u001b[0m\u001b[0;34m\u001b[0m\u001b[0;34m\u001b[0m\u001b[0m\n\u001b[0m",
      "\u001b[0;32m<ipython-input-58-a46639a8200a>\u001b[0m in \u001b[0;36mcreate_cluster_profile\u001b[0;34m(cluster)\u001b[0m\n\u001b[1;32m     14\u001b[0m             \u001b[0;32melse\u001b[0m\u001b[0;34m:\u001b[0m\u001b[0;34m\u001b[0m\u001b[0;34m\u001b[0m\u001b[0m\n\u001b[1;32m     15\u001b[0m                 \u001b[0mday\u001b[0m\u001b[0;34m,\u001b[0m \u001b[0mtm\u001b[0m \u001b[0;34m=\u001b[0m \u001b[0mtp\u001b[0m\u001b[0;34m.\u001b[0m\u001b[0msplit\u001b[0m\u001b[0;34m(\u001b[0m\u001b[0;34m\"_\"\u001b[0m\u001b[0;34m)\u001b[0m\u001b[0;34m\u001b[0m\u001b[0;34m\u001b[0m\u001b[0m\n\u001b[0;32m---> 16\u001b[0;31m                 \u001b[0mcluster_profile\u001b[0m\u001b[0;34m[\u001b[0m\u001b[0mday_to_num\u001b[0m\u001b[0;34m[\u001b[0m\u001b[0mday\u001b[0m\u001b[0;34m]\u001b[0m\u001b[0;34m,\u001b[0m \u001b[0mint\u001b[0m\u001b[0;34m(\u001b[0m\u001b[0mtm\u001b[0m\u001b[0;34m)\u001b[0m\u001b[0;34m]\u001b[0m \u001b[0;34m=\u001b[0m \u001b[0mval\u001b[0m\u001b[0;34m\u001b[0m\u001b[0;34m\u001b[0m\u001b[0m\n\u001b[0m\u001b[1;32m     17\u001b[0m \u001b[0;34m\u001b[0m\u001b[0m\n\u001b[1;32m     18\u001b[0m     \u001b[0;32mreturn\u001b[0m \u001b[0mcluster_profile\u001b[0m\u001b[0;34m,\u001b[0m \u001b[0mpurposes_clusters\u001b[0m\u001b[0;34m\u001b[0m\u001b[0;34m\u001b[0m\u001b[0m\n",
      "\u001b[0;31mKeyError\u001b[0m: 'food'"
     ]
    }
   ],
   "source": [
    "cluster_profile, cluster_purposes = create_cluster_profile(topics[0])"
   ]
  },
  {
   "cell_type": "code",
   "execution_count": null,
   "metadata": {},
   "outputs": [],
   "source": [
    "print(cluster_purposes)"
   ]
  },
  {
   "cell_type": "code",
   "execution_count": null,
   "metadata": {},
   "outputs": [],
   "source": [
    "print(cluster_profile)\n",
    "ax = sns.heatmap(cluster_profile, center=0, vmax=50, linewidths=1, annot=True, annot_kws={\"size\": 8}, fmt='.0f', cbar_kws={'label': 'Probability'})\n",
    "ax.set_yticklabels(ordered_days, rotation=0);\n",
    "ax.figure.axes[-1].yaxis.label.set_size(20)\n",
    "plt.title(\"Temporal Cluster\", size=20)\n",
    "plt.xlabel(\"Hour of Day\", size=18)\n",
    "plt.vlines(x=10, ymax=12, ymin=0, color='red', linestyles=':')\n",
    "plt.ylabel(\"Day of Week\", size=18)"
   ]
  },
  {
   "cell_type": "code",
   "execution_count": null,
   "metadata": {},
   "outputs": [],
   "source": [
    "## lazy work around\n",
    "if ordered_days[0] == 'Sunday':\n",
    "    ordered_days.pop(0)\n",
    "    ordered_days.append('Sunday')\n",
    "    print(\"changed\")"
   ]
  },
  {
   "cell_type": "code",
   "execution_count": null,
   "metadata": {},
   "outputs": [],
   "source": [
    "cluster_profile, cluster_purposes = create_cluster_profile(topics[0])\n"
   ]
  },
  {
   "cell_type": "code",
   "execution_count": null,
   "metadata": {},
   "outputs": [],
   "source": [
    "%%time\n",
    "lda_visualization = pyLDAvis.gensim.prepare(ldamodel, corpus, dictionary, sort_topics=False)\n",
    "pyLDAvis.display(lda_visualization)\n",
    "# pyLDAvis.save_html(lda_visualization, \"analysis_results/lda_visualization_5top.html\")"
   ]
  },
  {
   "cell_type": "code",
   "execution_count": null,
   "metadata": {},
   "outputs": [],
   "source": [
    "def link_topic_to_lda(row):\n",
    "    row['lda_word']"
   ]
  },
  {
   "cell_type": "code",
   "execution_count": null,
   "metadata": {},
   "outputs": [],
   "source": [
    "def topic_to_lda(row):\n",
    "    \"\"\"\n",
    "        function for determining which temporal cluster each row falls into\n",
    "    \"\"\"\n",
    "    if not row['lda_word']:\n",
    "        return 0\n",
    "    values = []\n",
    "    for tpc in topics:\n",
    "        tp_val = 0\n",
    "        ind_tp = get_individual_topics(tpc)\n",
    "        for it in ind_tp:\n",
    "            val, tp = strip_unneeded_chars(it)\n",
    "            dt, pur = row['lda_word'].split(',')\n",
    "            if dt.lower() == tp:\n",
    "                tp_val+= val\n",
    "            elif pur.strip(' ').startswith(pur):\n",
    "                tp_val+= val\n",
    "        values.append(tp_val)\n",
    "    # return the cluster with highest value\n",
    "    return np.argmax(values) + 1\n"
   ]
  },
  {
   "cell_type": "code",
   "execution_count": null,
   "metadata": {},
   "outputs": [],
   "source": [
    "%%time\n",
    "gdf_2016['temporal_cluster'] = gdf_2016.apply(topic_to_lda, axis=1)"
   ]
  },
  {
   "cell_type": "markdown",
   "metadata": {},
   "source": [
    "## visualisation"
   ]
  },
  {
   "cell_type": "code",
   "execution_count": null,
   "metadata": {},
   "outputs": [],
   "source": [
    "ax.set_yticklabels(labels=['NA','1','2','3','4','5'], size=12)\n",
    "ax.set_xlabel(\"Count\", size=18)\n",
    "ax.set_ylabel(\"Temporal Cluster\", size=18)"
   ]
  },
  {
   "cell_type": "code",
   "execution_count": null,
   "metadata": {},
   "outputs": [],
   "source": [
    "fig, ax = plt.subplots(1, figsize=(10,7))\n",
    "ax.barh(list(gdf.temporal_c.value_counts().keys()), gdf.temporal_c.value_counts().values)\n",
    "ax.set_title(\"Count of Trips in each Temporal Cluster\", size=20)\n",
    "ax.set_yticklabels([\"\",\"N/A\", \"1\",\"2\",\"3\",\"4\",\"5\",], size=16)\n",
    "ax.set_xticks(np.arange(0,120000, 20000))\n",
    "ax.set_ylabel(\"Temporal Cluster\", size=18)\n",
    "ax.set_xlabel(\"Count of Trips\", size=18)\n",
    "ax.set_xticklabels(np.arange(0,120000, 20000), size=14)\n",
    "ax.figure.savefig(\"figures/temporal_cluster_counts.png\", bbox_inches='tight')"
   ]
  },
  {
   "cell_type": "code",
   "execution_count": null,
   "metadata": {},
   "outputs": [],
   "source": [
    "sns.set_style('darkgrid')\n",
    "fig, ax = plt.subplots(1, figsize=(12,7))\n",
    "ax.bar(list(gdf.temporal_c.value_counts().keys()[1:]), gdf.temporal_c.value_counts().values[1:])\n",
    "ax.set_title(\"Count of Trips in each Temporal Cluster\", size=26)\n",
    "ax.set_xticklabels([\"\", \"1\",\"2\",\"3\",\"4\",\"5\",], size=18)\n",
    "ax.set_xlabel(\"Temporal Cluster\", size=22)\n",
    "ax.set_ylabel(\"Count of Trips\", size=22)\n",
    "ax.set_yticks(np.arange(0,20000, 5000))\n",
    "ax.set_yticklabels(np.arange(0,25000, 5000), size=14)\n",
    "# ax.figure.savefig(\"figures/temporal_cluster_counts_only_main.png\", bbox_inches='tight')"
   ]
  },
  {
   "cell_type": "code",
   "execution_count": null,
   "metadata": {},
   "outputs": [],
   "source": []
  }
 ],
 "metadata": {
  "kernelspec": {
   "display_name": "Python 3",
   "language": "python",
   "name": "python3"
  },
  "language_info": {
   "codemirror_mode": {
    "name": "ipython",
    "version": 3
   },
   "file_extension": ".py",
   "mimetype": "text/x-python",
   "name": "python",
   "nbconvert_exporter": "python",
   "pygments_lexer": "ipython3",
   "version": "3.7.3"
  }
 },
 "nbformat": 4,
 "nbformat_minor": 2
}
