{
 "cells": [
  {
   "cell_type": "code",
   "execution_count": 1,
   "metadata": {},
   "outputs": [],
   "source": [
    "import geopandas as gpd\n",
    "import pandas as pd\n",
    "import numpy as np\n",
    "import matplotlib.pyplot as plt\n",
    "import datetime\n",
    "import shapely\n",
    "import shapely.wkt as wkt\n",
    "import sys\n",
    "sys.path.append('../../../Scripts/') # link to scripts\n",
    "import preprocessing.translate\n",
    "import utils.spatial_utils\n",
    "import utils.temporal_utils\n",
    "\n",
    "%matplotlib inline"
   ]
  },
  {
   "cell_type": "markdown",
   "metadata": {},
   "source": [
    "# Load in data"
   ]
  },
  {
   "cell_type": "code",
   "execution_count": 2,
   "metadata": {},
   "outputs": [],
   "source": [
    "# GLOBALS\n",
    "CAN_LAM = {'init':'epsg:3347'}"
   ]
  },
  {
   "cell_type": "code",
   "execution_count": 3,
   "metadata": {},
   "outputs": [],
   "source": [
    "# path to the MTL Trajet data \n",
    "path_2016 = \"../../../Data/mtl_trajet/mtl_trajet_2016.shp\"\n",
    "path_2017 = \"../../../Data/mtl_trajet/trajets_mtl_trajet_2017.shp\""
   ]
  },
  {
   "cell_type": "code",
   "execution_count": 4,
   "metadata": {},
   "outputs": [
    {
     "name": "stdout",
     "output_type": "stream",
     "text": [
      "initialising crs\n",
      "translating data\n",
      "translating data\n"
     ]
    }
   ],
   "source": [
    "# translate and reproject data (see reprojection_timezone_and_translation notebook for details)\n",
    "gdf_2016 = preprocessing.translate.translate_data(path_2016)\n",
    "gdf_2017 = preprocessing.translate.translate_data(path_2017)\n",
    "\n",
    "# initalise the CRS\n",
    "if gdf_2016.crs == {}:\n",
    "    print(\"initialising crs\")\n",
    "    gdf_2016.crs = {'init': 'epsg:4326'}\n",
    "    \n",
    "if gdf_2017.crs == {}:\n",
    "    print(\"initialising crs\")\n",
    "    gdf_2017.crs = {'init': 'epsg:4326'}\n",
    "    \n",
    "# reproject data\n",
    "if not gdf_2016.crs == {'init': 'epsg:3347'}:\n",
    "    gdf_2016 = utils.spatial_utils.change_projection(gdf_2016)\n",
    "    \n",
    "if not gdf_2017.crs == {'init': 'epsg:3347'}:\n",
    "    gdf_2017 = utils.spatial_utils.change_projection(gdf_2017)"
   ]
  },
  {
   "cell_type": "code",
   "execution_count": null,
   "metadata": {},
   "outputs": [],
   "source": [
    "%%time\n",
    "## calculate start and end points (Canada Lambert)\n",
    "gdf_2016 = gdf_2016.to_crs(CAN_LAM)\n",
    "gdf_2016['start_can'] =  gdf_2016.geometry.apply(utils.spatial_utils.get_point_from_linestring, X=0) \n",
    "gdf_2016['end_can'] =  gdf_2016.geometry.apply(utils.spatial_utils.get_point_from_linestring, X=-1) \n",
    "\n",
    "gdf_2017 = gdf_2017.to_crs(CAN_LAM)\n",
    "gdf_2017['start_can'] =  gdf_2017.geometry.apply(utils.spatial_utils.get_point_from_linestring, X=0) \n",
    "gdf_2017['end_can'] =  gdf_2017.geometry.apply(utils.spatial_utils.get_point_from_linestring, X=-1) "
   ]
  },
  {
   "cell_type": "code",
   "execution_count": 5,
   "metadata": {},
   "outputs": [],
   "source": [
    "# Montreal Points of interest\n",
    "mtl_pois = pd.read_csv(\"../../../Data/supplementary_data/POI/mtl_pois.csv\")"
   ]
  },
  {
   "cell_type": "markdown",
   "metadata": {},
   "source": [
    "# View data"
   ]
  },
  {
   "cell_type": "code",
   "execution_count": 7,
   "metadata": {},
   "outputs": [
    {
     "data": {
      "text/html": [
       "<div>\n",
       "<style scoped>\n",
       "    .dataframe tbody tr th:only-of-type {\n",
       "        vertical-align: middle;\n",
       "    }\n",
       "\n",
       "    .dataframe tbody tr th {\n",
       "        vertical-align: top;\n",
       "    }\n",
       "\n",
       "    .dataframe thead th {\n",
       "        text-align: right;\n",
       "    }\n",
       "</style>\n",
       "<table border=\"1\" class=\"dataframe\">\n",
       "  <thead>\n",
       "    <tr style=\"text-align: right;\">\n",
       "      <th></th>\n",
       "      <th>venue_id</th>\n",
       "      <th>venue_name</th>\n",
       "      <th>lat</th>\n",
       "      <th>lon</th>\n",
       "      <th>city</th>\n",
       "      <th>address</th>\n",
       "      <th>categories_id</th>\n",
       "      <th>categories_name</th>\n",
       "      <th>verified</th>\n",
       "      <th>checkinsCount</th>\n",
       "      <th>usersCount</th>\n",
       "      <th>tipsCount</th>\n",
       "      <th>postcode</th>\n",
       "    </tr>\n",
       "  </thead>\n",
       "  <tbody>\n",
       "    <tr>\n",
       "      <th>0</th>\n",
       "      <td>4bed60019868a5932e435d46</td>\n",
       "      <td>Pont de l'ÃŽle-aux-Tourtes</td>\n",
       "      <td>45.420522</td>\n",
       "      <td>-73.982794</td>\n",
       "      <td>Vaudreuil-Dorion</td>\n",
       "      <td>Autoroute 40_Vaudreuil-Dorion QC_Canada</td>\n",
       "      <td>4bf58dd8d48988d1df941735</td>\n",
       "      <td>Bridge</td>\n",
       "      <td>False</td>\n",
       "      <td>0</td>\n",
       "      <td>0</td>\n",
       "      <td>0</td>\n",
       "      <td>NaN</td>\n",
       "    </tr>\n",
       "    <tr>\n",
       "      <th>1</th>\n",
       "      <td>4d475881f046a1cde64106f6</td>\n",
       "      <td>Harmoni Yoga</td>\n",
       "      <td>45.396776</td>\n",
       "      <td>-73.955805</td>\n",
       "      <td>NaN</td>\n",
       "      <td>Canada</td>\n",
       "      <td>4bf58dd8d48988d102941735</td>\n",
       "      <td>Yoga Studio</td>\n",
       "      <td>False</td>\n",
       "      <td>0</td>\n",
       "      <td>0</td>\n",
       "      <td>0</td>\n",
       "      <td>NaN</td>\n",
       "    </tr>\n",
       "    <tr>\n",
       "      <th>2</th>\n",
       "      <td>4c6734ddaebea59333a375d0</td>\n",
       "      <td>Terrasse Vaudreuil Bord De Leau</td>\n",
       "      <td>45.391709</td>\n",
       "      <td>-73.994914</td>\n",
       "      <td>NaN</td>\n",
       "      <td>Canada</td>\n",
       "      <td>56aa371be4b08b9a8d5734c3</td>\n",
       "      <td>Waterfront</td>\n",
       "      <td>False</td>\n",
       "      <td>0</td>\n",
       "      <td>0</td>\n",
       "      <td>0</td>\n",
       "      <td>NaN</td>\n",
       "    </tr>\n",
       "    <tr>\n",
       "      <th>3</th>\n",
       "      <td>58a610469c954845fa18c3ba</td>\n",
       "      <td>DÃ©panneur Du Coin</td>\n",
       "      <td>45.395748</td>\n",
       "      <td>-73.957807</td>\n",
       "      <td>Ile-Perrot</td>\n",
       "      <td>100 Grand Blvd_Ile-Perrot QC J7V 4W8_Canada</td>\n",
       "      <td>4d954b0ea243a5684a65b473</td>\n",
       "      <td>Convenience Store</td>\n",
       "      <td>True</td>\n",
       "      <td>0</td>\n",
       "      <td>0</td>\n",
       "      <td>0</td>\n",
       "      <td>J7V 4W8</td>\n",
       "    </tr>\n",
       "    <tr>\n",
       "      <th>4</th>\n",
       "      <td>4c9b67fd553cef3bfca5db77</td>\n",
       "      <td>Groupe Sutton - Distinction inc. - Ile Perrot</td>\n",
       "      <td>45.394280</td>\n",
       "      <td>-73.965900</td>\n",
       "      <td>Ile Perrot</td>\n",
       "      <td>25 boulevard Don Quichotte,_Ile Perrot QC J7V ...</td>\n",
       "      <td>NaN</td>\n",
       "      <td>NaN</td>\n",
       "      <td>True</td>\n",
       "      <td>0</td>\n",
       "      <td>0</td>\n",
       "      <td>0</td>\n",
       "      <td>J7V 7X4</td>\n",
       "    </tr>\n",
       "  </tbody>\n",
       "</table>\n",
       "</div>"
      ],
      "text/plain": [
       "                   venue_id                                     venue_name  \\\n",
       "0  4bed60019868a5932e435d46                     Pont de l'ÃŽle-aux-Tourtes   \n",
       "1  4d475881f046a1cde64106f6                                   Harmoni Yoga   \n",
       "2  4c6734ddaebea59333a375d0                Terrasse Vaudreuil Bord De Leau   \n",
       "3  58a610469c954845fa18c3ba                             DÃ©panneur Du Coin   \n",
       "4  4c9b67fd553cef3bfca5db77  Groupe Sutton - Distinction inc. - Ile Perrot   \n",
       "\n",
       "         lat        lon              city  \\\n",
       "0  45.420522 -73.982794  Vaudreuil-Dorion   \n",
       "1  45.396776 -73.955805               NaN   \n",
       "2  45.391709 -73.994914               NaN   \n",
       "3  45.395748 -73.957807        Ile-Perrot   \n",
       "4  45.394280 -73.965900        Ile Perrot   \n",
       "\n",
       "                                             address  \\\n",
       "0            Autoroute 40_Vaudreuil-Dorion QC_Canada   \n",
       "1                                             Canada   \n",
       "2                                             Canada   \n",
       "3        100 Grand Blvd_Ile-Perrot QC J7V 4W8_Canada   \n",
       "4  25 boulevard Don Quichotte,_Ile Perrot QC J7V ...   \n",
       "\n",
       "              categories_id    categories_name  verified  checkinsCount  \\\n",
       "0  4bf58dd8d48988d1df941735             Bridge     False              0   \n",
       "1  4bf58dd8d48988d102941735        Yoga Studio     False              0   \n",
       "2  56aa371be4b08b9a8d5734c3         Waterfront     False              0   \n",
       "3  4d954b0ea243a5684a65b473  Convenience Store      True              0   \n",
       "4                       NaN                NaN      True              0   \n",
       "\n",
       "   usersCount  tipsCount postcode  \n",
       "0           0          0      NaN  \n",
       "1           0          0      NaN  \n",
       "2           0          0      NaN  \n",
       "3           0          0  J7V 4W8  \n",
       "4           0          0  J7V 7X4  "
      ]
     },
     "execution_count": 7,
     "metadata": {},
     "output_type": "execute_result"
    }
   ],
   "source": [
    "mtl_pois.head()"
   ]
  },
  {
   "cell_type": "code",
   "execution_count": 8,
   "metadata": {},
   "outputs": [
    {
     "data": {
      "text/plain": [
       "array(['Bridge', 'Yoga Studio', 'Waterfront', 'Convenience Store', nan,\n",
       "       'Warehouse Store', 'Hardware Store', 'Grocery Store',\n",
       "       'Gas Station', 'Automotive Shop', 'Harbor / Marina',\n",
       "       'Financial or Legal Service', 'Miscellaneous Shop',\n",
       "       'Fast Food Restaurant', 'Restaurant', 'Arts & Crafts Store',\n",
       "       'Train', 'Sandwich Place', 'Jewelry Store', 'Greek Restaurant',\n",
       "       'Video Store', 'Italian Restaurant', 'Pizza Place',\n",
       "       'Mexican Restaurant', 'Rental Car Location', 'Train Station',\n",
       "       'Breakfast Spot', 'Japanese Restaurant', 'Pharmacy', 'Coffee Shop',\n",
       "       'Farm', 'Field', 'High School', 'School', 'Factory',\n",
       "       'Historic Site', \"Dentist's Office\", 'Office', 'Post Office',\n",
       "       'Hotel', 'Veterinarian', 'Real Estate Office', 'Scenic Lookout',\n",
       "       'Auto Dealership', 'Donut Shop', 'Pet Store', 'Fire Station',\n",
       "       'College Soccer Field', 'College Gym', 'College Science Building',\n",
       "       'College Library', 'College Academic Building', 'Lake',\n",
       "       'Afghan Restaurant', 'College Administrative Building', 'Dog Run',\n",
       "       'Golf Course', 'City Hall', 'Flower Shop',\n",
       "       'Residential Building (Apartment / Condo)', 'Building', 'Motel',\n",
       "       'Laundry Service', 'Medical Center', 'College Lab', 'Boutique',\n",
       "       'Chiropractor', 'Event Space', 'Hospital', 'Bike Shop',\n",
       "       'Farmers Market', 'Trail', 'Hostel', 'Elementary School', 'Church',\n",
       "       'Bank', 'Assisted Living', 'Tech Startup', 'Nail Salon',\n",
       "       'Storage Facility', 'Hobby Shop', 'Pub', 'Shipping Store',\n",
       "       'Mountain', 'Boat or Ferry', 'General Entertainment', 'Pool',\n",
       "       'Camera Store', 'Taxi', 'Shrine', 'Coworking Space', 'Airport',\n",
       "       'Martial Arts Dojo', 'Bakery', 'Shopping Mall', \"Women's Store\",\n",
       "       'Movie Theater', 'Furniture / Home Store', 'Diner', 'Skate Park',\n",
       "       'Gym / Fitness Center', 'Student Center', 'Road',\n",
       "       'Sporting Goods Shop', 'Bus Station', 'CafÃ©', 'Gym',\n",
       "       'Electronics Store', 'Print Shop', 'Plaza', 'Art Gallery', 'Park',\n",
       "       'Gastropub', \"Doctor's Office\", 'Toy / Game Store', 'Tennis Court',\n",
       "       'Spa', 'BBQ Joint', 'Library', 'Salon / Barbershop',\n",
       "       'Other Great Outdoors', 'Baseball Field', 'Massage Studio',\n",
       "       'Cosmetics Shop', 'Candy Store', 'Skating Rink', 'Soup Place',\n",
       "       'Tanning Salon', 'Recycling Facility', 'Bus Line', 'Social Club',\n",
       "       'Mobile Phone Shop', 'Tattoo Parlor', 'Rental Service',\n",
       "       'Vape Store', 'Liquor Store', 'Physical Therapist',\n",
       "       'Advertising Agency', 'Outdoors & Recreation', 'Intersection',\n",
       "       'Campaign Office', 'Housing Development', 'Mattress Store',\n",
       "       'Sushi Restaurant', 'Daycare', 'Other Repair Shop', 'Bus Stop',\n",
       "       'Marijuana Dispensary', 'General College & University',\n",
       "       'Concert Hall', 'French Restaurant', 'Comfort Food Restaurant',\n",
       "       'Shop & Service', 'Government Building', 'General Travel',\n",
       "       'Brewery', 'Fish Market', 'Paper / Office Supplies Store',\n",
       "       'Health & Beauty Service', 'Food Court', 'Nightlife Spot',\n",
       "       'Radio Station', 'Luggage Store', 'Sports Club', 'Auto Garage',\n",
       "       'Courthouse', 'Optical Shop', 'Voting Booth', 'Ice Cream Shop',\n",
       "       'Police Station', 'IT Services', 'Recruiting Agency', 'Garden',\n",
       "       'Festival', 'Gift Shop', 'Lingerie Store', 'Zoo', 'Cocktail Bar',\n",
       "       'Funeral Home', 'Pet Service', 'Discount Store', 'Music School',\n",
       "       'Athletics & Sports', 'Auto Workshop', 'Meeting Room',\n",
       "       'Garden Center', 'Parking', 'Bistro', 'Surf Spot', 'Hot Spring',\n",
       "       'Department Store', 'Playground', 'Caribbean Restaurant',\n",
       "       'Dry Cleaner', 'Design Studio', 'Water Park', 'Food Truck',\n",
       "       'Theme Park', 'Travel Agency', 'Supermarket', 'Thai Restaurant',\n",
       "       'Hockey Arena', 'Music Venue', 'Casino', 'Travel Lounge',\n",
       "       'Non-Profit', 'Monument / Landmark', 'Bed & Breakfast',\n",
       "       'Community Center', 'Preschool', 'Butcher', 'Photography Lab',\n",
       "       'Construction & Landscaping', 'College Rec Center',\n",
       "       'Cajun / Creole Restaurant', 'Shoe Store', 'Turkish Restaurant',\n",
       "       'College Technology Building', 'Town Hall', 'Comedy Club',\n",
       "       'Dessert Shop', 'Falafel Restaurant', 'Latin American Restaurant',\n",
       "       'Bar', 'Car Wash', 'Cultural Center', 'College Auditorium',\n",
       "       'American Restaurant', 'Vietnamese Restaurant',\n",
       "       'Professional & Other Places', 'Pawn Shop', 'Clothing Store',\n",
       "       'Market', 'Alternative Healer', 'Business Service',\n",
       "       'Thrift / Vintage Store', 'Herbs & Spices Store',\n",
       "       'Accessories Store', 'Frame Store', 'Portuguese Restaurant',\n",
       "       'Deli / Bodega', 'Convention Center', 'Indoor Play Area',\n",
       "       'Conference Room', 'Big Box Store', 'Food & Drink Shop',\n",
       "       'Video Game Store', 'Public Art', 'Asian Restaurant',\n",
       "       'Middle Eastern Restaurant', 'Pastry Shop',\n",
       "       'Mediterranean Restaurant', 'Distribution Center', 'Sports Bar',\n",
       "       'Middle School', 'Beer Bar', 'Other Event', 'Bowling Alley',\n",
       "       'Trade School', 'Karaoke Bar', 'Mosque', 'Lounge', 'Gaming Cafe',\n",
       "       'Soccer Stadium', 'Swim School', 'Driving School',\n",
       "       'Tapas Restaurant', 'Tree', 'Mini Golf', \"Men's Store\",\n",
       "       'Gourmet Shop', 'Costume Shop', 'Salad Place', 'Bridal Shop',\n",
       "       'Soccer Field', 'Shoe Repair', 'Burger Joint', 'Beer Store',\n",
       "       'Hotel Bar', 'Insurance Office', 'ATM', 'Burrito Place',\n",
       "       'Poutine Place', 'Cheese Shop', 'Motorsports Shop', 'Cupcake Shop',\n",
       "       'Newsstand', 'Hot Dog Joint', 'Tea Room', 'Sausage Shop',\n",
       "       'Juice Bar', 'Record Shop', 'Chocolate Shop', 'Kids Store',\n",
       "       'Eye Doctor', 'Baby Store', 'Lottery Retailer',\n",
       "       'Vegetarian / Vegan Restaurant', 'Chinese Restaurant', 'Bookstore',\n",
       "       'Fabric Shop', 'Frozen Yogurt Shop', 'Emergency Room', 'Lawyer',\n",
       "       'Fraternity House', 'Dance Studio', 'Nursery School',\n",
       "       'Arts & Entertainment', 'Transportation Service', 'Metro Station',\n",
       "       'Mental Health Office', 'Indian Restaurant',\n",
       "       'College & University', 'Light Rail Station', 'Credit Union',\n",
       "       'Other Nightlife', 'Dive Bar', 'Smoke Shop',\n",
       "       'Performing Arts Venue', 'Strip Club', 'Laundromat', 'Port',\n",
       "       'Island', 'Spiritual Center', 'Tailor Shop', 'Tunnel', 'Cruise',\n",
       "       'Sake Bar', 'College Stadium', 'Business Center', 'Gay Bar',\n",
       "       'Tourist Information Center', 'Cemetery', 'Medical Lab',\n",
       "       'Wine Bar', 'Vineyard', 'Stables', 'College Classroom',\n",
       "       'Racetrack', 'Campground', 'Synagogue', 'Recreation Center',\n",
       "       'Health Food Store', 'Flea Market', 'Modern European Restaurant',\n",
       "       'College Quad', 'Football Stadium', 'Museum', 'College Cafeteria',\n",
       "       'Beach', 'Warehouse', 'Music Store', 'Ski Chalet', 'Ski Area',\n",
       "       'Science Museum', 'Cafeteria', 'Colombian Restaurant',\n",
       "       'History Museum', 'Fried Chicken Joint', 'Food Service',\n",
       "       'Hunting Supply', 'Bagel Shop', 'Gluten-free Restaurant',\n",
       "       'Moroccan Restaurant', 'Theater', 'Food', 'University',\n",
       "       'Fruit & Vegetable Store', 'Prison', 'Snack Place',\n",
       "       'Medical Supply Store', 'Zoo Exhibit', 'Lebanese Restaurant',\n",
       "       'Winery', 'Private School', 'College Arts Building',\n",
       "       'College Residence Hall', 'Arcade', 'Steakhouse', 'Hockey Field',\n",
       "       'Waste Facility', 'Seafood Restaurant', 'Airport Lounge',\n",
       "       'Outlet Mall', 'Bubble Tea Shop', 'Moving Target',\n",
       "       'Tennis Stadium', 'Tex-Mex Restaurant', 'Wine Shop',\n",
       "       'Supplement Shop', 'Stadium', 'Sculpture Garden', 'Event Service',\n",
       "       'Rock Club', 'Corporate Cafeteria', 'Shopping Plaza',\n",
       "       'Motorcycle Shop', 'Laboratory', 'Outdoor Supply Store',\n",
       "       'Rest Area', 'Speakeasy', 'Basketball Court', 'Pool Hall',\n",
       "       'Nightclub', 'Creperie', 'Currency Exchange', 'Acupuncturist',\n",
       "       'Amphitheater', 'Beer Garden', 'Resort', 'Military Base',\n",
       "       'Locksmith', 'Gymnastics Gym', 'Recording Studio', 'Board Shop',\n",
       "       'Baseball Stadium', 'Wings Joint', 'Lighting Store',\n",
       "       'EV Charging Station', 'Adult Boutique', 'Organic Grocery',\n",
       "       'Knitting Store', 'Forest', 'Home Service', 'Temple',\n",
       "       'Buddhist Temple', 'Plane', 'Tram Station', 'Kingdom Hall',\n",
       "       'Animal Shelter', 'College Bookstore', 'Indie Theater',\n",
       "       'Jazz Club', 'Airport Gate', 'Pier', 'Airport Service',\n",
       "       'Mac & Cheese Joint', 'Hookah Bar', 'Nature Preserve', 'Gym Pool',\n",
       "       'River', 'Halal Restaurant', 'Bike Rental / Bike Share',\n",
       "       'German Restaurant', 'Fish & Chips Shop', 'Lighthouse',\n",
       "       'Taco Place', 'Outdoor Sculpture', 'Fishing Store',\n",
       "       'New American Restaurant', 'Watch Shop', 'Souvenir Shop',\n",
       "       'Hotel Pool', 'College Theater', 'Platform', 'Club House',\n",
       "       'Antique Shop', 'Residence', 'Sikh Temple', 'Korean Restaurant',\n",
       "       'Community College', 'Multiplex', 'Buffet', 'Rock Climbing Spot',\n",
       "       'Industrial Estate', 'Gun Range', 'Rafting', 'Fishing Spot',\n",
       "       'Botanical Garden', 'Law School', 'Track', 'Trailer Park',\n",
       "       'Vacation Rental', 'Southern / Soul Food Restaurant',\n",
       "       'College Communications Building', 'Summer Camp', 'Go Kart Track',\n",
       "       'Czech Restaurant', 'Bath House', 'Paintball Field', 'Pie Shop',\n",
       "       'Dumpling Restaurant', 'Persian Restaurant', 'Floating Market',\n",
       "       'Airport Terminal', 'Irish Pub', 'Smoothie Shop',\n",
       "       'Border Crossing', 'Duty-free Shop', 'Travel & Transport',\n",
       "       'Curling Ice', 'Whisky Bar', 'Xinjiang Restaurant',\n",
       "       'Child Care Service', 'Adult Education Center',\n",
       "       'Theme Park Ride / Attraction', 'Swiss Restaurant', 'Noodle House',\n",
       "       'Embassy / Consulate', 'Christmas Market', 'Pilates Studio',\n",
       "       'Roller Rink', 'Maternity Clinic', 'Airport Tram', 'Taxi Stand',\n",
       "       'Baggage Claim', 'College Football Field', 'Mobility Store',\n",
       "       'Language School', 'Canal', 'Disc Golf', 'Szechuan Restaurant',\n",
       "       'Cricket Ground', 'Rehab Center', 'Auditorium', 'Pet CafÃ©',\n",
       "       'Peruvian Restaurant', 'Used Bookstore', 'Hawaiian Restaurant',\n",
       "       'Bike Trail', 'Taiwanese Restaurant', 'Theme Restaurant',\n",
       "       'Egyptian Restaurant', 'African Restaurant', 'Corporate Amenity',\n",
       "       'Ethiopian Restaurant', 'Exhibit', 'Outdoor Event Space',\n",
       "       'Street Art', 'Kebab Restaurant', 'Food Stand',\n",
       "       'Photography Studio', 'Art Studio', 'Medical School',\n",
       "       'Indie Movie Theater', 'Distillery', 'Boxing Gym',\n",
       "       'Cambodian Restaurant', 'Music Festival', 'Spanish Restaurant',\n",
       "       'Sporting Event', 'Well', 'Roof Deck', 'Notary', 'Climbing Gym',\n",
       "       'Russian Restaurant', 'Polish Restaurant', 'Australian Restaurant',\n",
       "       'Leather Goods Store', 'Satay Restaurant', 'Brasserie',\n",
       "       'Jewish Restaurant', 'Argentinian Restaurant', 'Ramen Restaurant',\n",
       "       'Internet Cafe', 'Malay Restaurant', 'Film Studio',\n",
       "       'Basketball Stadium', 'Cantonese Restaurant',\n",
       "       'Pakistani Restaurant', 'Kitchen Supply Store',\n",
       "       'North Indian Restaurant', 'Outlet Store', 'Brazilian Restaurant',\n",
       "       'Art Museum', 'Eastern European Restaurant', 'Tibetan Restaurant',\n",
       "       'Fair', 'Dim Sum Restaurant', 'English Restaurant',\n",
       "       'Shanghai Restaurant', 'Circus', 'Cycle Studio', 'Dive Spot',\n",
       "       'Hotpot Restaurant', 'Filipino Restaurant', 'Volleyball Court',\n",
       "       'Tiki Bar', 'Scandinavian Restaurant', 'Night Market',\n",
       "       'Sri Lankan Restaurant', 'Souvlaki Shop',\n",
       "       'College History Building', 'Sorority House', 'Memorial Site',\n",
       "       'College Engineering Building', 'Pedestrian Plaza',\n",
       "       'Belgian Restaurant', 'Street Food Gathering', 'Prayer Room',\n",
       "       'Conference', 'Ballroom', 'Doner Restaurant',\n",
       "       'South American Restaurant', 'TV Station', 'Track Stadium',\n",
       "       'Palace', 'Gun Shop', 'College Track', 'College Hockey Rink',\n",
       "       'Carpet Store', 'Dongbei Restaurant', 'Cooking School',\n",
       "       'Paella Restaurant', 'Capitol Building', 'Reservoir',\n",
       "       'College Basketball Court', 'Stationery Store',\n",
       "       'South Indian Restaurant', 'Racecourse', 'Cuban Restaurant',\n",
       "       'Fountain', 'Comic Shop', 'Shabu-Shabu Restaurant', 'Convention',\n",
       "       'Mongolian Restaurant', 'Drugstore', 'Poke Place',\n",
       "       'Fondue Restaurant', 'Urgent Care Center', 'Champagne Bar',\n",
       "       'Piano Bar', 'Entertainment Service', 'Country Dance Club',\n",
       "       'Boat Rental', 'Empanada Restaurant', 'Bay', 'Pop-Up Shop',\n",
       "       'Castle', 'Indonesian Restaurant', 'Corporate Coffee Shop',\n",
       "       'Laser Tag', 'Tour Provider', 'Monastery', 'Arepa Restaurant',\n",
       "       'Salvadoran Restaurant', 'Skate Shop', 'Toll Booth',\n",
       "       'Burmese Restaurant', 'Perfume Shop', 'Hindu Temple',\n",
       "       'Planetarium', 'Venezuelan Restaurant', 'College Math Building',\n",
       "       'Astrologer', 'National Park', 'Street Fair', 'Cave'], dtype=object)"
      ]
     },
     "execution_count": 8,
     "metadata": {},
     "output_type": "execute_result"
    }
   ],
   "source": [
    "# all categories\n",
    "mtl_pois['categories_name'].unique()"
   ]
  },
  {
   "cell_type": "code",
   "execution_count": 16,
   "metadata": {},
   "outputs": [
    {
     "data": {
      "text/plain": [
       "False    49696\n",
       "True      5894\n",
       "Name: verified, dtype: int64"
      ]
     },
     "execution_count": 16,
     "metadata": {},
     "output_type": "execute_result"
    }
   ],
   "source": [
    "# verified POIs or not\n",
    "mtl_pois.verified.value_counts()"
   ]
  },
  {
   "cell_type": "markdown",
   "metadata": {},
   "source": [
    "# Begin sub-categorising data"
   ]
  },
  {
   "cell_type": "code",
   "execution_count": 10,
   "metadata": {},
   "outputs": [
    {
     "data": {
      "text/plain": [
       "647"
      ]
     },
     "execution_count": 10,
     "metadata": {},
     "output_type": "execute_result"
    }
   ],
   "source": [
    "mtl_pois['categories_name'].nunique()"
   ]
  },
  {
   "cell_type": "code",
   "execution_count": 11,
   "metadata": {},
   "outputs": [],
   "source": [
    "sub_categories = ['restaurant','office','school','store','gym','train','library',\\\n",
    "                 'museum', 'stadium','shop','station','hotel','bar','venue','education',\\\n",
    "                 'salon', 'college','farm','pool']\n",
    "tricky_categories = {'parking':'parking', 'automotive shop': 'automotive shop',\\\n",
    "                    'barbershop':'salon', 'Shop & Service': 'automotive shop',\\\n",
    "                     'college library':'library','pub':'bar', 'public art':'museum',\\\n",
    "                     'police station':'police','theme park':'theme park',\\\n",
    "                    'tv station':'tv station', 'ev charging station':'charging station',\\\n",
    "                    'pharmacy':'shop','hostel':'hotel',\\\n",
    "                    'hotel pool':'pool','hotel bar':'bar','bus line':'station',\\\n",
    "                    'medical center':'healthcare','bakery':'shop','breakfast spot':'restaurant',\\\n",
    "                    'university':'college','general entertainment':'entertainment',\\\n",
    "                    'coworking space':'office','tech startup':'office'}"
   ]
  },
  {
   "cell_type": "code",
   "execution_count": 12,
   "metadata": {},
   "outputs": [],
   "source": [
    "def categorise_data(row, sub_categories):\n",
    "    ## returns new category with capitalize\n",
    "    if str(row).lower() in  tricky_categories.keys():\n",
    "        return tricky_categories[str(row).lower()].capitalize()\n",
    "    if 'store' in str(row).lower():\n",
    "        return 'Shop'\n",
    "    elif 'place' in str(row).lower() or 'joint' in str(row).lower() or 'caf' in str(row).lower()\\\n",
    "        or 'diner' in str(row).lower():\n",
    "        return 'Restaurant'\n",
    "    elif 'health' in str(row).lower() or 'clinic' in str(row).lower() or 'hospital' in str(row).lower():\n",
    "        return 'Healthcare'\n",
    "    elif 'church' in str(row).lower() or 'temple' in str(row).lower():\n",
    "        return 'Religious'\n",
    "    elif 'spot' in str(row).lower() or 'club' in str(row).lower() or 'boutique' in str(row).lower():\n",
    "        return 'Entertainment'\n",
    "    for sub_cat in sub_categories:\n",
    "        if sub_cat in str(row).lower():\n",
    "            return sub_cat.capitalize()\n",
    "    return row"
   ]
  },
  {
   "cell_type": "code",
   "execution_count": 13,
   "metadata": {},
   "outputs": [],
   "source": [
    "mtl_pois['sub_category'] = mtl_pois['categories_name'].apply(categorise_data, args=(sub_categories,))"
   ]
  },
  {
   "cell_type": "code",
   "execution_count": 14,
   "metadata": {},
   "outputs": [
    {
     "data": {
      "text/plain": [
       "304"
      ]
     },
     "execution_count": 14,
     "metadata": {},
     "output_type": "execute_result"
    }
   ],
   "source": [
    "mtl_pois['sub_category'].nunique()"
   ]
  },
  {
   "cell_type": "code",
   "execution_count": 15,
   "metadata": {},
   "outputs": [
    {
     "data": {
      "text/plain": [
       "Shop                                        12596\n",
       "Restaurant                                   7501\n",
       "Office                                       5155\n",
       "Station                                      1552\n",
       "Building                                     1513\n",
       "Residential Building (Apartment / Condo)     1259\n",
       "Entertainment                                1013\n",
       "Bar                                           960\n",
       "College                                       947\n",
       "School                                        909\n",
       "Park                                          902\n",
       "Automotive shop                               880\n",
       "Healthcare                                    817\n",
       "Bank                                          763\n",
       "Gym                                           708\n",
       "Bus Stop                                      507\n",
       "Religious                                     491\n",
       "Factory                                       476\n",
       "Road                                          434\n",
       "Spa                                           313\n",
       "Name: sub_category, dtype: int64"
      ]
     },
     "execution_count": 15,
     "metadata": {},
     "output_type": "execute_result"
    }
   ],
   "source": [
    "mtl_pois['sub_category'].value_counts()[:20]"
   ]
  },
  {
   "cell_type": "code",
   "execution_count": 17,
   "metadata": {},
   "outputs": [
    {
     "data": {
      "text/plain": [
       "Shop                      2386\n",
       "Restaurant                 912\n",
       "Station                    291\n",
       "Office                     253\n",
       "Bank                       204\n",
       "                          ... \n",
       "Moving Target                1\n",
       "Transportation Service       1\n",
       "Airport Service              1\n",
       "Daycare                      1\n",
       "Laser Tag                    1\n",
       "Name: sub_category, Length: 135, dtype: int64"
      ]
     },
     "execution_count": 17,
     "metadata": {},
     "output_type": "execute_result"
    }
   ],
   "source": [
    "mtl_pois.loc[mtl_pois.verified == True].sub_category.value_counts()"
   ]
  },
  {
   "cell_type": "markdown",
   "metadata": {},
   "source": [
    "# Turn data into shapefile"
   ]
  },
  {
   "cell_type": "code",
   "execution_count": null,
   "metadata": {},
   "outputs": [],
   "source": [
    "## get only verified for example\n",
    "ver_mtl_pois = mtl_pois.loc[mtl_pois.verified == True].reset_index()"
   ]
  },
  {
   "cell_type": "code",
   "execution_count": null,
   "metadata": {},
   "outputs": [],
   "source": [
    "# Turn lat, lon into Point and make the Geometry\n",
    "ver_mtl_pois['geometry'] = ver_mtl_pois.apply(lambda row: shapely.geometry.Point(row['lon'],row['lat']), axis=1)\n",
    "# make GeoDataFrame and change CRS\n",
    "ver_mtl_pois = gpd.GeoDataFrame(ver_mtl_pois)\n",
    "ver_mtl_pois.crs = {'init':'epsg:4326'}\n",
    "ver_mtl_pois = ver_mtl_pois.to_crs(CAN_LAM)"
   ]
  },
  {
   "cell_type": "code",
   "execution_count": null,
   "metadata": {},
   "outputs": [],
   "source": [
    "ver_mtl_pois.head(2)"
   ]
  },
  {
   "cell_type": "markdown",
   "metadata": {},
   "source": [
    "# Add buffer of 50 meters"
   ]
  },
  {
   "cell_type": "code",
   "execution_count": null,
   "metadata": {},
   "outputs": [],
   "source": [
    "ver_mtl_pois['geometry'] = ver_mtl_pois['geometry'].apply(lambda row: row.buffer(50))"
   ]
  },
  {
   "cell_type": "code",
   "execution_count": null,
   "metadata": {},
   "outputs": [],
   "source": [
    "start_points = gpd.GeoDataFrame(gdf[['id_trip','start_can']])\n",
    "start_points = start_points.rename(columns={'start_can':'geometry'})\n",
    "start_points['geometry'] = start_points['geometry'].apply(wkt.loads)\n",
    "\n",
    "end_points = gpd.GeoDataFrame(gdf[['id_trip','end_can']])\n",
    "end_points = end_points.rename(columns={'end_can':'geometry'})\n",
    "end_points['geometry'] = end_points['geometry'].apply(wkt.loads)"
   ]
  },
  {
   "cell_type": "markdown",
   "metadata": {},
   "source": [
    "# Merge data with buffer"
   ]
  },
  {
   "cell_type": "code",
   "execution_count": null,
   "metadata": {},
   "outputs": [],
   "source": [
    "poi_and_end = gpd.sjoin(end_points, ver_mtl_pois, how='left').groupby(['id_trip','sub_category']\\\n",
    "                                                                 ).agg({'sub_category':'count'})"
   ]
  },
  {
   "cell_type": "code",
   "execution_count": null,
   "metadata": {},
   "outputs": [],
   "source": [
    "poi_and_end.rename(columns={'sub_category':'count'})"
   ]
  },
  {
   "cell_type": "code",
   "execution_count": null,
   "metadata": {},
   "outputs": [],
   "source": [
    "unstacked_pois = poi_and_end.unstack()"
   ]
  },
  {
   "cell_type": "code",
   "execution_count": null,
   "metadata": {},
   "outputs": [],
   "source": [
    "unstacked_pois.fillna(0)"
   ]
  },
  {
   "cell_type": "code",
   "execution_count": null,
   "metadata": {},
   "outputs": [],
   "source": []
  }
 ],
 "metadata": {
  "kernelspec": {
   "display_name": "Python 3",
   "language": "python",
   "name": "python3"
  },
  "language_info": {
   "codemirror_mode": {
    "name": "ipython",
    "version": 3
   },
   "file_extension": ".py",
   "mimetype": "text/x-python",
   "name": "python",
   "nbconvert_exporter": "python",
   "pygments_lexer": "ipython3",
   "version": "3.7.3"
  }
 },
 "nbformat": 4,
 "nbformat_minor": 2
}
