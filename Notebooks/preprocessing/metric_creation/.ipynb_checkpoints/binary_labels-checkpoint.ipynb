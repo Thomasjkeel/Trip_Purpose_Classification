{
 "cells": [
  {
   "cell_type": "markdown",
   "metadata": {},
   "source": [
    "# Summary\n",
    "details the creation of Rush hour and City Labels"
   ]
  },
  {
   "cell_type": "code",
   "execution_count": 20,
   "metadata": {},
   "outputs": [],
   "source": [
    "import geopandas as gpd\n",
    "import matplotlib.pyplot as plt\n",
    "import numpy as np\n",
    "import sys\n",
    "import shapely\n",
    "sys.path.append('../../../Scripts/') # link to scripts\n",
    "import utils.spatial_utils\n",
    "%matplotlib inline"
   ]
  },
  {
   "cell_type": "code",
   "execution_count": 18,
   "metadata": {},
   "outputs": [],
   "source": [
    "CAN_LAM = {'init':'epsg:3347'}"
   ]
  },
  {
   "cell_type": "code",
   "execution_count": 4,
   "metadata": {},
   "outputs": [],
   "source": [
    "# path to the preprocessed MTL Trajet data \n",
    "path_2016 = \"../../../Data/mtl_trajet/mtl_trajet_2016_translated.shp\"\n",
    "path_2017 = \"../../../Data/mtl_trajet/mtl_trajet_2017_translated.shp\""
   ]
  },
  {
   "cell_type": "code",
   "execution_count": 5,
   "metadata": {},
   "outputs": [],
   "source": [
    "gdf_2016 = gpd.read_file(path_2016)\n",
    "gdf_2017 = gpd.read_file(path_2017) "
   ]
  },
  {
   "cell_type": "markdown",
   "metadata": {},
   "source": [
    "# Downtown"
   ]
  },
  {
   "cell_type": "code",
   "execution_count": 11,
   "metadata": {},
   "outputs": [],
   "source": [
    "## downtown\n",
    "mtl_regions = gpd.read_file('../../../Data/shapes/mtl_regions.json')\n",
    "city_of_montreal = mtl_regions.loc[(mtl_regions.AIRE > 0) & (mtl_regions.TYPE == 'Arrondissement')]"
   ]
  },
  {
   "cell_type": "markdown",
   "metadata": {},
   "source": [
    "## Get start and end points"
   ]
  },
  {
   "cell_type": "code",
   "execution_count": null,
   "metadata": {},
   "outputs": [],
   "source": [
    "%%time\n",
    "## calculate start and end points (WGS84)\n",
    "gdf_2016 = gdf_2016.to_crs(crs={'init':'epsg:4326'})\n",
    "gdf_2016['start_wgs'] =  gdf_2016.geometry.apply(utils.spatial_utils.get_point_from_linestring, X=0) \n",
    "gdf_2016['end_wgs'] =  gdf_2016.geometry.apply(utils.spatial_utils.get_point_from_linestring, X=-1) \n",
    "\n",
    "## calculate start and end points (Canada Lambert)\n",
    "gdf_2016 = gdf_2016.to_crs(CAN_LAM)\n",
    "gdf_2016['start_can'] =  gdf_2016.geometry.apply(utils.spatial_utils.get_point_from_linestring, X=0) \n",
    "gdf_2016['end_can'] =  gdf_2016.geometry.apply(utils.spatial_utils.get_point_from_linestring, X=-1) \n",
    "\n",
    "\n",
    "## calculate start and end points (WGS84)\n",
    "gdf_2017 = gdf_2017.to_crs(crs={'init':'epsg:4326'})\n",
    "gdf_2017['start_wgs'] =  gdf_2017.geometry.apply(utils.spatial_utils.get_point_from_linestring, X=0) \n",
    "gdf_2017['end_wgs'] =  gdf_2017.geometry.apply(utils.spatial_utils.get_point_from_linestring, X=-1) \n",
    "\n",
    "## calculate start and end points (Canada Lambert)\n",
    "gdf_2017 = gdf_2017.to_crs(CAN_LAM)\n",
    "gdf_2017['start_can'] =  gdf_2017.geometry.apply(utils.spatial_utils.get_point_from_linestring, X=0) \n",
    "gdf_2017['end_can'] =  gdf_2017.geometry.apply(utils.spatial_utils.get_point_from_linestring, X=-1) "
   ]
  },
  {
   "cell_type": "code",
   "execution_count": null,
   "metadata": {},
   "outputs": [],
   "source": [
    "%%time\n",
    "gdf_2016['start_downtown'] = gdf_2016['start_can'].apply(lambda row: any(city_of_montreal.intersects(row)))\n",
    "gdf_2016['end_downtown'] = gdf_2016['end_can'].apply(lambda row: any(city_of_montreal.intersects(row)))\n",
    "\n",
    "gdf_2017['start_downtown'] = gdf_2017['start_can'].apply(lambda row: any(city_of_montreal.intersects(row)))\n",
    "gdf_2017['end_downtown'] = gdf_2017['end_can'].apply(lambda row: any(city_of_montreal.intersects(row)))"
   ]
  },
  {
   "cell_type": "code",
   "execution_count": 13,
   "metadata": {},
   "outputs": [],
   "source": [
    "# # convert the point columns back into a Point class\n",
    "# %%time\n",
    "# gdf['start_wgs'] = gdf['start_wgs'].apply(shapely.wkt.loads)\n",
    "# gdf['start_can'] = gdf['start_can'].apply(shapely.wkt.loads)\n",
    "# gdf['end_wgs'] = gdf['end_wgs'].apply(shapely.wkt.loads)\n",
    "# gdf['end_can'] = gdf['end_can'].apply(shapely.wkt.loads)"
   ]
  },
  {
   "cell_type": "markdown",
   "metadata": {},
   "source": [
    "# Rush hour"
   ]
  },
  {
   "cell_type": "code",
   "execution_count": null,
   "metadata": {},
   "outputs": [],
   "source": [
    "gdf['weekday'] = gdf.starttime.apply(lambda dt: dt.dayofweek < 5)"
   ]
  },
  {
   "cell_type": "code",
   "execution_count": null,
   "metadata": {},
   "outputs": [],
   "source": []
  }
 ],
 "metadata": {
  "kernelspec": {
   "display_name": "Python 3",
   "language": "python",
   "name": "python3"
  },
  "language_info": {
   "codemirror_mode": {
    "name": "ipython",
    "version": 3
   },
   "file_extension": ".py",
   "mimetype": "text/x-python",
   "name": "python",
   "nbconvert_exporter": "python",
   "pygments_lexer": "ipython3",
   "version": "3.7.3"
  }
 },
 "nbformat": 4,
 "nbformat_minor": 2
}
