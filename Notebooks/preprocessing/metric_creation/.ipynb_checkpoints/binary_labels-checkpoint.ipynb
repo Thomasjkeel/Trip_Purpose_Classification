{
 "cells": [
  {
   "cell_type": "markdown",
   "metadata": {},
   "source": [
    "# Summary\n",
    "details the creation of Rush hour and City Labels"
   ]
  },
  {
   "cell_type": "code",
   "execution_count": 1,
   "metadata": {},
   "outputs": [],
   "source": [
    "import geopandas as gpd\n",
    "import matplotlib.pyplot as plt\n",
    "import numpy as np\n",
    "import sys\n",
    "import shapely\n",
    "sys.path.append('../../../Scripts/') # link to scripts\n",
    "import utils.spatial_utils\n",
    "%matplotlib inline"
   ]
  },
  {
   "cell_type": "code",
   "execution_count": 2,
   "metadata": {},
   "outputs": [],
   "source": [
    "CAN_LAM = {'init':'epsg:3347'}"
   ]
  },
  {
   "cell_type": "code",
   "execution_count": 3,
   "metadata": {},
   "outputs": [],
   "source": [
    "# path to the preprocessed MTL Trajet data \n",
    "path_2016 = \"../../../Data/mtl_trajet/mtl_trajet_2016_translated.shp\"\n",
    "path_2017 = \"../../../Data/mtl_trajet/mtl_trajet_2017_translated.shp\""
   ]
  },
  {
   "cell_type": "code",
   "execution_count": 4,
   "metadata": {},
   "outputs": [],
   "source": [
    "gdf_2016 = gpd.read_file(path_2016)\n",
    "gdf_2017 = gpd.read_file(path_2017) "
   ]
  },
  {
   "cell_type": "markdown",
   "metadata": {},
   "source": [
    "# Downtown"
   ]
  },
  {
   "cell_type": "code",
   "execution_count": 5,
   "metadata": {},
   "outputs": [],
   "source": [
    "## downtown\n",
    "mtl_regions = gpd.read_file('../../../Data/shapes/mtl_regions.json')\n",
    "city_of_montreal = mtl_regions.loc[(mtl_regions.AIRE > 0) & (mtl_regions.TYPE == 'Arrondissement')]"
   ]
  },
  {
   "cell_type": "markdown",
   "metadata": {},
   "source": [
    "## Get start and end points"
   ]
  },
  {
   "cell_type": "code",
   "execution_count": null,
   "metadata": {},
   "outputs": [],
   "source": [
    "%%time\n",
    "## calculate start and end points (WGS84)\n",
    "gdf_2016 = gdf_2016.to_crs(crs={'init':'epsg:4326'})\n",
    "gdf_2016['start_wgs'] =  gdf_2016.geometry.apply(utils.spatial_utils.get_point_from_linestring, X=0) \n",
    "gdf_2016['end_wgs'] =  gdf_2016.geometry.apply(utils.spatial_utils.get_point_from_linestring, X=-1) \n",
    "\n",
    "## calculate start and end points (Canada Lambert)\n",
    "gdf_2016 = gdf_2016.to_crs(CAN_LAM)\n",
    "gdf_2016['start_can'] =  gdf_2016.geometry.apply(utils.spatial_utils.get_point_from_linestring, X=0) \n",
    "gdf_2016['end_can'] =  gdf_2016.geometry.apply(utils.spatial_utils.get_point_from_linestring, X=-1) \n",
    "\n",
    "\n",
    "## calculate start and end points (WGS84)\n",
    "gdf_2017 = gdf_2017.to_crs(crs={'init':'epsg:4326'})\n",
    "gdf_2017['start_wgs'] =  gdf_2017.geometry.apply(utils.spatial_utils.get_point_from_linestring, X=0) \n",
    "gdf_2017['end_wgs'] =  gdf_2017.geometry.apply(utils.spatial_utils.get_point_from_linestring, X=-1) \n",
    "\n",
    "## calculate start and end points (Canada Lambert)\n",
    "gdf_2017 = gdf_2017.to_crs(CAN_LAM)\n",
    "gdf_2017['start_can'] =  gdf_2017.geometry.apply(utils.spatial_utils.get_point_from_linestring, X=0) \n",
    "gdf_2017['end_can'] =  gdf_2017.geometry.apply(utils.spatial_utils.get_point_from_linestring, X=-1) "
   ]
  },
  {
   "cell_type": "code",
   "execution_count": null,
   "metadata": {},
   "outputs": [],
   "source": [
    "%%time\n",
    "gdf_2016['start_downtown'] = gdf_2016['start_can'].apply(lambda row: any(city_of_montreal.intersects(row)))\n",
    "gdf_2016['end_downtown'] = gdf_2016['end_can'].apply(lambda row: any(city_of_montreal.intersects(row)))\n",
    "\n",
    "gdf_2017['start_downtown'] = gdf_2017['start_can'].apply(lambda row: any(city_of_montreal.intersects(row)))\n",
    "gdf_2017['end_downtown'] = gdf_2017['end_can'].apply(lambda row: any(city_of_montreal.intersects(row)))"
   ]
  },
  {
   "cell_type": "code",
   "execution_count": null,
   "metadata": {},
   "outputs": [],
   "source": [
    "print(gdf_2016.start_downtown.value_counts())\n",
    "print(gdf_2016.end_downtown.value_counts())\n",
    "\n",
    "print(gdf_2017.start_downtown.value_counts())\n",
    "print(gdf_2017.end_downtown.value_counts())"
   ]
  },
  {
   "cell_type": "code",
   "execution_count": 13,
   "metadata": {},
   "outputs": [],
   "source": [
    "# # convert the point columns back into a Point class\n",
    "# %%time\n",
    "# gdf['start_wgs'] = gdf['start_wgs'].apply(shapely.wkt.loads)\n",
    "# gdf['start_can'] = gdf['start_can'].apply(shapely.wkt.loads)\n",
    "# gdf['end_wgs'] = gdf['end_wgs'].apply(shapely.wkt.loads)\n",
    "# gdf['end_can'] = gdf['end_can'].apply(shapely.wkt.loads)"
   ]
  },
  {
   "cell_type": "markdown",
   "metadata": {},
   "source": [
    "# Rush hour"
   ]
  },
  {
   "cell_type": "code",
   "execution_count": null,
   "metadata": {},
   "outputs": [],
   "source": [
    "gdf_2016['weekday'] = gdf_2016.starttime.apply(lambda dt: dt.dayofweek < 5)\n",
    "gdf_2017['weekday'] = gdf.starttime.apply(lambda dt: dt.dayofweek < 5)"
   ]
  },
  {
   "cell_type": "code",
   "execution_count": null,
   "metadata": {},
   "outputs": [],
   "source": [
    "print(gdf_2016.weekday.value_counts())\n",
    "print(gdf_2017.weekday.value_counts())"
   ]
  },
  {
   "cell_type": "code",
   "execution_count": null,
   "metadata": {},
   "outputs": [],
   "source": [
    "rush_hour_times = {'morning_min':6,'morning_max':10,'evening_min':15, 'evening_max':19}\n",
    "def rushhour(row):\n",
    "    \"\"\"\n",
    "    function to find out whether trip is in rush hour or not\n",
    "    \"\"\"\n",
    "    start = False\n",
    "    end = False\n",
    "    through = False\n",
    "    if not row.weekday:\n",
    "        return start, end\n",
    "    \n",
    "    if row.starttime.hour >= rush_hour_times['morning_min'] and row.starttime.hour <= rush_hour_times['morning_max']\\\n",
    "    or row.starttime.hour >= rush_hour_times['evening_min'] and row.starttime.hour <= rush_hour_times['evening_max']:\n",
    "        start = True\n",
    "    if row.endtime.hour >= rush_hour_times['morning_min'] and row.endtime.hour <= rush_hour_times['morning_max']\\\n",
    "    or row.endtime.hour >= rush_hour_times['evening_min'] and row.endtime.hour <= rush_hour_times['evening_max']:\n",
    "        end = True\n",
    "        \n",
    "    # check if trip passed through rush hours  \n",
    "    if start and end:\n",
    "        if row.starttime.hour >= rush_hour_times['morning_min'] and row.endtime.hour <= rush_hour_times['morning_max']\\\n",
    "        or row.starttime.hour >= rush_hour_times['evening_min'] and row.endtime.hour <= rush_hour_times['evening_max']:\n",
    "            through = True\n",
    "        \n",
    "        \n",
    "    return start, end, through\n",
    "    "
   ]
  },
  {
   "cell_type": "code",
   "execution_count": null,
   "metadata": {},
   "outputs": [],
   "source": [
    "gdf_2016['stend_rh'] = gdf_2016.apply(rushhour, axis=1)\n",
    "gdf_2017['stend_rh'] = gdf_2017.apply(rushhour, axis=1)"
   ]
  },
  {
   "cell_type": "code",
   "execution_count": null,
   "metadata": {},
   "outputs": [],
   "source": [
    "gdf_rushhour_16 = gdf_2016['stend_rh'].apply(pd.Series)\n",
    "gdf_rushhour_17 = gdf_2017['stend_rh'].apply(pd.Series)"
   ]
  },
  {
   "cell_type": "code",
   "execution_count": null,
   "metadata": {},
   "outputs": [],
   "source": [
    "gdf_rushhour_16.columns = ['startrush', 'endrush', 'thrurush']\n",
    "gdf_rushhour_17.columns = ['startrush', 'endrush', 'thrurush']"
   ]
  },
  {
   "cell_type": "code",
   "execution_count": null,
   "metadata": {},
   "outputs": [],
   "source": [
    "gdf_2016 = pd.concat([gdf_2016, gdf_rushhour_16], axis=1)\n",
    "gdf_2017 = pd.concat([gdf_2017, gdf_rushhour_17], axis=1)"
   ]
  },
  {
   "cell_type": "code",
   "execution_count": null,
   "metadata": {},
   "outputs": [],
   "source": []
  }
 ],
 "metadata": {
  "kernelspec": {
   "display_name": "Python 3",
   "language": "python",
   "name": "python3"
  },
  "language_info": {
   "codemirror_mode": {
    "name": "ipython",
    "version": 3
   },
   "file_extension": ".py",
   "mimetype": "text/x-python",
   "name": "python",
   "nbconvert_exporter": "python",
   "pygments_lexer": "ipython3",
   "version": "3.7.3"
  }
 },
 "nbformat": 4,
 "nbformat_minor": 2
}
