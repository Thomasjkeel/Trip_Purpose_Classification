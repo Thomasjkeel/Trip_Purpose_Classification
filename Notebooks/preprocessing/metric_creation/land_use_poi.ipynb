{
 "cells": [
  {
   "cell_type": "markdown",
   "metadata": {},
   "source": [
    "# Land Use and POI join"
   ]
  },
  {
   "cell_type": "code",
   "execution_count": 24,
   "metadata": {},
   "outputs": [],
   "source": [
    "import geopandas as gpd\n",
    "import pandas as pd\n",
    "import numpy as np\n",
    "import matplotlib.pyplot as plt\n",
    "import datetime\n",
    "import shapely\n",
    "import sys\n",
    "sys.path.append('../../../Scripts/') # link to scripts\n",
    "import preprocessing.translate\n",
    "import utils.spatial_utils\n",
    "import utils.temporal_utils\n",
    "\n",
    "%matplotlib inline"
   ]
  },
  {
   "cell_type": "code",
   "execution_count": 6,
   "metadata": {},
   "outputs": [],
   "source": [
    "# GLOBALS\n",
    "CAN_LAM = {'init':'epsg:3347'}"
   ]
  },
  {
   "cell_type": "code",
   "execution_count": 7,
   "metadata": {},
   "outputs": [],
   "source": [
    "# path to the MTL Trajet data \n",
    "path_2016 = \"../../../Data/mtl_trajet/mtl_trajet_2016.shp\"\n",
    "path_2017 = \"../../../Data/mtl_trajet/trajets_mtl_trajet_2017.shp\""
   ]
  },
  {
   "cell_type": "code",
   "execution_count": 8,
   "metadata": {},
   "outputs": [
    {
     "name": "stdout",
     "output_type": "stream",
     "text": [
      "initialising crs\n",
      "translating data\n",
      "translating data\n"
     ]
    }
   ],
   "source": [
    "# translate and reproject data (see reprojection_timezone_and_translation notebook for details)\n",
    "gdf_2016 = preprocessing.translate.translate_data(path_2016)\n",
    "gdf_2017 = preprocessing.translate.translate_data(path_2017)\n",
    "\n",
    "# initalise the CRS\n",
    "if gdf_2016.crs == {}:\n",
    "    print(\"initialising crs\")\n",
    "    gdf_2016.crs = {'init': 'epsg:4326'}\n",
    "    \n",
    "if gdf_2017.crs == {}:\n",
    "    print(\"initialising crs\")\n",
    "    gdf_2017.crs = {'init': 'epsg:4326'}\n",
    "    \n",
    "# reproject data\n",
    "if not gdf_2016.crs == {'init': 'epsg:3347'}:\n",
    "    gdf_2016 = utils.spatial_utils.change_projection(gdf_2016)\n",
    "    \n",
    "if not gdf_2017.crs == {'init': 'epsg:3347'}:\n",
    "    gdf_2017 = utils.spatial_utils.change_projection(gdf_2017)"
   ]
  },
  {
   "cell_type": "code",
   "execution_count": 9,
   "metadata": {},
   "outputs": [],
   "source": [
    "mtl_land_use = gpd.read_file('../../../Data/supplementary_data/land_use/mtl_land_use.json')"
   ]
  },
  {
   "cell_type": "code",
   "execution_count": 11,
   "metadata": {},
   "outputs": [
    {
     "data": {
      "text/html": [
       "<div>\n",
       "<style scoped>\n",
       "    .dataframe tbody tr th:only-of-type {\n",
       "        vertical-align: middle;\n",
       "    }\n",
       "\n",
       "    .dataframe tbody tr th {\n",
       "        vertical-align: top;\n",
       "    }\n",
       "\n",
       "    .dataframe thead th {\n",
       "        text-align: right;\n",
       "    }\n",
       "</style>\n",
       "<table border=\"1\" class=\"dataframe\">\n",
       "  <thead>\n",
       "    <tr style=\"text-align: right;\">\n",
       "      <th></th>\n",
       "      <th>categorie</th>\n",
       "      <th>geometry</th>\n",
       "    </tr>\n",
       "  </thead>\n",
       "  <tbody>\n",
       "    <tr>\n",
       "      <th>0</th>\n",
       "      <td>mixed</td>\n",
       "      <td>(POLYGON Z ((7623249.762010538 1253009.9219910...</td>\n",
       "    </tr>\n",
       "    <tr>\n",
       "      <th>1</th>\n",
       "      <td>residential</td>\n",
       "      <td>(POLYGON Z ((7624215.607022332 1257355.0978382...</td>\n",
       "    </tr>\n",
       "    <tr>\n",
       "      <th>2</th>\n",
       "      <td>diversified activities</td>\n",
       "      <td>(POLYGON Z ((7624135.136503022 1252033.1915981...</td>\n",
       "    </tr>\n",
       "    <tr>\n",
       "      <th>3</th>\n",
       "      <td>diversified activities</td>\n",
       "      <td>(POLYGON Z ((7624481.967422946 1252054.1298312...</td>\n",
       "    </tr>\n",
       "    <tr>\n",
       "      <th>4</th>\n",
       "      <td>mixed</td>\n",
       "      <td>(POLYGON Z ((7624376.445011825 1252119.6806659...</td>\n",
       "    </tr>\n",
       "  </tbody>\n",
       "</table>\n",
       "</div>"
      ],
      "text/plain": [
       "                categorie                                           geometry\n",
       "0                   mixed  (POLYGON Z ((7623249.762010538 1253009.9219910...\n",
       "1             residential  (POLYGON Z ((7624215.607022332 1257355.0978382...\n",
       "2  diversified activities  (POLYGON Z ((7624135.136503022 1252033.1915981...\n",
       "3  diversified activities  (POLYGON Z ((7624481.967422946 1252054.1298312...\n",
       "4                   mixed  (POLYGON Z ((7624376.445011825 1252119.6806659..."
      ]
     },
     "execution_count": 11,
     "metadata": {},
     "output_type": "execute_result"
    }
   ],
   "source": [
    "mtl_land_use.head()"
   ]
  },
  {
   "cell_type": "code",
   "execution_count": 12,
   "metadata": {},
   "outputs": [],
   "source": [
    "mtl_land_use['area'] = mtl_land_use.geometry.area"
   ]
  },
  {
   "cell_type": "code",
   "execution_count": 13,
   "metadata": {},
   "outputs": [],
   "source": [
    "mtl_land_use_km2 = np.sqrt(mtl_land_use.groupby('categorie').agg({'area':'sum'})/1000)"
   ]
  },
  {
   "cell_type": "code",
   "execution_count": 14,
   "metadata": {},
   "outputs": [
    {
     "data": {
      "text/html": [
       "<div>\n",
       "<style scoped>\n",
       "    .dataframe tbody tr th:only-of-type {\n",
       "        vertical-align: middle;\n",
       "    }\n",
       "\n",
       "    .dataframe tbody tr th {\n",
       "        vertical-align: top;\n",
       "    }\n",
       "\n",
       "    .dataframe thead th {\n",
       "        text-align: right;\n",
       "    }\n",
       "</style>\n",
       "<table border=\"1\" class=\"dataframe\">\n",
       "  <thead>\n",
       "    <tr style=\"text-align: right;\">\n",
       "      <th></th>\n",
       "      <th>area</th>\n",
       "    </tr>\n",
       "    <tr>\n",
       "      <th>categorie</th>\n",
       "      <th></th>\n",
       "    </tr>\n",
       "  </thead>\n",
       "  <tbody>\n",
       "    <tr>\n",
       "      <th>agricultural</th>\n",
       "      <td>6.382143</td>\n",
       "    </tr>\n",
       "    <tr>\n",
       "      <th>conservation</th>\n",
       "      <td>8.853389</td>\n",
       "    </tr>\n",
       "    <tr>\n",
       "      <th>diversified activities</th>\n",
       "      <td>6.806435</td>\n",
       "    </tr>\n",
       "    <tr>\n",
       "      <th>employment</th>\n",
       "      <td>16.660439</td>\n",
       "    </tr>\n",
       "    <tr>\n",
       "      <th>infrastructure</th>\n",
       "      <td>8.120886</td>\n",
       "    </tr>\n",
       "    <tr>\n",
       "      <th>institution</th>\n",
       "      <td>5.196228</td>\n",
       "    </tr>\n",
       "    <tr>\n",
       "      <th>mixed</th>\n",
       "      <td>8.188347</td>\n",
       "    </tr>\n",
       "    <tr>\n",
       "      <th>park</th>\n",
       "      <td>9.089813</td>\n",
       "    </tr>\n",
       "    <tr>\n",
       "      <th>religious</th>\n",
       "      <td>2.843160</td>\n",
       "    </tr>\n",
       "    <tr>\n",
       "      <th>residential</th>\n",
       "      <td>27.859160</td>\n",
       "    </tr>\n",
       "  </tbody>\n",
       "</table>\n",
       "</div>"
      ],
      "text/plain": [
       "                             area\n",
       "categorie                        \n",
       "agricultural             6.382143\n",
       "conservation             8.853389\n",
       "diversified activities   6.806435\n",
       "employment              16.660439\n",
       "infrastructure           8.120886\n",
       "institution              5.196228\n",
       "mixed                    8.188347\n",
       "park                     9.089813\n",
       "religious                2.843160\n",
       "residential             27.859160"
      ]
     },
     "execution_count": 14,
     "metadata": {},
     "output_type": "execute_result"
    }
   ],
   "source": [
    "((mtl_land_use_km2 / mtl_land_use_km2.sum())*100)"
   ]
  },
  {
   "cell_type": "code",
   "execution_count": 18,
   "metadata": {},
   "outputs": [
    {
     "data": {
      "text/plain": [
       "<matplotlib.legend.Legend at 0x1193657f0>"
      ]
     },
     "execution_count": 18,
     "metadata": {},
     "output_type": "execute_result"
    },
    {
     "data": {
      "image/png": "[encoded data removed]",
      "text/plain": [
       "<Figure size 720x504 with 1 Axes>"
      ]
     },
     "metadata": {
      "needs_background": "light"
     },
     "output_type": "display_data"
    }
   ],
   "source": [
    "fig, ax = plt.subplots(1, figsize=(10,7))\n",
    "((mtl_land_use_km2 / mtl_land_use_km2.sum())*100).plot.barh(ax=ax)\n",
    "ax.invert_yaxis()\n",
    "ax.set_title(\"Land Use Categories\", size=22)\n",
    "ax.set_ylabel(\"Land Use Category\", size=20)\n",
    "plt.xticks(size=14)\n",
    "plt.yticks(size=14)\n",
    "ax.set_xlabel(\"Area (% of total)\", size=18)\n",
    "plt.legend([])"
   ]
  },
  {
   "cell_type": "code",
   "execution_count": 17,
   "metadata": {},
   "outputs": [
    {
     "data": {
      "text/plain": [
       "<matplotlib.legend.Legend at 0x1190b76d8>"
      ]
     },
     "execution_count": 17,
     "metadata": {},
     "output_type": "execute_result"
    },
    {
     "data": {
      "image/png": "[encoded data removed]",
      "text/plain": [
       "<Figure size 720x504 with 1 Axes>"
      ]
     },
     "metadata": {
      "needs_background": "light"
     },
     "output_type": "display_data"
    }
   ],
   "source": [
    "fig, ax = plt.subplots(1, figsize=(10,7))\n",
    "mtl_land_use_km2.plot.barh(ax=ax)\n",
    "ax.invert_yaxis()\n",
    "ax.set_title(\"Land Use Categories\", size=22)\n",
    "ax.set_ylabel(\"Land Use Category\", size=20)\n",
    "plt.xticks(size=14)\n",
    "plt.yticks(size=14)\n",
    "ax.set_xlabel(\"Area (km$^2$)\", size=18)\n",
    "plt.legend([])"
   ]
  },
  {
   "cell_type": "code",
   "execution_count": 20,
   "metadata": {},
   "outputs": [
    {
     "data": {
      "text/html": [
       "<div>\n",
       "<style scoped>\n",
       "    .dataframe tbody tr th:only-of-type {\n",
       "        vertical-align: middle;\n",
       "    }\n",
       "\n",
       "    .dataframe tbody tr th {\n",
       "        vertical-align: top;\n",
       "    }\n",
       "\n",
       "    .dataframe thead th {\n",
       "        text-align: right;\n",
       "    }\n",
       "</style>\n",
       "<table border=\"1\" class=\"dataframe\">\n",
       "  <thead>\n",
       "    <tr style=\"text-align: right;\">\n",
       "      <th></th>\n",
       "      <th>categorie</th>\n",
       "      <th>geometry</th>\n",
       "      <th>area</th>\n",
       "    </tr>\n",
       "  </thead>\n",
       "  <tbody>\n",
       "    <tr>\n",
       "      <th>0</th>\n",
       "      <td>mixed</td>\n",
       "      <td>(POLYGON Z ((7623249.762010538 1253009.9219910...</td>\n",
       "      <td>4.635218e+04</td>\n",
       "    </tr>\n",
       "    <tr>\n",
       "      <th>1</th>\n",
       "      <td>residential</td>\n",
       "      <td>(POLYGON Z ((7624215.607022332 1257355.0978382...</td>\n",
       "      <td>3.882296e+07</td>\n",
       "    </tr>\n",
       "    <tr>\n",
       "      <th>2</th>\n",
       "      <td>diversified activities</td>\n",
       "      <td>(POLYGON Z ((7624135.136503022 1252033.1915981...</td>\n",
       "      <td>2.706401e+04</td>\n",
       "    </tr>\n",
       "    <tr>\n",
       "      <th>3</th>\n",
       "      <td>diversified activities</td>\n",
       "      <td>(POLYGON Z ((7624481.967422946 1252054.1298312...</td>\n",
       "      <td>6.420532e+04</td>\n",
       "    </tr>\n",
       "    <tr>\n",
       "      <th>4</th>\n",
       "      <td>mixed</td>\n",
       "      <td>(POLYGON Z ((7624376.445011825 1252119.6806659...</td>\n",
       "      <td>2.775483e+05</td>\n",
       "    </tr>\n",
       "  </tbody>\n",
       "</table>\n",
       "</div>"
      ],
      "text/plain": [
       "                categorie                                           geometry  \\\n",
       "0                   mixed  (POLYGON Z ((7623249.762010538 1253009.9219910...   \n",
       "1             residential  (POLYGON Z ((7624215.607022332 1257355.0978382...   \n",
       "2  diversified activities  (POLYGON Z ((7624135.136503022 1252033.1915981...   \n",
       "3  diversified activities  (POLYGON Z ((7624481.967422946 1252054.1298312...   \n",
       "4                   mixed  (POLYGON Z ((7624376.445011825 1252119.6806659...   \n",
       "\n",
       "           area  \n",
       "0  4.635218e+04  \n",
       "1  3.882296e+07  \n",
       "2  2.706401e+04  \n",
       "3  6.420532e+04  \n",
       "4  2.775483e+05  "
      ]
     },
     "execution_count": 20,
     "metadata": {},
     "output_type": "execute_result"
    }
   ],
   "source": [
    "## check valid geometry\n",
    "valid_mtl_land_use = mtl_land_use.apply(lambda row: row if row['geometry'].is_valid else None, axis=1).dropna()\n",
    "valid_mtl_land_use.head()"
   ]
  },
  {
   "cell_type": "code",
   "execution_count": 21,
   "metadata": {},
   "outputs": [],
   "source": [
    "def get_land_use(row, mtl_land_use=valid_mtl_land_use):\n",
    "    ov_land_use = []\n",
    "    flatten = lambda l: [item for sublist in l for item in sublist]\n",
    "    if type(row['geometry']) == shapely.geometry.multilinestring.MultiLineString:\n",
    "        for row_ind in row['geometry']:\n",
    "            try:\n",
    "#                 if row['geometry'][row_ind].is_valid:\n",
    "                inter_geom = find_intersection(row_ind, mtl_land_use)\n",
    "                if inter_geom:\n",
    "                    ov_land_use.append(inter_geom)\n",
    "            except:\n",
    "                pass\n",
    "        return flatten(ov_land_use)\n",
    "    else:\n",
    "#         if row['geometry'].is_valid:\n",
    "        land_use = find_intersection(row['geometry'], mtl_land_use)\n",
    "        return land_use\n",
    "        \n",
    "def find_intersection(row_geom, mtl_land_use):\n",
    "    land_use = []\n",
    "    for i in mtl_land_use.iterrows(): \n",
    "#         if :\n",
    "            try:\n",
    "                if row_geom.intersects(i[1]['geometry']):\n",
    "                    intersect_land = gpd.sjoin(gpd.GeoDataFrame([row_geom], columns=['geometry']), gpd.GeoDataFrame([i[1]]), how='right', op='intersects')\n",
    "        #             intersect_land.dropna(subset=['id_trip'], inplace=True)\n",
    "                    land_use.append(list(intersect_land.categorie.values))\n",
    "            except:\n",
    "                pass\n",
    "    if len(land_use) > 0:\n",
    "        return list(list(zip(*land_use))[0])"
   ]
  },
  {
   "cell_type": "code",
   "execution_count": 22,
   "metadata": {},
   "outputs": [],
   "source": [
    "## takes a long time"
   ]
  },
  {
   "cell_type": "code",
   "execution_count": 26,
   "metadata": {},
   "outputs": [
    {
     "name": "stdout",
     "output_type": "stream",
     "text": [
      "CPU times: user 3min 1s, sys: 1.15 s, total: 3min 2s\n",
      "Wall time: 3min 12s\n"
     ]
    },
    {
     "data": {
      "text/plain": [
       "0                                           [residential]\n",
       "1       [residential, park, residential, residential, ...\n",
       "2                                    [residential, mixed]\n",
       "3       [diversified activities, mixed, mixed, residen...\n",
       "4                                           [residential]\n",
       "                              ...                        \n",
       "996                                                  None\n",
       "997                                                  None\n",
       "998                                  [residential, mixed]\n",
       "999     [residential, employment, employment, diversif...\n",
       "1000    [employment, employment, park, park, park, res...\n",
       "Length: 1001, dtype: object"
      ]
     },
     "execution_count": 26,
     "metadata": {},
     "output_type": "execute_result"
    }
   ],
   "source": [
    "%%time\n",
    "# 1000 rows == 3 mins\n",
    "gdf_2016.loc[:1000].apply(get_land_use, axis=1)"
   ]
  },
  {
   "cell_type": "code",
   "execution_count": null,
   "metadata": {},
   "outputs": [],
   "source": [
    "# %%time\n",
    "## takes 7 hours\n",
    "# gdf_2016['land_use'] = gdf_2016.apply(get_land_use, axis=1)"
   ]
  },
  {
   "cell_type": "code",
   "execution_count": null,
   "metadata": {},
   "outputs": [],
   "source": [
    "# %%time\n",
    "## takes 7 hours\n",
    "# gdf_2017['land_use'] = gdf_2017.apply(get_land_use, axis=1)"
   ]
  },
  {
   "cell_type": "code",
   "execution_count": null,
   "metadata": {},
   "outputs": [],
   "source": [
    "# gdf_2016.to_file('../../../Data/mtl_trajet/mtl_trajet_2016_landuse.shp', encoding='utf-8')\n",
    "# gdf_2017.to_file('../../../Data/mtl_trajet/mtl_trajet_2017_landuse.shp', encoding='utf-8')"
   ]
  },
  {
   "cell_type": "code",
   "execution_count": null,
   "metadata": {},
   "outputs": [],
   "source": []
  },
  {
   "cell_type": "markdown",
   "metadata": {},
   "source": [
    "# Point of Interest"
   ]
  },
  {
   "cell_type": "code",
   "execution_count": null,
   "metadata": {},
   "outputs": [],
   "source": []
  },
  {
   "cell_type": "code",
   "execution_count": null,
   "metadata": {},
   "outputs": [],
   "source": []
  },
  {
   "cell_type": "code",
   "execution_count": null,
   "metadata": {},
   "outputs": [],
   "source": []
  }
 ],
 "metadata": {
  "kernelspec": {
   "display_name": "Python 3",
   "language": "python",
   "name": "python3"
  },
  "language_info": {
   "codemirror_mode": {
    "name": "ipython",
    "version": 3
   },
   "file_extension": ".py",
   "mimetype": "text/x-python",
   "name": "python",
   "nbconvert_exporter": "python",
   "pygments_lexer": "ipython3",
   "version": "3.7.3"
  }
 },
 "nbformat": 4,
 "nbformat_minor": 2
}
