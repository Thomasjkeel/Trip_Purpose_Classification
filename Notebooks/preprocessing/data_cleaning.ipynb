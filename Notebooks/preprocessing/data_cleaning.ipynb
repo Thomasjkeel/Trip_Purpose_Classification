{
 "cells": [
  {
   "cell_type": "markdown",
   "metadata": {},
   "source": [
    "# Data Cleaning\n",
    "Note: Requires metrics to be created from the data first "
   ]
  },
  {
   "cell_type": "code",
   "execution_count": 1,
   "metadata": {},
   "outputs": [],
   "source": [
    "import geopandas as gpd\n",
    "import matplotlib.pyplot as plt\n",
    "\n",
    "%matplotlib inline"
   ]
  },
  {
   "cell_type": "code",
   "execution_count": 2,
   "metadata": {},
   "outputs": [],
   "source": [
    "# path to the preprocessed MTL Trajet data \n",
    "path_2016 = \"../../Data/mtl_trajet/mtl_trajet_2016_translated.shp\"\n",
    "path_2017 = \"../../Data/mtl_trajet/mtl_trajet_2017_translated.shp\""
   ]
  },
  {
   "cell_type": "code",
   "execution_count": null,
   "metadata": {},
   "outputs": [],
   "source": [
    "gdf_2016 = gpd.read_file(path_2016)\n",
    "gdf_2017 = gpd.read_file(path_2017) "
   ]
  },
  {
   "cell_type": "code",
   "execution_count": null,
   "metadata": {},
   "outputs": [],
   "source": [
    "gdf_2016"
   ]
  },
  {
   "cell_type": "markdown",
   "metadata": {},
   "source": [
    "# check type of geometry"
   ]
  },
  {
   "cell_type": "code",
   "execution_count": null,
   "metadata": {},
   "outputs": [],
   "source": [
    "gdf_2016['geometry'].apply(lambda row: type(row)).unique()\n",
    "gdf_2017['geometry'].apply(lambda row: type(row)).unique()"
   ]
  },
  {
   "cell_type": "markdown",
   "metadata": {},
   "source": [
    "## remove outliers\n",
    "50 m >= Distance <= 100 km  \n",
    "60 sec >= Duration <= 180 mins "
   ]
  },
  {
   "cell_type": "code",
   "execution_count": null,
   "metadata": {},
   "outputs": [],
   "source": [
    "# outlier removal\n",
    "gdf = gdf.loc[gdf.distance_m >= 50]\n",
    "gdf = gdf.loc[gdf.seconds >= 60]\n",
    "gdf = gdf.loc[gdf.distance_m <= 100000]\n",
    "gdf = gdf.loc[gdf.seconds <= 10800]\n",
    "gdf = gdf.dropna(subset=['mode'])\n",
    "gdf = gdf.reset_index(drop=True)"
   ]
  },
  {
   "cell_type": "code",
   "execution_count": null,
   "metadata": {},
   "outputs": [],
   "source": []
  }
 ],
 "metadata": {
  "kernelspec": {
   "display_name": "Python 3",
   "language": "python",
   "name": "python3"
  },
  "language_info": {
   "codemirror_mode": {
    "name": "ipython",
    "version": 3
   },
   "file_extension": ".py",
   "mimetype": "text/x-python",
   "name": "python",
   "nbconvert_exporter": "python",
   "pygments_lexer": "ipython3",
   "version": "3.7.3"
  }
 },
 "nbformat": 4,
 "nbformat_minor": 2
}
