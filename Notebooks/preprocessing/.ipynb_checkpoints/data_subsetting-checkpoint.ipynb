{
 "cells": [
  {
   "cell_type": "markdown",
   "metadata": {},
   "source": [
    "# Data Subsetting"
   ]
  },
  {
   "cell_type": "code",
   "execution_count": 3,
   "metadata": {},
   "outputs": [],
   "source": [
    "import geopandas as gpd\n",
    "import matplotlib.pyplot as plt\n",
    "\n",
    "%matplotlib inline"
   ]
  },
  {
   "cell_type": "code",
   "execution_count": 2,
   "metadata": {},
   "outputs": [],
   "source": [
    "# path to the preprocessed MTL Trajet data \n",
    "path_2016 = \"../../Data/mtl_trajet/mtl_trajet_2016_final.shp\"\n",
    "path_2017 = \"../../Data/mtl_trajet/trajets_mtl_trajet_2017_final.shp\""
   ]
  },
  {
   "cell_type": "code",
   "execution_count": null,
   "metadata": {},
   "outputs": [],
   "source": [
    "gdf_2016 = gpd.read_file(path_2016)\n",
    "gdf_2017 = gpd.read_file(path_2017) "
   ]
  },
  {
   "cell_type": "markdown",
   "metadata": {},
   "source": [
    "### Remove values not shared between 2016 and 2017"
   ]
  },
  {
   "cell_type": "code",
   "execution_count": null,
   "metadata": {},
   "outputs": [],
   "source": [
    "# create sets\n",
    "set_2016_md = set(gdf_2016['mode'].unique())\n",
    "set_2017_md = set(gdf_2017['mode'].unique())\n",
    "\n",
    "set_2016_pur = set(gdf_2016['purpose'].unique())\n",
    "set_2017_pur = set(gdf_2017['purpose'].unique())"
   ]
  },
  {
   "cell_type": "code",
   "execution_count": null,
   "metadata": {},
   "outputs": [],
   "source": [
    "mode_not_in_2016 = list(set_2017_md.difference(set_2016_md))\n",
    "purpose_not_in_2016 = list(set_2017_pur.difference(set_2016_pur))\n",
    "mode_not_in_2017 = list(set_2016_md.difference(set_2017_md))\n",
    "purpose_not_in_2017 = list(set_2016_pur.difference(set_2017_pur))"
   ]
  },
  {
   "cell_type": "code",
   "execution_count": null,
   "metadata": {},
   "outputs": [],
   "source": [
    "# mode values to drop\n",
    "len(gdf_2017.loc[(gdf_2017['mode'].apply(lambda row: row in mode_not_in_2016))])"
   ]
  },
  {
   "cell_type": "code",
   "execution_count": null,
   "metadata": {},
   "outputs": [],
   "source": [
    "# purpose values to drop\n",
    "len(gdf_2017.loc[(gdf_2017['purpose'].apply(lambda row: row in purpose_not_in_2016))])"
   ]
  },
  {
   "cell_type": "code",
   "execution_count": null,
   "metadata": {},
   "outputs": [],
   "source": [
    "purpose_not_in_2016"
   ]
  },
  {
   "cell_type": "code",
   "execution_count": null,
   "metadata": {},
   "outputs": [],
   "source": [
    "purpose_not_in_2017"
   ]
  },
  {
   "cell_type": "code",
   "execution_count": null,
   "metadata": {},
   "outputs": [],
   "source": [
    "mode_not_in_2016[:5] + ['...']"
   ]
  },
  {
   "cell_type": "code",
   "execution_count": null,
   "metadata": {},
   "outputs": [],
   "source": [
    "mode_not_in_2017"
   ]
  },
  {
   "cell_type": "code",
   "execution_count": null,
   "metadata": {},
   "outputs": [],
   "source": [
    "## total trips were multi-mode is chosen\n",
    "len(np.where(gdf_2017.dropna()['mode'].apply(lambda row: ',' in row))[0])"
   ]
  },
  {
   "cell_type": "code",
   "execution_count": null,
   "metadata": {},
   "outputs": [],
   "source": [
    "fig, (ax,ax2) = plt.subplots(1, 2, sharey=True, sharex=True)\n",
    "# plt.subplots_adjust(hspace=2.7)\n",
    "plt.suptitle(\"Purpose\", size=24)\n",
    "gdf_2016[gdf_2016['purpose'].apply(lambda row: row in list(set_2017_pur.intersection(set_2016_pur)))].groupby('purpose').agg({'purpose':'count'})['purpose'].plot(kind='barh', ax=ax)\n",
    "gdf_2017[gdf_2017['purpose'].apply(lambda row: row in list(set_2017_pur.intersection(set_2016_pur)))].groupby('purpose').agg({'purpose':'count'}).plot(kind='barh', ax=ax2, legend=False)\n",
    "ax.set_title(\"2016\")\n",
    "ax2.set_title(\"2017\")"
   ]
  },
  {
   "cell_type": "code",
   "execution_count": null,
   "metadata": {},
   "outputs": [],
   "source": [
    "fig, (ax,ax2) = plt.subplots(1, 2, sharey=True, sharex=True)\n",
    "plt.suptitle(\"Mode\", size=24)\n",
    "gdf_2016[gdf_2016['mode'].apply(lambda row: row in list(set_2017_md.intersection(set_2016_md)))].groupby('mode').agg({'purpose':'count'})['purpose'].plot(kind='barh', ax=ax)\n",
    "gdf_2017[gdf_2017['mode'].apply(lambda row: row in list(set_2017_md.intersection(set_2016_md)))].groupby('mode').agg({'purpose':'count'}).plot(kind='barh', ax=ax2, legend=False)\n",
    "ax.set_title(\"2016\")\n",
    "ax2.set_title(\"2017\")"
   ]
  },
  {
   "cell_type": "markdown",
   "metadata": {},
   "source": [
    "## Make Subset"
   ]
  },
  {
   "cell_type": "code",
   "execution_count": null,
   "metadata": {},
   "outputs": [],
   "source": [
    "## get all values where mode and purpose are in 2016 and 2017 and not None\n",
    "gdf_2016.loc[(gdf_2016['purpose'].apply(lambda row: row not in list(purpose_not_in_2017)))&\n",
    "             (gdf_2016['mode'].apply(lambda row: row not in list(mode_not_in_2017)))&\n",
    "             (gdf_2016['purpose'])&(gdf_2016['mode'])]"
   ]
  },
  {
   "cell_type": "code",
   "execution_count": null,
   "metadata": {},
   "outputs": [],
   "source": [
    "## get all values where mode and purpose are in 2016 and 2017 and not None\n",
    "gdf_2017.loc[(gdf_2017['purpose'].apply(lambda row: row not in list(purpose_not_in_2016)))&\n",
    "             (gdf_2017['mode'].apply(lambda row: row not in list(mode_not_in_2016)))&\n",
    "             (gdf_2017['purpose'])&(gdf_2017['mode'])]"
   ]
  },
  {
   "cell_type": "code",
   "execution_count": null,
   "metadata": {},
   "outputs": [],
   "source": []
  },
  {
   "cell_type": "code",
   "execution_count": null,
   "metadata": {},
   "outputs": [],
   "source": [
    "gdf_2016.set_index('starttime').index#.groupby(pd.Grouper(freq='1m')).count()"
   ]
  }
 ],
 "metadata": {
  "kernelspec": {
   "display_name": "Python 3",
   "language": "python",
   "name": "python3"
  },
  "language_info": {
   "codemirror_mode": {
    "name": "ipython",
    "version": 3
   },
   "file_extension": ".py",
   "mimetype": "text/x-python",
   "name": "python",
   "nbconvert_exporter": "python",
   "pygments_lexer": "ipython3",
   "version": "3.7.3"
  }
 },
 "nbformat": 4,
 "nbformat_minor": 2
}
