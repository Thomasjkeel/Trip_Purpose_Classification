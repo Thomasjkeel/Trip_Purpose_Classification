{
 "cells": [
  {
   "cell_type": "code",
   "execution_count": 73,
   "metadata": {},
   "outputs": [],
   "source": [
    "import geopandas as gpd\n",
    "from geopy.distance import geodesic\n",
    "import pandas as pd\n",
    "import numpy as np\n",
    "from shapely.geometry import shape \n",
    "import matplotlib.pyplot as plt\n",
    "import datetime\n",
    "import sys\n",
    "import iris\n",
    "sys.path.append('../../Scripts/') # link to scripts\n",
    "import preprocessing.translate   # import translation scripts from preprocessing\n",
    "import utils.spatial_utils\n",
    "import utils.temporal_utils\n",
    "import preprocessing.create_metrics\n",
    "\n",
    "%matplotlib inline"
   ]
  },
  {
   "cell_type": "code",
   "execution_count": 74,
   "metadata": {},
   "outputs": [],
   "source": [
    "# path to the MTL Trajet data \n",
    "path_2016 = \"../../Data/mtl_trajet/mtl_trajet_2016.shp\"\n",
    "path_2017 = \"../../Data/mtl_trajet/trajets_mtl_trajet_2017.shp\""
   ]
  },
  {
   "cell_type": "markdown",
   "metadata": {},
   "source": [
    "## Translate and re-project data"
   ]
  },
  {
   "cell_type": "code",
   "execution_count": null,
   "metadata": {},
   "outputs": [],
   "source": [
    "gdf_2016 = preprocessing.translate.translate_data(path_2016)\n",
    "gdf_2017 = preprocessing.translate.translate_data(path_2017)\n",
    "\n",
    "# initalise the CRS\n",
    "if gdf_2016.crs == {}:\n",
    "    print(\"initialising crs\")\n",
    "    gdf_2016.crs = {'init': 'epsg:4326'}\n",
    "    \n",
    "if gdf_2017.crs == {}:\n",
    "    print(\"initialising crs\")\n",
    "    gdf_2017.crs = {'init': 'epsg:4326'}"
   ]
  },
  {
   "cell_type": "code",
   "execution_count": null,
   "metadata": {},
   "outputs": [],
   "source": [
    "# calculate the bounding box \n",
    "used_data = gdf_2017\n",
    "for i in range(len(used_data)):\n",
    "    if i == 0:\n",
    "        min_lon, min_lat, max_lon, max_lat = used_data['geometry'][i].bounds\n",
    "    else:\n",
    "        lon1, lat1, lon2, lat2 = used_data['geometry'][i].bounds\n",
    "        if lon1 < min_lon:\n",
    "            min_lon = lon1\n",
    "        elif lat1 < min_lat:\n",
    "            min_lat = lat1\n",
    "        if lon1 > max_lon:\n",
    "            max_lon = lon2\n",
    "        elif lat1 > max_lat:\n",
    "            max_lat = lat2\n",
    "        "
   ]
  },
  {
   "cell_type": "code",
   "execution_count": null,
   "metadata": {},
   "outputs": [],
   "source": [
    "min_lon, min_lat, max_lon, max_lat"
   ]
  },
  {
   "cell_type": "code",
   "execution_count": null,
   "metadata": {},
   "outputs": [],
   "source": [
    "gdf_2017.plot()\n",
    "\n",
    "plt.xlim(min_lon,max_lon)\n",
    "plt.ylim(min_lat, max_lat)"
   ]
  },
  {
   "cell_type": "code",
   "execution_count": null,
   "metadata": {},
   "outputs": [],
   "source": [
    "min_lon, min_lat, max_lon, max_lat"
   ]
  },
  {
   "cell_type": "code",
   "execution_count": null,
   "metadata": {},
   "outputs": [],
   "source": [
    "# reproject data\n",
    "if not gdf_2016.crs == {'init': 'epsg:3347'}:\n",
    "    gdf_2016 = utils.spatial_utils.change_projection(gdf_2016)\n",
    "    \n",
    "if not gdf_2017.crs == {'init': 'epsg:3347'}:\n",
    "    gdf_2017 = utils.spatial_utils.change_projection(gdf_2017)"
   ]
  },
  {
   "cell_type": "code",
   "execution_count": null,
   "metadata": {},
   "outputs": [],
   "source": [
    "gdf_2016.head()"
   ]
  },
  {
   "cell_type": "code",
   "execution_count": null,
   "metadata": {},
   "outputs": [],
   "source": [
    "gdf_2017.head()"
   ]
  },
  {
   "cell_type": "code",
   "execution_count": 9,
   "metadata": {},
   "outputs": [
    {
     "name": "stdout",
     "output_type": "stream",
     "text": [
      "converting start and end timestamps to datetime objects\n",
      "converting start and end timestamps to datetime objects\n"
     ]
    }
   ],
   "source": [
    "# remove timezone \n",
    "gdf_2016 = utils.temporal_utils.remove_timezone(gdf_2016)\n",
    "gdf_2017 = utils.temporal_utils.remove_timezone(gdf_2017)"
   ]
  },
  {
   "cell_type": "markdown",
   "metadata": {},
   "source": [
    "## merge with weather data"
   ]
  },
  {
   "cell_type": "code",
   "execution_count": 10,
   "metadata": {},
   "outputs": [],
   "source": [
    "## see weather_data notebook for details"
   ]
  },
  {
   "cell_type": "code",
   "execution_count": 11,
   "metadata": {},
   "outputs": [],
   "source": [
    "weather_data = pd.read_csv(\"../../Data/supplementary_data/weather/mtl_temp_prec.csv\")"
   ]
  },
  {
   "cell_type": "code",
   "execution_count": 12,
   "metadata": {},
   "outputs": [],
   "source": [
    "weather_data['dt'] = weather_data['dt'].apply(pd.to_datetime)\n",
    "weather_data = weather_data.set_index('dt')"
   ]
  },
  {
   "cell_type": "code",
   "execution_count": 13,
   "metadata": {},
   "outputs": [],
   "source": [
    "def extract_weather_subset(row, weather_df):\n",
    "    assert type(weather_df.index) == pd.core.indexes.datetimes.DatetimeIndex, (\"the weather data needs a datetime index\")\n",
    "    \n",
    "    start = row['starttime']\n",
    "    end = row['endtime']\n",
    "    subset_weather = weather_df.loc[start.strftime(\"%Y-%m-%d %H:%M:%S\"):end.strftime(\"%Y-%m-%d %H:%M:%S\")]\n",
    "    if len(subset_weather) < 1:\n",
    "        start = start - datetime.timedelta(hours=1)\n",
    "        subset_weather = weather_df.loc[start.strftime(\"%Y-%m-%d %H:%M:%S\"):end.strftime(\"%Y-%m-%d %H:%M:%S\")]\n",
    "    return subset_weather\n",
    "\n",
    "def calc_mean_weather(subset):\n",
    "#     print(len(subset), \"hours worth of weather\")\n",
    "    return subset.precipitation.mean(), subset.temperature.mean()\n"
   ]
  },
  {
   "cell_type": "code",
   "execution_count": 14,
   "metadata": {},
   "outputs": [
    {
     "name": "stdout",
     "output_type": "stream",
     "text": [
      "CPU times: user 16min 9s, sys: 8.83 s, total: 16min 17s\n",
      "Wall time: 16min 17s\n"
     ]
    }
   ],
   "source": [
    "%%time\n",
    "## apply average weather for trip to each row\n",
    "## takes 15 mins\n",
    "gdf_2016['av_weather'] = gdf_2016.apply(lambda row: calc_mean_weather(extract_weather_subset(row, weather_data)), axis=1)\n",
    "gdf_2017['av_weather'] = gdf_2017.apply(lambda row: calc_mean_weather(extract_weather_subset(row, weather_data)), axis=1)\n"
   ]
  },
  {
   "cell_type": "code",
   "execution_count": 15,
   "metadata": {},
   "outputs": [],
   "source": [
    "temp_prec_16 = gdf_2016.av_weather.apply(pd.Series)\n",
    "temp_prec_16.columns = ['precip','temperature']\n",
    "\n",
    "temp_prec_17 = gdf_2017.av_weather.apply(pd.Series)\n",
    "temp_prec_17.columns = ['precip','temperature']"
   ]
  },
  {
   "cell_type": "code",
   "execution_count": 16,
   "metadata": {},
   "outputs": [],
   "source": [
    "gdf_2016 = pd.concat([gdf_2016,temp_prec_16], axis=1)\n",
    "gdf_2017 = pd.concat([gdf_2017,temp_prec_17], axis=1)"
   ]
  },
  {
   "cell_type": "code",
   "execution_count": 17,
   "metadata": {},
   "outputs": [
    {
     "data": {
      "text/html": [
       "<div>\n",
       "<style scoped>\n",
       "    .dataframe tbody tr th:only-of-type {\n",
       "        vertical-align: middle;\n",
       "    }\n",
       "\n",
       "    .dataframe tbody tr th {\n",
       "        vertical-align: top;\n",
       "    }\n",
       "\n",
       "    .dataframe thead th {\n",
       "        text-align: right;\n",
       "    }\n",
       "</style>\n",
       "<table border=\"1\" class=\"dataframe\">\n",
       "  <thead>\n",
       "    <tr style=\"text-align: right;\">\n",
       "      <th></th>\n",
       "      <th>id_trip</th>\n",
       "      <th>avg_speed</th>\n",
       "      <th>duration</th>\n",
       "      <th>mode</th>\n",
       "      <th>purpose</th>\n",
       "      <th>n_coord</th>\n",
       "      <th>segments</th>\n",
       "      <th>starttime</th>\n",
       "      <th>endtime</th>\n",
       "      <th>geometry</th>\n",
       "      <th>av_weather</th>\n",
       "      <th>precip</th>\n",
       "      <th>temperature</th>\n",
       "    </tr>\n",
       "  </thead>\n",
       "  <tbody>\n",
       "    <tr>\n",
       "      <th>0</th>\n",
       "      <td>1724206</td>\n",
       "      <td>4.4</td>\n",
       "      <td>460</td>\n",
       "      <td>walking</td>\n",
       "      <td>returning_home</td>\n",
       "      <td>12</td>\n",
       "      <td>[{\"id\": 1150192, \"source\": \"geobase_mtl\"}, {\"i...</td>\n",
       "      <td>2016-09-07 20:37:26</td>\n",
       "      <td>2016-09-07 20:37:26</td>\n",
       "      <td>LINESTRING (7628287.236741193 1247680.17623496...</td>\n",
       "      <td>(1.5039444824678503e-06, 28.012522481572827)</td>\n",
       "      <td>0.000002</td>\n",
       "      <td>28.012522</td>\n",
       "    </tr>\n",
       "    <tr>\n",
       "      <th>1</th>\n",
       "      <td>1724208</td>\n",
       "      <td>10.7</td>\n",
       "      <td>2146</td>\n",
       "      <td>combination</td>\n",
       "      <td>work</td>\n",
       "      <td>120</td>\n",
       "      <td>[{\"id\": 1140016, \"source\": \"geobase_mtl\"}, {\"i...</td>\n",
       "      <td>2016-09-08 07:43:23</td>\n",
       "      <td>2016-09-08 07:43:23</td>\n",
       "      <td>LINESTRING (7627830.06960756 1247172.275532002...</td>\n",
       "      <td>(0.0, 21.00729048861388)</td>\n",
       "      <td>0.000000</td>\n",
       "      <td>21.007290</td>\n",
       "    </tr>\n",
       "    <tr>\n",
       "      <th>2</th>\n",
       "      <td>1889461</td>\n",
       "      <td>15.4</td>\n",
       "      <td>447</td>\n",
       "      <td>public_transport</td>\n",
       "      <td>leisure</td>\n",
       "      <td>36</td>\n",
       "      <td>[{\"id\": 1390715, \"source\": \"geobase_mtl\"}, {\"i...</td>\n",
       "      <td>2016-09-08 19:46:14</td>\n",
       "      <td>2016-09-08 19:46:14</td>\n",
       "      <td>LINESTRING (7632055.840015979 1247584.15415876...</td>\n",
       "      <td>(0.0001343523737672367, 25.84488639333847)</td>\n",
       "      <td>0.000134</td>\n",
       "      <td>25.844886</td>\n",
       "    </tr>\n",
       "    <tr>\n",
       "      <th>3</th>\n",
       "      <td>1724219</td>\n",
       "      <td>16.8</td>\n",
       "      <td>591</td>\n",
       "      <td>car</td>\n",
       "      <td>returning_home</td>\n",
       "      <td>45</td>\n",
       "      <td>[{\"id\": 1210250, \"source\": \"geobase_mtl\"}, {\"i...</td>\n",
       "      <td>2016-09-08 21:41:37</td>\n",
       "      <td>2016-09-08 21:41:37</td>\n",
       "      <td>LINESTRING (7630236.131991102 1247926.25343475...</td>\n",
       "      <td>(0.00024012980236755996, 25.38936301243564)</td>\n",
       "      <td>0.000240</td>\n",
       "      <td>25.389363</td>\n",
       "    </tr>\n",
       "    <tr>\n",
       "      <th>4</th>\n",
       "      <td>2071985</td>\n",
       "      <td>6.9</td>\n",
       "      <td>279</td>\n",
       "      <td>combination</td>\n",
       "      <td>pick_up_drop_off</td>\n",
       "      <td>12</td>\n",
       "      <td>[{\"id\": 1140287, \"source\": \"geobase_mtl\"}, {\"i...</td>\n",
       "      <td>2016-09-09 16:49:12</td>\n",
       "      <td>2016-09-09 16:49:12</td>\n",
       "      <td>LINESTRING (7628479.883114187 1247193.3864914,...</td>\n",
       "      <td>(0.001389143386973931, 23.612509824599048)</td>\n",
       "      <td>0.001389</td>\n",
       "      <td>23.612510</td>\n",
       "    </tr>\n",
       "  </tbody>\n",
       "</table>\n",
       "</div>"
      ],
      "text/plain": [
       "   id_trip  avg_speed  duration              mode           purpose  n_coord  \\\n",
       "0  1724206        4.4       460           walking    returning_home       12   \n",
       "1  1724208       10.7      2146       combination              work      120   \n",
       "2  1889461       15.4       447  public_transport           leisure       36   \n",
       "3  1724219       16.8       591               car    returning_home       45   \n",
       "4  2071985        6.9       279       combination  pick_up_drop_off       12   \n",
       "\n",
       "                                            segments           starttime  \\\n",
       "0  [{\"id\": 1150192, \"source\": \"geobase_mtl\"}, {\"i... 2016-09-07 20:37:26   \n",
       "1  [{\"id\": 1140016, \"source\": \"geobase_mtl\"}, {\"i... 2016-09-08 07:43:23   \n",
       "2  [{\"id\": 1390715, \"source\": \"geobase_mtl\"}, {\"i... 2016-09-08 19:46:14   \n",
       "3  [{\"id\": 1210250, \"source\": \"geobase_mtl\"}, {\"i... 2016-09-08 21:41:37   \n",
       "4  [{\"id\": 1140287, \"source\": \"geobase_mtl\"}, {\"i... 2016-09-09 16:49:12   \n",
       "\n",
       "              endtime                                           geometry  \\\n",
       "0 2016-09-07 20:37:26  LINESTRING (7628287.236741193 1247680.17623496...   \n",
       "1 2016-09-08 07:43:23  LINESTRING (7627830.06960756 1247172.275532002...   \n",
       "2 2016-09-08 19:46:14  LINESTRING (7632055.840015979 1247584.15415876...   \n",
       "3 2016-09-08 21:41:37  LINESTRING (7630236.131991102 1247926.25343475...   \n",
       "4 2016-09-09 16:49:12  LINESTRING (7628479.883114187 1247193.3864914,...   \n",
       "\n",
       "                                     av_weather    precip  temperature  \n",
       "0  (1.5039444824678503e-06, 28.012522481572827)  0.000002    28.012522  \n",
       "1                      (0.0, 21.00729048861388)  0.000000    21.007290  \n",
       "2    (0.0001343523737672367, 25.84488639333847)  0.000134    25.844886  \n",
       "3   (0.00024012980236755996, 25.38936301243564)  0.000240    25.389363  \n",
       "4    (0.001389143386973931, 23.612509824599048)  0.001389    23.612510  "
      ]
     },
     "execution_count": 17,
     "metadata": {},
     "output_type": "execute_result"
    }
   ],
   "source": [
    "gdf_2016.head()"
   ]
  },
  {
   "cell_type": "code",
   "execution_count": 18,
   "metadata": {},
   "outputs": [
    {
     "data": {
      "text/html": [
       "<div>\n",
       "<style scoped>\n",
       "    .dataframe tbody tr th:only-of-type {\n",
       "        vertical-align: middle;\n",
       "    }\n",
       "\n",
       "    .dataframe tbody tr th {\n",
       "        vertical-align: top;\n",
       "    }\n",
       "\n",
       "    .dataframe thead th {\n",
       "        text-align: right;\n",
       "    }\n",
       "</style>\n",
       "<table border=\"1\" class=\"dataframe\">\n",
       "  <thead>\n",
       "    <tr style=\"text-align: right;\">\n",
       "      <th></th>\n",
       "      <th>id_trip</th>\n",
       "      <th>mode</th>\n",
       "      <th>purpose</th>\n",
       "      <th>starttime</th>\n",
       "      <th>endtime</th>\n",
       "      <th>geometry</th>\n",
       "      <th>av_weather</th>\n",
       "      <th>precip</th>\n",
       "      <th>temperature</th>\n",
       "    </tr>\n",
       "  </thead>\n",
       "  <tbody>\n",
       "    <tr>\n",
       "      <th>0</th>\n",
       "      <td>1547</td>\n",
       "      <td>None</td>\n",
       "      <td>None</td>\n",
       "      <td>2017-09-18 04:16:58</td>\n",
       "      <td>2017-09-18 04:16:58</td>\n",
       "      <td>LINESTRING (7624015.797731054 1247372.35912242...</td>\n",
       "      <td>(0.0, 18.951943514056154)</td>\n",
       "      <td>0.0</td>\n",
       "      <td>18.951944</td>\n",
       "    </tr>\n",
       "    <tr>\n",
       "      <th>1</th>\n",
       "      <td>308312</td>\n",
       "      <td>None</td>\n",
       "      <td>None</td>\n",
       "      <td>2017-09-18 06:17:46</td>\n",
       "      <td>2017-09-18 06:17:46</td>\n",
       "      <td>LINESTRING (7624029.565886395 1247375.82561127...</td>\n",
       "      <td>(0.0, 18.353765796400975)</td>\n",
       "      <td>0.0</td>\n",
       "      <td>18.353766</td>\n",
       "    </tr>\n",
       "    <tr>\n",
       "      <th>2</th>\n",
       "      <td>384772</td>\n",
       "      <td>None</td>\n",
       "      <td>None</td>\n",
       "      <td>2017-09-18 09:30:24</td>\n",
       "      <td>2017-09-18 09:30:24</td>\n",
       "      <td>(LINESTRING (7607307.107749194 1253237.7069476...</td>\n",
       "      <td>(0.0, 17.101756334982213)</td>\n",
       "      <td>0.0</td>\n",
       "      <td>17.101756</td>\n",
       "    </tr>\n",
       "    <tr>\n",
       "      <th>3</th>\n",
       "      <td>150744</td>\n",
       "      <td>car</td>\n",
       "      <td>pick_up_drop_off</td>\n",
       "      <td>2017-09-18 10:02:50</td>\n",
       "      <td>2017-09-18 10:02:50</td>\n",
       "      <td>LINESTRING (7624322.265039734 1247672.97005955...</td>\n",
       "      <td>(0.0, 16.910883638032313)</td>\n",
       "      <td>0.0</td>\n",
       "      <td>16.910884</td>\n",
       "    </tr>\n",
       "    <tr>\n",
       "      <th>4</th>\n",
       "      <td>199011</td>\n",
       "      <td>None</td>\n",
       "      <td>None</td>\n",
       "      <td>2017-09-18 10:18:40</td>\n",
       "      <td>2017-09-18 10:18:40</td>\n",
       "      <td>(LINESTRING (7616402.393582943 1246769.1996916...</td>\n",
       "      <td>(0.0, 16.910883638032313)</td>\n",
       "      <td>0.0</td>\n",
       "      <td>16.910884</td>\n",
       "    </tr>\n",
       "  </tbody>\n",
       "</table>\n",
       "</div>"
      ],
      "text/plain": [
       "   id_trip  mode           purpose           starttime             endtime  \\\n",
       "0     1547  None              None 2017-09-18 04:16:58 2017-09-18 04:16:58   \n",
       "1   308312  None              None 2017-09-18 06:17:46 2017-09-18 06:17:46   \n",
       "2   384772  None              None 2017-09-18 09:30:24 2017-09-18 09:30:24   \n",
       "3   150744   car  pick_up_drop_off 2017-09-18 10:02:50 2017-09-18 10:02:50   \n",
       "4   199011  None              None 2017-09-18 10:18:40 2017-09-18 10:18:40   \n",
       "\n",
       "                                            geometry  \\\n",
       "0  LINESTRING (7624015.797731054 1247372.35912242...   \n",
       "1  LINESTRING (7624029.565886395 1247375.82561127...   \n",
       "2  (LINESTRING (7607307.107749194 1253237.7069476...   \n",
       "3  LINESTRING (7624322.265039734 1247672.97005955...   \n",
       "4  (LINESTRING (7616402.393582943 1246769.1996916...   \n",
       "\n",
       "                  av_weather  precip  temperature  \n",
       "0  (0.0, 18.951943514056154)     0.0    18.951944  \n",
       "1  (0.0, 18.353765796400975)     0.0    18.353766  \n",
       "2  (0.0, 17.101756334982213)     0.0    17.101756  \n",
       "3  (0.0, 16.910883638032313)     0.0    16.910884  \n",
       "4  (0.0, 16.910883638032313)     0.0    16.910884  "
      ]
     },
     "execution_count": 18,
     "metadata": {},
     "output_type": "execute_result"
    }
   ],
   "source": [
    "gdf_2017.head()"
   ]
  },
  {
   "cell_type": "markdown",
   "metadata": {},
   "source": [
    "## Calculate distance, direction and duration"
   ]
  },
  {
   "cell_type": "code",
   "execution_count": 25,
   "metadata": {},
   "outputs": [
    {
     "name": "stdout",
     "output_type": "stream",
     "text": [
      "calculating distance\n",
      "calculating distance\n"
     ]
    }
   ],
   "source": [
    "if 'distance_m' not in gdf_2016.columns:\n",
    "    print(\"calculating distance\")\n",
    "    gdf_2016['distance_m'] = gdf_2016['geometry'].apply(lambda row: row.length)\n",
    "else:\n",
    "    print('distance already calculated')\n",
    "    \n",
    "\n",
    "if 'distance_m' not in gdf_2017.columns:\n",
    "    print(\"calculating distance\")\n",
    "    gdf_2017['distance_m'] = gdf_2017['geometry'].apply(lambda row: row.length)\n",
    "else:\n",
    "    print('distance already calculated')"
   ]
  },
  {
   "cell_type": "code",
   "execution_count": 29,
   "metadata": {},
   "outputs": [
    {
     "name": "stdout",
     "output_type": "stream",
     "text": [
      "duration already calculated\n",
      "duration already calculated\n"
     ]
    }
   ],
   "source": [
    "if 'duration' not in gdf_2016.columns:\n",
    "    gdf_2016['duration'] = pd.to_datetime(gdf_2016['endtime']) - pd.to_datetime(gdf_2016['starttime'])\n",
    "    gdf_2016['duration'] = gdf_2016['duration'].apply(lambda tm: tm.seconds)\n",
    "else:\n",
    "    print('duration already calculated')\n",
    "    \n",
    "if 'duration' not in gdf_2017.columns:\n",
    "    gdf_2017['duration'] = pd.to_datetime(gdf_2017['endtime']) - pd.to_datetime(gdf_2017['starttime'])\n",
    "    gdf_2017['duration'] = gdf_2017['duration'].apply(lambda tm: tm.seconds)\n",
    "else:\n",
    "    print('duration already calculated')"
   ]
  },
  {
   "cell_type": "code",
   "execution_count": 31,
   "metadata": {},
   "outputs": [
    {
     "name": "stdout",
     "output_type": "stream",
     "text": [
      "reprojecting data into WGS_84 for direction calculation\n",
      "calculating mean direction (may take 5-10 minutes)\n",
      "reprojecting data into WGS_84 for direction calculation\n",
      "calculating mean direction (may take 5-10 minutes)\n",
      "CPU times: user 13min 13s, sys: 13.6 s, total: 13min 27s\n",
      "Wall time: 14min 32s\n"
     ]
    }
   ],
   "source": [
    "%%time\n",
    "gdf_2016 = preprocessing.create_metrics.calc_direction(gdf_2016)\n",
    "gdf_2017 = preprocessing.create_metrics.calc_direction(gdf_2017)"
   ]
  },
  {
   "cell_type": "markdown",
   "metadata": {},
   "source": [
    "## Calculate Spatial and Temporal Clusters"
   ]
  },
  {
   "cell_type": "code",
   "execution_count": null,
   "metadata": {},
   "outputs": [],
   "source": []
  },
  {
   "cell_type": "code",
   "execution_count": null,
   "metadata": {},
   "outputs": [],
   "source": []
  },
  {
   "cell_type": "markdown",
   "metadata": {},
   "source": [
    "## Add Land Use and POI data"
   ]
  },
  {
   "cell_type": "code",
   "execution_count": null,
   "metadata": {},
   "outputs": [],
   "source": []
  },
  {
   "cell_type": "code",
   "execution_count": null,
   "metadata": {},
   "outputs": [],
   "source": []
  },
  {
   "cell_type": "markdown",
   "metadata": {},
   "source": [
    "## Add rush-hour and downtown labels"
   ]
  },
  {
   "cell_type": "code",
   "execution_count": null,
   "metadata": {},
   "outputs": [],
   "source": []
  },
  {
   "cell_type": "code",
   "execution_count": null,
   "metadata": {},
   "outputs": [],
   "source": []
  },
  {
   "cell_type": "markdown",
   "metadata": {},
   "source": [
    "## Clean & Subset data"
   ]
  },
  {
   "cell_type": "code",
   "execution_count": null,
   "metadata": {},
   "outputs": [],
   "source": []
  },
  {
   "cell_type": "markdown",
   "metadata": {},
   "source": [
    "## encode data"
   ]
  },
  {
   "cell_type": "code",
   "execution_count": null,
   "metadata": {},
   "outputs": [],
   "source": []
  },
  {
   "cell_type": "markdown",
   "metadata": {},
   "source": [
    "## save final preprocessed data"
   ]
  },
  {
   "cell_type": "code",
   "execution_count": null,
   "metadata": {},
   "outputs": [],
   "source": []
  },
  {
   "cell_type": "code",
   "execution_count": null,
   "metadata": {},
   "outputs": [],
   "source": [
    "# path to the preprocessed MTL Trajet data \n",
    "# path_final_2016 = \"../../Data/mtl_trajet/mtl_trajet_2016_final.shp\"\n",
    "# path_final_2017 = \"../../Data/mtl_trajet/trajets_mtl_trajet_2017_final.shp\""
   ]
  }
 ],
 "metadata": {
  "kernelspec": {
   "display_name": "Python 3",
   "language": "python",
   "name": "python3"
  },
  "language_info": {
   "codemirror_mode": {
    "name": "ipython",
    "version": 3
   },
   "file_extension": ".py",
   "mimetype": "text/x-python",
   "name": "python",
   "nbconvert_exporter": "python",
   "pygments_lexer": "ipython3",
   "version": "3.7.3"
  }
 },
 "nbformat": 4,
 "nbformat_minor": 2
}
