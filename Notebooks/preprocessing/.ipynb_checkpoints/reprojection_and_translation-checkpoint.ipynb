{
 "cells": [
  {
   "cell_type": "code",
   "execution_count": 2,
   "metadata": {},
   "outputs": [],
   "source": [
    "import geopandas as gpd\n",
    "import pandas as pd\n",
    "import numpy as np\n",
    "from shapely.geometry import shape \n",
    "import matplotlib.pyplot as plt\n",
    "import datetime\n",
    "import sys\n",
    "sys.path.append('../../Scripts/') # link to scripts\n",
    "import preprocessing.translate   # import translation scripts from preprocessing\n",
    "\n",
    "%matplotlib inline"
   ]
  },
  {
   "cell_type": "code",
   "execution_count": 3,
   "metadata": {},
   "outputs": [],
   "source": [
    "# path to the MTL Trajet data \n",
    "path_2016 = \"../../Data/mtl_trajet/mtl_trajet_2016.shp\"\n",
    "path_2017 = \"../../Data/mtl_trajet/trajets_mtl_trajet_2017.shp\""
   ]
  },
  {
   "cell_type": "code",
   "execution_count": 4,
   "metadata": {},
   "outputs": [],
   "source": [
    "############## Important ##############\n",
    "# Note: Script below is used to deal with raw MTL Trajet 2016 data ('trip final') and load into geopandas\n",
    "# Reason: the data cannot be loaded in because there are invalid geometries\n",
    "\n",
    "# ## FROM https://gis.stackexchange.com/questions/277231/geopandas-valueerror-a-linearring-must-have-at-least-3-coordinate-tuples\n",
    "# import json\n",
    "# import fiona\n",
    "# path_2016 = \"../CASA Projects/msc_dissertation_notebooks/app_route_data/MTL_Trajet_2016_SHP/trip_final/trip_final.shp\"\n",
    "# #Read data\n",
    "# collection = list(fiona.open(path_2016,'r'))\n",
    "# df1 = pd.DataFrame(collection)\n",
    "\n",
    "# #Check Geometry\n",
    "# def isvalid(geom):\n",
    "#     try:\n",
    "#         shape(geom)\n",
    "#         return 1\n",
    "#     except:\n",
    "#         return 0\n",
    "# df1['isvalid'] = df1['geometry'].apply(lambda x: isvalid(x))\n",
    "# df1 = df1[df1['isvalid'] == 1]\n",
    "# collection = json.loads(df1.to_json(orient='records'))\n",
    "\n",
    "# #Convert to geodataframe\n",
    "# gdf = gpd.GeoDataFrame.from_features(collection)\n",
    "\n",
    "## save the file\n",
    "# gdf.to_file(\"mtl_trajet/mtl_trajet_2016.shp\", encoding='utf-8')\n",
    "############## Important ##############"
   ]
  },
  {
   "cell_type": "markdown",
   "metadata": {},
   "source": [
    "### Translate the data"
   ]
  },
  {
   "cell_type": "code",
   "execution_count": 4,
   "metadata": {},
   "outputs": [],
   "source": [
    "gdf_2016 = preprocessing.translate.dataPreProcessing.translate_data(path_2016).data"
   ]
  },
  {
   "cell_type": "code",
   "execution_count": null,
   "metadata": {},
   "outputs": [],
   "source": [
    "gdf_2017 = preprocessing.translate.dataPreProcessing.translate_data(path_2017).data"
   ]
  },
  {
   "cell_type": "code",
   "execution_count": null,
   "metadata": {},
   "outputs": [],
   "source": [
    "print(len(gdf_2016.dropna(subset=['mode'])))\n",
    "print(len(gdf_2016.dropna(subset=['purpose'])))"
   ]
  },
  {
   "cell_type": "code",
   "execution_count": null,
   "metadata": {},
   "outputs": [],
   "source": [
    "print(len(gdf_2017.dropna(subset=['mode'])))\n",
    "print(len(gdf_2017.dropna(subset=['purpose'])))"
   ]
  },
  {
   "cell_type": "code",
   "execution_count": null,
   "metadata": {},
   "outputs": [],
   "source": [
    "gdf_2017['purpose'].value_counts()"
   ]
  },
  {
   "cell_type": "code",
   "execution_count": null,
   "metadata": {},
   "outputs": [],
   "source": [
    "gdf_2016['purpose'].value_counts()"
   ]
  },
  {
   "cell_type": "code",
   "execution_count": null,
   "metadata": {},
   "outputs": [],
   "source": [
    "gdf_2016['mode'].value_counts()"
   ]
  },
  {
   "cell_type": "code",
   "execution_count": null,
   "metadata": {},
   "outputs": [],
   "source": [
    "gdf_2017['mode'].value_counts()[:10]"
   ]
  },
  {
   "cell_type": "markdown",
   "metadata": {},
   "source": [
    "### Remove values not shared between 2016 and 2017"
   ]
  },
  {
   "cell_type": "code",
   "execution_count": null,
   "metadata": {},
   "outputs": [],
   "source": [
    "set_2016_md = set(gdf_2016['mode'].unique())\n",
    "set_2017_md = set(gdf_2017['mode'].unique())"
   ]
  },
  {
   "cell_type": "code",
   "execution_count": null,
   "metadata": {},
   "outputs": [],
   "source": [
    "set_2016_pur = set(gdf_2016['purpose'].unique())\n",
    "set_2017_pur = set(gdf_2017['purpose'].unique())"
   ]
  },
  {
   "cell_type": "code",
   "execution_count": null,
   "metadata": {},
   "outputs": [],
   "source": [
    "mode_not_in_2016 = list(set_2017_md.difference(set_2016_md))\n",
    "purpose_not_in_2016 = list(set_2017_pur.difference(set_2016_pur))\n",
    "mode_not_in_2017 = list(set_2016_md.difference(set_2017_md))\n",
    "purpose_not_in_2017 = list(set_2016_pur.difference(set_2017_pur))"
   ]
  },
  {
   "cell_type": "code",
   "execution_count": null,
   "metadata": {},
   "outputs": [],
   "source": [
    "# mode values to drop\n",
    "len(gdf_2017.loc[(gdf_2017['mode'].apply(lambda row: row in mode_not_in_2016))])"
   ]
  },
  {
   "cell_type": "code",
   "execution_count": null,
   "metadata": {},
   "outputs": [],
   "source": [
    "# purpose values to drop\n",
    "len(gdf_2017.loc[(gdf_2017['purpose'].apply(lambda row: row in purpose_not_in_2016))])"
   ]
  },
  {
   "cell_type": "code",
   "execution_count": null,
   "metadata": {},
   "outputs": [],
   "source": [
    "purpose_not_in_2017"
   ]
  },
  {
   "cell_type": "code",
   "execution_count": null,
   "metadata": {},
   "outputs": [],
   "source": [
    "purpose_not_in_2016"
   ]
  },
  {
   "cell_type": "code",
   "execution_count": null,
   "metadata": {
    "scrolled": true
   },
   "outputs": [],
   "source": [
    "mode_not_in_2016[:5] + ['...']"
   ]
  },
  {
   "cell_type": "code",
   "execution_count": null,
   "metadata": {},
   "outputs": [],
   "source": [
    "mode_not_in_2017"
   ]
  },
  {
   "cell_type": "code",
   "execution_count": null,
   "metadata": {},
   "outputs": [],
   "source": [
    "## total trips were multi-mode is chosen\n",
    "len(np.where(gdf_2017.dropna()['mode'].apply(lambda row: ',' in row))[0])"
   ]
  },
  {
   "cell_type": "code",
   "execution_count": null,
   "metadata": {},
   "outputs": [],
   "source": [
    "fig, (ax,ax2) = plt.subplots(1, 2, sharey=True, sharex=True)\n",
    "# plt.subplots_adjust(hspace=2.7)\n",
    "plt.suptitle(\"Purpose\", size=24)\n",
    "gdf_2016[gdf_2016['purpose'].apply(lambda row: row in list(set_2017_pur.intersection(set_2016_pur)))].groupby('purpose').agg({'purpose':'count'})['purpose'].plot(kind='barh', ax=ax)\n",
    "gdf_2017[gdf_2017['purpose'].apply(lambda row: row in list(set_2017_pur.intersection(set_2016_pur)))].groupby('purpose').agg({'purpose':'count'}).plot(kind='barh', ax=ax2, legend=False)\n",
    "ax.set_title(\"2016\")\n",
    "ax2.set_title(\"2017\")"
   ]
  },
  {
   "cell_type": "code",
   "execution_count": null,
   "metadata": {},
   "outputs": [],
   "source": [
    "fig, (ax,ax2) = plt.subplots(1, 2, sharey=True, sharex=True)\n",
    "plt.suptitle(\"Mode\", size=24)\n",
    "gdf_2016[gdf_2016['mode'].apply(lambda row: row in list(set_2017_md.intersection(set_2016_md)))].groupby('mode').agg({'purpose':'count'})['purpose'].plot(kind='barh', ax=ax)\n",
    "gdf_2017[gdf_2017['mode'].apply(lambda row: row in list(set_2017_md.intersection(set_2016_md)))].groupby('mode').agg({'purpose':'count'}).plot(kind='barh', ax=ax2, legend=False)\n",
    "ax.set_title(\"2016\")\n",
    "ax2.set_title(\"2017\")"
   ]
  },
  {
   "cell_type": "markdown",
   "metadata": {},
   "source": [
    "## Time zone changes"
   ]
  },
  {
   "cell_type": "code",
   "execution_count": null,
   "metadata": {},
   "outputs": [],
   "source": [
    "print(\"Min:\", gdf_2016.starttime.min(), \" Max:\", gdf_2016.starttime.max())\n",
    "print(\"Min:\", gdf_2017.starttime.min(), \" Max:\", gdf_2017.starttime.max())"
   ]
  },
  {
   "cell_type": "code",
   "execution_count": null,
   "metadata": {},
   "outputs": [],
   "source": [
    "gdf_2016['starttime'] = pd.to_datetime(gdf_2016['starttime'])\n",
    "gdf_2016['endtime'] = pd.to_datetime(gdf_2016['endtime'])\n",
    "gdf_2017['starttime'] = pd.to_datetime(gdf_2017['starttime'])\n",
    "gdf_2017['endtime'] = pd.to_datetime(gdf_2017['endtime'])"
   ]
  },
  {
   "cell_type": "code",
   "execution_count": null,
   "metadata": {},
   "outputs": [],
   "source": [
    "gdf_2016['starttime'].apply(lambda dt: dt.tzinfo).value_counts()\n",
    "# 2 time zones "
   ]
  },
  {
   "cell_type": "code",
   "execution_count": null,
   "metadata": {},
   "outputs": [],
   "source": [
    "gdf_2017['starttime'].apply(lambda dt: dt.tzinfo).value_counts()"
   ]
  },
  {
   "cell_type": "code",
   "execution_count": null,
   "metadata": {},
   "outputs": [],
   "source": [
    "## replace time zone\n",
    "gdf_2016['starttime'] = gdf_2016['starttime'].apply(lambda dt: dt.replace(tzinfo=None))\n",
    "gdf_2016['endtime'] = gdf_2017['starttime'].apply(lambda dt: dt.replace(tzinfo=None))\n",
    "gdf_2017['starttime'] = gdf_2016['endtime'].apply(lambda dt: dt.replace(tzinfo=None))\n",
    "gdf_2017['endtime'] = gdf_2017['endtime'].apply(lambda dt: dt.replace(tzinfo=None))"
   ]
  },
  {
   "cell_type": "code",
   "execution_count": null,
   "metadata": {},
   "outputs": [],
   "source": [
    "gdf_2016['starttime'].apply(lambda dt: dt.month).value_counts().plot(kind='bar')"
   ]
  },
  {
   "cell_type": "code",
   "execution_count": null,
   "metadata": {},
   "outputs": [],
   "source": [
    "gdf_2017['starttime'].apply(lambda a: a.month).value_counts().plot(kind='bar')"
   ]
  },
  {
   "cell_type": "code",
   "execution_count": null,
   "metadata": {},
   "outputs": [],
   "source": [
    "print(\"Months for 2016:\\n\", gdf_2016['starttime'].apply(lambda a: a.month).value_counts(), \"\\n\")\n",
    "print(\"Months for 2017:\\n\", gdf_2017['starttime'].apply(lambda a: a.month).value_counts())"
   ]
  },
  {
   "cell_type": "markdown",
   "metadata": {},
   "source": [
    "## make subset"
   ]
  },
  {
   "cell_type": "code",
   "execution_count": null,
   "metadata": {},
   "outputs": [],
   "source": [
    "## get all values where mode and purpose are in 2016 and 2017 and not None\n",
    "gdf_2016.loc[(gdf_2016['purpose'].apply(lambda row: row not in list(purpose_not_in_2017)))&\n",
    "             (gdf_2016['mode'].apply(lambda row: row not in list(mode_not_in_2017)))&\n",
    "             (gdf_2016['purpose'])&(gdf_2016['mode'])]"
   ]
  },
  {
   "cell_type": "code",
   "execution_count": null,
   "metadata": {
    "scrolled": true
   },
   "outputs": [],
   "source": [
    "## get all values where mode and purpose are in 2016 and 2017 and not None\n",
    "gdf_2017.loc[(gdf_2017['purpose'].apply(lambda row: row not in list(purpose_not_in_2016)))&\n",
    "             (gdf_2017['mode'].apply(lambda row: row not in list(mode_not_in_2016)))&\n",
    "             (gdf_2017['purpose'])&(gdf_2017['mode'])]"
   ]
  },
  {
   "cell_type": "code",
   "execution_count": null,
   "metadata": {
    "scrolled": true
   },
   "outputs": [],
   "source": [
    "gdf_2016.set_index('starttime').index#.groupby(pd.Grouper(freq='1m')).count()"
   ]
  },
  {
   "cell_type": "code",
   "execution_count": null,
   "metadata": {},
   "outputs": [],
   "source": [
    "gdf_2016.starttime.min(),gdf_2016.starttime.max()"
   ]
  },
  {
   "cell_type": "code",
   "execution_count": null,
   "metadata": {},
   "outputs": [],
   "source": [
    "gdf_2017.starttime.min(),gdf_2017.starttime.max()"
   ]
  },
  {
   "cell_type": "code",
   "execution_count": null,
   "metadata": {},
   "outputs": [],
   "source": []
  }
 ],
 "metadata": {
  "kernelspec": {
   "display_name": "Python 3",
   "language": "python",
   "name": "python3"
  },
  "language_info": {
   "codemirror_mode": {
    "name": "ipython",
    "version": 3
   },
   "file_extension": ".py",
   "mimetype": "text/x-python",
   "name": "python",
   "nbconvert_exporter": "python",
   "pygments_lexer": "ipython3",
   "version": "3.7.3"
  }
 },
 "nbformat": 4,
 "nbformat_minor": 2
}
