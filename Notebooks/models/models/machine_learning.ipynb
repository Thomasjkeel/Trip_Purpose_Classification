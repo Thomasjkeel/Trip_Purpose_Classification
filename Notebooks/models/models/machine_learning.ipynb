{
 "cells": [
  {
   "cell_type": "markdown",
   "metadata": {},
   "source": [
    "# Machine Learning Models\n",
    "The following classification models are carried out here:\n",
    "    1. Random Forest\n",
    "    2. Support Vector Machines\n",
    "    3. Feed-forward Neural Networks"
   ]
  },
  {
   "cell_type": "code",
   "execution_count": 1,
   "metadata": {
    "scrolled": true
   },
   "outputs": [
    {
     "name": "stderr",
     "output_type": "stream",
     "text": [
      "Using TensorFlow backend.\n",
      "/Applications/anaconda/envs/st-ds/lib/python3.7/site-packages/tensorflow/python/framework/dtypes.py:516: FutureWarning: Passing (type, 1) or '1type' as a synonym of type is deprecated; in a future version of numpy, it will be understood as (type, (1,)) / '(1,)type'.\n",
      "  _np_qint8 = np.dtype([(\"qint8\", np.int8, 1)])\n",
      "/Applications/anaconda/envs/st-ds/lib/python3.7/site-packages/tensorflow/python/framework/dtypes.py:517: FutureWarning: Passing (type, 1) or '1type' as a synonym of type is deprecated; in a future version of numpy, it will be understood as (type, (1,)) / '(1,)type'.\n",
      "  _np_quint8 = np.dtype([(\"quint8\", np.uint8, 1)])\n",
      "/Applications/anaconda/envs/st-ds/lib/python3.7/site-packages/tensorflow/python/framework/dtypes.py:518: FutureWarning: Passing (type, 1) or '1type' as a synonym of type is deprecated; in a future version of numpy, it will be understood as (type, (1,)) / '(1,)type'.\n",
      "  _np_qint16 = np.dtype([(\"qint16\", np.int16, 1)])\n",
      "/Applications/anaconda/envs/st-ds/lib/python3.7/site-packages/tensorflow/python/framework/dtypes.py:519: FutureWarning: Passing (type, 1) or '1type' as a synonym of type is deprecated; in a future version of numpy, it will be understood as (type, (1,)) / '(1,)type'.\n",
      "  _np_quint16 = np.dtype([(\"quint16\", np.uint16, 1)])\n",
      "/Applications/anaconda/envs/st-ds/lib/python3.7/site-packages/tensorflow/python/framework/dtypes.py:520: FutureWarning: Passing (type, 1) or '1type' as a synonym of type is deprecated; in a future version of numpy, it will be understood as (type, (1,)) / '(1,)type'.\n",
      "  _np_qint32 = np.dtype([(\"qint32\", np.int32, 1)])\n",
      "/Applications/anaconda/envs/st-ds/lib/python3.7/site-packages/tensorflow/python/framework/dtypes.py:525: FutureWarning: Passing (type, 1) or '1type' as a synonym of type is deprecated; in a future version of numpy, it will be understood as (type, (1,)) / '(1,)type'.\n",
      "  np_resource = np.dtype([(\"resource\", np.ubyte, 1)])\n",
      "/Applications/anaconda/envs/st-ds/lib/python3.7/site-packages/tensorboard/compat/tensorflow_stub/dtypes.py:541: FutureWarning: Passing (type, 1) or '1type' as a synonym of type is deprecated; in a future version of numpy, it will be understood as (type, (1,)) / '(1,)type'.\n",
      "  _np_qint8 = np.dtype([(\"qint8\", np.int8, 1)])\n",
      "/Applications/anaconda/envs/st-ds/lib/python3.7/site-packages/tensorboard/compat/tensorflow_stub/dtypes.py:542: FutureWarning: Passing (type, 1) or '1type' as a synonym of type is deprecated; in a future version of numpy, it will be understood as (type, (1,)) / '(1,)type'.\n",
      "  _np_quint8 = np.dtype([(\"quint8\", np.uint8, 1)])\n",
      "/Applications/anaconda/envs/st-ds/lib/python3.7/site-packages/tensorboard/compat/tensorflow_stub/dtypes.py:543: FutureWarning: Passing (type, 1) or '1type' as a synonym of type is deprecated; in a future version of numpy, it will be understood as (type, (1,)) / '(1,)type'.\n",
      "  _np_qint16 = np.dtype([(\"qint16\", np.int16, 1)])\n",
      "/Applications/anaconda/envs/st-ds/lib/python3.7/site-packages/tensorboard/compat/tensorflow_stub/dtypes.py:544: FutureWarning: Passing (type, 1) or '1type' as a synonym of type is deprecated; in a future version of numpy, it will be understood as (type, (1,)) / '(1,)type'.\n",
      "  _np_quint16 = np.dtype([(\"quint16\", np.uint16, 1)])\n",
      "/Applications/anaconda/envs/st-ds/lib/python3.7/site-packages/tensorboard/compat/tensorflow_stub/dtypes.py:545: FutureWarning: Passing (type, 1) or '1type' as a synonym of type is deprecated; in a future version of numpy, it will be understood as (type, (1,)) / '(1,)type'.\n",
      "  _np_qint32 = np.dtype([(\"qint32\", np.int32, 1)])\n",
      "/Applications/anaconda/envs/st-ds/lib/python3.7/site-packages/tensorboard/compat/tensorflow_stub/dtypes.py:550: FutureWarning: Passing (type, 1) or '1type' as a synonym of type is deprecated; in a future version of numpy, it will be understood as (type, (1,)) / '(1,)type'.\n",
      "  np_resource = np.dtype([(\"resource\", np.ubyte, 1)])\n"
     ]
    }
   ],
   "source": [
    "import pandas as pd\n",
    "import geopandas as gpd\n",
    "import shapely\n",
    "import matplotlib.pyplot as plt\n",
    "import numpy as np\n",
    "import seaborn as sns\n",
    "import collections\n",
    "import sklearn\n",
    "import sklearn.preprocessing\n",
    "import sklearn.model_selection\n",
    "import sklearn.ensemble\n",
    "import sklearn.multioutput\n",
    "import sklearn.neural_network\n",
    "import eli5\n",
    "from eli5.sklearn import PermutationImportance\n",
    "from sklearn.feature_selection import SelectFromModel\n",
    "from sklearn.cluster import KMeans\n",
    "\n",
    "\n",
    "%matplotlib inline"
   ]
  },
  {
   "cell_type": "markdown",
   "metadata": {},
   "source": [
    "# 1. Load in data"
   ]
  },
  {
   "cell_type": "code",
   "execution_count": 4,
   "metadata": {},
   "outputs": [],
   "source": [
    "X_16 = pd.read_csv('../../../Data/model_inputs/gdf_2016_X.csv')\n",
    "y_16 = pd.read_csv('../../../Data/model_inputs/gdf_2016_y.csv')\n",
    "X_17 = pd.read_csv('../../../Data/model_inputs/gdf_2017_X.csv')\n",
    "y_17 = pd.read_csv('../../../Data/model_inputs/gdf_2017_y.csv')"
   ]
  },
  {
   "cell_type": "code",
   "execution_count": 5,
   "metadata": {},
   "outputs": [
    {
     "name": "stdout",
     "output_type": "stream",
     "text": [
      "changing booleans to numbers\n"
     ]
    }
   ],
   "source": [
    "def boolean_to_num(row):\n",
    "    if row:\n",
    "        return 1\n",
    "    else:\n",
    "        return 0\n",
    "if not type(X_16['downtown_s'][0]) == np.int64:\n",
    "    print('changing booleans to numbers')\n",
    "    for col in ['downtown_s','downtown_e','morning','midday','afternoon','evening','midnight']:\n",
    "        X_16[col] = X_16[col].apply(boolean_to_num)\n",
    "        X_17[col] = X_17[col].apply(boolean_to_num)"
   ]
  },
  {
   "cell_type": "markdown",
   "metadata": {},
   "source": [
    "##### Dependent variable class sizes\n",
    "Purpose: {'leisure': 0, 'food_drink': 1, 'shops': 2, 'pick_up_drop_off': 3, 'education': 4, 'health': 5}\n",
    "Mode: {'walking': 0, 'public_transport': 1, 'car': 2, 'cycling': 3, 'public_transport, car': 4, 'other': 5}"
   ]
  },
  {
   "cell_type": "code",
   "execution_count": 6,
   "metadata": {
    "scrolled": false
   },
   "outputs": [
    {
     "name": "stdout",
     "output_type": "stream",
     "text": [
      "Dependent variable class sizes 2016:\n"
     ]
    },
    {
     "data": {
      "text/plain": [
       "0    7430\n",
       "1    5790\n",
       "2    5682\n",
       "3    2473\n",
       "4    2262\n",
       "5    2168\n",
       "Name: purpose, dtype: int64"
      ]
     },
     "execution_count": 6,
     "metadata": {},
     "output_type": "execute_result"
    }
   ],
   "source": [
    "print('Dependent variable class sizes 2016:')\n",
    "y_16['purpose'].value_counts()"
   ]
  },
  {
   "cell_type": "code",
   "execution_count": 7,
   "metadata": {},
   "outputs": [
    {
     "name": "stdout",
     "output_type": "stream",
     "text": [
      "Dependent variable class sizes 2017:\n"
     ]
    },
    {
     "data": {
      "text/plain": [
       "0    8049\n",
       "2    7723\n",
       "1    2714\n",
       "4    2175\n",
       "3    1379\n",
       "5     908\n",
       "Name: purpose, dtype: int64"
      ]
     },
     "execution_count": 7,
     "metadata": {},
     "output_type": "execute_result"
    }
   ],
   "source": [
    "print('Dependent variable class sizes 2017:')\n",
    "y_17['purpose'].value_counts()"
   ]
  },
  {
   "cell_type": "code",
   "execution_count": 8,
   "metadata": {},
   "outputs": [
    {
     "data": {
      "text/plain": [
       "<matplotlib.axes._subplots.AxesSubplot at 0x103d902e8>"
      ]
     },
     "execution_count": 8,
     "metadata": {},
     "output_type": "execute_result"
    },
    {
     "data": {
      "image/png": "[encoded data removed]",
      "text/plain": [
       "<Figure size 1296x576 with 2 Axes>"
      ]
     },
     "metadata": {
      "needs_background": "light"
     },
     "output_type": "display_data"
    }
   ],
   "source": [
    "ax, fig = plt.subplots(1, figsize=(18,8))\n",
    "sns.heatmap(X_16.corr(), cmap='Blues', annot=True)"
   ]
  },
  {
   "cell_type": "markdown",
   "metadata": {},
   "source": [
    "# 2. Setup model\n",
    "#### Section Overview:\n",
    "2.1  Split data into training and testing  \n",
    "2.2  Remove trip ID's from train/test data  \n",
    "2.3  Calculate p_nearby"
   ]
  },
  {
   "cell_type": "code",
   "execution_count": 9,
   "metadata": {},
   "outputs": [],
   "source": [
    "combined_X = pd.concat([X_16, X_17],axis=0)\n",
    "combined_y = pd.concat([y_16, y_17],axis=0)\n",
    "combined_X.reset_index(drop=True, inplace=True)\n",
    "combined_y.reset_index(drop=True, inplace=True)"
   ]
  },
  {
   "cell_type": "code",
   "execution_count": 10,
   "metadata": {
    "scrolled": true
   },
   "outputs": [
    {
     "data": {
      "text/plain": [
       "67583      1\n",
       "3196210    1\n",
       "2379075    1\n",
       "23873      1\n",
       "2598206    1\n",
       "          ..\n",
       "3488209    1\n",
       "2013826    1\n",
       "3580545    1\n",
       "2271872    1\n",
       "466134     1\n",
       "Name: id_trip, Length: 48753, dtype: int64"
      ]
     },
     "execution_count": 10,
     "metadata": {},
     "output_type": "execute_result"
    }
   ],
   "source": [
    "# check for no duplicates\n",
    "combined_X.id_trip.value_counts()"
   ]
  },
  {
   "cell_type": "code",
   "execution_count": 11,
   "metadata": {},
   "outputs": [
    {
     "data": {
      "text/plain": [
       "0    15479\n",
       "2    13405\n",
       "1     8504\n",
       "4     4437\n",
       "3     3852\n",
       "5     3076\n",
       "Name: purpose, dtype: int64"
      ]
     },
     "execution_count": 11,
     "metadata": {},
     "output_type": "execute_result"
    }
   ],
   "source": [
    "# check for no duplicates\n",
    "combined_y.purpose.value_counts()"
   ]
  },
  {
   "cell_type": "code",
   "execution_count": 12,
   "metadata": {},
   "outputs": [],
   "source": [
    "# define main data\n",
    "all_X = combined_X.copy()\n",
    "all_y = combined_y.copy()"
   ]
  },
  {
   "cell_type": "markdown",
   "metadata": {},
   "source": [
    "### 2.1 Split data into training and testing"
   ]
  },
  {
   "cell_type": "code",
   "execution_count": 13,
   "metadata": {},
   "outputs": [],
   "source": [
    "def normalise(X, to_normalize):\n",
    "    \"\"\"\n",
    "        Feature scaling method.\n",
    "        Normalises an array between 0–1 using the Z-score\n",
    "        (i - min) / (max - min)\n",
    "    \"\"\"\n",
    "    for col in X.columns[to_normalize]:\n",
    "        row_min = X[col].min()\n",
    "        row_max = X[col].max()\n",
    "        X[col] = X[col].apply(lambda row: (row - row_min)/(row_max - row_min))\n",
    "    return X\n",
    "    \n",
    "\n",
    "def model_setup(X, y, test_size=0.33, norm=False, to_normalise=[]):\n",
    "    \"\"\"\n",
    "        All operations needed for preparing the model inputs.\n",
    "        Can apply normalisation and then will apply the train/test split\n",
    "    \"\"\"\n",
    "    if norm:\n",
    "        X = normalise(X, to_normalise)\n",
    "    X_train, X_test, y_train, y_test = sklearn.model_selection.train_test_split(X, y, test_size=test_size,\\\n",
    "                                                                                random_state=42, stratify=y)\n",
    "    return X_train, X_test, y_train, y_test    "
   ]
  },
  {
   "cell_type": "markdown",
   "metadata": {},
   "source": [
    "##### IMPORTANT\n",
    "Train Test Split for encoded and non-encoded"
   ]
  },
  {
   "cell_type": "code",
   "execution_count": 14,
   "metadata": {},
   "outputs": [],
   "source": [
    "non_categorical_features = [False,False,True,True,True,False,False,False,False,False,True,\\\n",
    "                        True,False,False,False,False,False,False,False,False,False,False,False,False]"
   ]
  },
  {
   "cell_type": "code",
   "execution_count": 15,
   "metadata": {},
   "outputs": [
    {
     "data": {
      "text/plain": [
       "Index(['duration', 'distance_m', 'magnitude', 'precip', 'temp'], dtype='object')"
      ]
     },
     "execution_count": 15,
     "metadata": {},
     "output_type": "execute_result"
    }
   ],
   "source": [
    "all_X.columns[non_categorical_features]"
   ]
  },
  {
   "cell_type": "code",
   "execution_count": 16,
   "metadata": {},
   "outputs": [],
   "source": [
    "# Train Test Split\n",
    "X_train, X_test, y_train, y_test  = model_setup(all_X, all_y, norm=True, test_size=0.33, to_normalise=non_categorical_features)\n",
    "\n"
   ]
  },
  {
   "cell_type": "code",
   "execution_count": 17,
   "metadata": {},
   "outputs": [
    {
     "data": {
      "text/html": [
       "<div>\n",
       "<style scoped>\n",
       "    .dataframe tbody tr th:only-of-type {\n",
       "        vertical-align: middle;\n",
       "    }\n",
       "\n",
       "    .dataframe tbody tr th {\n",
       "        vertical-align: top;\n",
       "    }\n",
       "\n",
       "    .dataframe thead th {\n",
       "        text-align: right;\n",
       "    }\n",
       "</style>\n",
       "<table border=\"1\" class=\"dataframe\">\n",
       "  <thead>\n",
       "    <tr style=\"text-align: right;\">\n",
       "      <th></th>\n",
       "      <th>id_trip</th>\n",
       "      <th>mode</th>\n",
       "      <th>duration</th>\n",
       "      <th>distance_m</th>\n",
       "      <th>magnitude</th>\n",
       "      <th>carddir</th>\n",
       "      <th>downtown_s</th>\n",
       "      <th>downtown_e</th>\n",
       "      <th>weekday</th>\n",
       "      <th>temp_clus</th>\n",
       "      <th>...</th>\n",
       "      <th>endx</th>\n",
       "      <th>endy</th>\n",
       "      <th>hour</th>\n",
       "      <th>morning</th>\n",
       "      <th>midday</th>\n",
       "      <th>afternoon</th>\n",
       "      <th>evening</th>\n",
       "      <th>midnight</th>\n",
       "      <th>land_use_s</th>\n",
       "      <th>land_use_e</th>\n",
       "    </tr>\n",
       "  </thead>\n",
       "  <tbody>\n",
       "    <tr>\n",
       "      <th>13051</th>\n",
       "      <td>3592784</td>\n",
       "      <td>2</td>\n",
       "      <td>0.015505</td>\n",
       "      <td>0.015059</td>\n",
       "      <td>0.935970</td>\n",
       "      <td>3</td>\n",
       "      <td>1</td>\n",
       "      <td>1</td>\n",
       "      <td>1</td>\n",
       "      <td>1</td>\n",
       "      <td>...</td>\n",
       "      <td>7.629632e+06</td>\n",
       "      <td>1.252537e+06</td>\n",
       "      <td>16</td>\n",
       "      <td>0</td>\n",
       "      <td>0</td>\n",
       "      <td>1</td>\n",
       "      <td>0</td>\n",
       "      <td>0</td>\n",
       "      <td>1</td>\n",
       "      <td>1</td>\n",
       "    </tr>\n",
       "    <tr>\n",
       "      <th>37551</th>\n",
       "      <td>152350</td>\n",
       "      <td>2</td>\n",
       "      <td>0.048111</td>\n",
       "      <td>0.034086</td>\n",
       "      <td>0.169275</td>\n",
       "      <td>0</td>\n",
       "      <td>0</td>\n",
       "      <td>0</td>\n",
       "      <td>1</td>\n",
       "      <td>4</td>\n",
       "      <td>...</td>\n",
       "      <td>7.620944e+06</td>\n",
       "      <td>1.265901e+06</td>\n",
       "      <td>23</td>\n",
       "      <td>0</td>\n",
       "      <td>0</td>\n",
       "      <td>0</td>\n",
       "      <td>0</td>\n",
       "      <td>1</td>\n",
       "      <td>1</td>\n",
       "      <td>1</td>\n",
       "    </tr>\n",
       "    <tr>\n",
       "      <th>7582</th>\n",
       "      <td>1959960</td>\n",
       "      <td>2</td>\n",
       "      <td>0.156737</td>\n",
       "      <td>0.138435</td>\n",
       "      <td>0.677456</td>\n",
       "      <td>11</td>\n",
       "      <td>1</td>\n",
       "      <td>0</td>\n",
       "      <td>0</td>\n",
       "      <td>4</td>\n",
       "      <td>...</td>\n",
       "      <td>7.616296e+06</td>\n",
       "      <td>1.245143e+06</td>\n",
       "      <td>19</td>\n",
       "      <td>0</td>\n",
       "      <td>0</td>\n",
       "      <td>0</td>\n",
       "      <td>1</td>\n",
       "      <td>0</td>\n",
       "      <td>1</td>\n",
       "      <td>5</td>\n",
       "    </tr>\n",
       "    <tr>\n",
       "      <th>48160</th>\n",
       "      <td>204665</td>\n",
       "      <td>2</td>\n",
       "      <td>0.126010</td>\n",
       "      <td>0.027076</td>\n",
       "      <td>0.555760</td>\n",
       "      <td>13</td>\n",
       "      <td>1</td>\n",
       "      <td>1</td>\n",
       "      <td>1</td>\n",
       "      <td>2</td>\n",
       "      <td>...</td>\n",
       "      <td>7.627373e+06</td>\n",
       "      <td>1.251307e+06</td>\n",
       "      <td>21</td>\n",
       "      <td>0</td>\n",
       "      <td>0</td>\n",
       "      <td>0</td>\n",
       "      <td>1</td>\n",
       "      <td>0</td>\n",
       "      <td>4</td>\n",
       "      <td>0</td>\n",
       "    </tr>\n",
       "    <tr>\n",
       "      <th>30591</th>\n",
       "      <td>123314</td>\n",
       "      <td>3</td>\n",
       "      <td>0.077711</td>\n",
       "      <td>0.031316</td>\n",
       "      <td>0.315754</td>\n",
       "      <td>15</td>\n",
       "      <td>1</td>\n",
       "      <td>1</td>\n",
       "      <td>1</td>\n",
       "      <td>1</td>\n",
       "      <td>...</td>\n",
       "      <td>7.631133e+06</td>\n",
       "      <td>1.244680e+06</td>\n",
       "      <td>13</td>\n",
       "      <td>0</td>\n",
       "      <td>1</td>\n",
       "      <td>0</td>\n",
       "      <td>0</td>\n",
       "      <td>0</td>\n",
       "      <td>0</td>\n",
       "      <td>6</td>\n",
       "    </tr>\n",
       "  </tbody>\n",
       "</table>\n",
       "<p>5 rows × 24 columns</p>\n",
       "</div>"
      ],
      "text/plain": [
       "       id_trip  mode  duration  distance_m  magnitude  carddir  downtown_s  \\\n",
       "13051  3592784     2  0.015505    0.015059   0.935970        3           1   \n",
       "37551   152350     2  0.048111    0.034086   0.169275        0           0   \n",
       "7582   1959960     2  0.156737    0.138435   0.677456       11           1   \n",
       "48160   204665     2  0.126010    0.027076   0.555760       13           1   \n",
       "30591   123314     3  0.077711    0.031316   0.315754       15           1   \n",
       "\n",
       "       downtown_e  weekday  temp_clus  ...          endx          endy  hour  \\\n",
       "13051           1        1          1  ...  7.629632e+06  1.252537e+06    16   \n",
       "37551           0        1          4  ...  7.620944e+06  1.265901e+06    23   \n",
       "7582            0        0          4  ...  7.616296e+06  1.245143e+06    19   \n",
       "48160           1        1          2  ...  7.627373e+06  1.251307e+06    21   \n",
       "30591           1        1          1  ...  7.631133e+06  1.244680e+06    13   \n",
       "\n",
       "       morning  midday  afternoon  evening  midnight  land_use_s  land_use_e  \n",
       "13051        0       0          1        0         0           1           1  \n",
       "37551        0       0          0        0         1           1           1  \n",
       "7582         0       0          0        1         0           1           5  \n",
       "48160        0       0          0        1         0           4           0  \n",
       "30591        0       1          0        0         0           0           6  \n",
       "\n",
       "[5 rows x 24 columns]"
      ]
     },
     "execution_count": 17,
     "metadata": {},
     "output_type": "execute_result"
    }
   ],
   "source": [
    "X_train.head()"
   ]
  },
  {
   "cell_type": "markdown",
   "metadata": {},
   "source": [
    "## 2.2 Calculate p_nearby\n",
    "Proportion of other trips that ended nearby with a given purpose\n",
    "\n",
    "Purpose: {'leisure': 0, 'food_drink': 1, 'shops': 2, 'pick_up_drop_off': 3, 'education': 4, 'health': 5}\n"
   ]
  },
  {
   "cell_type": "code",
   "execution_count": 18,
   "metadata": {},
   "outputs": [],
   "source": [
    "# initialise the geo dataframes needed\n",
    "\n",
    "all_X['geometry'] = all_X.apply(lambda row: shapely.geometry.Point(row['endx'],row['endy']),axis=1)\n",
    "geo_df = gpd.GeoDataFrame(pd.concat([all_X,all_y],axis=1))\n",
    "geo_X_train = X_train.copy()\n",
    "geo_X_train.reset_index(drop=True,inplace=True)\n",
    "geo_X_train['geometry'] = geo_X_train.apply(lambda row: shapely.geometry.Point(row['endx'],row['endy']),axis=1)\n",
    "\n",
    "geo_df_train = gpd.GeoDataFrame(pd.concat([geo_X_train,pd.DataFrame(y_train, columns=['purpose'])],axis=1))\n",
    "geo_df.crs = {'init':'epsg:3347'} # Canada Lambert Projection\n",
    "geo_df_train.crs = {'init':'epsg:3347'}"
   ]
  },
  {
   "cell_type": "code",
   "execution_count": 19,
   "metadata": {},
   "outputs": [
    {
     "data": {
      "text/plain": [
       "<matplotlib.axes._subplots.AxesSubplot at 0x133ee2ba8>"
      ]
     },
     "execution_count": 19,
     "metadata": {},
     "output_type": "execute_result"
    },
    {
     "data": {
      "image/png": "[encoded data removed]",
      "text/plain": [
       "<Figure size 432x288 with 1 Axes>"
      ]
     },
     "metadata": {
      "needs_background": "light"
     },
     "output_type": "display_data"
    }
   ],
   "source": [
    "geo_df_train.plot()"
   ]
  },
  {
   "cell_type": "code",
   "execution_count": 20,
   "metadata": {},
   "outputs": [],
   "source": [
    "def calc_p_nearby(row, gdf):\n",
    "    \"\"\"\n",
    "        calculates the proportion of trips around a given trip that belong to each of the purpose types.\n",
    "        Uses only X_train\n",
    "    \"\"\"\n",
    "    vals = [0.0,0.0,0.0,0.0,0.0,0.0] # place to store proportion values. Note: 5 values for each purpose class\n",
    "    \n",
    "    # draw a 200 m buffer around the trip end. NOTE: crs = Canada Lambert which is 1 metre projection \n",
    "    trip_end_buffer = row['geometry'].buffer(200)\n",
    "    # get a count of all the purpose types which intersect with the trip\n",
    "    intersecting_trip_purposes = gdf[gdf.intersects(trip_end_buffer)]['purpose'].value_counts()\n",
    "    # total trips for proportion calculation\n",
    "    total_trips_intersecting = intersecting_trip_purposes.sum()\n",
    "    \n",
    "    for ind in range(len(vals)):\n",
    "        try:\n",
    "            vals[ind] = intersecting_trip_purposes[ind] / total_trips_intersecting\n",
    "        except:\n",
    "            continue\n",
    "    return vals"
   ]
  },
  {
   "cell_type": "code",
   "execution_count": 21,
   "metadata": {},
   "outputs": [
    {
     "name": "stdout",
     "output_type": "stream",
     "text": [
      "loading from pre-calculated\n",
      "CPU times: user 37.2 ms, sys: 15.5 ms, total: 52.7 ms\n",
      "Wall time: 54.8 ms\n"
     ]
    }
   ],
   "source": [
    "%%time\n",
    "# around 2 hours 30 mins when calculating\n",
    "try:\n",
    "    print('loading from pre-calculated')\n",
    "    purp_props_df = pd.read_csv('../../../Data/purpose_proportion.csv')\n",
    "except:\n",
    "    print('need to recalculate')\n",
    "    all_purp_props = geo_df.apply(calc_p_nearby,axis=1, args=(geo_df_train,))\n",
    "    all_X['all_purp_props'] = all_purp_props\n",
    "    purp_props_df = all_X['all_purp_props'].apply(pd.Series)\n",
    "    purp_props_df.columns = ['p_nearby_leisure','p_nearby_food','p_nearby_shops',\\\n",
    "                         'p_nearby_pickup','p_nearby_education','p_nearby_health']\n",
    "    purp_props_df.to_csv('../../../Data/purpose_proportion.csv',index=False)\n",
    "    all_X.drop('all_purp_props', axis=1, inplace=True)"
   ]
  },
  {
   "cell_type": "code",
   "execution_count": 22,
   "metadata": {},
   "outputs": [
    {
     "data": {
      "text/html": [
       "<div>\n",
       "<style scoped>\n",
       "    .dataframe tbody tr th:only-of-type {\n",
       "        vertical-align: middle;\n",
       "    }\n",
       "\n",
       "    .dataframe tbody tr th {\n",
       "        vertical-align: top;\n",
       "    }\n",
       "\n",
       "    .dataframe thead th {\n",
       "        text-align: right;\n",
       "    }\n",
       "</style>\n",
       "<table border=\"1\" class=\"dataframe\">\n",
       "  <thead>\n",
       "    <tr style=\"text-align: right;\">\n",
       "      <th></th>\n",
       "      <th>p_nearby_leisure</th>\n",
       "      <th>p_nearby_food</th>\n",
       "      <th>p_nearby_shops</th>\n",
       "      <th>p_nearby_pickup</th>\n",
       "      <th>p_nearby_education</th>\n",
       "      <th>p_nearby_health</th>\n",
       "    </tr>\n",
       "  </thead>\n",
       "  <tbody>\n",
       "    <tr>\n",
       "      <th>0</th>\n",
       "      <td>0.461538</td>\n",
       "      <td>0.087912</td>\n",
       "      <td>0.384615</td>\n",
       "      <td>0.010989</td>\n",
       "      <td>0.021978</td>\n",
       "      <td>0.032967</td>\n",
       "    </tr>\n",
       "    <tr>\n",
       "      <th>1</th>\n",
       "      <td>0.727273</td>\n",
       "      <td>0.045455</td>\n",
       "      <td>0.045455</td>\n",
       "      <td>0.000000</td>\n",
       "      <td>0.045455</td>\n",
       "      <td>0.136364</td>\n",
       "    </tr>\n",
       "    <tr>\n",
       "      <th>2</th>\n",
       "      <td>0.370370</td>\n",
       "      <td>0.277778</td>\n",
       "      <td>0.185185</td>\n",
       "      <td>0.018519</td>\n",
       "      <td>0.055556</td>\n",
       "      <td>0.092593</td>\n",
       "    </tr>\n",
       "    <tr>\n",
       "      <th>3</th>\n",
       "      <td>0.358974</td>\n",
       "      <td>0.256410</td>\n",
       "      <td>0.282051</td>\n",
       "      <td>0.064103</td>\n",
       "      <td>0.012821</td>\n",
       "      <td>0.025641</td>\n",
       "    </tr>\n",
       "    <tr>\n",
       "      <th>4</th>\n",
       "      <td>0.800000</td>\n",
       "      <td>0.000000</td>\n",
       "      <td>0.200000</td>\n",
       "      <td>0.000000</td>\n",
       "      <td>0.000000</td>\n",
       "      <td>0.000000</td>\n",
       "    </tr>\n",
       "  </tbody>\n",
       "</table>\n",
       "</div>"
      ],
      "text/plain": [
       "   p_nearby_leisure  p_nearby_food  p_nearby_shops  p_nearby_pickup  \\\n",
       "0          0.461538       0.087912        0.384615         0.010989   \n",
       "1          0.727273       0.045455        0.045455         0.000000   \n",
       "2          0.370370       0.277778        0.185185         0.018519   \n",
       "3          0.358974       0.256410        0.282051         0.064103   \n",
       "4          0.800000       0.000000        0.200000         0.000000   \n",
       "\n",
       "   p_nearby_education  p_nearby_health  \n",
       "0            0.021978         0.032967  \n",
       "1            0.045455         0.136364  \n",
       "2            0.055556         0.092593  \n",
       "3            0.012821         0.025641  \n",
       "4            0.000000         0.000000  "
      ]
     },
     "execution_count": 22,
     "metadata": {},
     "output_type": "execute_result"
    }
   ],
   "source": [
    "purp_props_df.head()"
   ]
  },
  {
   "cell_type": "code",
   "execution_count": 23,
   "metadata": {},
   "outputs": [
    {
     "name": "stdout",
     "output_type": "stream",
     "text": [
      "concatenating\n"
     ]
    }
   ],
   "source": [
    "# join the data back to the all_X\n",
    "if not 'p_nearby_leisure' in all_X.columns:\n",
    "    print('concatenating')\n",
    "    all_X = pd.concat([all_X, purp_props_df], axis=1)"
   ]
  },
  {
   "cell_type": "code",
   "execution_count": 24,
   "metadata": {},
   "outputs": [],
   "source": [
    "if 'geometry' in all_X.columns:\n",
    "    all_X.drop('geometry', axis=1, inplace=True)"
   ]
  },
  {
   "cell_type": "code",
   "execution_count": 25,
   "metadata": {
    "scrolled": true
   },
   "outputs": [
    {
     "data": {
      "text/html": [
       "<div>\n",
       "<style scoped>\n",
       "    .dataframe tbody tr th:only-of-type {\n",
       "        vertical-align: middle;\n",
       "    }\n",
       "\n",
       "    .dataframe tbody tr th {\n",
       "        vertical-align: top;\n",
       "    }\n",
       "\n",
       "    .dataframe thead th {\n",
       "        text-align: right;\n",
       "    }\n",
       "</style>\n",
       "<table border=\"1\" class=\"dataframe\">\n",
       "  <thead>\n",
       "    <tr style=\"text-align: right;\">\n",
       "      <th></th>\n",
       "      <th>id_trip</th>\n",
       "      <th>mode</th>\n",
       "      <th>duration</th>\n",
       "      <th>distance_m</th>\n",
       "      <th>magnitude</th>\n",
       "      <th>carddir</th>\n",
       "      <th>downtown_s</th>\n",
       "      <th>downtown_e</th>\n",
       "      <th>weekday</th>\n",
       "      <th>temp_clus</th>\n",
       "      <th>...</th>\n",
       "      <th>evening</th>\n",
       "      <th>midnight</th>\n",
       "      <th>land_use_s</th>\n",
       "      <th>land_use_e</th>\n",
       "      <th>p_nearby_leisure</th>\n",
       "      <th>p_nearby_food</th>\n",
       "      <th>p_nearby_shops</th>\n",
       "      <th>p_nearby_pickup</th>\n",
       "      <th>p_nearby_education</th>\n",
       "      <th>p_nearby_health</th>\n",
       "    </tr>\n",
       "  </thead>\n",
       "  <tbody>\n",
       "    <tr>\n",
       "      <th>0</th>\n",
       "      <td>1889461</td>\n",
       "      <td>1</td>\n",
       "      <td>0.036365</td>\n",
       "      <td>0.017995</td>\n",
       "      <td>0.940044</td>\n",
       "      <td>0</td>\n",
       "      <td>1</td>\n",
       "      <td>1</td>\n",
       "      <td>1</td>\n",
       "      <td>2</td>\n",
       "      <td>...</td>\n",
       "      <td>1</td>\n",
       "      <td>0</td>\n",
       "      <td>0</td>\n",
       "      <td>0</td>\n",
       "      <td>0.461538</td>\n",
       "      <td>0.087912</td>\n",
       "      <td>0.384615</td>\n",
       "      <td>0.010989</td>\n",
       "      <td>0.021978</td>\n",
       "      <td>0.032967</td>\n",
       "    </tr>\n",
       "    <tr>\n",
       "      <th>1</th>\n",
       "      <td>2071991</td>\n",
       "      <td>3</td>\n",
       "      <td>0.073670</td>\n",
       "      <td>0.027212</td>\n",
       "      <td>0.447575</td>\n",
       "      <td>1</td>\n",
       "      <td>1</td>\n",
       "      <td>1</td>\n",
       "      <td>1</td>\n",
       "      <td>3</td>\n",
       "      <td>...</td>\n",
       "      <td>1</td>\n",
       "      <td>0</td>\n",
       "      <td>1</td>\n",
       "      <td>4</td>\n",
       "      <td>0.727273</td>\n",
       "      <td>0.045455</td>\n",
       "      <td>0.045455</td>\n",
       "      <td>0.000000</td>\n",
       "      <td>0.045455</td>\n",
       "      <td>0.136364</td>\n",
       "    </tr>\n",
       "  </tbody>\n",
       "</table>\n",
       "<p>2 rows × 30 columns</p>\n",
       "</div>"
      ],
      "text/plain": [
       "   id_trip  mode  duration  distance_m  magnitude  carddir  downtown_s  \\\n",
       "0  1889461     1  0.036365    0.017995   0.940044        0           1   \n",
       "1  2071991     3  0.073670    0.027212   0.447575        1           1   \n",
       "\n",
       "   downtown_e  weekday  temp_clus  ...  evening  midnight  land_use_s  \\\n",
       "0           1        1          2  ...        1         0           0   \n",
       "1           1        1          3  ...        1         0           1   \n",
       "\n",
       "   land_use_e  p_nearby_leisure  p_nearby_food  p_nearby_shops  \\\n",
       "0           0          0.461538       0.087912        0.384615   \n",
       "1           4          0.727273       0.045455        0.045455   \n",
       "\n",
       "   p_nearby_pickup  p_nearby_education  p_nearby_health  \n",
       "0         0.010989            0.021978         0.032967  \n",
       "1         0.000000            0.045455         0.136364  \n",
       "\n",
       "[2 rows x 30 columns]"
      ]
     },
     "execution_count": 25,
     "metadata": {},
     "output_type": "execute_result"
    }
   ],
   "source": [
    "all_X.head(2)"
   ]
  },
  {
   "cell_type": "markdown",
   "metadata": {},
   "source": [
    "### 2.2.1 re-join the props back to train test"
   ]
  },
  {
   "cell_type": "code",
   "execution_count": 26,
   "metadata": {},
   "outputs": [
    {
     "name": "stdout",
     "output_type": "stream",
     "text": [
      "merging data\n"
     ]
    }
   ],
   "source": [
    "if not 'p_nearby_leisure' in X_train.columns:\n",
    "    print('merging data')\n",
    "    col_to_merge = ['id_trip', 'p_nearby_leisure','p_nearby_food','p_nearby_shops',\\\n",
    "                        'p_nearby_pickup','p_nearby_education','p_nearby_health']\n",
    "    X_train = X_train.merge(all_X[col_to_merge], on='id_trip')\n",
    "    X_test = X_test.merge(all_X[col_to_merge], on='id_trip')"
   ]
  },
  {
   "cell_type": "code",
   "execution_count": 27,
   "metadata": {},
   "outputs": [
    {
     "data": {
      "text/html": [
       "<div>\n",
       "<style scoped>\n",
       "    .dataframe tbody tr th:only-of-type {\n",
       "        vertical-align: middle;\n",
       "    }\n",
       "\n",
       "    .dataframe tbody tr th {\n",
       "        vertical-align: top;\n",
       "    }\n",
       "\n",
       "    .dataframe thead th {\n",
       "        text-align: right;\n",
       "    }\n",
       "</style>\n",
       "<table border=\"1\" class=\"dataframe\">\n",
       "  <thead>\n",
       "    <tr style=\"text-align: right;\">\n",
       "      <th></th>\n",
       "      <th>id_trip</th>\n",
       "      <th>mode</th>\n",
       "      <th>duration</th>\n",
       "      <th>distance_m</th>\n",
       "      <th>magnitude</th>\n",
       "      <th>carddir</th>\n",
       "      <th>downtown_s</th>\n",
       "      <th>downtown_e</th>\n",
       "      <th>weekday</th>\n",
       "      <th>temp_clus</th>\n",
       "      <th>...</th>\n",
       "      <th>evening</th>\n",
       "      <th>midnight</th>\n",
       "      <th>land_use_s</th>\n",
       "      <th>land_use_e</th>\n",
       "      <th>p_nearby_leisure</th>\n",
       "      <th>p_nearby_food</th>\n",
       "      <th>p_nearby_shops</th>\n",
       "      <th>p_nearby_pickup</th>\n",
       "      <th>p_nearby_education</th>\n",
       "      <th>p_nearby_health</th>\n",
       "    </tr>\n",
       "  </thead>\n",
       "  <tbody>\n",
       "    <tr>\n",
       "      <th>0</th>\n",
       "      <td>2715767</td>\n",
       "      <td>2</td>\n",
       "      <td>0.032043</td>\n",
       "      <td>0.021728</td>\n",
       "      <td>0.496629</td>\n",
       "      <td>11</td>\n",
       "      <td>1</td>\n",
       "      <td>1</td>\n",
       "      <td>0</td>\n",
       "      <td>4</td>\n",
       "      <td>...</td>\n",
       "      <td>0</td>\n",
       "      <td>0</td>\n",
       "      <td>6</td>\n",
       "      <td>1</td>\n",
       "      <td>0.666667</td>\n",
       "      <td>0.166667</td>\n",
       "      <td>0.000000</td>\n",
       "      <td>0.166667</td>\n",
       "      <td>0.000000</td>\n",
       "      <td>0.000000</td>\n",
       "    </tr>\n",
       "    <tr>\n",
       "      <th>1</th>\n",
       "      <td>2403724</td>\n",
       "      <td>1</td>\n",
       "      <td>0.017008</td>\n",
       "      <td>0.021340</td>\n",
       "      <td>0.972933</td>\n",
       "      <td>13</td>\n",
       "      <td>0</td>\n",
       "      <td>0</td>\n",
       "      <td>1</td>\n",
       "      <td>2</td>\n",
       "      <td>...</td>\n",
       "      <td>1</td>\n",
       "      <td>0</td>\n",
       "      <td>5</td>\n",
       "      <td>5</td>\n",
       "      <td>0.000000</td>\n",
       "      <td>0.000000</td>\n",
       "      <td>0.000000</td>\n",
       "      <td>0.000000</td>\n",
       "      <td>0.000000</td>\n",
       "      <td>0.000000</td>\n",
       "    </tr>\n",
       "    <tr>\n",
       "      <th>2</th>\n",
       "      <td>444946</td>\n",
       "      <td>3</td>\n",
       "      <td>0.089457</td>\n",
       "      <td>0.025674</td>\n",
       "      <td>0.813082</td>\n",
       "      <td>6</td>\n",
       "      <td>1</td>\n",
       "      <td>1</td>\n",
       "      <td>1</td>\n",
       "      <td>2</td>\n",
       "      <td>...</td>\n",
       "      <td>0</td>\n",
       "      <td>1</td>\n",
       "      <td>0</td>\n",
       "      <td>2</td>\n",
       "      <td>0.195489</td>\n",
       "      <td>0.120301</td>\n",
       "      <td>0.135338</td>\n",
       "      <td>0.030075</td>\n",
       "      <td>0.481203</td>\n",
       "      <td>0.037594</td>\n",
       "    </tr>\n",
       "    <tr>\n",
       "      <th>3</th>\n",
       "      <td>3127597</td>\n",
       "      <td>2</td>\n",
       "      <td>0.009397</td>\n",
       "      <td>0.011322</td>\n",
       "      <td>0.847318</td>\n",
       "      <td>12</td>\n",
       "      <td>1</td>\n",
       "      <td>1</td>\n",
       "      <td>1</td>\n",
       "      <td>2</td>\n",
       "      <td>...</td>\n",
       "      <td>0</td>\n",
       "      <td>0</td>\n",
       "      <td>1</td>\n",
       "      <td>1</td>\n",
       "      <td>0.131579</td>\n",
       "      <td>0.236842</td>\n",
       "      <td>0.263158</td>\n",
       "      <td>0.210526</td>\n",
       "      <td>0.052632</td>\n",
       "      <td>0.105263</td>\n",
       "    </tr>\n",
       "    <tr>\n",
       "      <th>4</th>\n",
       "      <td>3396409</td>\n",
       "      <td>5</td>\n",
       "      <td>0.074140</td>\n",
       "      <td>0.019809</td>\n",
       "      <td>0.717441</td>\n",
       "      <td>13</td>\n",
       "      <td>0</td>\n",
       "      <td>1</td>\n",
       "      <td>1</td>\n",
       "      <td>3</td>\n",
       "      <td>...</td>\n",
       "      <td>0</td>\n",
       "      <td>0</td>\n",
       "      <td>5</td>\n",
       "      <td>3</td>\n",
       "      <td>0.239796</td>\n",
       "      <td>0.163265</td>\n",
       "      <td>0.096939</td>\n",
       "      <td>0.015306</td>\n",
       "      <td>0.428571</td>\n",
       "      <td>0.056122</td>\n",
       "    </tr>\n",
       "  </tbody>\n",
       "</table>\n",
       "<p>5 rows × 30 columns</p>\n",
       "</div>"
      ],
      "text/plain": [
       "   id_trip  mode  duration  distance_m  magnitude  carddir  downtown_s  \\\n",
       "0  2715767     2  0.032043    0.021728   0.496629       11           1   \n",
       "1  2403724     1  0.017008    0.021340   0.972933       13           0   \n",
       "2   444946     3  0.089457    0.025674   0.813082        6           1   \n",
       "3  3127597     2  0.009397    0.011322   0.847318       12           1   \n",
       "4  3396409     5  0.074140    0.019809   0.717441       13           0   \n",
       "\n",
       "   downtown_e  weekday  temp_clus  ...  evening  midnight  land_use_s  \\\n",
       "0           1        0          4  ...        0         0           6   \n",
       "1           0        1          2  ...        1         0           5   \n",
       "2           1        1          2  ...        0         1           0   \n",
       "3           1        1          2  ...        0         0           1   \n",
       "4           1        1          3  ...        0         0           5   \n",
       "\n",
       "   land_use_e  p_nearby_leisure  p_nearby_food  p_nearby_shops  \\\n",
       "0           1          0.666667       0.166667        0.000000   \n",
       "1           5          0.000000       0.000000        0.000000   \n",
       "2           2          0.195489       0.120301        0.135338   \n",
       "3           1          0.131579       0.236842        0.263158   \n",
       "4           3          0.239796       0.163265        0.096939   \n",
       "\n",
       "   p_nearby_pickup  p_nearby_education  p_nearby_health  \n",
       "0         0.166667            0.000000         0.000000  \n",
       "1         0.000000            0.000000         0.000000  \n",
       "2         0.030075            0.481203         0.037594  \n",
       "3         0.210526            0.052632         0.105263  \n",
       "4         0.015306            0.428571         0.056122  \n",
       "\n",
       "[5 rows x 30 columns]"
      ]
     },
     "execution_count": 27,
     "metadata": {},
     "output_type": "execute_result"
    }
   ],
   "source": [
    "X_test.head()"
   ]
  },
  {
   "cell_type": "markdown",
   "metadata": {},
   "source": [
    "## 2.3 Calculate spatial clusters"
   ]
  },
  {
   "cell_type": "code",
   "execution_count": 28,
   "metadata": {},
   "outputs": [],
   "source": [
    "# Calculate DISTANCE MATRIX\n",
    "train_coords_st = [[x,y] for x, y in zip(X_train['startx'], X_train['starty'])]\n",
    "train_coords_en = [[x,y] for x, y in zip(X_train['endx'], X_train['endy'])]\n",
    "\n",
    "# get a list of all end-points for clustering algorithm\n",
    "train_overall_coords = train_coords_st\n",
    "train_overall_coords.extend(train_coords_en)"
   ]
  },
  {
   "cell_type": "code",
   "execution_count": 29,
   "metadata": {},
   "outputs": [
    {
     "ename": "NameError",
     "evalue": "name 'overall_coords' is not defined",
     "output_type": "error",
     "traceback": [
      "\u001b[0;31m---------------------------------------------------------------------------\u001b[0m",
      "\u001b[0;31mNameError\u001b[0m                                 Traceback (most recent call last)",
      "\u001b[0;32m<ipython-input-29-568a865acf40>\u001b[0m in \u001b[0;36m<module>\u001b[0;34m\u001b[0m\n\u001b[0;32m----> 1\u001b[0;31m \u001b[0mkmeans\u001b[0m \u001b[0;34m=\u001b[0m \u001b[0mKMeans\u001b[0m\u001b[0;34m(\u001b[0m\u001b[0mn_clusters\u001b[0m\u001b[0;34m=\u001b[0m\u001b[0;36m12\u001b[0m\u001b[0;34m,\u001b[0m \u001b[0mrandom_state\u001b[0m\u001b[0;34m=\u001b[0m\u001b[0;36m0\u001b[0m\u001b[0;34m)\u001b[0m\u001b[0;34m.\u001b[0m\u001b[0mfit\u001b[0m\u001b[0;34m(\u001b[0m\u001b[0moverall_coords\u001b[0m\u001b[0;34m)\u001b[0m\u001b[0;34m\u001b[0m\u001b[0;34m\u001b[0m\u001b[0m\n\u001b[0m\u001b[1;32m      2\u001b[0m \u001b[0mkmeans\u001b[0m\u001b[0;34m.\u001b[0m\u001b[0mlabels_\u001b[0m\u001b[0;34m\u001b[0m\u001b[0;34m\u001b[0m\u001b[0m\n",
      "\u001b[0;31mNameError\u001b[0m: name 'overall_coords' is not defined"
     ]
    }
   ],
   "source": [
    "kmeans = KMeans(n_clusters=12, random_state=0).fit(overall_coords)\n",
    "kmeans.labels_"
   ]
  },
  {
   "cell_type": "code",
   "execution_count": null,
   "metadata": {},
   "outputs": [],
   "source": [
    "X_train['startclust'] = kmeans.labels_[:int(len(X_train))]\n",
    "X_train['endclust'] = kmeans.labels_[int(len(X_train)):]"
   ]
  },
  {
   "cell_type": "code",
   "execution_count": null,
   "metadata": {},
   "outputs": [],
   "source": [
    "test_coords_st = [[x,y] for x, y in zip(X_test['startx'], X_test['starty'])]\n",
    "test_coords_en = [[x,y] for x, y in zip(X_test['endx'], X_test['endy'])]\n",
    "\n",
    "# get a list of all end-points for clustering algorithm\n",
    "test_overall_coords = test_coords_st\n",
    "test_overall_coords.extend(test_coords_en)"
   ]
  },
  {
   "cell_type": "code",
   "execution_count": null,
   "metadata": {},
   "outputs": [],
   "source": [
    "prediction_cluster = kmeans.predict(test_overall_coords)\n",
    "X_test['startclust'] = prediction_cluster[:int(len(X_test))]\n",
    "X_test['endclust'] = prediction_cluster[int(len(X_test)):]"
   ]
  },
  {
   "cell_type": "code",
   "execution_count": null,
   "metadata": {},
   "outputs": [],
   "source": [
    "print(\"start cluster:\\n\", X_train.startclust.value_counts(),'\\n')\n",
    "print(\"end cluster:\\n\", X_train.endclust.value_counts())"
   ]
  },
  {
   "cell_type": "code",
   "execution_count": null,
   "metadata": {},
   "outputs": [],
   "source": [
    "print(\"start cluster:\\n\",X_test.startclust.value_counts(),'\\n')\n",
    "print(\"end cluster:\\n\",X_test.endclust.value_counts())"
   ]
  },
  {
   "cell_type": "code",
   "execution_count": null,
   "metadata": {},
   "outputs": [],
   "source": [
    "col_order = ['0','1','2','3','4','5','6','7','8','9','10','11']\n",
    "sns.set_style(\"darkgrid\")\n",
    "\n",
    "for df, df_name in zip([X_train, X_test], ['X_train', 'X_test']):\n",
    "    grouped_cluster_origin = df.groupby('startclust').count()['mode']\n",
    "    grouped_cluster_destination = df.groupby('endclust').count()['mode']\n",
    "\n",
    "    fig, ax = plt.subplots(1, figsize=(10,6))\n",
    "    ind = np.arange(len(grouped_cluster_origin))\n",
    "    height = .3\n",
    "\n",
    "    ax.barh(y=ind, width=grouped_cluster_origin, height=height, alpha=.75)\n",
    "    ax.barh(y=ind+height, width=grouped_cluster_destination,height=height, color='orange', alpha=.75)\n",
    "    ax.set_yticks(ind + height / 2)\n",
    "    ax.set_yticklabels(col_order, size=16)\n",
    "    ax.set_ylabel(\"Cluster ID\", size=20)\n",
    "    plt.xticks(size=14)\n",
    "    ax.set_xlabel(\"Count of Trips\",size=20)\n",
    "    ax.set_title(\"Trips per clusters %s\" % (df_name), size=24)\n",
    "    ax.legend(['origin', 'destination'], fontsize=16);\n",
    "    plt.show()\n",
    "    # ax.figure.savefig(\"figures/trips_per_cluster.png\", bbox_inches='tight')"
   ]
  },
  {
   "cell_type": "markdown",
   "metadata": {},
   "source": [
    "## 2.4  Remove trip ID's"
   ]
  },
  {
   "cell_type": "code",
   "execution_count": null,
   "metadata": {},
   "outputs": [],
   "source": [
    "training_ids = X_train['id_trip'].copy()\n",
    "X_train = X_train.drop('id_trip', axis=1)\n",
    "testing_ids = X_test['id_trip'].copy()\n",
    "X_test = X_test.drop('id_trip', axis=1)\n"
   ]
  },
  {
   "cell_type": "code",
   "execution_count": 30,
   "metadata": {},
   "outputs": [],
   "source": [
    "## flatten data i.e. from Pd.Series to np.array\n",
    "y_train = np.ravel(y_train)\n",
    "y_test = np.ravel(y_test)"
   ]
  },
  {
   "cell_type": "code",
   "execution_count": 31,
   "metadata": {},
   "outputs": [
    {
     "name": "stdout",
     "output_type": "stream",
     "text": [
      "all_features:\n",
      "\n",
      " ['id_trip', 'mode', 'duration', 'distance_m', 'magnitude', 'carddir', 'downtown_s', 'downtown_e', 'weekday', 'temp_clus', 'precip', 'temp', 'startx', 'starty', 'endx', 'endy', 'hour', 'morning', 'midday', 'afternoon', 'evening', 'midnight', 'land_use_s', 'land_use_e', 'p_nearby_leisure', 'p_nearby_food', 'p_nearby_shops', 'p_nearby_pickup', 'p_nearby_education', 'p_nearby_health']\n"
     ]
    }
   ],
   "source": [
    "feature_list = list(X_train.columns)\n",
    "print('all_features:\\n\\n', feature_list)"
   ]
  },
  {
   "cell_type": "markdown",
   "metadata": {
    "scrolled": false
   },
   "source": [
    "# 3. Begin Modelling\n",
    "#### Section Overview:\n",
    "3.1 Define model functions and test modelling   \n",
    "3.2 Preliminary modelling for important feature extraction  \n",
    "3.3 Re-run models  \n",
    "\n",
    "#### Model functions:\n",
    "- `run_rf` == run the random forest classification model.\n",
    "- `run_sv` == run the support vector machine classification model.\n",
    "- `run_ann` == run the multi-layer perceptron classification model.  \n",
    "- `run_mcrf` == *Experimental* run the multi-output random forest classification model.\n",
    "\n",
    "#### Notes:\n",
    "\n",
    "#### Technical Notes:\n",
    "- each model will have a cross-validation option. To use this the function parameters will need to be set to `cv=True` and `cv_val` to the number of k-folds defaulting to `cv_val=5`"
   ]
  },
  {
   "cell_type": "markdown",
   "metadata": {},
   "source": [
    "### 3.1 Define model functions and test"
   ]
  },
  {
   "cell_type": "code",
   "execution_count": 32,
   "metadata": {},
   "outputs": [],
   "source": [
    "# All Model functions\n",
    "def run_rf(X_train, X_test, y_train, y_test, n_estimators=128, cv=False, cv_val=5):\n",
    "    \"\"\"\n",
    "        Run a random forest classification model with option to use cross-validation\n",
    "    \"\"\"\n",
    "    cv_scores = []\n",
    "    clf = sklearn.ensemble.RandomForestClassifier(n_estimators=n_estimators, n_jobs=-1)\n",
    "    if cv:\n",
    "        cv_scores = sklearn.model_selection.cross_val_score(clf, X_train, y_train, cv=cv_val)\n",
    "        print(\"cv scores:\",cv_scores)\n",
    "    clf = sklearn.ensemble.RandomForestClassifier(n_estimators=n_estimators, n_jobs=-1)\n",
    "    clf.fit(X_train, y_train)\n",
    "    score = clf.score(X_test,y_test)\n",
    "    preds = clf.predict(X_test)\n",
    "    print(\"Random Forest Classifcation accuracy:\", score)\n",
    "    return clf, score, preds, cv_scores\n",
    "\n",
    "\n",
    "def run_svc(X_train, X_test, y_train, y_test, gamma_val=0.01, C_val=0.1, cv=False, cv_val=5):\n",
    "    \"\"\"\n",
    "        Run a support vector classification model with option to use cross-validation\n",
    "    \"\"\"\n",
    "    cv_scores = []\n",
    "    if cv:\n",
    "        clf = sklearn.svm.SVC(gamma=gamma_val, C=C_val, decision_function_shape='ova')\n",
    "        cv_scores = sklearn.model_selection.cross_val_score(clf, X_train, y_train, cv=cv_val)\n",
    "        print(\"cv scores:\",cv_scores)\n",
    "    clf = sklearn.svm.SVC(gamma=gamma_val, C=C_val, decision_function_shape='ova')\n",
    "    clf.fit(X_train, y_train)\n",
    "    score = clf.score(X_test, y_test)\n",
    "    preds = clf.predict(X_test)  \n",
    "    print(\"Support Vector classification accuracy:\", score)\n",
    "    return score, preds, cv_scores\n",
    "\n",
    "\n",
    "def run_ann(X_train, X_test, y_train, y_test, alpha_val=0.01, C_val=0.1, cv=False, cv_val=5):\n",
    "    \"\"\"\n",
    "        Run a neural network classification model with option to use cross-validation\n",
    "    \"\"\"\n",
    "    cv_scores = []\n",
    "    if cv:\n",
    "        clf = sklearn.neural_network.MLPClassifier(solver='lbfgs', alpha=alpha_val,\\\n",
    "                                            hidden_layer_sizes=(50, 50, 50), random_state=1, max_iter=500)\n",
    "        cv_scores = sklearn.model_selection.cross_val_score(clf,X_train,y_train, cv=cv_val)\n",
    "        print(\"cv scores:\",cv_scores)\n",
    "    clf = sklearn.neural_network.MLPClassifier(solver='lbfgs', alpha=alpha_val,\\\n",
    "                                               hidden_layer_sizes=(50, 50, 50), random_state=1, max_iter=500)\n",
    "    clf.fit(X_train, y_train)\n",
    "    score = clf.score(X_test, y_test)\n",
    "    preds = clf.predict(X_test)\n",
    "    print(\"Neural Network classification accuracy:\", score)\n",
    "    return score, preds, cv_scores\n",
    "\n",
    "\n",
    "## Experimental\n",
    "def run_mcrf(X_train, X_test, y_train, y_test, n_estimators=128, cv=False, cv_val=5):\n",
    "    \"\"\"\n",
    "        Not currently in use.\n",
    "        Run a multi-ouput random forest classification model with option to use cross-validation\n",
    "    \"\"\"\n",
    "    cv_scores = []\n",
    "    clf = sklearn.ensemble.RandomForestClassifier(n_estimators = n_estimators,\\\n",
    "                                                  criterion = 'entropy', random_state = 42)\n",
    "    multi_target_forest = sklearn.multioutput.MultiOutputClassifier(clf, n_jobs=-1)\n",
    "    if cv:\n",
    "        cv_scores = sklearn.model_selection.cross_val_score(multi_target_forest, X_train, y_train, cv=cv_val)\n",
    "        print(\"cv scores:\",cv_scores)\n",
    "    multi_target_forest.fit(X_train, y_train)\n",
    "    score = multi_target_forest.score(X_test, y_test)\n",
    "    preds = multi_target_forest.predict(X_test)\n",
    "    print(\"Multi-output Random Forest classification accuracy:\", score)\n",
    "    return score, preds, cv_scores"
   ]
  },
  {
   "cell_type": "markdown",
   "metadata": {},
   "source": [
    "#### 3.1.1 test models"
   ]
  },
  {
   "cell_type": "code",
   "execution_count": 33,
   "metadata": {
    "scrolled": true
   },
   "outputs": [
    {
     "name": "stdout",
     "output_type": "stream",
     "text": [
      "Random Forest Classifcation accuracy: 0.5134563987817764\n",
      "CPU times: user 19.8 s, sys: 382 ms, total: 20.1 s\n",
      "Wall time: 6.69 s\n"
     ]
    }
   ],
   "source": [
    "%%time\n",
    "_, _, _, _ = run_rf(X_train, X_test, y_train, y_test,cv=False)"
   ]
  },
  {
   "cell_type": "code",
   "execution_count": 34,
   "metadata": {},
   "outputs": [
    {
     "name": "stdout",
     "output_type": "stream",
     "text": [
      "cv scores: [0.59981643 0.58640747 0.59445805 0.59072118 0.60174552]\n",
      "Random Forest Classifcation accuracy: 0.5187395114674622\n",
      "CPU times: user 24.5 s, sys: 3.75 s, total: 28.2 s\n",
      "Wall time: 32.9 s\n"
     ]
    }
   ],
   "source": [
    "%%time\n",
    "_, _, _, _ = run_rf(X_train, X_test, y_train, y_test,cv=True)"
   ]
  },
  {
   "cell_type": "code",
   "execution_count": null,
   "metadata": {},
   "outputs": [],
   "source": [
    "%%time\n",
    "_, _, _ = run_svc(X_train, X_test, y_train, y_test,cv=False)"
   ]
  },
  {
   "cell_type": "code",
   "execution_count": null,
   "metadata": {},
   "outputs": [],
   "source": [
    "%%time\n",
    "_, _, _ = run_svc(X_train, X_test, y_train, y_test,cv=True)"
   ]
  },
  {
   "cell_type": "code",
   "execution_count": null,
   "metadata": {},
   "outputs": [],
   "source": [
    "%%time\n",
    "_, _, _ = run_ann(X_train, X_test, y_train, y_test,cv=False)"
   ]
  },
  {
   "cell_type": "code",
   "execution_count": null,
   "metadata": {},
   "outputs": [],
   "source": [
    "%%time\n",
    "_, _, _ = run_ann(X_train, X_test, y_train, y_test,cv=True)"
   ]
  },
  {
   "cell_type": "markdown",
   "metadata": {},
   "source": [
    "### 3.2 Run RF to subset data features by the feature importance metric"
   ]
  },
  {
   "cell_type": "code",
   "execution_count": null,
   "metadata": {},
   "outputs": [],
   "source": [
    "def feature_selection(model, X_train, X_test, y_train, y_test):\n",
    "    model.fit(X_train, y_train)\n",
    "    print(\"model score before feature extraction: \", model.score(X_test, y_test))\n",
    "    perm = PermutationImportance(model).fit(X_test, y_test)\n",
    "    \n",
    "    \n",
    "    # perm.feature_importances_ attribute is now available, it can be used\n",
    "    # for feature selection - let's e.g. select features which increase\n",
    "    # accuracy by at least 0.01:\n",
    "    sel = SelectFromModel(perm, threshold=0.01, prefit=True)\n",
    "    X_subset_train = sel.transform(X_train)\n",
    "    X_subset_test = sel.transform(X_test)\n",
    "    return model, X_subset_train, X_subset_test, perm\n",
    "    "
   ]
  },
  {
   "cell_type": "code",
   "execution_count": 37,
   "metadata": {},
   "outputs": [
    {
     "name": "stdout",
     "output_type": "stream",
     "text": [
      "model score before feature extraction:  0.470045607977531\n"
     ]
    },
    {
     "data": {
      "text/html": [
       "\n",
       "    <style>\n",
       "    table.eli5-weights tr:hover {\n",
       "        filter: brightness(85%);\n",
       "    }\n",
       "</style>\n",
       "\n",
       "\n",
       "\n",
       "    \n",
       "\n",
       "    \n",
       "\n",
       "    \n",
       "\n",
       "    \n",
       "\n",
       "    \n",
       "\n",
       "    \n",
       "\n",
       "\n",
       "    \n",
       "\n",
       "    \n",
       "\n",
       "    \n",
       "\n",
       "    \n",
       "\n",
       "    \n",
       "\n",
       "    \n",
       "\n",
       "\n",
       "    \n",
       "\n",
       "    \n",
       "\n",
       "    \n",
       "\n",
       "    \n",
       "\n",
       "    \n",
       "        <table class=\"eli5-weights eli5-feature-importances\" style=\"border-collapse: collapse; border: none; margin-top: 0em; table-layout: auto;\">\n",
       "    <thead>\n",
       "    <tr style=\"border: none;\">\n",
       "        <th style=\"padding: 0 1em 0 0.5em; text-align: right; border: none;\">Weight</th>\n",
       "        <th style=\"padding: 0 0.5em 0 0.5em; text-align: left; border: none;\">Feature</th>\n",
       "    </tr>\n",
       "    </thead>\n",
       "    <tbody>\n",
       "    \n",
       "        <tr style=\"background-color: hsl(120, 100.00%, 80.00%); border: none;\">\n",
       "            <td style=\"padding: 0 1em 0 0.5em; text-align: right; border: none;\">\n",
       "                0.0568\n",
       "                \n",
       "                    &plusmn; 0.0026\n",
       "                \n",
       "            </td>\n",
       "            <td style=\"padding: 0 0.5em 0 0.5em; text-align: left; border: none;\">\n",
       "                x17\n",
       "            </td>\n",
       "        </tr>\n",
       "    \n",
       "        <tr style=\"background-color: hsl(120, 100.00%, 81.14%); border: none;\">\n",
       "            <td style=\"padding: 0 1em 0 0.5em; text-align: right; border: none;\">\n",
       "                0.0523\n",
       "                \n",
       "                    &plusmn; 0.0036\n",
       "                \n",
       "            </td>\n",
       "            <td style=\"padding: 0 0.5em 0 0.5em; text-align: left; border: none;\">\n",
       "                x8\n",
       "            </td>\n",
       "        </tr>\n",
       "    \n",
       "        <tr style=\"background-color: hsl(120, 100.00%, 83.30%); border: none;\">\n",
       "            <td style=\"padding: 0 1em 0 0.5em; text-align: right; border: none;\">\n",
       "                0.0439\n",
       "                \n",
       "                    &plusmn; 0.0030\n",
       "                \n",
       "            </td>\n",
       "            <td style=\"padding: 0 0.5em 0 0.5em; text-align: left; border: none;\">\n",
       "                x10\n",
       "            </td>\n",
       "        </tr>\n",
       "    \n",
       "        <tr style=\"background-color: hsl(120, 100.00%, 87.31%); border: none;\">\n",
       "            <td style=\"padding: 0 1em 0 0.5em; text-align: right; border: none;\">\n",
       "                0.0297\n",
       "                \n",
       "                    &plusmn; 0.0029\n",
       "                \n",
       "            </td>\n",
       "            <td style=\"padding: 0 0.5em 0 0.5em; text-align: left; border: none;\">\n",
       "                x7\n",
       "            </td>\n",
       "        </tr>\n",
       "    \n",
       "        <tr style=\"background-color: hsl(120, 100.00%, 87.45%); border: none;\">\n",
       "            <td style=\"padding: 0 1em 0 0.5em; text-align: right; border: none;\">\n",
       "                0.0292\n",
       "                \n",
       "                    &plusmn; 0.0033\n",
       "                \n",
       "            </td>\n",
       "            <td style=\"padding: 0 0.5em 0 0.5em; text-align: left; border: none;\">\n",
       "                x9\n",
       "            </td>\n",
       "        </tr>\n",
       "    \n",
       "        <tr style=\"background-color: hsl(120, 100.00%, 90.36%); border: none;\">\n",
       "            <td style=\"padding: 0 1em 0 0.5em; text-align: right; border: none;\">\n",
       "                0.0201\n",
       "                \n",
       "                    &plusmn; 0.0021\n",
       "                \n",
       "            </td>\n",
       "            <td style=\"padding: 0 0.5em 0 0.5em; text-align: left; border: none;\">\n",
       "                x2\n",
       "            </td>\n",
       "        </tr>\n",
       "    \n",
       "        <tr style=\"background-color: hsl(120, 100.00%, 93.01%); border: none;\">\n",
       "            <td style=\"padding: 0 1em 0 0.5em; text-align: right; border: none;\">\n",
       "                0.0127\n",
       "                \n",
       "                    &plusmn; 0.0017\n",
       "                \n",
       "            </td>\n",
       "            <td style=\"padding: 0 0.5em 0 0.5em; text-align: left; border: none;\">\n",
       "                x1\n",
       "            </td>\n",
       "        </tr>\n",
       "    \n",
       "        <tr style=\"background-color: hsl(120, 100.00%, 93.47%); border: none;\">\n",
       "            <td style=\"padding: 0 1em 0 0.5em; text-align: right; border: none;\">\n",
       "                0.0115\n",
       "                \n",
       "                    &plusmn; 0.0013\n",
       "                \n",
       "            </td>\n",
       "            <td style=\"padding: 0 0.5em 0 0.5em; text-align: left; border: none;\">\n",
       "                x0\n",
       "            </td>\n",
       "        </tr>\n",
       "    \n",
       "        <tr style=\"background-color: hsl(120, 100.00%, 94.25%); border: none;\">\n",
       "            <td style=\"padding: 0 1em 0 0.5em; text-align: right; border: none;\">\n",
       "                0.0096\n",
       "                \n",
       "                    &plusmn; 0.0023\n",
       "                \n",
       "            </td>\n",
       "            <td style=\"padding: 0 0.5em 0 0.5em; text-align: left; border: none;\">\n",
       "                x11\n",
       "            </td>\n",
       "        </tr>\n",
       "    \n",
       "        <tr style=\"background-color: hsl(120, 100.00%, 94.27%); border: none;\">\n",
       "            <td style=\"padding: 0 1em 0 0.5em; text-align: right; border: none;\">\n",
       "                0.0095\n",
       "                \n",
       "                    &plusmn; 0.0020\n",
       "                \n",
       "            </td>\n",
       "            <td style=\"padding: 0 0.5em 0 0.5em; text-align: left; border: none;\">\n",
       "                x15\n",
       "            </td>\n",
       "        </tr>\n",
       "    \n",
       "        <tr style=\"background-color: hsl(120, 100.00%, 94.36%); border: none;\">\n",
       "            <td style=\"padding: 0 1em 0 0.5em; text-align: right; border: none;\">\n",
       "                0.0093\n",
       "                \n",
       "                    &plusmn; 0.0019\n",
       "                \n",
       "            </td>\n",
       "            <td style=\"padding: 0 0.5em 0 0.5em; text-align: left; border: none;\">\n",
       "                x12\n",
       "            </td>\n",
       "        </tr>\n",
       "    \n",
       "        <tr style=\"background-color: hsl(120, 100.00%, 94.78%); border: none;\">\n",
       "            <td style=\"padding: 0 1em 0 0.5em; text-align: right; border: none;\">\n",
       "                0.0083\n",
       "                \n",
       "                    &plusmn; 0.0015\n",
       "                \n",
       "            </td>\n",
       "            <td style=\"padding: 0 0.5em 0 0.5em; text-align: left; border: none;\">\n",
       "                x14\n",
       "            </td>\n",
       "        </tr>\n",
       "    \n",
       "        <tr style=\"background-color: hsl(120, 100.00%, 95.48%); border: none;\">\n",
       "            <td style=\"padding: 0 1em 0 0.5em; text-align: right; border: none;\">\n",
       "                0.0068\n",
       "                \n",
       "                    &plusmn; 0.0023\n",
       "                \n",
       "            </td>\n",
       "            <td style=\"padding: 0 0.5em 0 0.5em; text-align: left; border: none;\">\n",
       "                x16\n",
       "            </td>\n",
       "        </tr>\n",
       "    \n",
       "        <tr style=\"background-color: hsl(120, 100.00%, 95.96%); border: none;\">\n",
       "            <td style=\"padding: 0 1em 0 0.5em; text-align: right; border: none;\">\n",
       "                0.0058\n",
       "                \n",
       "                    &plusmn; 0.0028\n",
       "                \n",
       "            </td>\n",
       "            <td style=\"padding: 0 0.5em 0 0.5em; text-align: left; border: none;\">\n",
       "                x3\n",
       "            </td>\n",
       "        </tr>\n",
       "    \n",
       "        <tr style=\"background-color: hsl(120, 100.00%, 96.02%); border: none;\">\n",
       "            <td style=\"padding: 0 1em 0 0.5em; text-align: right; border: none;\">\n",
       "                0.0057\n",
       "                \n",
       "                    &plusmn; 0.0013\n",
       "                \n",
       "            </td>\n",
       "            <td style=\"padding: 0 0.5em 0 0.5em; text-align: left; border: none;\">\n",
       "                x6\n",
       "            </td>\n",
       "        </tr>\n",
       "    \n",
       "        <tr style=\"background-color: hsl(120, 100.00%, 96.54%); border: none;\">\n",
       "            <td style=\"padding: 0 1em 0 0.5em; text-align: right; border: none;\">\n",
       "                0.0046\n",
       "                \n",
       "                    &plusmn; 0.0014\n",
       "                \n",
       "            </td>\n",
       "            <td style=\"padding: 0 0.5em 0 0.5em; text-align: left; border: none;\">\n",
       "                x13\n",
       "            </td>\n",
       "        </tr>\n",
       "    \n",
       "        <tr style=\"background-color: hsl(120, 100.00%, 96.89%); border: none;\">\n",
       "            <td style=\"padding: 0 1em 0 0.5em; text-align: right; border: none;\">\n",
       "                0.0040\n",
       "                \n",
       "                    &plusmn; 0.0030\n",
       "                \n",
       "            </td>\n",
       "            <td style=\"padding: 0 0.5em 0 0.5em; text-align: left; border: none;\">\n",
       "                x4\n",
       "            </td>\n",
       "        </tr>\n",
       "    \n",
       "        <tr style=\"background-color: hsl(120, 100.00%, 98.49%); border: none;\">\n",
       "            <td style=\"padding: 0 1em 0 0.5em; text-align: right; border: none;\">\n",
       "                0.0014\n",
       "                \n",
       "                    &plusmn; 0.0005\n",
       "                \n",
       "            </td>\n",
       "            <td style=\"padding: 0 0.5em 0 0.5em; text-align: left; border: none;\">\n",
       "                x5\n",
       "            </td>\n",
       "        </tr>\n",
       "    \n",
       "    \n",
       "    </tbody>\n",
       "</table>\n",
       "    \n",
       "\n",
       "    \n",
       "\n",
       "\n",
       "    \n",
       "\n",
       "    \n",
       "\n",
       "    \n",
       "\n",
       "    \n",
       "\n",
       "    \n",
       "\n",
       "    \n",
       "\n",
       "\n",
       "\n"
      ],
      "text/plain": [
       "<IPython.core.display.HTML object>"
      ]
     },
     "execution_count": 37,
     "metadata": {},
     "output_type": "execute_result"
    }
   ],
   "source": [
    "clf = sklearn.ensemble.RandomForestClassifier(n_estimators=10, n_jobs=-1)\n",
    "clf, X_subset_train, X_subset_test, perm = feature_selection(clf, X_train, X_test, y_train, y_test)\n",
    "eli5.show_weights(perm)"
   ]
  },
  {
   "cell_type": "code",
   "execution_count": 44,
   "metadata": {},
   "outputs": [
    {
     "name": "stdout",
     "output_type": "stream",
     "text": [
      "model score before feature extraction:  0.4457986549511711\n"
     ]
    },
    {
     "data": {
      "text/html": [
       "\n",
       "    <style>\n",
       "    table.eli5-weights tr:hover {\n",
       "        filter: brightness(85%);\n",
       "    }\n",
       "</style>\n",
       "\n",
       "\n",
       "\n",
       "    \n",
       "\n",
       "    \n",
       "\n",
       "    \n",
       "\n",
       "    \n",
       "\n",
       "    \n",
       "\n",
       "    \n",
       "\n",
       "\n",
       "    \n",
       "\n",
       "    \n",
       "\n",
       "    \n",
       "\n",
       "    \n",
       "\n",
       "    \n",
       "\n",
       "    \n",
       "\n",
       "\n",
       "    \n",
       "\n",
       "    \n",
       "\n",
       "    \n",
       "\n",
       "    \n",
       "\n",
       "    \n",
       "        <table class=\"eli5-weights eli5-feature-importances\" style=\"border-collapse: collapse; border: none; margin-top: 0em; table-layout: auto;\">\n",
       "    <thead>\n",
       "    <tr style=\"border: none;\">\n",
       "        <th style=\"padding: 0 1em 0 0.5em; text-align: right; border: none;\">Weight</th>\n",
       "        <th style=\"padding: 0 0.5em 0 0.5em; text-align: left; border: none;\">Feature</th>\n",
       "    </tr>\n",
       "    </thead>\n",
       "    <tbody>\n",
       "    \n",
       "        <tr style=\"background-color: hsl(120, 100.00%, 80.00%); border: none;\">\n",
       "            <td style=\"padding: 0 1em 0 0.5em; text-align: right; border: none;\">\n",
       "                0.1131\n",
       "                \n",
       "                    &plusmn; 0.0029\n",
       "                \n",
       "            </td>\n",
       "            <td style=\"padding: 0 0.5em 0 0.5em; text-align: left; border: none;\">\n",
       "                x17\n",
       "            </td>\n",
       "        </tr>\n",
       "    \n",
       "        <tr style=\"background-color: hsl(120, 100.00%, 90.58%); border: none;\">\n",
       "            <td style=\"padding: 0 1em 0 0.5em; text-align: right; border: none;\">\n",
       "                0.0386\n",
       "                \n",
       "                    &plusmn; 0.0009\n",
       "                \n",
       "            </td>\n",
       "            <td style=\"padding: 0 0.5em 0 0.5em; text-align: left; border: none;\">\n",
       "                x7\n",
       "            </td>\n",
       "        </tr>\n",
       "    \n",
       "        <tr style=\"background-color: hsl(120, 100.00%, 95.62%); border: none;\">\n",
       "            <td style=\"padding: 0 1em 0 0.5em; text-align: right; border: none;\">\n",
       "                0.0129\n",
       "                \n",
       "                    &plusmn; 0.0016\n",
       "                \n",
       "            </td>\n",
       "            <td style=\"padding: 0 0.5em 0 0.5em; text-align: left; border: none;\">\n",
       "                x6\n",
       "            </td>\n",
       "        </tr>\n",
       "    \n",
       "        <tr style=\"background-color: hsl(120, 100.00%, 97.13%); border: none;\">\n",
       "            <td style=\"padding: 0 1em 0 0.5em; text-align: right; border: none;\">\n",
       "                0.0070\n",
       "                \n",
       "                    &plusmn; 0.0018\n",
       "                \n",
       "            </td>\n",
       "            <td style=\"padding: 0 0.5em 0 0.5em; text-align: left; border: none;\">\n",
       "                x15\n",
       "            </td>\n",
       "        </tr>\n",
       "    \n",
       "        <tr style=\"background-color: hsl(120, 100.00%, 98.63%); border: none;\">\n",
       "            <td style=\"padding: 0 1em 0 0.5em; text-align: right; border: none;\">\n",
       "                0.0025\n",
       "                \n",
       "                    &plusmn; 0.0010\n",
       "                \n",
       "            </td>\n",
       "            <td style=\"padding: 0 0.5em 0 0.5em; text-align: left; border: none;\">\n",
       "                x16\n",
       "            </td>\n",
       "        </tr>\n",
       "    \n",
       "        <tr style=\"background-color: hsl(120, 100.00%, 98.63%); border: none;\">\n",
       "            <td style=\"padding: 0 1em 0 0.5em; text-align: right; border: none;\">\n",
       "                0.0025\n",
       "                \n",
       "                    &plusmn; 0.0012\n",
       "                \n",
       "            </td>\n",
       "            <td style=\"padding: 0 0.5em 0 0.5em; text-align: left; border: none;\">\n",
       "                x12\n",
       "            </td>\n",
       "        </tr>\n",
       "    \n",
       "        <tr style=\"background-color: hsl(120, 100.00%, 98.75%); border: none;\">\n",
       "            <td style=\"padding: 0 1em 0 0.5em; text-align: right; border: none;\">\n",
       "                0.0022\n",
       "                \n",
       "                    &plusmn; 0.0013\n",
       "                \n",
       "            </td>\n",
       "            <td style=\"padding: 0 0.5em 0 0.5em; text-align: left; border: none;\">\n",
       "                x14\n",
       "            </td>\n",
       "        </tr>\n",
       "    \n",
       "        <tr style=\"background-color: hsl(120, 100.00%, 98.95%); border: none;\">\n",
       "            <td style=\"padding: 0 1em 0 0.5em; text-align: right; border: none;\">\n",
       "                0.0017\n",
       "                \n",
       "                    &plusmn; 0.0011\n",
       "                \n",
       "            </td>\n",
       "            <td style=\"padding: 0 0.5em 0 0.5em; text-align: left; border: none;\">\n",
       "                x0\n",
       "            </td>\n",
       "        </tr>\n",
       "    \n",
       "        <tr style=\"background-color: hsl(120, 100.00%, 99.12%); border: none;\">\n",
       "            <td style=\"padding: 0 1em 0 0.5em; text-align: right; border: none;\">\n",
       "                0.0013\n",
       "                \n",
       "                    &plusmn; 0.0011\n",
       "                \n",
       "            </td>\n",
       "            <td style=\"padding: 0 0.5em 0 0.5em; text-align: left; border: none;\">\n",
       "                x10\n",
       "            </td>\n",
       "        </tr>\n",
       "    \n",
       "        <tr style=\"background-color: hsl(120, 100.00%, 99.16%); border: none;\">\n",
       "            <td style=\"padding: 0 1em 0 0.5em; text-align: right; border: none;\">\n",
       "                0.0012\n",
       "                \n",
       "                    &plusmn; 0.0006\n",
       "                \n",
       "            </td>\n",
       "            <td style=\"padding: 0 0.5em 0 0.5em; text-align: left; border: none;\">\n",
       "                x8\n",
       "            </td>\n",
       "        </tr>\n",
       "    \n",
       "        <tr style=\"background-color: hsl(120, 100.00%, 99.24%); border: none;\">\n",
       "            <td style=\"padding: 0 1em 0 0.5em; text-align: right; border: none;\">\n",
       "                0.0011\n",
       "                \n",
       "                    &plusmn; 0.0002\n",
       "                \n",
       "            </td>\n",
       "            <td style=\"padding: 0 0.5em 0 0.5em; text-align: left; border: none;\">\n",
       "                x5\n",
       "            </td>\n",
       "        </tr>\n",
       "    \n",
       "        <tr style=\"background-color: hsl(120, 100.00%, 99.39%); border: none;\">\n",
       "            <td style=\"padding: 0 1em 0 0.5em; text-align: right; border: none;\">\n",
       "                0.0008\n",
       "                \n",
       "                    &plusmn; 0.0004\n",
       "                \n",
       "            </td>\n",
       "            <td style=\"padding: 0 0.5em 0 0.5em; text-align: left; border: none;\">\n",
       "                x11\n",
       "            </td>\n",
       "        </tr>\n",
       "    \n",
       "        <tr style=\"background-color: hsl(120, 100.00%, 99.56%); border: none;\">\n",
       "            <td style=\"padding: 0 1em 0 0.5em; text-align: right; border: none;\">\n",
       "                0.0005\n",
       "                \n",
       "                    &plusmn; 0.0002\n",
       "                \n",
       "            </td>\n",
       "            <td style=\"padding: 0 0.5em 0 0.5em; text-align: left; border: none;\">\n",
       "                x9\n",
       "            </td>\n",
       "        </tr>\n",
       "    \n",
       "        <tr style=\"background-color: hsl(120, 100.00%, 99.60%); border: none;\">\n",
       "            <td style=\"padding: 0 1em 0 0.5em; text-align: right; border: none;\">\n",
       "                0.0004\n",
       "                \n",
       "                    &plusmn; 0.0003\n",
       "                \n",
       "            </td>\n",
       "            <td style=\"padding: 0 0.5em 0 0.5em; text-align: left; border: none;\">\n",
       "                x2\n",
       "            </td>\n",
       "        </tr>\n",
       "    \n",
       "        <tr style=\"background-color: hsl(120, 100.00%, 99.65%); border: none;\">\n",
       "            <td style=\"padding: 0 1em 0 0.5em; text-align: right; border: none;\">\n",
       "                0.0003\n",
       "                \n",
       "                    &plusmn; 0.0004\n",
       "                \n",
       "            </td>\n",
       "            <td style=\"padding: 0 0.5em 0 0.5em; text-align: left; border: none;\">\n",
       "                x4\n",
       "            </td>\n",
       "        </tr>\n",
       "    \n",
       "        <tr style=\"background-color: hsl(120, 100.00%, 99.69%); border: none;\">\n",
       "            <td style=\"padding: 0 1em 0 0.5em; text-align: right; border: none;\">\n",
       "                0.0003\n",
       "                \n",
       "                    &plusmn; 0.0003\n",
       "                \n",
       "            </td>\n",
       "            <td style=\"padding: 0 0.5em 0 0.5em; text-align: left; border: none;\">\n",
       "                x1\n",
       "            </td>\n",
       "        </tr>\n",
       "    \n",
       "        <tr style=\"background-color: hsl(0, 100.00%, 99.87%); border: none;\">\n",
       "            <td style=\"padding: 0 1em 0 0.5em; text-align: right; border: none;\">\n",
       "                -0.0001\n",
       "                \n",
       "                    &plusmn; 0.0008\n",
       "                \n",
       "            </td>\n",
       "            <td style=\"padding: 0 0.5em 0 0.5em; text-align: left; border: none;\">\n",
       "                x13\n",
       "            </td>\n",
       "        </tr>\n",
       "    \n",
       "        <tr style=\"background-color: hsl(0, 100.00%, 99.80%); border: none;\">\n",
       "            <td style=\"padding: 0 1em 0 0.5em; text-align: right; border: none;\">\n",
       "                -0.0002\n",
       "                \n",
       "                    &plusmn; 0.0004\n",
       "                \n",
       "            </td>\n",
       "            <td style=\"padding: 0 0.5em 0 0.5em; text-align: left; border: none;\">\n",
       "                x3\n",
       "            </td>\n",
       "        </tr>\n",
       "    \n",
       "    \n",
       "    </tbody>\n",
       "</table>\n",
       "    \n",
       "\n",
       "    \n",
       "\n",
       "\n",
       "    \n",
       "\n",
       "    \n",
       "\n",
       "    \n",
       "\n",
       "    \n",
       "\n",
       "    \n",
       "\n",
       "    \n",
       "\n",
       "\n",
       "\n"
      ],
      "text/plain": [
       "<IPython.core.display.HTML object>"
      ]
     },
     "execution_count": 44,
     "metadata": {},
     "output_type": "execute_result"
    }
   ],
   "source": [
    "clf = sklearn.svm.SVC(gamma=0.01, C=5, decision_function_shape='ova')\n",
    "clf, X_subset_train, X_subset_test, perm = feature_selection(clf, X_train, X_test, y_train, y_test)\n",
    "eli5.show_weights(perm)"
   ]
  },
  {
   "cell_type": "code",
   "execution_count": 45,
   "metadata": {},
   "outputs": [
    {
     "name": "stdout",
     "output_type": "stream",
     "text": [
      "model score before feature extraction:  0.46002215980829186\n"
     ]
    },
    {
     "data": {
      "text/html": [
       "\n",
       "    <style>\n",
       "    table.eli5-weights tr:hover {\n",
       "        filter: brightness(85%);\n",
       "    }\n",
       "</style>\n",
       "\n",
       "\n",
       "\n",
       "    \n",
       "\n",
       "    \n",
       "\n",
       "    \n",
       "\n",
       "    \n",
       "\n",
       "    \n",
       "\n",
       "    \n",
       "\n",
       "\n",
       "    \n",
       "\n",
       "    \n",
       "\n",
       "    \n",
       "\n",
       "    \n",
       "\n",
       "    \n",
       "\n",
       "    \n",
       "\n",
       "\n",
       "    \n",
       "\n",
       "    \n",
       "\n",
       "    \n",
       "\n",
       "    \n",
       "\n",
       "    \n",
       "        <table class=\"eli5-weights eli5-feature-importances\" style=\"border-collapse: collapse; border: none; margin-top: 0em; table-layout: auto;\">\n",
       "    <thead>\n",
       "    <tr style=\"border: none;\">\n",
       "        <th style=\"padding: 0 1em 0 0.5em; text-align: right; border: none;\">Weight</th>\n",
       "        <th style=\"padding: 0 0.5em 0 0.5em; text-align: left; border: none;\">Feature</th>\n",
       "    </tr>\n",
       "    </thead>\n",
       "    <tbody>\n",
       "    \n",
       "        <tr style=\"background-color: hsl(120, 100.00%, 80.00%); border: none;\">\n",
       "            <td style=\"padding: 0 1em 0 0.5em; text-align: right; border: none;\">\n",
       "                0.0986\n",
       "                \n",
       "                    &plusmn; 0.0033\n",
       "                \n",
       "            </td>\n",
       "            <td style=\"padding: 0 0.5em 0 0.5em; text-align: left; border: none;\">\n",
       "                x17\n",
       "            </td>\n",
       "        </tr>\n",
       "    \n",
       "        <tr style=\"background-color: hsl(120, 100.00%, 90.57%); border: none;\">\n",
       "            <td style=\"padding: 0 1em 0 0.5em; text-align: right; border: none;\">\n",
       "                0.0337\n",
       "                \n",
       "                    &plusmn; 0.0019\n",
       "                \n",
       "            </td>\n",
       "            <td style=\"padding: 0 0.5em 0 0.5em; text-align: left; border: none;\">\n",
       "                x7\n",
       "            </td>\n",
       "        </tr>\n",
       "    \n",
       "        <tr style=\"background-color: hsl(120, 100.00%, 92.82%); border: none;\">\n",
       "            <td style=\"padding: 0 1em 0 0.5em; text-align: right; border: none;\">\n",
       "                0.0228\n",
       "                \n",
       "                    &plusmn; 0.0024\n",
       "                \n",
       "            </td>\n",
       "            <td style=\"padding: 0 0.5em 0 0.5em; text-align: left; border: none;\">\n",
       "                x15\n",
       "            </td>\n",
       "        </tr>\n",
       "    \n",
       "        <tr style=\"background-color: hsl(120, 100.00%, 93.57%); border: none;\">\n",
       "            <td style=\"padding: 0 1em 0 0.5em; text-align: right; border: none;\">\n",
       "                0.0195\n",
       "                \n",
       "                    &plusmn; 0.0006\n",
       "                \n",
       "            </td>\n",
       "            <td style=\"padding: 0 0.5em 0 0.5em; text-align: left; border: none;\">\n",
       "                x10\n",
       "            </td>\n",
       "        </tr>\n",
       "    \n",
       "        <tr style=\"background-color: hsl(120, 100.00%, 94.35%); border: none;\">\n",
       "            <td style=\"padding: 0 1em 0 0.5em; text-align: right; border: none;\">\n",
       "                0.0162\n",
       "                \n",
       "                    &plusmn; 0.0008\n",
       "                \n",
       "            </td>\n",
       "            <td style=\"padding: 0 0.5em 0 0.5em; text-align: left; border: none;\">\n",
       "                x0\n",
       "            </td>\n",
       "        </tr>\n",
       "    \n",
       "        <tr style=\"background-color: hsl(120, 100.00%, 94.66%); border: none;\">\n",
       "            <td style=\"padding: 0 1em 0 0.5em; text-align: right; border: none;\">\n",
       "                0.0149\n",
       "                \n",
       "                    &plusmn; 0.0015\n",
       "                \n",
       "            </td>\n",
       "            <td style=\"padding: 0 0.5em 0 0.5em; text-align: left; border: none;\">\n",
       "                x6\n",
       "            </td>\n",
       "        </tr>\n",
       "    \n",
       "        <tr style=\"background-color: hsl(120, 100.00%, 94.85%); border: none;\">\n",
       "            <td style=\"padding: 0 1em 0 0.5em; text-align: right; border: none;\">\n",
       "                0.0142\n",
       "                \n",
       "                    &plusmn; 0.0019\n",
       "                \n",
       "            </td>\n",
       "            <td style=\"padding: 0 0.5em 0 0.5em; text-align: left; border: none;\">\n",
       "                x12\n",
       "            </td>\n",
       "        </tr>\n",
       "    \n",
       "        <tr style=\"background-color: hsl(120, 100.00%, 95.61%); border: none;\">\n",
       "            <td style=\"padding: 0 1em 0 0.5em; text-align: right; border: none;\">\n",
       "                0.0113\n",
       "                \n",
       "                    &plusmn; 0.0011\n",
       "                \n",
       "            </td>\n",
       "            <td style=\"padding: 0 0.5em 0 0.5em; text-align: left; border: none;\">\n",
       "                x16\n",
       "            </td>\n",
       "        </tr>\n",
       "    \n",
       "        <tr style=\"background-color: hsl(120, 100.00%, 95.80%); border: none;\">\n",
       "            <td style=\"padding: 0 1em 0 0.5em; text-align: right; border: none;\">\n",
       "                0.0106\n",
       "                \n",
       "                    &plusmn; 0.0015\n",
       "                \n",
       "            </td>\n",
       "            <td style=\"padding: 0 0.5em 0 0.5em; text-align: left; border: none;\">\n",
       "                x14\n",
       "            </td>\n",
       "        </tr>\n",
       "    \n",
       "        <tr style=\"background-color: hsl(120, 100.00%, 95.91%); border: none;\">\n",
       "            <td style=\"padding: 0 1em 0 0.5em; text-align: right; border: none;\">\n",
       "                0.0102\n",
       "                \n",
       "                    &plusmn; 0.0012\n",
       "                \n",
       "            </td>\n",
       "            <td style=\"padding: 0 0.5em 0 0.5em; text-align: left; border: none;\">\n",
       "                x13\n",
       "            </td>\n",
       "        </tr>\n",
       "    \n",
       "        <tr style=\"background-color: hsl(120, 100.00%, 96.66%); border: none;\">\n",
       "            <td style=\"padding: 0 1em 0 0.5em; text-align: right; border: none;\">\n",
       "                0.0077\n",
       "                \n",
       "                    &plusmn; 0.0025\n",
       "                \n",
       "            </td>\n",
       "            <td style=\"padding: 0 0.5em 0 0.5em; text-align: left; border: none;\">\n",
       "                x2\n",
       "            </td>\n",
       "        </tr>\n",
       "    \n",
       "        <tr style=\"background-color: hsl(120, 100.00%, 97.72%); border: none;\">\n",
       "            <td style=\"padding: 0 1em 0 0.5em; text-align: right; border: none;\">\n",
       "                0.0044\n",
       "                \n",
       "                    &plusmn; 0.0011\n",
       "                \n",
       "            </td>\n",
       "            <td style=\"padding: 0 0.5em 0 0.5em; text-align: left; border: none;\">\n",
       "                x11\n",
       "            </td>\n",
       "        </tr>\n",
       "    \n",
       "        <tr style=\"background-color: hsl(120, 100.00%, 98.18%); border: none;\">\n",
       "            <td style=\"padding: 0 1em 0 0.5em; text-align: right; border: none;\">\n",
       "                0.0032\n",
       "                \n",
       "                    &plusmn; 0.0013\n",
       "                \n",
       "            </td>\n",
       "            <td style=\"padding: 0 0.5em 0 0.5em; text-align: left; border: none;\">\n",
       "                x4\n",
       "            </td>\n",
       "        </tr>\n",
       "    \n",
       "        <tr style=\"background-color: hsl(120, 100.00%, 98.37%); border: none;\">\n",
       "            <td style=\"padding: 0 1em 0 0.5em; text-align: right; border: none;\">\n",
       "                0.0027\n",
       "                \n",
       "                    &plusmn; 0.0004\n",
       "                \n",
       "            </td>\n",
       "            <td style=\"padding: 0 0.5em 0 0.5em; text-align: left; border: none;\">\n",
       "                x9\n",
       "            </td>\n",
       "        </tr>\n",
       "    \n",
       "        <tr style=\"background-color: hsl(120, 100.00%, 98.57%); border: none;\">\n",
       "            <td style=\"padding: 0 1em 0 0.5em; text-align: right; border: none;\">\n",
       "                0.0023\n",
       "                \n",
       "                    &plusmn; 0.0012\n",
       "                \n",
       "            </td>\n",
       "            <td style=\"padding: 0 0.5em 0 0.5em; text-align: left; border: none;\">\n",
       "                x5\n",
       "            </td>\n",
       "        </tr>\n",
       "    \n",
       "        <tr style=\"background-color: hsl(120, 100.00%, 98.78%); border: none;\">\n",
       "            <td style=\"padding: 0 1em 0 0.5em; text-align: right; border: none;\">\n",
       "                0.0018\n",
       "                \n",
       "                    &plusmn; 0.0013\n",
       "                \n",
       "            </td>\n",
       "            <td style=\"padding: 0 0.5em 0 0.5em; text-align: left; border: none;\">\n",
       "                x3\n",
       "            </td>\n",
       "        </tr>\n",
       "    \n",
       "        <tr style=\"background-color: hsl(120, 100.00%, 98.88%); border: none;\">\n",
       "            <td style=\"padding: 0 1em 0 0.5em; text-align: right; border: none;\">\n",
       "                0.0016\n",
       "                \n",
       "                    &plusmn; 0.0012\n",
       "                \n",
       "            </td>\n",
       "            <td style=\"padding: 0 0.5em 0 0.5em; text-align: left; border: none;\">\n",
       "                x8\n",
       "            </td>\n",
       "        </tr>\n",
       "    \n",
       "        <tr style=\"background-color: hsl(120, 100.00%, 99.02%); border: none;\">\n",
       "            <td style=\"padding: 0 1em 0 0.5em; text-align: right; border: none;\">\n",
       "                0.0013\n",
       "                \n",
       "                    &plusmn; 0.0008\n",
       "                \n",
       "            </td>\n",
       "            <td style=\"padding: 0 0.5em 0 0.5em; text-align: left; border: none;\">\n",
       "                x1\n",
       "            </td>\n",
       "        </tr>\n",
       "    \n",
       "    \n",
       "    </tbody>\n",
       "</table>\n",
       "    \n",
       "\n",
       "    \n",
       "\n",
       "\n",
       "    \n",
       "\n",
       "    \n",
       "\n",
       "    \n",
       "\n",
       "    \n",
       "\n",
       "    \n",
       "\n",
       "    \n",
       "\n",
       "\n",
       "\n"
      ],
      "text/plain": [
       "<IPython.core.display.HTML object>"
      ]
     },
     "execution_count": 45,
     "metadata": {},
     "output_type": "execute_result"
    }
   ],
   "source": [
    "clf = sklearn.neural_network.MLPClassifier(solver='lbfgs', alpha=0.01,\\\n",
    "                                               hidden_layer_sizes=(50, 50, 50), random_state=1, max_iter=500)\n",
    "clf, X_subset_train, X_subset_test, perm = feature_selection(clf, X_train, X_test, y_train, y_test)\n",
    "eli5.show_weights(perm)"
   ]
  },
  {
   "cell_type": "code",
   "execution_count": 46,
   "metadata": {},
   "outputs": [],
   "source": [
    "# clf.fit(X_trans_train, y_train)\n",
    "# clf.score(X_trans_test, y_test)"
   ]
  },
  {
   "cell_type": "code",
   "execution_count": 41,
   "metadata": {},
   "outputs": [
    {
     "data": {
      "text/plain": [
       "Index(['land_use_e_f', 'temporal_c', 'temperatur', 'weekday', 'precip',\n",
       "       'distance_m', 'duration', 'mode_f'],\n",
       "      dtype='object')"
      ]
     },
     "execution_count": 41,
     "metadata": {},
     "output_type": "execute_result"
    }
   ],
   "source": [
    "X_test.columns[[17,8,10,7,9,2,1,0]]"
   ]
  },
  {
   "cell_type": "code",
   "execution_count": 38,
   "metadata": {
    "scrolled": true
   },
   "outputs": [
    {
     "data": {
      "text/plain": [
       "(78794, 8)"
      ]
     },
     "execution_count": 38,
     "metadata": {},
     "output_type": "execute_result"
    }
   ],
   "source": [
    "X_subset_train.shape"
   ]
  },
  {
   "cell_type": "code",
   "execution_count": 91,
   "metadata": {},
   "outputs": [],
   "source": [
    "## ORIGINAL WAY OF EXTRACTING\n",
    "# # Train Test Split\n",
    "# X_train, X_test, y_train, y_test  = model_setup(all_X, all_y, norm=True, test_size=0.33, to_normalize=non_categorical_features)\n",
    "# feature_list = list(X_train.columns)\n",
    "# training_ids = X_train['id_trip']\n",
    "# X_train = X_train.drop('id_trip', axis=1)\n",
    "# testing_ids = X_test['id_trip']\n",
    "# X_test = X_test.drop('id_trip', axis=1)\n",
    "\n",
    "# # run a model\n",
    "# clf, _, _, _ = run_rf(X_train, X_test, y_train, y_test,cv=False)\n",
    "# # extract feature importances\n",
    "# feature_importances, above_thresh = calc_feature_imp(clf, feature_list, threshold=0.01)\n",
    "# above_thresh[:]\n",
    "# feature_importances\n",
    "# subset_X = subset_to_imp_features(all_X,above_thresh)"
   ]
  },
  {
   "cell_type": "markdown",
   "metadata": {},
   "source": [
    "### 3.3 Re-build the models with new subset data\n",
    "\n",
    "#### Note:\n",
    "\n",
    "purpose = {'leisure': 0, 'food_drink': 1, 'shops': 2, 'pick_up_drop_off': 3, 'education': 4, 'health': 5}  "
   ]
  },
  {
   "cell_type": "code",
   "execution_count": 33,
   "metadata": {},
   "outputs": [],
   "source": [
    "# Train Test Split\n",
    "X_train, X_test, y_train, y_test = model_setup(subset_X, all_y, norm=True, test_size=0.33, to_normalise=non_categorical_features)"
   ]
  },
  {
   "cell_type": "code",
   "execution_count": 34,
   "metadata": {},
   "outputs": [],
   "source": [
    "training_ids = X_train['id_trip']\n",
    "X_train = X_train.drop('id_trip', axis=1)\n",
    "testing_ids = X_test['id_trip']\n",
    "X_test = X_test.drop('id_trip', axis=1)"
   ]
  },
  {
   "cell_type": "code",
   "execution_count": 35,
   "metadata": {
    "scrolled": true
   },
   "outputs": [
    {
     "name": "stderr",
     "output_type": "stream",
     "text": [
      "/Applications/anaconda/envs/st-ds/lib/python3.7/site-packages/ipykernel_launcher.py:11: DataConversionWarning: A column-vector y was passed when a 1d array was expected. Please change the shape of y to (n_samples,), for example using ravel().\n",
      "  # This is added back by InteractiveShellApp.init_path()\n"
     ]
    },
    {
     "name": "stdout",
     "output_type": "stream",
     "text": [
      "Random Forest Classifcation accuracy: 0.4326316060707568\n"
     ]
    }
   ],
   "source": [
    "rf_clf, rf_score, rf_preds, rf_cv_scores = run_rf(X_train, X_test, y_train, y_test)"
   ]
  },
  {
   "cell_type": "code",
   "execution_count": 36,
   "metadata": {},
   "outputs": [
    {
     "name": "stdout",
     "output_type": "stream",
     "text": [
      "predictions for each class by RF: Counter({0: 18524, 4: 10751, 1: 4137, 3: 3001, 2: 1588, 6: 355, 5: 254, 7: 199}) \n",
      "\n",
      "              precision    recall  f1-score   support\n",
      "\n",
      "           0       0.46      0.67      0.54     12546\n",
      "           1       0.24      0.20      0.22      5108\n",
      "           2       0.20      0.12      0.15      2806\n",
      "           3       0.27      0.18      0.22      4424\n",
      "           4       0.57      0.60      0.58     10175\n",
      "           5       0.13      0.03      0.04      1271\n",
      "           6       0.15      0.04      0.06      1464\n",
      "           7       0.13      0.03      0.04      1015\n",
      "\n",
      "    accuracy                           0.43     38809\n",
      "   macro avg       0.27      0.23      0.23     38809\n",
      "weighted avg       0.39      0.43      0.40     38809\n",
      "\n"
     ]
    }
   ],
   "source": [
    "print('predictions for each class by RF:', collections.Counter(rf_preds), '\\n')\n",
    "# {'leisure': 0, 'food_drink': 1, 'shops': 2,\n",
    "# 'pick_up_drop_off': 3, 'education': 4, 'health': 5}\n",
    "print(sklearn.metrics.classification_report(y_test, rf_preds))"
   ]
  },
  {
   "cell_type": "code",
   "execution_count": 37,
   "metadata": {
    "scrolled": true
   },
   "outputs": [
    {
     "name": "stderr",
     "output_type": "stream",
     "text": [
      "/Applications/anaconda/envs/st-ds/lib/python3.7/site-packages/sklearn/utils/validation.py:724: DataConversionWarning: A column-vector y was passed when a 1d array was expected. Please change the shape of y to (n_samples, ), for example using ravel().\n",
      "  y = column_or_1d(y, warn=True)\n"
     ]
    },
    {
     "name": "stdout",
     "output_type": "stream",
     "text": [
      "Support Vector classification accuracy: 0.3523667190600119\n"
     ]
    }
   ],
   "source": [
    "svc_score, svc_preds, svc_cv_score = run_svc(X_train, X_test, y_train, y_test)"
   ]
  },
  {
   "cell_type": "code",
   "execution_count": 38,
   "metadata": {},
   "outputs": [
    {
     "name": "stdout",
     "output_type": "stream",
     "text": [
      "predictions for each class by SVC: Counter({0: 25204, 4: 13605}) \n",
      "\n",
      "              precision    recall  f1-score   support\n",
      "\n",
      "           0       0.35      0.70      0.47     12546\n",
      "           1       0.00      0.00      0.00      5108\n",
      "           2       0.00      0.00      0.00      2806\n",
      "           3       0.00      0.00      0.00      4424\n",
      "           4       0.36      0.48      0.41     10175\n",
      "           5       0.00      0.00      0.00      1271\n",
      "           6       0.00      0.00      0.00      1464\n",
      "           7       0.00      0.00      0.00      1015\n",
      "\n",
      "    accuracy                           0.35     38809\n",
      "   macro avg       0.09      0.15      0.11     38809\n",
      "weighted avg       0.21      0.35      0.26     38809\n",
      "\n"
     ]
    },
    {
     "name": "stderr",
     "output_type": "stream",
     "text": [
      "/Applications/anaconda/envs/st-ds/lib/python3.7/site-packages/sklearn/metrics/classification.py:1437: UndefinedMetricWarning: Precision and F-score are ill-defined and being set to 0.0 in labels with no predicted samples.\n",
      "  'precision', 'predicted', average, warn_for)\n"
     ]
    }
   ],
   "source": [
    "print('predictions for each class by SVC:', collections.Counter(svc_preds), '\\n')\n",
    "# {'leisure': 0, 'food_drink': 1, 'shops': 2,\n",
    "# 'pick_up_drop_off': 3, 'education': 4, 'health': 5}\n",
    "print(sklearn.metrics.classification_report(y_test, svc_preds))"
   ]
  },
  {
   "cell_type": "code",
   "execution_count": 39,
   "metadata": {
    "scrolled": true
   },
   "outputs": [
    {
     "name": "stderr",
     "output_type": "stream",
     "text": [
      "/Applications/anaconda/envs/st-ds/lib/python3.7/site-packages/sklearn/neural_network/multilayer_perceptron.py:921: DataConversionWarning: A column-vector y was passed when a 1d array was expected. Please change the shape of y to (n_samples, ), for example using ravel().\n",
      "  y = column_or_1d(y, warn=True)\n"
     ]
    },
    {
     "name": "stdout",
     "output_type": "stream",
     "text": [
      "Neural Network classification accuracy: 0.4605890386250612\n"
     ]
    }
   ],
   "source": [
    "nn_score, nn_preds, nn_cv_score = run_ann(X_train, X_test, y_train, y_test)"
   ]
  },
  {
   "cell_type": "code",
   "execution_count": 40,
   "metadata": {},
   "outputs": [
    {
     "name": "stdout",
     "output_type": "stream",
     "text": [
      "predictions for each class by ANN: Counter({0: 20052, 4: 12759, 3: 2779, 1: 2376, 2: 831, 7: 5, 6: 4, 5: 3}) \n",
      "\n",
      "              precision    recall  f1-score   support\n",
      "\n",
      "           0       0.46      0.74      0.57     12546\n",
      "           1       0.32      0.15      0.20      5108\n",
      "           2       0.26      0.08      0.12      2806\n",
      "           3       0.31      0.19      0.24      4424\n",
      "           4       0.53      0.67      0.59     10175\n",
      "           5       0.33      0.00      0.00      1271\n",
      "           6       0.50      0.00      0.00      1464\n",
      "           7       0.20      0.00      0.00      1015\n",
      "\n",
      "    accuracy                           0.46     38809\n",
      "   macro avg       0.36      0.23      0.22     38809\n",
      "weighted avg       0.42      0.46      0.40     38809\n",
      "\n"
     ]
    }
   ],
   "source": [
    "print('predictions for each class by ANN:', collections.Counter(nn_preds), '\\n')\n",
    "# {'leisure': 0, 'food_drink': 1, 'shops': 2,\n",
    "# 'pick_up_drop_off': 3, 'education': 4, 'health': 5}\n",
    "print(sklearn.metrics.classification_report(y_test, nn_preds))"
   ]
  },
  {
   "cell_type": "markdown",
   "metadata": {},
   "source": [
    "# 4 Improve models\n",
    "### Overview:\n",
    "4.1 Encode model inputs (for ANN/SVC)   \n",
    "4.2 Re-run models with encoded inputs  \n",
    "4.3 Oversample  \n",
    "4.4 add POI categories to model  "
   ]
  },
  {
   "cell_type": "markdown",
   "metadata": {},
   "source": [
    "### 4.1 Encode model inputs\n",
    "The model inputs are encoded to improve the performance of ANN/SVC models. Specifically by One-hot encoding all the \n",
    "\n",
    "#### Encoded inputs:\n",
    "- Trip mode *(f)*\n",
    "- Cardinal Direction *(f)*\n",
    "- Trip starting & ending cluster from K-means (see `./Notebooks/preprocessing/metric_creation/clustering.ipynb`)\n",
    "- Temporal cluster from LDA\n",
    "- Land-use at trip starting and ending points *(f)* (see `./Notebooks/preprocessing/metric_creation/land_use_poi.ipynb`)\n",
    "\n",
    "*(f) == factors*\n",
    "\n",
    "#### Note:\n",
    "- for factor numbers see Data/model_inputs folder e.g. `./Data/model_inputs/gdf_2016_land_use_factors.txt`"
   ]
  },
  {
   "cell_type": "code",
   "execution_count": 72,
   "metadata": {},
   "outputs": [],
   "source": [
    "# for One Hot Encoded data\n",
    "enc_X = subset_X.copy()\n",
    "enc_y = all_y.copy()"
   ]
  },
  {
   "cell_type": "code",
   "execution_count": 73,
   "metadata": {},
   "outputs": [],
   "source": [
    "def encode_model_inputs(data, col):\n",
    "    \"\"\"\n",
    "        function for applying a OneHotEncoder to a input feature \n",
    "    \"\"\"\n",
    "    encoded_input = ''\n",
    "    if col in data.columns:\n",
    "        encoded_input = enc.fit_transform(data[col].values.reshape(-1, 1)).toarray()\n",
    "    return encoded_input\n"
   ]
  },
  {
   "cell_type": "code",
   "execution_count": 74,
   "metadata": {},
   "outputs": [],
   "source": [
    "enc = sklearn.preprocessing.OneHotEncoder(handle_unknown='ignore')\n"
   ]
  },
  {
   "cell_type": "code",
   "execution_count": 75,
   "metadata": {},
   "outputs": [],
   "source": [
    "encoded_inputs = {}\n",
    "for col in [\"mode\",\"carddir\",\"startclust\",\"endclust\", \"temp_clus\", \"land_use_s\", \"land_use_e\"]:\n",
    "    if col in enc_X.columns:\n",
    "        # 1. encode inputs\n",
    "        encoded_inputs[col] = encode_model_inputs(enc_X, col)\n",
    "        # 2. make a temporary df with encoded inputs and column names of format *col*_*factor*\n",
    "        col_df = pd.DataFrame(encoded_inputs[col], columns=['%s_%s' % (col, i) for i in range(encoded_inputs[col].shape[1])])\n",
    "        # 3. drop column from main data so that they can be concatenated\n",
    "        enc_X = enc_X.drop(col, axis=1)\n",
    "        # 4. concatenate the two data sets\n",
    "        enc_X = pd.concat([enc_X, col_df], axis=1)\n",
    "\n",
    "encoded_inputs['purpose'] = encode_model_inputs(enc_y, 'purpose')\n",
    "\n",
    "# for multi-output predictions\n",
    "multi_output_y = pd.DataFrame(encode_model_inputs(enc_y, 'purpose'), columns=['%s_%s' % ('purpose', i) for i in range(encoded_inputs['purpose'].shape[1])])\n"
   ]
  },
  {
   "cell_type": "code",
   "execution_count": 78,
   "metadata": {},
   "outputs": [
    {
     "data": {
      "text/plain": [
       "Index(['id_trip', 'duration', 'distance_m', 'magnitude', 'end_downto',\n",
       "       'weekday', 'precip', 'thrurush', 'mode_f_0', 'mode_f_1', 'mode_f_2',\n",
       "       'mode_f_3', 'mode_f_4', 'mode_f_5', 'startclust_0', 'startclust_1',\n",
       "       'startclust_2', 'startclust_3', 'startclust_4', 'startclust_5',\n",
       "       'startclust_6', 'startclust_7', 'startclust_8', 'startclust_9',\n",
       "       'startclust_10', 'startclust_11', 'endclust_0', 'endclust_1',\n",
       "       'endclust_2', 'endclust_3', 'endclust_4', 'endclust_5', 'endclust_6',\n",
       "       'endclust_7', 'endclust_8', 'endclust_9', 'endclust_10', 'endclust_11',\n",
       "       'temporal_c_0', 'temporal_c_1', 'temporal_c_2', 'temporal_c_3',\n",
       "       'temporal_c_4', 'land_use_s_f_0', 'land_use_s_f_1', 'land_use_s_f_2',\n",
       "       'land_use_s_f_3', 'land_use_s_f_4', 'land_use_s_f_5', 'land_use_s_f_6',\n",
       "       'land_use_s_f_7', 'land_use_s_f_8', 'land_use_s_f_9'],\n",
       "      dtype='object')"
      ]
     },
     "execution_count": 78,
     "metadata": {},
     "output_type": "execute_result"
    }
   ],
   "source": [
    "# view new data with columns following the *col*_*factor* syntax\n",
    "enc_X.columns"
   ]
  },
  {
   "cell_type": "code",
   "execution_count": 79,
   "metadata": {},
   "outputs": [
    {
     "data": {
      "text/html": [
       "<div>\n",
       "<style scoped>\n",
       "    .dataframe tbody tr th:only-of-type {\n",
       "        vertical-align: middle;\n",
       "    }\n",
       "\n",
       "    .dataframe tbody tr th {\n",
       "        vertical-align: top;\n",
       "    }\n",
       "\n",
       "    .dataframe thead th {\n",
       "        text-align: right;\n",
       "    }\n",
       "</style>\n",
       "<table border=\"1\" class=\"dataframe\">\n",
       "  <thead>\n",
       "    <tr style=\"text-align: right;\">\n",
       "      <th></th>\n",
       "      <th>purpose_f_0</th>\n",
       "      <th>purpose_f_1</th>\n",
       "      <th>purpose_f_2</th>\n",
       "      <th>purpose_f_3</th>\n",
       "      <th>purpose_f_4</th>\n",
       "      <th>purpose_f_5</th>\n",
       "      <th>purpose_f_6</th>\n",
       "      <th>purpose_f_7</th>\n",
       "    </tr>\n",
       "  </thead>\n",
       "  <tbody>\n",
       "    <tr>\n",
       "      <th>0</th>\n",
       "      <td>1.0</td>\n",
       "      <td>0.0</td>\n",
       "      <td>0.0</td>\n",
       "      <td>0.0</td>\n",
       "      <td>0.0</td>\n",
       "      <td>0.0</td>\n",
       "      <td>0.0</td>\n",
       "      <td>0.0</td>\n",
       "    </tr>\n",
       "    <tr>\n",
       "      <th>1</th>\n",
       "      <td>0.0</td>\n",
       "      <td>1.0</td>\n",
       "      <td>0.0</td>\n",
       "      <td>0.0</td>\n",
       "      <td>0.0</td>\n",
       "      <td>0.0</td>\n",
       "      <td>0.0</td>\n",
       "      <td>0.0</td>\n",
       "    </tr>\n",
       "    <tr>\n",
       "      <th>2</th>\n",
       "      <td>1.0</td>\n",
       "      <td>0.0</td>\n",
       "      <td>0.0</td>\n",
       "      <td>0.0</td>\n",
       "      <td>0.0</td>\n",
       "      <td>0.0</td>\n",
       "      <td>0.0</td>\n",
       "      <td>0.0</td>\n",
       "    </tr>\n",
       "    <tr>\n",
       "      <th>3</th>\n",
       "      <td>0.0</td>\n",
       "      <td>0.0</td>\n",
       "      <td>1.0</td>\n",
       "      <td>0.0</td>\n",
       "      <td>0.0</td>\n",
       "      <td>0.0</td>\n",
       "      <td>0.0</td>\n",
       "      <td>0.0</td>\n",
       "    </tr>\n",
       "    <tr>\n",
       "      <th>4</th>\n",
       "      <td>0.0</td>\n",
       "      <td>0.0</td>\n",
       "      <td>1.0</td>\n",
       "      <td>0.0</td>\n",
       "      <td>0.0</td>\n",
       "      <td>0.0</td>\n",
       "      <td>0.0</td>\n",
       "      <td>0.0</td>\n",
       "    </tr>\n",
       "  </tbody>\n",
       "</table>\n",
       "</div>"
      ],
      "text/plain": [
       "   purpose_f_0  purpose_f_1  purpose_f_2  purpose_f_3  purpose_f_4  \\\n",
       "0          1.0          0.0          0.0          0.0          0.0   \n",
       "1          0.0          1.0          0.0          0.0          0.0   \n",
       "2          1.0          0.0          0.0          0.0          0.0   \n",
       "3          0.0          0.0          1.0          0.0          0.0   \n",
       "4          0.0          0.0          1.0          0.0          0.0   \n",
       "\n",
       "   purpose_f_5  purpose_f_6  purpose_f_7  \n",
       "0          0.0          0.0          0.0  \n",
       "1          0.0          0.0          0.0  \n",
       "2          0.0          0.0          0.0  \n",
       "3          0.0          0.0          0.0  \n",
       "4          0.0          0.0          0.0  "
      ]
     },
     "execution_count": 79,
     "metadata": {},
     "output_type": "execute_result"
    }
   ],
   "source": [
    "# example of multi-output encoded inputs\n",
    "multi_output_y.head()"
   ]
  },
  {
   "cell_type": "code",
   "execution_count": 80,
   "metadata": {},
   "outputs": [
    {
     "name": "stdout",
     "output_type": "stream",
     "text": [
      "Multi-output Random Forest classification accuracy: 0.2694478084980288\n",
      "CPU times: user 1.8 s, sys: 736 ms, total: 2.54 s\n",
      "Wall time: 12.6 s\n"
     ]
    }
   ],
   "source": [
    "%%time\n",
    "# multi-output\n",
    "multi_X_train, multi_X_test, multi_y_train, multi_y_test  = model_setup(all_X, multi_output_y, norm=True, test_size=0.33,to_normalise=non_categorical_features)\n",
    "_, _, _ = run_mcrf(multi_X_train, multi_X_test, multi_y_train, multi_y_test,cv=False)"
   ]
  },
  {
   "cell_type": "markdown",
   "metadata": {},
   "source": [
    "## 4.2 Re-run ANN/SVC with encoded inputs"
   ]
  },
  {
   "cell_type": "code",
   "execution_count": 81,
   "metadata": {},
   "outputs": [],
   "source": [
    "# Train Test Split\n",
    "enc_X_train, enc_X_test, enc_y_train, enc_y_test  = model_setup(enc_X, enc_y, norm=True, test_size=0.33,to_normalise=non_categorical_features)"
   ]
  },
  {
   "cell_type": "code",
   "execution_count": 82,
   "metadata": {},
   "outputs": [],
   "source": [
    "enc_training_ids = enc_X_train['id_trip']\n",
    "enc_X_train = enc_X_train.drop('id_trip', axis=1)\n",
    "enc_testing_ids = enc_X_test['id_trip']\n",
    "enc_X_test = enc_X_test.drop('id_trip', axis=1)"
   ]
  },
  {
   "cell_type": "code",
   "execution_count": 83,
   "metadata": {},
   "outputs": [],
   "source": [
    "## flatten data i.e. from Pd.Series to np.array\n",
    "enc_y_train = np.ravel(enc_y_train)\n",
    "enc_y_test = np.ravel(enc_y_test)"
   ]
  },
  {
   "cell_type": "code",
   "execution_count": 84,
   "metadata": {},
   "outputs": [
    {
     "name": "stdout",
     "output_type": "stream",
     "text": [
      "all_features:\n",
      "\n",
      " ['duration', 'distance_m', 'magnitude', 'end_downto', 'weekday', 'precip', 'thrurush', 'mode_f_0', 'mode_f_1', 'mode_f_2', 'mode_f_3', 'mode_f_4', 'mode_f_5', 'startclust_0', 'startclust_1', 'startclust_2', 'startclust_3', 'startclust_4', 'startclust_5', 'startclust_6', 'startclust_7', 'startclust_8', 'startclust_9', 'startclust_10', 'startclust_11', 'endclust_0', 'endclust_1', 'endclust_2', 'endclust_3', 'endclust_4', 'endclust_5', 'endclust_6', 'endclust_7', 'endclust_8', 'endclust_9', 'endclust_10', 'endclust_11', 'temporal_c_0', 'temporal_c_1', 'temporal_c_2', 'temporal_c_3', 'temporal_c_4', 'land_use_s_f_0', 'land_use_s_f_1', 'land_use_s_f_2', 'land_use_s_f_3', 'land_use_s_f_4', 'land_use_s_f_5', 'land_use_s_f_6', 'land_use_s_f_7', 'land_use_s_f_8', 'land_use_s_f_9']\n"
     ]
    }
   ],
   "source": [
    "enc_feature_list = list(enc_X_train.columns)\n",
    "print('all_features:\\n\\n', enc_feature_list)"
   ]
  },
  {
   "cell_type": "code",
   "execution_count": 85,
   "metadata": {},
   "outputs": [
    {
     "name": "stdout",
     "output_type": "stream",
     "text": [
      "Support Vector classification accuracy: 0.4342549408642325\n"
     ]
    }
   ],
   "source": [
    "enc_svc_score, enc_svc_preds, enc_svc_cv_score = run_svc(enc_X_train, enc_X_test, enc_y_train, enc_y_test)"
   ]
  },
  {
   "cell_type": "code",
   "execution_count": 86,
   "metadata": {},
   "outputs": [
    {
     "name": "stdout",
     "output_type": "stream",
     "text": [
      "predictions for each class by SVC with encoded inputs: Counter({0: 27320, 4: 11489}) \n",
      "\n",
      "              precision    recall  f1-score   support\n",
      "\n",
      "           0       0.40      0.86      0.54     12546\n",
      "           1       0.00      0.00      0.00      5108\n",
      "           2       0.00      0.00      0.00      2806\n",
      "           3       0.00      0.00      0.00      4424\n",
      "           4       0.53      0.59      0.56     10175\n",
      "           5       0.00      0.00      0.00      1271\n",
      "           6       0.00      0.00      0.00      1464\n",
      "           7       0.00      0.00      0.00      1015\n",
      "\n",
      "    accuracy                           0.43     38809\n",
      "   macro avg       0.12      0.18      0.14     38809\n",
      "weighted avg       0.27      0.43      0.32     38809\n",
      "\n"
     ]
    },
    {
     "name": "stderr",
     "output_type": "stream",
     "text": [
      "/Applications/anaconda/envs/st-ds/lib/python3.7/site-packages/sklearn/metrics/classification.py:1437: UndefinedMetricWarning: Precision and F-score are ill-defined and being set to 0.0 in labels with no predicted samples.\n",
      "  'precision', 'predicted', average, warn_for)\n"
     ]
    }
   ],
   "source": [
    "print('predictions for each class by SVC with encoded inputs:', collections.Counter(enc_svc_preds), '\\n')\n",
    "# {'leisure': 0, 'food_drink': 1, 'shops': 2,\n",
    "# 'pick_up_drop_off': 3, 'education': 4, 'health': 5}\n",
    "print(sklearn.metrics.classification_report(enc_y_test, enc_svc_preds))"
   ]
  },
  {
   "cell_type": "code",
   "execution_count": 87,
   "metadata": {
    "scrolled": true
   },
   "outputs": [
    {
     "name": "stdout",
     "output_type": "stream",
     "text": [
      "Neural Network classification accuracy: 0.4627534850163622\n"
     ]
    }
   ],
   "source": [
    "enc_nn_score, enc_nn_preds, enc_nn_cv_score = run_ann(enc_X_train, enc_X_test, enc_y_train, enc_y_test)"
   ]
  },
  {
   "cell_type": "code",
   "execution_count": 88,
   "metadata": {},
   "outputs": [
    {
     "name": "stdout",
     "output_type": "stream",
     "text": [
      "predictions for each class by ANN with encoded inputs: Counter({0: 18739, 4: 12520, 1: 3282, 3: 2834, 2: 1073, 6: 166, 7: 132, 5: 63}) \n",
      "\n",
      "              precision    recall  f1-score   support\n",
      "\n",
      "           0       0.47      0.71      0.57     12546\n",
      "           1       0.30      0.20      0.24      5108\n",
      "           2       0.25      0.10      0.14      2806\n",
      "           3       0.31      0.20      0.24      4424\n",
      "           4       0.54      0.67      0.60     10175\n",
      "           5       0.19      0.01      0.02      1271\n",
      "           6       0.28      0.03      0.06      1464\n",
      "           7       0.24      0.03      0.06      1015\n",
      "\n",
      "    accuracy                           0.46     38809\n",
      "   macro avg       0.32      0.24      0.24     38809\n",
      "weighted avg       0.41      0.46      0.41     38809\n",
      "\n"
     ]
    }
   ],
   "source": [
    "print('predictions for each class by ANN with encoded inputs:', collections.Counter(enc_nn_preds), '\\n')\n",
    "# {'leisure': 0, 'food_drink': 1, 'shops': 2,\n",
    "# 'pick_up_drop_off': 3, 'education': 4, 'health': 5}\n",
    "print(sklearn.metrics.classification_report(enc_y_test, enc_nn_preds))"
   ]
  },
  {
   "cell_type": "code",
   "execution_count": 89,
   "metadata": {},
   "outputs": [
    {
     "name": "stdout",
     "output_type": "stream",
     "text": [
      "SVC before Counter({0: 25204, 4: 13605}) \n",
      "\n",
      "              precision    recall  f1-score   support\n",
      "\n",
      "           0       0.35      0.70      0.47     12546\n",
      "           1       0.00      0.00      0.00      5108\n",
      "           2       0.00      0.00      0.00      2806\n",
      "           3       0.00      0.00      0.00      4424\n",
      "           4       0.36      0.48      0.41     10175\n",
      "           5       0.00      0.00      0.00      1271\n",
      "           6       0.00      0.00      0.00      1464\n",
      "           7       0.00      0.00      0.00      1015\n",
      "\n",
      "    accuracy                           0.35     38809\n",
      "   macro avg       0.09      0.15      0.11     38809\n",
      "weighted avg       0.21      0.35      0.26     38809\n",
      "\n",
      "SVC after Counter({0: 27320, 4: 11489}) \n",
      "\n",
      "              precision    recall  f1-score   support\n",
      "\n",
      "           0       0.40      0.86      0.54     12546\n",
      "           1       0.00      0.00      0.00      5108\n",
      "           2       0.00      0.00      0.00      2806\n",
      "           3       0.00      0.00      0.00      4424\n",
      "           4       0.53      0.59      0.56     10175\n",
      "           5       0.00      0.00      0.00      1271\n",
      "           6       0.00      0.00      0.00      1464\n",
      "           7       0.00      0.00      0.00      1015\n",
      "\n",
      "    accuracy                           0.43     38809\n",
      "   macro avg       0.12      0.18      0.14     38809\n",
      "weighted avg       0.27      0.43      0.32     38809\n",
      "\n",
      "NN before Counter({0: 20052, 4: 12759, 3: 2779, 1: 2376, 2: 831, 7: 5, 6: 4, 5: 3}) \n",
      "\n",
      "              precision    recall  f1-score   support\n",
      "\n",
      "           0       0.46      0.74      0.57     12546\n",
      "           1       0.32      0.15      0.20      5108\n",
      "           2       0.26      0.08      0.12      2806\n",
      "           3       0.31      0.19      0.24      4424\n",
      "           4       0.53      0.67      0.59     10175\n",
      "           5       0.33      0.00      0.00      1271\n",
      "           6       0.50      0.00      0.00      1464\n",
      "           7       0.20      0.00      0.00      1015\n",
      "\n",
      "    accuracy                           0.46     38809\n",
      "   macro avg       0.36      0.23      0.22     38809\n",
      "weighted avg       0.42      0.46      0.40     38809\n",
      "\n",
      "NN after Counter({0: 18739, 4: 12520, 1: 3282, 3: 2834, 2: 1073, 6: 166, 7: 132, 5: 63}) \n",
      "\n",
      "              precision    recall  f1-score   support\n",
      "\n",
      "           0       0.47      0.71      0.57     12546\n",
      "           1       0.30      0.20      0.24      5108\n",
      "           2       0.25      0.10      0.14      2806\n",
      "           3       0.31      0.20      0.24      4424\n",
      "           4       0.54      0.67      0.60     10175\n",
      "           5       0.19      0.01      0.02      1271\n",
      "           6       0.28      0.03      0.06      1464\n",
      "           7       0.24      0.03      0.06      1015\n",
      "\n",
      "    accuracy                           0.46     38809\n",
      "   macro avg       0.32      0.24      0.24     38809\n",
      "weighted avg       0.41      0.46      0.41     38809\n",
      "\n"
     ]
    },
    {
     "name": "stderr",
     "output_type": "stream",
     "text": [
      "/Applications/anaconda/envs/st-ds/lib/python3.7/site-packages/sklearn/metrics/classification.py:1437: UndefinedMetricWarning: Precision and F-score are ill-defined and being set to 0.0 in labels with no predicted samples.\n",
      "  'precision', 'predicted', average, warn_for)\n"
     ]
    }
   ],
   "source": [
    "print('SVC before', collections.Counter(svc_preds),'\\n')\n",
    "print(sklearn.metrics.classification_report(y_test, svc_preds))\n",
    "print('SVC after', collections.Counter(enc_svc_preds),'\\n')\n",
    "print(sklearn.metrics.classification_report(enc_y_test, enc_svc_preds))\n",
    "\n",
    "\n",
    "print('NN before', collections.Counter(nn_preds),'\\n')\n",
    "print(sklearn.metrics.classification_report(y_test, nn_preds))\n",
    "print('NN after', collections.Counter(enc_nn_preds),'\\n')\n",
    "print(sklearn.metrics.classification_report(enc_y_test, enc_nn_preds))"
   ]
  },
  {
   "cell_type": "markdown",
   "metadata": {},
   "source": [
    "## 4.3 Oversample"
   ]
  },
  {
   "cell_type": "code",
   "execution_count": 13,
   "metadata": {},
   "outputs": [],
   "source": [
    "oversampled_X_16 = pd.read_csv('../../../Data/model_inputs/oversampled_X_2016.csv')\n",
    "oversampled_y_16 = pd.read_csv('../../../Data/model_inputs/oversampled_y_2016.csv')\n",
    "oversampled_X_17 = pd.read_csv('../../../Data/model_inputs/oversampled_X_2017.csv')\n",
    "oversampled_y_17 = pd.read_csv('../../../Data/model_inputs/oversampled_y_2017.csv')"
   ]
  },
  {
   "cell_type": "code",
   "execution_count": 14,
   "metadata": {},
   "outputs": [
    {
     "name": "stdout",
     "output_type": "stream",
     "text": [
      "changing\n"
     ]
    }
   ],
   "source": [
    "## CURRENT WORK AROUND to standardise mode and purpose factors\n",
    "# to stop user switching back\n",
    "if oversampled_X_17['mode'].values[0] == 0:\n",
    "    print('changing')\n",
    "    oversampled_y_17['purpose'] = oversampled_y_17['purpose'].apply(lambda row: swap_codes(purpose_code_16, purpose_code_17, row))\n",
    "    oversampled_X_17['mode'] = oversampled_X_17['mode'].apply(lambda row: swap_codes(mode_code_16, mode_code_17, row))"
   ]
  },
  {
   "cell_type": "code",
   "execution_count": 15,
   "metadata": {},
   "outputs": [
    {
     "data": {
      "text/plain": [
       "7    15554\n",
       "6    15554\n",
       "5    15554\n",
       "4    15554\n",
       "3    15554\n",
       "2    15554\n",
       "1    15554\n",
       "0    15554\n",
       "Name: purpose_f, dtype: int64"
      ]
     },
     "execution_count": 15,
     "metadata": {},
     "output_type": "execute_result"
    }
   ],
   "source": [
    "oversampled_y_16.purpose.value_counts()"
   ]
  },
  {
   "cell_type": "code",
   "execution_count": 16,
   "metadata": {},
   "outputs": [
    {
     "data": {
      "text/plain": [
       "7    22464\n",
       "6    22464\n",
       "5    22464\n",
       "4    22464\n",
       "3    22464\n",
       "2    22464\n",
       "1    22464\n",
       "0    22464\n",
       "Name: purpose_f, dtype: int64"
      ]
     },
     "execution_count": 16,
     "metadata": {},
     "output_type": "execute_result"
    }
   ],
   "source": [
    "oversampled_y_17.purpose.value_counts()"
   ]
  },
  {
   "cell_type": "code",
   "execution_count": 63,
   "metadata": {},
   "outputs": [],
   "source": [
    "# Train Test Split\n",
    "X_train, X_test, y_train, y_test  = model_setup(oversampled_X_17, oversampled_y_17, norm=False, test_size=0.33, to_normalise=non_categorical_features)"
   ]
  },
  {
   "cell_type": "code",
   "execution_count": 64,
   "metadata": {},
   "outputs": [
    {
     "name": "stdout",
     "output_type": "stream",
     "text": [
      "all_features:\n",
      "\n",
      " ['mode_f', 'duration', 'distance_m', 'magnitude', 'carddir_f', 'start_down', 'end_downto', 'weekday', 'temporal_c', 'precip', 'temperatur', 'startrush', 'endrush', 'thrurush', 'startclust', 'endclust', 'land_use_s_f', 'land_use_e_f']\n"
     ]
    }
   ],
   "source": [
    "## Prepare Data\n",
    "training_ids = X_train['id_trip']\n",
    "X_train = X_train.drop('id_trip', axis=1)\n",
    "testing_ids = X_test['id_trip']\n",
    "X_test = X_test.drop('id_trip', axis=1)\n",
    "\n",
    "## Flatten data i.e. from Pd.Series to np.array\n",
    "y_train = np.ravel(y_train)\n",
    "y_test = np.ravel(y_test)\n",
    "\n",
    "## Keep feature list\n",
    "feature_list = list(X_train.columns)\n",
    "print('all_features:\\n\\n', feature_list)"
   ]
  },
  {
   "cell_type": "code",
   "execution_count": 65,
   "metadata": {},
   "outputs": [
    {
     "data": {
      "text/plain": [
       "120407"
      ]
     },
     "execution_count": 65,
     "metadata": {},
     "output_type": "execute_result"
    }
   ],
   "source": [
    "len(X_train)"
   ]
  },
  {
   "cell_type": "code",
   "execution_count": 66,
   "metadata": {},
   "outputs": [
    {
     "name": "stdout",
     "output_type": "stream",
     "text": [
      "Random Forest Classifcation accuracy: 0.7353680128151083\n"
     ]
    },
    {
     "data": {
      "text/plain": [
       "(RandomForestClassifier(bootstrap=True, class_weight=None, criterion='gini',\n",
       "                        max_depth=None, max_features='auto', max_leaf_nodes=None,\n",
       "                        min_impurity_decrease=0.0, min_impurity_split=None,\n",
       "                        min_samples_leaf=1, min_samples_split=2,\n",
       "                        min_weight_fraction_leaf=0.0, n_estimators=10, n_jobs=-1,\n",
       "                        oob_score=False, random_state=None, verbose=0,\n",
       "                        warm_start=False),\n",
       " 0.7353680128151083,\n",
       " array([7, 1, 3, ..., 0, 1, 3]),\n",
       " [])"
      ]
     },
     "execution_count": 66,
     "metadata": {},
     "output_type": "execute_result"
    }
   ],
   "source": [
    "run_rf(X_train, X_test, y_train, y_test)"
   ]
  },
  {
   "cell_type": "code",
   "execution_count": 67,
   "metadata": {},
   "outputs": [
    {
     "name": "stdout",
     "output_type": "stream",
     "text": [
      "Support Vector classification accuracy: 0.15315740662675997\n"
     ]
    },
    {
     "data": {
      "text/plain": [
       "(0.15315740662675997, array([0, 0, 0, ..., 0, 0, 0]), [])"
      ]
     },
     "execution_count": 67,
     "metadata": {},
     "output_type": "execute_result"
    }
   ],
   "source": [
    "run_svc(X_train, X_test, y_train, y_test)"
   ]
  },
  {
   "cell_type": "code",
   "execution_count": 68,
   "metadata": {},
   "outputs": [
    {
     "name": "stdout",
     "output_type": "stream",
     "text": [
      "Neural Network classification accuracy: 0.12983728184807353\n"
     ]
    },
    {
     "data": {
      "text/plain": [
       "(0.12983728184807353, array([0, 3, 1, ..., 4, 1, 7]), [])"
      ]
     },
     "execution_count": 68,
     "metadata": {},
     "output_type": "execute_result"
    }
   ],
   "source": [
    "run_ann(X_train, X_test, y_train, y_test)"
   ]
  },
  {
   "cell_type": "code",
   "execution_count": null,
   "metadata": {},
   "outputs": [],
   "source": [
    "## take a sample\n",
    "# oversampled_17 = pd.concat([oversampled_X_17, oversampled_y_17],axis=1)\n",
    "# sampled_oversampled_17 = oversampled_17.sample(10000)\n",
    "# sampled_oversampled_17['purpose_f'].value_counts()\n",
    "# not_y_columns = sampled_oversampled_17.columns[:-1]"
   ]
  },
  {
   "cell_type": "markdown",
   "metadata": {},
   "source": [
    "## 4.4 add POI categories"
   ]
  },
  {
   "cell_type": "code",
   "execution_count": null,
   "metadata": {},
   "outputs": [],
   "source": [
    "poi_16 = pd.read_csv('../../../Data/model_inputs/poi_categories_2016.csv')\n",
    "poi_17 = pd.read_csv('../../../Data/model_inputs/poi_categories_2017.csv')"
   ]
  },
  {
   "cell_type": "code",
   "execution_count": null,
   "metadata": {},
   "outputs": [],
   "source": []
  },
  {
   "cell_type": "code",
   "execution_count": null,
   "metadata": {},
   "outputs": [],
   "source": [
    "print('MTL 2016 number of trips with purpose that overlap with a POI within 200 m')\n",
    "len(X_16.merge(poi_16, on='id_trip', how='inner'))"
   ]
  },
  {
   "cell_type": "code",
   "execution_count": null,
   "metadata": {},
   "outputs": [],
   "source": [
    "print('MTL 2017 number of trips with purpose that overlap with a POI within 200 m')\n",
    "len(X_17.merge(poi_17, on='id_trip', how='inner'))"
   ]
  },
  {
   "cell_type": "code",
   "execution_count": null,
   "metadata": {},
   "outputs": [],
   "source": [
    "merged_X_16 = X_16.merge(poi_16, on='id_trip', how='left')\n",
    "merged_X_17 = X_17.merge(poi_17, on='id_trip', how='left')"
   ]
  },
  {
   "cell_type": "code",
   "execution_count": null,
   "metadata": {},
   "outputs": [],
   "source": [
    "merged_X_16 = merged_X_16.fillna(0).copy()\n",
    "merged_X_17 = merged_X_17.fillna(0).copy()"
   ]
  },
  {
   "cell_type": "code",
   "execution_count": null,
   "metadata": {},
   "outputs": [],
   "source": [
    "X_train, X_test, y_train, y_test = model_setup(merged_X_17, y_17, norm=False, test_size=0.33, to_normalise=non_categorical_features)"
   ]
  },
  {
   "cell_type": "code",
   "execution_count": null,
   "metadata": {
    "scrolled": false
   },
   "outputs": [],
   "source": [
    "rf_clf, rf_score, rf_preds, rf_cv_scores = run_rf(X_train.fillna(0), X_test.fillna(0), y_train, y_test, cv=True)"
   ]
  },
  {
   "cell_type": "code",
   "execution_count": null,
   "metadata": {},
   "outputs": [],
   "source": [
    "score, preds, cv_scores = run_svc(X_train.fillna(0), X_test.fillna(0), y_train, y_test, cv=False)"
   ]
  },
  {
   "cell_type": "code",
   "execution_count": null,
   "metadata": {},
   "outputs": [],
   "source": [
    "score, preds, cv_scores = run_ann(X_train.fillna(0), X_test.fillna(0), y_train, y_test, cv=True)"
   ]
  },
  {
   "cell_type": "code",
   "execution_count": null,
   "metadata": {},
   "outputs": [],
   "source": []
  },
  {
   "cell_type": "code",
   "execution_count": null,
   "metadata": {},
   "outputs": [],
   "source": []
  },
  {
   "cell_type": "code",
   "execution_count": null,
   "metadata": {},
   "outputs": [],
   "source": [
    "for col in [\"mode\",\"carddir\",\"startclust\",\"endclust\", \"temp_clus\", \"land_use_s\", \"land_use_e\"]:\n",
    "    if col in merged_X_17.columns:\n",
    "        # 1. encode inputs\n",
    "        encoded_inputs[col] = encode_model_inputs(enc_X, col)\n",
    "        # 2. make a temporary df with encoded inputs and column names of format *col*_*factor*\n",
    "        col_df = pd.DataFrame(encoded_inputs[col], columns=['%s_%s' % (col, i) for i in range(encoded_inputs[col].shape[1])])\n",
    "        # 3. drop column from main data so that they can be concatenated\n",
    "        enc_X = enc_X.drop(col, axis=1)\n",
    "        # 4. concatenate the two data sets\n",
    "        enc_X = pd.concat([enc_X, col_df], axis=1)\n"
   ]
  },
  {
   "cell_type": "markdown",
   "metadata": {},
   "source": [
    "## Grid Search"
   ]
  },
  {
   "cell_type": "code",
   "execution_count": null,
   "metadata": {},
   "outputs": [],
   "source": [
    "sklearn.model_selection.GridSearchCV"
   ]
  },
  {
   "cell_type": "code",
   "execution_count": null,
   "metadata": {},
   "outputs": [],
   "source": []
  }
 ],
 "metadata": {
  "kernelspec": {
   "display_name": "Python 3",
   "language": "python",
   "name": "python3"
  },
  "language_info": {
   "codemirror_mode": {
    "name": "ipython",
    "version": 3
   },
   "file_extension": ".py",
   "mimetype": "text/x-python",
   "name": "python",
   "nbconvert_exporter": "python",
   "pygments_lexer": "ipython3",
   "version": "3.7.3"
  }
 },
 "nbformat": 4,
 "nbformat_minor": 2
}
