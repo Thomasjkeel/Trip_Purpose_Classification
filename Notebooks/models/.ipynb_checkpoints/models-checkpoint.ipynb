{
 "cells": [
  {
   "cell_type": "markdown",
   "metadata": {},
   "source": [
    "# Models\n",
    "The following classification models are carried out here:\n",
    "    1. Random Forest\n",
    "    2. Nested Logit"
   ]
  },
  {
   "cell_type": "code",
   "execution_count": 1,
   "metadata": {
    "scrolled": true
   },
   "outputs": [
    {
     "name": "stderr",
     "output_type": "stream",
     "text": [
      "Using TensorFlow backend.\n",
      "/Applications/anaconda/envs/st-ds/lib/python3.7/site-packages/tensorflow/python/framework/dtypes.py:516: FutureWarning: Passing (type, 1) or '1type' as a synonym of type is deprecated; in a future version of numpy, it will be understood as (type, (1,)) / '(1,)type'.\n",
      "  _np_qint8 = np.dtype([(\"qint8\", np.int8, 1)])\n",
      "/Applications/anaconda/envs/st-ds/lib/python3.7/site-packages/tensorflow/python/framework/dtypes.py:517: FutureWarning: Passing (type, 1) or '1type' as a synonym of type is deprecated; in a future version of numpy, it will be understood as (type, (1,)) / '(1,)type'.\n",
      "  _np_quint8 = np.dtype([(\"quint8\", np.uint8, 1)])\n",
      "/Applications/anaconda/envs/st-ds/lib/python3.7/site-packages/tensorflow/python/framework/dtypes.py:518: FutureWarning: Passing (type, 1) or '1type' as a synonym of type is deprecated; in a future version of numpy, it will be understood as (type, (1,)) / '(1,)type'.\n",
      "  _np_qint16 = np.dtype([(\"qint16\", np.int16, 1)])\n",
      "/Applications/anaconda/envs/st-ds/lib/python3.7/site-packages/tensorflow/python/framework/dtypes.py:519: FutureWarning: Passing (type, 1) or '1type' as a synonym of type is deprecated; in a future version of numpy, it will be understood as (type, (1,)) / '(1,)type'.\n",
      "  _np_quint16 = np.dtype([(\"quint16\", np.uint16, 1)])\n",
      "/Applications/anaconda/envs/st-ds/lib/python3.7/site-packages/tensorflow/python/framework/dtypes.py:520: FutureWarning: Passing (type, 1) or '1type' as a synonym of type is deprecated; in a future version of numpy, it will be understood as (type, (1,)) / '(1,)type'.\n",
      "  _np_qint32 = np.dtype([(\"qint32\", np.int32, 1)])\n",
      "/Applications/anaconda/envs/st-ds/lib/python3.7/site-packages/tensorflow/python/framework/dtypes.py:525: FutureWarning: Passing (type, 1) or '1type' as a synonym of type is deprecated; in a future version of numpy, it will be understood as (type, (1,)) / '(1,)type'.\n",
      "  np_resource = np.dtype([(\"resource\", np.ubyte, 1)])\n",
      "/Applications/anaconda/envs/st-ds/lib/python3.7/site-packages/tensorboard/compat/tensorflow_stub/dtypes.py:541: FutureWarning: Passing (type, 1) or '1type' as a synonym of type is deprecated; in a future version of numpy, it will be understood as (type, (1,)) / '(1,)type'.\n",
      "  _np_qint8 = np.dtype([(\"qint8\", np.int8, 1)])\n",
      "/Applications/anaconda/envs/st-ds/lib/python3.7/site-packages/tensorboard/compat/tensorflow_stub/dtypes.py:542: FutureWarning: Passing (type, 1) or '1type' as a synonym of type is deprecated; in a future version of numpy, it will be understood as (type, (1,)) / '(1,)type'.\n",
      "  _np_quint8 = np.dtype([(\"quint8\", np.uint8, 1)])\n",
      "/Applications/anaconda/envs/st-ds/lib/python3.7/site-packages/tensorboard/compat/tensorflow_stub/dtypes.py:543: FutureWarning: Passing (type, 1) or '1type' as a synonym of type is deprecated; in a future version of numpy, it will be understood as (type, (1,)) / '(1,)type'.\n",
      "  _np_qint16 = np.dtype([(\"qint16\", np.int16, 1)])\n",
      "/Applications/anaconda/envs/st-ds/lib/python3.7/site-packages/tensorboard/compat/tensorflow_stub/dtypes.py:544: FutureWarning: Passing (type, 1) or '1type' as a synonym of type is deprecated; in a future version of numpy, it will be understood as (type, (1,)) / '(1,)type'.\n",
      "  _np_quint16 = np.dtype([(\"quint16\", np.uint16, 1)])\n",
      "/Applications/anaconda/envs/st-ds/lib/python3.7/site-packages/tensorboard/compat/tensorflow_stub/dtypes.py:545: FutureWarning: Passing (type, 1) or '1type' as a synonym of type is deprecated; in a future version of numpy, it will be understood as (type, (1,)) / '(1,)type'.\n",
      "  _np_qint32 = np.dtype([(\"qint32\", np.int32, 1)])\n",
      "/Applications/anaconda/envs/st-ds/lib/python3.7/site-packages/tensorboard/compat/tensorflow_stub/dtypes.py:550: FutureWarning: Passing (type, 1) or '1type' as a synonym of type is deprecated; in a future version of numpy, it will be understood as (type, (1,)) / '(1,)type'.\n",
      "  np_resource = np.dtype([(\"resource\", np.ubyte, 1)])\n"
     ]
    }
   ],
   "source": [
    "import pandas as pd\n",
    "import geopandas as gpd\n",
    "import shapely\n",
    "import matplotlib.pyplot as plt\n",
    "import numpy as np\n",
    "import seaborn as sns\n",
    "import collections\n",
    "import sklearn\n",
    "import sklearn.preprocessing\n",
    "import sklearn.model_selection\n",
    "import sklearn.ensemble\n",
    "import eli5\n",
    "from eli5.sklearn import PermutationImportance\n",
    "from sklearn.feature_selection import SelectFromModel\n",
    "\n",
    "# oversampling\n",
    "from imblearn.over_sampling import SMOTENC\n",
    "from imblearn.under_sampling import RandomUnderSampler\n",
    "\n",
    "%matplotlib inline"
   ]
  },
  {
   "cell_type": "markdown",
   "metadata": {},
   "source": [
    "# 1. Load in data"
   ]
  },
  {
   "cell_type": "code",
   "execution_count": 2,
   "metadata": {},
   "outputs": [],
   "source": [
    "X_16 = pd.read_csv('../../Data/model_inputs/gdf_2016_X.csv')\n",
    "y_16 = pd.read_csv('../../Data/model_inputs/gdf_2016_y.csv')\n",
    "X_17 = pd.read_csv('../../Data/model_inputs/gdf_2017_X.csv')\n",
    "y_17 = pd.read_csv('../../Data/model_inputs/gdf_2017_y.csv')"
   ]
  },
  {
   "cell_type": "code",
   "execution_count": 3,
   "metadata": {},
   "outputs": [
    {
     "data": {
      "text/plain": [
       "Index(['id_trip', 'mode', 'duration', 'distance_m', 'weekday', 'precip',\n",
       "       'temp', 'morning', 'midday', 'afternoon', 'evening', 'midnight',\n",
       "       'startx', 'starty', 'endx', 'endy'],\n",
       "      dtype='object')"
      ]
     },
     "execution_count": 3,
     "metadata": {},
     "output_type": "execute_result"
    }
   ],
   "source": [
    "X_17.columns"
   ]
  },
  {
   "cell_type": "code",
   "execution_count": 4,
   "metadata": {},
   "outputs": [
    {
     "name": "stdout",
     "output_type": "stream",
     "text": [
      "changing booleans to numbers\n"
     ]
    }
   ],
   "source": [
    "def boolean_to_num(row):\n",
    "    if row:\n",
    "        return 1\n",
    "    else:\n",
    "        return 0\n",
    "if not type(X_16['morning'][0]) == np.int64:\n",
    "    print('changing booleans to numbers')\n",
    "    for col in ['morning','midday','afternoon','evening','midnight']:\n",
    "        X_16[col] = X_16[col].apply(boolean_to_num)\n",
    "        X_17[col] = X_17[col].apply(boolean_to_num)"
   ]
  },
  {
   "cell_type": "markdown",
   "metadata": {},
   "source": [
    "##### Dependent variable class sizes\n",
    "Purpose: {'leisure': 0, 'food_drink': 1, 'shops': 2, 'pick_up_drop_off': 3, 'education': 4, 'health': 5}\n",
    "Mode: {'walking': 0, 'public_transport': 1, 'car': 2, 'cycling': 3, 'public_transport, car': 4, 'other': 5}"
   ]
  },
  {
   "cell_type": "code",
   "execution_count": 5,
   "metadata": {
    "scrolled": false
   },
   "outputs": [
    {
     "name": "stdout",
     "output_type": "stream",
     "text": [
      "Dependent variable class sizes 2016:\n"
     ]
    },
    {
     "data": {
      "text/plain": [
       "0    7430\n",
       "1    5790\n",
       "2    5682\n",
       "3    2473\n",
       "4    2262\n",
       "5    2168\n",
       "Name: purpose, dtype: int64"
      ]
     },
     "execution_count": 5,
     "metadata": {},
     "output_type": "execute_result"
    }
   ],
   "source": [
    "print('Dependent variable class sizes 2016:')\n",
    "y_16['purpose'].value_counts()"
   ]
  },
  {
   "cell_type": "code",
   "execution_count": 6,
   "metadata": {},
   "outputs": [
    {
     "name": "stdout",
     "output_type": "stream",
     "text": [
      "Dependent variable class sizes 2017:\n"
     ]
    },
    {
     "data": {
      "text/plain": [
       "0    8049\n",
       "2    7723\n",
       "1    2714\n",
       "4    2175\n",
       "3    1379\n",
       "5     908\n",
       "Name: purpose, dtype: int64"
      ]
     },
     "execution_count": 6,
     "metadata": {},
     "output_type": "execute_result"
    }
   ],
   "source": [
    "print('Dependent variable class sizes 2017:')\n",
    "y_17['purpose'].value_counts()"
   ]
  },
  {
   "cell_type": "code",
   "execution_count": 7,
   "metadata": {},
   "outputs": [
    {
     "data": {
      "text/plain": [
       "<matplotlib.axes._subplots.AxesSubplot at 0x1339d5e10>"
      ]
     },
     "execution_count": 7,
     "metadata": {},
     "output_type": "execute_result"
    },
    {
     "data": {
      "image/png": "[encoded data removed]",
      "text/plain": [
       "<Figure size 864x432 with 2 Axes>"
      ]
     },
     "metadata": {
      "needs_background": "light"
     },
     "output_type": "display_data"
    }
   ],
   "source": [
    "ax, fig = plt.subplots(1, figsize=(12,6))\n",
    "sns.heatmap(X_16.corr(), cmap='Blues', annot=True)"
   ]
  },
  {
   "cell_type": "markdown",
   "metadata": {},
   "source": [
    "# 2. Setup model\n",
    "#### Section Overview:\n",
    "2.1  Split data into training and testing  \n",
    "2.2  Calculate p_nearby\n",
    "2.3  Remove trip ID's from train/test data  "
   ]
  },
  {
   "cell_type": "code",
   "execution_count": 8,
   "metadata": {},
   "outputs": [],
   "source": [
    "combined_X = pd.concat([X_16, X_17],axis=0)\n",
    "combined_y = pd.concat([y_16, y_17],axis=0)\n",
    "combined_X.reset_index(drop=True, inplace=True)\n",
    "combined_y.reset_index(drop=True, inplace=True)"
   ]
  },
  {
   "cell_type": "code",
   "execution_count": 9,
   "metadata": {
    "scrolled": true
   },
   "outputs": [
    {
     "data": {
      "text/plain": [
       "67583      1\n",
       "3196210    1\n",
       "2379075    1\n",
       "23873      1\n",
       "2598206    1\n",
       "          ..\n",
       "3488209    1\n",
       "2013826    1\n",
       "3580545    1\n",
       "2271872    1\n",
       "466134     1\n",
       "Name: id_trip, Length: 48753, dtype: int64"
      ]
     },
     "execution_count": 9,
     "metadata": {},
     "output_type": "execute_result"
    }
   ],
   "source": [
    "# check for no duplicates\n",
    "combined_X.id_trip.value_counts()"
   ]
  },
  {
   "cell_type": "code",
   "execution_count": 10,
   "metadata": {},
   "outputs": [
    {
     "data": {
      "text/plain": [
       "0    15479\n",
       "2    13405\n",
       "1     8504\n",
       "4     4437\n",
       "3     3852\n",
       "5     3076\n",
       "Name: purpose, dtype: int64"
      ]
     },
     "execution_count": 10,
     "metadata": {},
     "output_type": "execute_result"
    }
   ],
   "source": [
    "# check for no duplicates\n",
    "combined_y.purpose.value_counts()"
   ]
  },
  {
   "cell_type": "code",
   "execution_count": 11,
   "metadata": {},
   "outputs": [],
   "source": [
    "# define main data\n",
    "all_X = combined_X.copy()\n",
    "all_y = combined_y.copy()"
   ]
  },
  {
   "cell_type": "markdown",
   "metadata": {},
   "source": [
    "### 2.1 Split data into training and testing"
   ]
  },
  {
   "cell_type": "code",
   "execution_count": 12,
   "metadata": {},
   "outputs": [],
   "source": [
    "def normalise(X, to_normalize):\n",
    "    \"\"\"\n",
    "        Feature scaling method.\n",
    "        Normalises an array between 0–1 using the Z-score\n",
    "        (i - min) / (max - min)\n",
    "    \"\"\"\n",
    "    for col in X.columns[to_normalize]:\n",
    "        row_min = X[col].min()\n",
    "        row_max = X[col].max()\n",
    "        X[col] = X[col].apply(lambda row: (row - row_min)/(row_max - row_min))\n",
    "    return X\n",
    "    \n",
    "\n",
    "def model_setup(X, y, test_size=0.33, norm=False, to_normalise=[]):\n",
    "    \"\"\"\n",
    "        All operations needed for preparing the model inputs.\n",
    "        Can apply normalisation and then will apply the train/test split\n",
    "    \"\"\"\n",
    "    if norm:\n",
    "        X = normalise(X, to_normalise)\n",
    "    X_train, X_test, y_train, y_test = sklearn.model_selection.train_test_split(X, y, test_size=test_size,\\\n",
    "                                                                                random_state=42, stratify=y)\n",
    "    return X_train, X_test, y_train, y_test    "
   ]
  },
  {
   "cell_type": "markdown",
   "metadata": {},
   "source": [
    "##### IMPORTANT\n",
    "Train Test Split for encoded and non-encoded"
   ]
  },
  {
   "cell_type": "code",
   "execution_count": 13,
   "metadata": {},
   "outputs": [],
   "source": [
    "non_categorical_features = [False,False,True,True,False,True,True,False,False,False,\\\n",
    "                            False,False,False,False,False,False]\n"
   ]
  },
  {
   "cell_type": "code",
   "execution_count": 14,
   "metadata": {},
   "outputs": [
    {
     "data": {
      "text/plain": [
       "Index(['duration', 'distance_m', 'precip', 'temp'], dtype='object')"
      ]
     },
     "execution_count": 14,
     "metadata": {},
     "output_type": "execute_result"
    }
   ],
   "source": [
    "all_X.columns[non_categorical_features]"
   ]
  },
  {
   "cell_type": "code",
   "execution_count": 15,
   "metadata": {},
   "outputs": [],
   "source": [
    "# Train Test Split\n",
    "X_train, X_test, y_train, y_test  = model_setup(all_X, all_y, norm=True, test_size=0.33, to_normalise=non_categorical_features)\n",
    "\n"
   ]
  },
  {
   "cell_type": "code",
   "execution_count": 16,
   "metadata": {},
   "outputs": [
    {
     "data": {
      "text/html": [
       "<div>\n",
       "<style scoped>\n",
       "    .dataframe tbody tr th:only-of-type {\n",
       "        vertical-align: middle;\n",
       "    }\n",
       "\n",
       "    .dataframe tbody tr th {\n",
       "        vertical-align: top;\n",
       "    }\n",
       "\n",
       "    .dataframe thead th {\n",
       "        text-align: right;\n",
       "    }\n",
       "</style>\n",
       "<table border=\"1\" class=\"dataframe\">\n",
       "  <thead>\n",
       "    <tr style=\"text-align: right;\">\n",
       "      <th></th>\n",
       "      <th>id_trip</th>\n",
       "      <th>mode</th>\n",
       "      <th>duration</th>\n",
       "      <th>distance_m</th>\n",
       "      <th>weekday</th>\n",
       "      <th>precip</th>\n",
       "      <th>temp</th>\n",
       "      <th>morning</th>\n",
       "      <th>midday</th>\n",
       "      <th>afternoon</th>\n",
       "      <th>evening</th>\n",
       "      <th>midnight</th>\n",
       "      <th>startx</th>\n",
       "      <th>starty</th>\n",
       "      <th>endx</th>\n",
       "      <th>endy</th>\n",
       "    </tr>\n",
       "  </thead>\n",
       "  <tbody>\n",
       "    <tr>\n",
       "      <th>13051</th>\n",
       "      <td>3592784</td>\n",
       "      <td>2</td>\n",
       "      <td>0.015505</td>\n",
       "      <td>0.015059</td>\n",
       "      <td>1</td>\n",
       "      <td>0.018937</td>\n",
       "      <td>0.333150</td>\n",
       "      <td>0</td>\n",
       "      <td>0</td>\n",
       "      <td>1</td>\n",
       "      <td>0</td>\n",
       "      <td>0</td>\n",
       "      <td>7.629479e+06</td>\n",
       "      <td>1.254025e+06</td>\n",
       "      <td>7.629632e+06</td>\n",
       "      <td>1.252537e+06</td>\n",
       "    </tr>\n",
       "    <tr>\n",
       "      <th>37551</th>\n",
       "      <td>152350</td>\n",
       "      <td>2</td>\n",
       "      <td>0.048111</td>\n",
       "      <td>0.034086</td>\n",
       "      <td>1</td>\n",
       "      <td>0.035834</td>\n",
       "      <td>0.775837</td>\n",
       "      <td>0</td>\n",
       "      <td>0</td>\n",
       "      <td>0</td>\n",
       "      <td>0</td>\n",
       "      <td>1</td>\n",
       "      <td>7.619616e+06</td>\n",
       "      <td>1.265810e+06</td>\n",
       "      <td>7.620944e+06</td>\n",
       "      <td>1.265901e+06</td>\n",
       "    </tr>\n",
       "    <tr>\n",
       "      <th>7582</th>\n",
       "      <td>1959960</td>\n",
       "      <td>2</td>\n",
       "      <td>0.156737</td>\n",
       "      <td>0.138435</td>\n",
       "      <td>0</td>\n",
       "      <td>0.509026</td>\n",
       "      <td>0.415893</td>\n",
       "      <td>0</td>\n",
       "      <td>0</td>\n",
       "      <td>0</td>\n",
       "      <td>1</td>\n",
       "      <td>0</td>\n",
       "      <td>7.627604e+06</td>\n",
       "      <td>1.244069e+06</td>\n",
       "      <td>7.616296e+06</td>\n",
       "      <td>1.245143e+06</td>\n",
       "    </tr>\n",
       "    <tr>\n",
       "      <th>48160</th>\n",
       "      <td>204665</td>\n",
       "      <td>2</td>\n",
       "      <td>0.126010</td>\n",
       "      <td>0.027076</td>\n",
       "      <td>1</td>\n",
       "      <td>0.292437</td>\n",
       "      <td>0.418278</td>\n",
       "      <td>0</td>\n",
       "      <td>0</td>\n",
       "      <td>0</td>\n",
       "      <td>1</td>\n",
       "      <td>0</td>\n",
       "      <td>7.626442e+06</td>\n",
       "      <td>1.249992e+06</td>\n",
       "      <td>7.627373e+06</td>\n",
       "      <td>1.251307e+06</td>\n",
       "    </tr>\n",
       "    <tr>\n",
       "      <th>30591</th>\n",
       "      <td>123314</td>\n",
       "      <td>3</td>\n",
       "      <td>0.077711</td>\n",
       "      <td>0.031316</td>\n",
       "      <td>1</td>\n",
       "      <td>0.000076</td>\n",
       "      <td>0.513285</td>\n",
       "      <td>0</td>\n",
       "      <td>1</td>\n",
       "      <td>0</td>\n",
       "      <td>0</td>\n",
       "      <td>0</td>\n",
       "      <td>7.629966e+06</td>\n",
       "      <td>1.246249e+06</td>\n",
       "      <td>7.631133e+06</td>\n",
       "      <td>1.244680e+06</td>\n",
       "    </tr>\n",
       "  </tbody>\n",
       "</table>\n",
       "</div>"
      ],
      "text/plain": [
       "       id_trip  mode  duration  distance_m  weekday    precip      temp  \\\n",
       "13051  3592784     2  0.015505    0.015059        1  0.018937  0.333150   \n",
       "37551   152350     2  0.048111    0.034086        1  0.035834  0.775837   \n",
       "7582   1959960     2  0.156737    0.138435        0  0.509026  0.415893   \n",
       "48160   204665     2  0.126010    0.027076        1  0.292437  0.418278   \n",
       "30591   123314     3  0.077711    0.031316        1  0.000076  0.513285   \n",
       "\n",
       "       morning  midday  afternoon  evening  midnight        startx  \\\n",
       "13051        0       0          1        0         0  7.629479e+06   \n",
       "37551        0       0          0        0         1  7.619616e+06   \n",
       "7582         0       0          0        1         0  7.627604e+06   \n",
       "48160        0       0          0        1         0  7.626442e+06   \n",
       "30591        0       1          0        0         0  7.629966e+06   \n",
       "\n",
       "             starty          endx          endy  \n",
       "13051  1.254025e+06  7.629632e+06  1.252537e+06  \n",
       "37551  1.265810e+06  7.620944e+06  1.265901e+06  \n",
       "7582   1.244069e+06  7.616296e+06  1.245143e+06  \n",
       "48160  1.249992e+06  7.627373e+06  1.251307e+06  \n",
       "30591  1.246249e+06  7.631133e+06  1.244680e+06  "
      ]
     },
     "execution_count": 16,
     "metadata": {},
     "output_type": "execute_result"
    }
   ],
   "source": [
    "X_train.head()"
   ]
  },
  {
   "cell_type": "markdown",
   "metadata": {},
   "source": [
    "## 2.2 Calculate p_nearby\n",
    "Proportion of other trips that ended nearby with a given purpose\n",
    "\n",
    "Purpose: {'leisure': 0, 'food_drink': 1, 'shops': 2, 'pick_up_drop_off': 3, 'education': 4, 'health': 5}\n"
   ]
  },
  {
   "cell_type": "code",
   "execution_count": 17,
   "metadata": {},
   "outputs": [],
   "source": [
    "# initialise the geo dataframes needed\n",
    "all_X['geometry'] = all_X.apply(lambda row: shapely.geometry.Point(row['endx'],row['endy']),axis=1)\n",
    "geo_df = gpd.GeoDataFrame(pd.concat([all_X,all_y],axis=1))\n",
    "geo_df.crs = {'init':'epsg:3347'} # Canada Lambert Projection"
   ]
  },
  {
   "cell_type": "code",
   "execution_count": 18,
   "metadata": {},
   "outputs": [],
   "source": [
    "# only purposes of points around training are known  \n",
    "all_train = pd.concat([X_train,pd.DataFrame(y_train, columns=['purpose'])],axis=1)\n",
    "geo_X_train = all_train.copy()\n",
    "geo_X_train.reset_index(drop=True,inplace=True)"
   ]
  },
  {
   "cell_type": "code",
   "execution_count": 19,
   "metadata": {},
   "outputs": [],
   "source": [
    "geo_X_train['geometry'] = geo_X_train.apply(lambda row: shapely.geometry.Point(row['endx'],row['endy']),axis=1)\n",
    "geo_df_train = gpd.GeoDataFrame(geo_X_train)\n",
    "geo_df_train.crs = {'init':'epsg:3347'}"
   ]
  },
  {
   "cell_type": "code",
   "execution_count": 20,
   "metadata": {},
   "outputs": [
    {
     "data": {
      "text/plain": [
       "<matplotlib.axes._subplots.AxesSubplot at 0x13b0e30b8>"
      ]
     },
     "execution_count": 20,
     "metadata": {},
     "output_type": "execute_result"
    },
    {
     "data": {
      "image/png": "[encoded data removed]",
      "text/plain": [
       "<Figure size 432x288 with 1 Axes>"
      ]
     },
     "metadata": {
      "needs_background": "light"
     },
     "output_type": "display_data"
    }
   ],
   "source": [
    "geo_df_train.plot()"
   ]
  },
  {
   "cell_type": "code",
   "execution_count": 21,
   "metadata": {},
   "outputs": [],
   "source": [
    "# calculate 200 m buffers around each trip end point\n",
    "geo_df['buffers'] = geo_df['geometry'].apply(lambda row: row.buffer(200))"
   ]
  },
  {
   "cell_type": "code",
   "execution_count": 22,
   "metadata": {},
   "outputs": [],
   "source": [
    "# get dataframe with only buffers and purposes\n",
    "all_buffers = geo_df[['id_trip','buffers','purpose']]\n",
    "geo_df.drop('buffers',axis=1,inplace=True)\n",
    "all_buffers = gpd.GeoDataFrame(all_buffers.rename(columns={'buffers':'geometry'}))\n",
    "all_buffers.crs = {'init': 'epsg:3347'}"
   ]
  },
  {
   "cell_type": "code",
   "execution_count": 23,
   "metadata": {},
   "outputs": [
    {
     "name": "stdout",
     "output_type": "stream",
     "text": [
      "CPU times: user 25.7 s, sys: 1.54 s, total: 27.2 s\n",
      "Wall time: 27.2 s\n"
     ]
    }
   ],
   "source": [
    "%%time\n",
    "joined_data = gpd.sjoin(all_buffers, geo_df_train, op='intersects', how='left')"
   ]
  },
  {
   "cell_type": "code",
   "execution_count": 24,
   "metadata": {},
   "outputs": [
    {
     "name": "stdout",
     "output_type": "stream",
     "text": [
      "2219087\n"
     ]
    },
    {
     "data": {
      "text/html": [
       "<div>\n",
       "<style scoped>\n",
       "    .dataframe tbody tr th:only-of-type {\n",
       "        vertical-align: middle;\n",
       "    }\n",
       "\n",
       "    .dataframe tbody tr th {\n",
       "        vertical-align: top;\n",
       "    }\n",
       "\n",
       "    .dataframe thead th {\n",
       "        text-align: right;\n",
       "    }\n",
       "</style>\n",
       "<table border=\"1\" class=\"dataframe\">\n",
       "  <thead>\n",
       "    <tr style=\"text-align: right;\">\n",
       "      <th></th>\n",
       "      <th>id_trip_left</th>\n",
       "      <th>geometry</th>\n",
       "      <th>purpose_left</th>\n",
       "      <th>index_right</th>\n",
       "      <th>id_trip_right</th>\n",
       "      <th>mode</th>\n",
       "      <th>duration</th>\n",
       "      <th>distance_m</th>\n",
       "      <th>weekday</th>\n",
       "      <th>precip</th>\n",
       "      <th>...</th>\n",
       "      <th>morning</th>\n",
       "      <th>midday</th>\n",
       "      <th>afternoon</th>\n",
       "      <th>evening</th>\n",
       "      <th>midnight</th>\n",
       "      <th>startx</th>\n",
       "      <th>starty</th>\n",
       "      <th>endx</th>\n",
       "      <th>endy</th>\n",
       "      <th>purpose_right</th>\n",
       "    </tr>\n",
       "  </thead>\n",
       "  <tbody>\n",
       "    <tr>\n",
       "      <th>48752</th>\n",
       "      <td>333364</td>\n",
       "      <td>POLYGON ((7614336.832987056 1237383.977932147,...</td>\n",
       "      <td>2</td>\n",
       "      <td>1577.0</td>\n",
       "      <td>176152.0</td>\n",
       "      <td>2.0</td>\n",
       "      <td>0.116050</td>\n",
       "      <td>0.063887</td>\n",
       "      <td>1.0</td>\n",
       "      <td>0.081351</td>\n",
       "      <td>...</td>\n",
       "      <td>0.0</td>\n",
       "      <td>0.0</td>\n",
       "      <td>0.0</td>\n",
       "      <td>1.0</td>\n",
       "      <td>0.0</td>\n",
       "      <td>7.616309e+06</td>\n",
       "      <td>1.234206e+06</td>\n",
       "      <td>7.614149e+06</td>\n",
       "      <td>1.237374e+06</td>\n",
       "      <td>2.0</td>\n",
       "    </tr>\n",
       "    <tr>\n",
       "      <th>48752</th>\n",
       "      <td>333364</td>\n",
       "      <td>POLYGON ((7614336.832987056 1237383.977932147,...</td>\n",
       "      <td>2</td>\n",
       "      <td>7936.0</td>\n",
       "      <td>50177.0</td>\n",
       "      <td>2.0</td>\n",
       "      <td>0.059293</td>\n",
       "      <td>0.025514</td>\n",
       "      <td>0.0</td>\n",
       "      <td>0.009972</td>\n",
       "      <td>...</td>\n",
       "      <td>0.0</td>\n",
       "      <td>0.0</td>\n",
       "      <td>0.0</td>\n",
       "      <td>1.0</td>\n",
       "      <td>0.0</td>\n",
       "      <td>7.613771e+06</td>\n",
       "      <td>1.238383e+06</td>\n",
       "      <td>7.614149e+06</td>\n",
       "      <td>1.237374e+06</td>\n",
       "      <td>2.0</td>\n",
       "    </tr>\n",
       "    <tr>\n",
       "      <th>48752</th>\n",
       "      <td>333364</td>\n",
       "      <td>POLYGON ((7614336.832987056 1237383.977932147,...</td>\n",
       "      <td>2</td>\n",
       "      <td>14898.0</td>\n",
       "      <td>2048905.0</td>\n",
       "      <td>3.0</td>\n",
       "      <td>0.012028</td>\n",
       "      <td>0.006100</td>\n",
       "      <td>1.0</td>\n",
       "      <td>0.023530</td>\n",
       "      <td>...</td>\n",
       "      <td>0.0</td>\n",
       "      <td>1.0</td>\n",
       "      <td>0.0</td>\n",
       "      <td>0.0</td>\n",
       "      <td>0.0</td>\n",
       "      <td>7.614512e+06</td>\n",
       "      <td>1.237863e+06</td>\n",
       "      <td>7.614135e+06</td>\n",
       "      <td>1.237383e+06</td>\n",
       "      <td>0.0</td>\n",
       "    </tr>\n",
       "    <tr>\n",
       "      <th>48752</th>\n",
       "      <td>333364</td>\n",
       "      <td>POLYGON ((7614336.832987056 1237383.977932147,...</td>\n",
       "      <td>2</td>\n",
       "      <td>6401.0</td>\n",
       "      <td>2209132.0</td>\n",
       "      <td>2.0</td>\n",
       "      <td>0.100357</td>\n",
       "      <td>0.025408</td>\n",
       "      <td>1.0</td>\n",
       "      <td>0.221659</td>\n",
       "      <td>...</td>\n",
       "      <td>0.0</td>\n",
       "      <td>0.0</td>\n",
       "      <td>0.0</td>\n",
       "      <td>1.0</td>\n",
       "      <td>0.0</td>\n",
       "      <td>7.615460e+06</td>\n",
       "      <td>1.238870e+06</td>\n",
       "      <td>7.614135e+06</td>\n",
       "      <td>1.237383e+06</td>\n",
       "      <td>4.0</td>\n",
       "    </tr>\n",
       "    <tr>\n",
       "      <th>48752</th>\n",
       "      <td>333364</td>\n",
       "      <td>POLYGON ((7614336.832987056 1237383.977932147,...</td>\n",
       "      <td>2</td>\n",
       "      <td>24234.0</td>\n",
       "      <td>27836.0</td>\n",
       "      <td>2.0</td>\n",
       "      <td>0.220259</td>\n",
       "      <td>0.340667</td>\n",
       "      <td>1.0</td>\n",
       "      <td>0.003005</td>\n",
       "      <td>...</td>\n",
       "      <td>0.0</td>\n",
       "      <td>0.0</td>\n",
       "      <td>0.0</td>\n",
       "      <td>0.0</td>\n",
       "      <td>1.0</td>\n",
       "      <td>7.639030e+06</td>\n",
       "      <td>1.244346e+06</td>\n",
       "      <td>7.614137e+06</td>\n",
       "      <td>1.237384e+06</td>\n",
       "      <td>0.0</td>\n",
       "    </tr>\n",
       "  </tbody>\n",
       "</table>\n",
       "<p>5 rows × 21 columns</p>\n",
       "</div>"
      ],
      "text/plain": [
       "       id_trip_left                                           geometry  \\\n",
       "48752        333364  POLYGON ((7614336.832987056 1237383.977932147,...   \n",
       "48752        333364  POLYGON ((7614336.832987056 1237383.977932147,...   \n",
       "48752        333364  POLYGON ((7614336.832987056 1237383.977932147,...   \n",
       "48752        333364  POLYGON ((7614336.832987056 1237383.977932147,...   \n",
       "48752        333364  POLYGON ((7614336.832987056 1237383.977932147,...   \n",
       "\n",
       "       purpose_left  index_right  id_trip_right  mode  duration  distance_m  \\\n",
       "48752             2       1577.0       176152.0   2.0  0.116050    0.063887   \n",
       "48752             2       7936.0        50177.0   2.0  0.059293    0.025514   \n",
       "48752             2      14898.0      2048905.0   3.0  0.012028    0.006100   \n",
       "48752             2       6401.0      2209132.0   2.0  0.100357    0.025408   \n",
       "48752             2      24234.0        27836.0   2.0  0.220259    0.340667   \n",
       "\n",
       "       weekday    precip  ...  morning  midday  afternoon  evening  midnight  \\\n",
       "48752      1.0  0.081351  ...      0.0     0.0        0.0      1.0       0.0   \n",
       "48752      0.0  0.009972  ...      0.0     0.0        0.0      1.0       0.0   \n",
       "48752      1.0  0.023530  ...      0.0     1.0        0.0      0.0       0.0   \n",
       "48752      1.0  0.221659  ...      0.0     0.0        0.0      1.0       0.0   \n",
       "48752      1.0  0.003005  ...      0.0     0.0        0.0      0.0       1.0   \n",
       "\n",
       "             startx        starty          endx          endy  purpose_right  \n",
       "48752  7.616309e+06  1.234206e+06  7.614149e+06  1.237374e+06            2.0  \n",
       "48752  7.613771e+06  1.238383e+06  7.614149e+06  1.237374e+06            2.0  \n",
       "48752  7.614512e+06  1.237863e+06  7.614135e+06  1.237383e+06            0.0  \n",
       "48752  7.615460e+06  1.238870e+06  7.614135e+06  1.237383e+06            4.0  \n",
       "48752  7.639030e+06  1.244346e+06  7.614137e+06  1.237384e+06            0.0  \n",
       "\n",
       "[5 rows x 21 columns]"
      ]
     },
     "execution_count": 24,
     "metadata": {},
     "output_type": "execute_result"
    }
   ],
   "source": [
    "print(len(joined_data))\n",
    "joined_data.tail()"
   ]
  },
  {
   "cell_type": "code",
   "execution_count": 25,
   "metadata": {},
   "outputs": [
    {
     "name": "stdout",
     "output_type": "stream",
     "text": [
      "CPU times: user 43.2 s, sys: 75.6 ms, total: 43.2 s\n",
      "Wall time: 43.3 s\n"
     ]
    }
   ],
   "source": [
    "%%time\n",
    "to_drop = joined_data[['id_trip_left','id_trip_right']].apply(lambda row: True \\\n",
    "                                                                if row['id_trip_left'] == row['id_trip_right']\\\n",
    "                                                                else False, axis=1)"
   ]
  },
  {
   "cell_type": "code",
   "execution_count": 26,
   "metadata": {},
   "outputs": [
    {
     "data": {
      "text/plain": [
       "0    False\n",
       "0    False\n",
       "0    False\n",
       "0    False\n",
       "0    False\n",
       "dtype: bool"
      ]
     },
     "execution_count": 26,
     "metadata": {},
     "output_type": "execute_result"
    }
   ],
   "source": [
    "to_drop[:5]"
   ]
  },
  {
   "cell_type": "code",
   "execution_count": 27,
   "metadata": {},
   "outputs": [],
   "source": [
    "# get rid of duplicate trips\n",
    "joined_data = joined_data[~to_drop]"
   ]
  },
  {
   "cell_type": "code",
   "execution_count": 28,
   "metadata": {},
   "outputs": [
    {
     "data": {
      "text/html": [
       "<div>\n",
       "<style scoped>\n",
       "    .dataframe tbody tr th:only-of-type {\n",
       "        vertical-align: middle;\n",
       "    }\n",
       "\n",
       "    .dataframe tbody tr th {\n",
       "        vertical-align: top;\n",
       "    }\n",
       "\n",
       "    .dataframe thead th {\n",
       "        text-align: right;\n",
       "    }\n",
       "</style>\n",
       "<table border=\"1\" class=\"dataframe\">\n",
       "  <thead>\n",
       "    <tr style=\"text-align: right;\">\n",
       "      <th></th>\n",
       "      <th>id_trip_left</th>\n",
       "      <th>geometry</th>\n",
       "      <th>purpose_left</th>\n",
       "      <th>index_right</th>\n",
       "      <th>id_trip_right</th>\n",
       "      <th>mode</th>\n",
       "      <th>duration</th>\n",
       "      <th>distance_m</th>\n",
       "      <th>weekday</th>\n",
       "      <th>precip</th>\n",
       "      <th>...</th>\n",
       "      <th>morning</th>\n",
       "      <th>midday</th>\n",
       "      <th>afternoon</th>\n",
       "      <th>evening</th>\n",
       "      <th>midnight</th>\n",
       "      <th>startx</th>\n",
       "      <th>starty</th>\n",
       "      <th>endx</th>\n",
       "      <th>endy</th>\n",
       "      <th>purpose_right</th>\n",
       "    </tr>\n",
       "  </thead>\n",
       "  <tbody>\n",
       "    <tr>\n",
       "      <th>21325</th>\n",
       "      <td>2386427</td>\n",
       "      <td>POLYGON ((7617980.68002283 1251490.953635346, ...</td>\n",
       "      <td>2</td>\n",
       "      <td>26384.0</td>\n",
       "      <td>7311.0</td>\n",
       "      <td>2.0</td>\n",
       "      <td>0.137286</td>\n",
       "      <td>0.170948</td>\n",
       "      <td>0.0</td>\n",
       "      <td>0.0</td>\n",
       "      <td>...</td>\n",
       "      <td>0.0</td>\n",
       "      <td>1.0</td>\n",
       "      <td>0.0</td>\n",
       "      <td>0.0</td>\n",
       "      <td>0.0</td>\n",
       "      <td>7.627867e+06</td>\n",
       "      <td>1.248470e+06</td>\n",
       "      <td>7.617872e+06</td>\n",
       "      <td>1.251486e+06</td>\n",
       "      <td>5.0</td>\n",
       "    </tr>\n",
       "  </tbody>\n",
       "</table>\n",
       "<p>1 rows × 21 columns</p>\n",
       "</div>"
      ],
      "text/plain": [
       "       id_trip_left                                           geometry  \\\n",
       "21325       2386427  POLYGON ((7617980.68002283 1251490.953635346, ...   \n",
       "\n",
       "       purpose_left  index_right  id_trip_right  mode  duration  distance_m  \\\n",
       "21325             2      26384.0         7311.0   2.0  0.137286    0.170948   \n",
       "\n",
       "       weekday  precip  ...  morning  midday  afternoon  evening  midnight  \\\n",
       "21325      0.0     0.0  ...      0.0     1.0        0.0      0.0       0.0   \n",
       "\n",
       "             startx        starty          endx          endy  purpose_right  \n",
       "21325  7.627867e+06  1.248470e+06  7.617872e+06  1.251486e+06            5.0  \n",
       "\n",
       "[1 rows x 21 columns]"
      ]
     },
     "execution_count": 28,
     "metadata": {},
     "output_type": "execute_result"
    }
   ],
   "source": [
    "# see if duplicates have been dropped (check if more than one trip ID shows)\n",
    "joined_data.loc[joined_data['id_trip_left'] == 2386427]"
   ]
  },
  {
   "cell_type": "code",
   "execution_count": 29,
   "metadata": {},
   "outputs": [],
   "source": [
    "grouped_data = joined_data.groupby(['id_trip_left', 'purpose_right']).agg({'mode':'count'})\n",
    "grouped_data = grouped_data.unstack().apply(lambda row: row/row.sum(),axis=1)['mode'].reset_index()\n",
    "grouped_data = grouped_data.fillna(0.0)\n",
    "# rename columns\n",
    "grouped_data.columns = ['id_trip','p_nearby_leisure','p_nearby_food','p_nearby_shops','p_nearby_pickup','p_nearby_education',\\\n",
    "                       'p_nearby_health']"
   ]
  },
  {
   "cell_type": "code",
   "execution_count": 30,
   "metadata": {},
   "outputs": [
    {
     "name": "stdout",
     "output_type": "stream",
     "text": [
      "num of trips without other trips around: 2386\n"
     ]
    }
   ],
   "source": [
    "print('num of trips without other trips around:', all_X['id_trip'].nunique() - grouped_data['id_trip'].nunique())"
   ]
  },
  {
   "cell_type": "code",
   "execution_count": 31,
   "metadata": {},
   "outputs": [
    {
     "data": {
      "text/html": [
       "<div>\n",
       "<style scoped>\n",
       "    .dataframe tbody tr th:only-of-type {\n",
       "        vertical-align: middle;\n",
       "    }\n",
       "\n",
       "    .dataframe tbody tr th {\n",
       "        vertical-align: top;\n",
       "    }\n",
       "\n",
       "    .dataframe thead th {\n",
       "        text-align: right;\n",
       "    }\n",
       "</style>\n",
       "<table border=\"1\" class=\"dataframe\">\n",
       "  <thead>\n",
       "    <tr style=\"text-align: right;\">\n",
       "      <th></th>\n",
       "      <th>id_trip</th>\n",
       "      <th>p_nearby_leisure</th>\n",
       "      <th>p_nearby_food</th>\n",
       "      <th>p_nearby_shops</th>\n",
       "      <th>p_nearby_pickup</th>\n",
       "      <th>p_nearby_education</th>\n",
       "      <th>p_nearby_health</th>\n",
       "    </tr>\n",
       "  </thead>\n",
       "  <tbody>\n",
       "    <tr>\n",
       "      <th>0</th>\n",
       "      <td>7</td>\n",
       "      <td>0.244681</td>\n",
       "      <td>0.244681</td>\n",
       "      <td>0.308511</td>\n",
       "      <td>0.021277</td>\n",
       "      <td>0.138298</td>\n",
       "      <td>0.042553</td>\n",
       "    </tr>\n",
       "    <tr>\n",
       "      <th>1</th>\n",
       "      <td>21</td>\n",
       "      <td>0.378378</td>\n",
       "      <td>0.108108</td>\n",
       "      <td>0.297297</td>\n",
       "      <td>0.162162</td>\n",
       "      <td>0.000000</td>\n",
       "      <td>0.054054</td>\n",
       "    </tr>\n",
       "    <tr>\n",
       "      <th>2</th>\n",
       "      <td>67</td>\n",
       "      <td>0.076923</td>\n",
       "      <td>0.000000</td>\n",
       "      <td>0.615385</td>\n",
       "      <td>0.153846</td>\n",
       "      <td>0.076923</td>\n",
       "      <td>0.076923</td>\n",
       "    </tr>\n",
       "    <tr>\n",
       "      <th>3</th>\n",
       "      <td>86</td>\n",
       "      <td>0.235294</td>\n",
       "      <td>0.200000</td>\n",
       "      <td>0.341176</td>\n",
       "      <td>0.094118</td>\n",
       "      <td>0.023529</td>\n",
       "      <td>0.105882</td>\n",
       "    </tr>\n",
       "    <tr>\n",
       "      <th>4</th>\n",
       "      <td>115</td>\n",
       "      <td>0.307692</td>\n",
       "      <td>0.000000</td>\n",
       "      <td>0.307692</td>\n",
       "      <td>0.230769</td>\n",
       "      <td>0.076923</td>\n",
       "      <td>0.076923</td>\n",
       "    </tr>\n",
       "  </tbody>\n",
       "</table>\n",
       "</div>"
      ],
      "text/plain": [
       "   id_trip  p_nearby_leisure  p_nearby_food  p_nearby_shops  p_nearby_pickup  \\\n",
       "0        7          0.244681       0.244681        0.308511         0.021277   \n",
       "1       21          0.378378       0.108108        0.297297         0.162162   \n",
       "2       67          0.076923       0.000000        0.615385         0.153846   \n",
       "3       86          0.235294       0.200000        0.341176         0.094118   \n",
       "4      115          0.307692       0.000000        0.307692         0.230769   \n",
       "\n",
       "   p_nearby_education  p_nearby_health  \n",
       "0            0.138298         0.042553  \n",
       "1            0.000000         0.054054  \n",
       "2            0.076923         0.076923  \n",
       "3            0.023529         0.105882  \n",
       "4            0.076923         0.076923  "
      ]
     },
     "execution_count": 31,
     "metadata": {},
     "output_type": "execute_result"
    }
   ],
   "source": [
    "grouped_data.head()"
   ]
  },
  {
   "cell_type": "code",
   "execution_count": 32,
   "metadata": {},
   "outputs": [
    {
     "name": "stdout",
     "output_type": "stream",
     "text": [
      "merging\n"
     ]
    }
   ],
   "source": [
    "# join the data back to the all_X\n",
    "if not 'p_nearby_leisure' in all_X.columns:\n",
    "    print('merging')\n",
    "    all_X = all_X.merge(grouped_data, on='id_trip', how='left')\n",
    "    all_X = all_X.fillna(0.0)"
   ]
  },
  {
   "cell_type": "code",
   "execution_count": 33,
   "metadata": {},
   "outputs": [
    {
     "name": "stdout",
     "output_type": "stream",
     "text": [
      "removing geometry\n"
     ]
    }
   ],
   "source": [
    "if 'geometry' in all_X.columns:\n",
    "    print('removing geometry')\n",
    "    all_X.drop('geometry', axis=1, inplace=True)"
   ]
  },
  {
   "cell_type": "code",
   "execution_count": 34,
   "metadata": {},
   "outputs": [
    {
     "data": {
      "text/html": [
       "<div>\n",
       "<style scoped>\n",
       "    .dataframe tbody tr th:only-of-type {\n",
       "        vertical-align: middle;\n",
       "    }\n",
       "\n",
       "    .dataframe tbody tr th {\n",
       "        vertical-align: top;\n",
       "    }\n",
       "\n",
       "    .dataframe thead th {\n",
       "        text-align: right;\n",
       "    }\n",
       "</style>\n",
       "<table border=\"1\" class=\"dataframe\">\n",
       "  <thead>\n",
       "    <tr style=\"text-align: right;\">\n",
       "      <th></th>\n",
       "      <th>id_trip</th>\n",
       "      <th>mode</th>\n",
       "      <th>duration</th>\n",
       "      <th>distance_m</th>\n",
       "      <th>weekday</th>\n",
       "      <th>precip</th>\n",
       "      <th>temp</th>\n",
       "      <th>morning</th>\n",
       "      <th>midday</th>\n",
       "      <th>afternoon</th>\n",
       "      <th>...</th>\n",
       "      <th>startx</th>\n",
       "      <th>starty</th>\n",
       "      <th>endx</th>\n",
       "      <th>endy</th>\n",
       "      <th>p_nearby_leisure</th>\n",
       "      <th>p_nearby_food</th>\n",
       "      <th>p_nearby_shops</th>\n",
       "      <th>p_nearby_pickup</th>\n",
       "      <th>p_nearby_education</th>\n",
       "      <th>p_nearby_health</th>\n",
       "    </tr>\n",
       "  </thead>\n",
       "  <tbody>\n",
       "    <tr>\n",
       "      <th>0</th>\n",
       "      <td>1889461</td>\n",
       "      <td>1</td>\n",
       "      <td>0.036365</td>\n",
       "      <td>0.017995</td>\n",
       "      <td>1</td>\n",
       "      <td>0.004090</td>\n",
       "      <td>0.893262</td>\n",
       "      <td>0</td>\n",
       "      <td>0</td>\n",
       "      <td>0</td>\n",
       "      <td>...</td>\n",
       "      <td>7.632056e+06</td>\n",
       "      <td>1.247584e+06</td>\n",
       "      <td>7.630298e+06</td>\n",
       "      <td>1.248129e+06</td>\n",
       "      <td>0.455556</td>\n",
       "      <td>0.088889</td>\n",
       "      <td>0.388889</td>\n",
       "      <td>0.011111</td>\n",
       "      <td>0.022222</td>\n",
       "      <td>0.033333</td>\n",
       "    </tr>\n",
       "    <tr>\n",
       "      <th>1</th>\n",
       "      <td>2071991</td>\n",
       "      <td>3</td>\n",
       "      <td>0.073670</td>\n",
       "      <td>0.027212</td>\n",
       "      <td>1</td>\n",
       "      <td>0.043444</td>\n",
       "      <td>0.870440</td>\n",
       "      <td>0</td>\n",
       "      <td>0</td>\n",
       "      <td>0</td>\n",
       "      <td>...</td>\n",
       "      <td>7.628002e+06</td>\n",
       "      <td>1.247761e+06</td>\n",
       "      <td>7.626230e+06</td>\n",
       "      <td>1.247150e+06</td>\n",
       "      <td>0.727273</td>\n",
       "      <td>0.045455</td>\n",
       "      <td>0.045455</td>\n",
       "      <td>0.000000</td>\n",
       "      <td>0.045455</td>\n",
       "      <td>0.136364</td>\n",
       "    </tr>\n",
       "  </tbody>\n",
       "</table>\n",
       "<p>2 rows × 22 columns</p>\n",
       "</div>"
      ],
      "text/plain": [
       "   id_trip  mode  duration  distance_m  weekday    precip      temp  morning  \\\n",
       "0  1889461     1  0.036365    0.017995        1  0.004090  0.893262        0   \n",
       "1  2071991     3  0.073670    0.027212        1  0.043444  0.870440        0   \n",
       "\n",
       "   midday  afternoon  ...        startx        starty          endx  \\\n",
       "0       0          0  ...  7.632056e+06  1.247584e+06  7.630298e+06   \n",
       "1       0          0  ...  7.628002e+06  1.247761e+06  7.626230e+06   \n",
       "\n",
       "           endy  p_nearby_leisure  p_nearby_food  p_nearby_shops  \\\n",
       "0  1.248129e+06          0.455556       0.088889        0.388889   \n",
       "1  1.247150e+06          0.727273       0.045455        0.045455   \n",
       "\n",
       "   p_nearby_pickup  p_nearby_education  p_nearby_health  \n",
       "0         0.011111            0.022222         0.033333  \n",
       "1         0.000000            0.045455         0.136364  \n",
       "\n",
       "[2 rows x 22 columns]"
      ]
     },
     "execution_count": 34,
     "metadata": {},
     "output_type": "execute_result"
    }
   ],
   "source": [
    "all_X.head(2)"
   ]
  },
  {
   "cell_type": "markdown",
   "metadata": {},
   "source": [
    "### 2.2.1 re-join the props back to train test"
   ]
  },
  {
   "cell_type": "code",
   "execution_count": 35,
   "metadata": {},
   "outputs": [
    {
     "name": "stdout",
     "output_type": "stream",
     "text": [
      "merging data\n"
     ]
    }
   ],
   "source": [
    "if not 'p_nearby_leisure' in X_train.columns:\n",
    "    print('merging data')\n",
    "    col_to_merge = ['id_trip', 'p_nearby_leisure','p_nearby_food','p_nearby_shops',\\\n",
    "                        'p_nearby_pickup','p_nearby_education','p_nearby_health']\n",
    "    X_train = X_train.merge(all_X[col_to_merge], on='id_trip')\n",
    "    X_test = X_test.merge(all_X[col_to_merge], on='id_trip')"
   ]
  },
  {
   "cell_type": "code",
   "execution_count": 36,
   "metadata": {},
   "outputs": [
    {
     "data": {
      "text/html": [
       "<div>\n",
       "<style scoped>\n",
       "    .dataframe tbody tr th:only-of-type {\n",
       "        vertical-align: middle;\n",
       "    }\n",
       "\n",
       "    .dataframe tbody tr th {\n",
       "        vertical-align: top;\n",
       "    }\n",
       "\n",
       "    .dataframe thead th {\n",
       "        text-align: right;\n",
       "    }\n",
       "</style>\n",
       "<table border=\"1\" class=\"dataframe\">\n",
       "  <thead>\n",
       "    <tr style=\"text-align: right;\">\n",
       "      <th></th>\n",
       "      <th>id_trip</th>\n",
       "      <th>mode</th>\n",
       "      <th>duration</th>\n",
       "      <th>distance_m</th>\n",
       "      <th>weekday</th>\n",
       "      <th>precip</th>\n",
       "      <th>temp</th>\n",
       "      <th>morning</th>\n",
       "      <th>midday</th>\n",
       "      <th>afternoon</th>\n",
       "      <th>...</th>\n",
       "      <th>startx</th>\n",
       "      <th>starty</th>\n",
       "      <th>endx</th>\n",
       "      <th>endy</th>\n",
       "      <th>p_nearby_leisure</th>\n",
       "      <th>p_nearby_food</th>\n",
       "      <th>p_nearby_shops</th>\n",
       "      <th>p_nearby_pickup</th>\n",
       "      <th>p_nearby_education</th>\n",
       "      <th>p_nearby_health</th>\n",
       "    </tr>\n",
       "  </thead>\n",
       "  <tbody>\n",
       "    <tr>\n",
       "      <th>0</th>\n",
       "      <td>3592784</td>\n",
       "      <td>2</td>\n",
       "      <td>0.015505</td>\n",
       "      <td>0.015059</td>\n",
       "      <td>1</td>\n",
       "      <td>0.018937</td>\n",
       "      <td>0.333150</td>\n",
       "      <td>0</td>\n",
       "      <td>0</td>\n",
       "      <td>1</td>\n",
       "      <td>...</td>\n",
       "      <td>7.629479e+06</td>\n",
       "      <td>1.254025e+06</td>\n",
       "      <td>7.629632e+06</td>\n",
       "      <td>1.252537e+06</td>\n",
       "      <td>0.000000</td>\n",
       "      <td>0.250000</td>\n",
       "      <td>0.250000</td>\n",
       "      <td>0.250000</td>\n",
       "      <td>0.250000</td>\n",
       "      <td>0.000000</td>\n",
       "    </tr>\n",
       "    <tr>\n",
       "      <th>1</th>\n",
       "      <td>152350</td>\n",
       "      <td>2</td>\n",
       "      <td>0.048111</td>\n",
       "      <td>0.034086</td>\n",
       "      <td>1</td>\n",
       "      <td>0.035834</td>\n",
       "      <td>0.775837</td>\n",
       "      <td>0</td>\n",
       "      <td>0</td>\n",
       "      <td>0</td>\n",
       "      <td>...</td>\n",
       "      <td>7.619616e+06</td>\n",
       "      <td>1.265810e+06</td>\n",
       "      <td>7.620944e+06</td>\n",
       "      <td>1.265901e+06</td>\n",
       "      <td>0.500000</td>\n",
       "      <td>0.000000</td>\n",
       "      <td>0.000000</td>\n",
       "      <td>0.000000</td>\n",
       "      <td>0.000000</td>\n",
       "      <td>0.500000</td>\n",
       "    </tr>\n",
       "    <tr>\n",
       "      <th>2</th>\n",
       "      <td>1959960</td>\n",
       "      <td>2</td>\n",
       "      <td>0.156737</td>\n",
       "      <td>0.138435</td>\n",
       "      <td>0</td>\n",
       "      <td>0.509026</td>\n",
       "      <td>0.415893</td>\n",
       "      <td>0</td>\n",
       "      <td>0</td>\n",
       "      <td>0</td>\n",
       "      <td>...</td>\n",
       "      <td>7.627604e+06</td>\n",
       "      <td>1.244069e+06</td>\n",
       "      <td>7.616296e+06</td>\n",
       "      <td>1.245143e+06</td>\n",
       "      <td>0.000000</td>\n",
       "      <td>0.500000</td>\n",
       "      <td>0.000000</td>\n",
       "      <td>0.500000</td>\n",
       "      <td>0.000000</td>\n",
       "      <td>0.000000</td>\n",
       "    </tr>\n",
       "    <tr>\n",
       "      <th>3</th>\n",
       "      <td>204665</td>\n",
       "      <td>2</td>\n",
       "      <td>0.126010</td>\n",
       "      <td>0.027076</td>\n",
       "      <td>1</td>\n",
       "      <td>0.292437</td>\n",
       "      <td>0.418278</td>\n",
       "      <td>0</td>\n",
       "      <td>0</td>\n",
       "      <td>0</td>\n",
       "      <td>...</td>\n",
       "      <td>7.626442e+06</td>\n",
       "      <td>1.249992e+06</td>\n",
       "      <td>7.627373e+06</td>\n",
       "      <td>1.251307e+06</td>\n",
       "      <td>0.500000</td>\n",
       "      <td>0.500000</td>\n",
       "      <td>0.000000</td>\n",
       "      <td>0.000000</td>\n",
       "      <td>0.000000</td>\n",
       "      <td>0.000000</td>\n",
       "    </tr>\n",
       "    <tr>\n",
       "      <th>4</th>\n",
       "      <td>123314</td>\n",
       "      <td>3</td>\n",
       "      <td>0.077711</td>\n",
       "      <td>0.031316</td>\n",
       "      <td>1</td>\n",
       "      <td>0.000076</td>\n",
       "      <td>0.513285</td>\n",
       "      <td>0</td>\n",
       "      <td>1</td>\n",
       "      <td>0</td>\n",
       "      <td>...</td>\n",
       "      <td>7.629966e+06</td>\n",
       "      <td>1.246249e+06</td>\n",
       "      <td>7.631133e+06</td>\n",
       "      <td>1.244680e+06</td>\n",
       "      <td>0.130682</td>\n",
       "      <td>0.130682</td>\n",
       "      <td>0.153409</td>\n",
       "      <td>0.039773</td>\n",
       "      <td>0.505682</td>\n",
       "      <td>0.039773</td>\n",
       "    </tr>\n",
       "  </tbody>\n",
       "</table>\n",
       "<p>5 rows × 22 columns</p>\n",
       "</div>"
      ],
      "text/plain": [
       "   id_trip  mode  duration  distance_m  weekday    precip      temp  morning  \\\n",
       "0  3592784     2  0.015505    0.015059        1  0.018937  0.333150        0   \n",
       "1   152350     2  0.048111    0.034086        1  0.035834  0.775837        0   \n",
       "2  1959960     2  0.156737    0.138435        0  0.509026  0.415893        0   \n",
       "3   204665     2  0.126010    0.027076        1  0.292437  0.418278        0   \n",
       "4   123314     3  0.077711    0.031316        1  0.000076  0.513285        0   \n",
       "\n",
       "   midday  afternoon  ...        startx        starty          endx  \\\n",
       "0       0          1  ...  7.629479e+06  1.254025e+06  7.629632e+06   \n",
       "1       0          0  ...  7.619616e+06  1.265810e+06  7.620944e+06   \n",
       "2       0          0  ...  7.627604e+06  1.244069e+06  7.616296e+06   \n",
       "3       0          0  ...  7.626442e+06  1.249992e+06  7.627373e+06   \n",
       "4       1          0  ...  7.629966e+06  1.246249e+06  7.631133e+06   \n",
       "\n",
       "           endy  p_nearby_leisure  p_nearby_food  p_nearby_shops  \\\n",
       "0  1.252537e+06          0.000000       0.250000        0.250000   \n",
       "1  1.265901e+06          0.500000       0.000000        0.000000   \n",
       "2  1.245143e+06          0.000000       0.500000        0.000000   \n",
       "3  1.251307e+06          0.500000       0.500000        0.000000   \n",
       "4  1.244680e+06          0.130682       0.130682        0.153409   \n",
       "\n",
       "   p_nearby_pickup  p_nearby_education  p_nearby_health  \n",
       "0         0.250000            0.250000         0.000000  \n",
       "1         0.000000            0.000000         0.500000  \n",
       "2         0.500000            0.000000         0.000000  \n",
       "3         0.000000            0.000000         0.000000  \n",
       "4         0.039773            0.505682         0.039773  \n",
       "\n",
       "[5 rows x 22 columns]"
      ]
     },
     "execution_count": 36,
     "metadata": {},
     "output_type": "execute_result"
    }
   ],
   "source": [
    "X_train.head()"
   ]
  },
  {
   "cell_type": "code",
   "execution_count": 37,
   "metadata": {},
   "outputs": [
    {
     "data": {
      "text/html": [
       "<div>\n",
       "<style scoped>\n",
       "    .dataframe tbody tr th:only-of-type {\n",
       "        vertical-align: middle;\n",
       "    }\n",
       "\n",
       "    .dataframe tbody tr th {\n",
       "        vertical-align: top;\n",
       "    }\n",
       "\n",
       "    .dataframe thead th {\n",
       "        text-align: right;\n",
       "    }\n",
       "</style>\n",
       "<table border=\"1\" class=\"dataframe\">\n",
       "  <thead>\n",
       "    <tr style=\"text-align: right;\">\n",
       "      <th></th>\n",
       "      <th>id_trip</th>\n",
       "      <th>mode</th>\n",
       "      <th>duration</th>\n",
       "      <th>distance_m</th>\n",
       "      <th>weekday</th>\n",
       "      <th>precip</th>\n",
       "      <th>temp</th>\n",
       "      <th>morning</th>\n",
       "      <th>midday</th>\n",
       "      <th>afternoon</th>\n",
       "      <th>...</th>\n",
       "      <th>startx</th>\n",
       "      <th>starty</th>\n",
       "      <th>endx</th>\n",
       "      <th>endy</th>\n",
       "      <th>p_nearby_leisure</th>\n",
       "      <th>p_nearby_food</th>\n",
       "      <th>p_nearby_shops</th>\n",
       "      <th>p_nearby_pickup</th>\n",
       "      <th>p_nearby_education</th>\n",
       "      <th>p_nearby_health</th>\n",
       "    </tr>\n",
       "  </thead>\n",
       "  <tbody>\n",
       "    <tr>\n",
       "      <th>0</th>\n",
       "      <td>2715767</td>\n",
       "      <td>2</td>\n",
       "      <td>0.032043</td>\n",
       "      <td>0.021728</td>\n",
       "      <td>0</td>\n",
       "      <td>0.078174</td>\n",
       "      <td>0.367638</td>\n",
       "      <td>0</td>\n",
       "      <td>0</td>\n",
       "      <td>1</td>\n",
       "      <td>...</td>\n",
       "      <td>7.625899e+06</td>\n",
       "      <td>1.249168e+06</td>\n",
       "      <td>7.624254e+06</td>\n",
       "      <td>1.249322e+06</td>\n",
       "      <td>0.666667</td>\n",
       "      <td>0.166667</td>\n",
       "      <td>0.000000</td>\n",
       "      <td>0.166667</td>\n",
       "      <td>0.000000</td>\n",
       "      <td>0.000000</td>\n",
       "    </tr>\n",
       "    <tr>\n",
       "      <th>1</th>\n",
       "      <td>2403724</td>\n",
       "      <td>1</td>\n",
       "      <td>0.017008</td>\n",
       "      <td>0.021340</td>\n",
       "      <td>1</td>\n",
       "      <td>0.000031</td>\n",
       "      <td>0.466932</td>\n",
       "      <td>0</td>\n",
       "      <td>0</td>\n",
       "      <td>0</td>\n",
       "      <td>...</td>\n",
       "      <td>7.632835e+06</td>\n",
       "      <td>1.271211e+06</td>\n",
       "      <td>7.633464e+06</td>\n",
       "      <td>1.273263e+06</td>\n",
       "      <td>0.000000</td>\n",
       "      <td>0.000000</td>\n",
       "      <td>0.000000</td>\n",
       "      <td>0.000000</td>\n",
       "      <td>0.000000</td>\n",
       "      <td>0.000000</td>\n",
       "    </tr>\n",
       "    <tr>\n",
       "      <th>2</th>\n",
       "      <td>444946</td>\n",
       "      <td>3</td>\n",
       "      <td>0.089457</td>\n",
       "      <td>0.025674</td>\n",
       "      <td>1</td>\n",
       "      <td>0.000046</td>\n",
       "      <td>0.660308</td>\n",
       "      <td>0</td>\n",
       "      <td>0</td>\n",
       "      <td>0</td>\n",
       "      <td>...</td>\n",
       "      <td>7.631953e+06</td>\n",
       "      <td>1.246781e+06</td>\n",
       "      <td>7.631104e+06</td>\n",
       "      <td>1.244594e+06</td>\n",
       "      <td>0.195489</td>\n",
       "      <td>0.120301</td>\n",
       "      <td>0.135338</td>\n",
       "      <td>0.030075</td>\n",
       "      <td>0.481203</td>\n",
       "      <td>0.037594</td>\n",
       "    </tr>\n",
       "    <tr>\n",
       "      <th>3</th>\n",
       "      <td>3127597</td>\n",
       "      <td>2</td>\n",
       "      <td>0.009397</td>\n",
       "      <td>0.011322</td>\n",
       "      <td>1</td>\n",
       "      <td>0.021394</td>\n",
       "      <td>0.282052</td>\n",
       "      <td>1</td>\n",
       "      <td>0</td>\n",
       "      <td>0</td>\n",
       "      <td>...</td>\n",
       "      <td>7.633023e+06</td>\n",
       "      <td>1.238315e+06</td>\n",
       "      <td>7.632900e+06</td>\n",
       "      <td>1.239433e+06</td>\n",
       "      <td>0.131579</td>\n",
       "      <td>0.236842</td>\n",
       "      <td>0.263158</td>\n",
       "      <td>0.210526</td>\n",
       "      <td>0.052632</td>\n",
       "      <td>0.105263</td>\n",
       "    </tr>\n",
       "    <tr>\n",
       "      <th>4</th>\n",
       "      <td>3396409</td>\n",
       "      <td>5</td>\n",
       "      <td>0.074140</td>\n",
       "      <td>0.019809</td>\n",
       "      <td>1</td>\n",
       "      <td>0.000061</td>\n",
       "      <td>0.396925</td>\n",
       "      <td>1</td>\n",
       "      <td>0</td>\n",
       "      <td>0</td>\n",
       "      <td>...</td>\n",
       "      <td>7.630482e+06</td>\n",
       "      <td>1.241910e+06</td>\n",
       "      <td>7.631047e+06</td>\n",
       "      <td>1.243823e+06</td>\n",
       "      <td>0.239796</td>\n",
       "      <td>0.163265</td>\n",
       "      <td>0.096939</td>\n",
       "      <td>0.015306</td>\n",
       "      <td>0.428571</td>\n",
       "      <td>0.056122</td>\n",
       "    </tr>\n",
       "  </tbody>\n",
       "</table>\n",
       "<p>5 rows × 22 columns</p>\n",
       "</div>"
      ],
      "text/plain": [
       "   id_trip  mode  duration  distance_m  weekday    precip      temp  morning  \\\n",
       "0  2715767     2  0.032043    0.021728        0  0.078174  0.367638        0   \n",
       "1  2403724     1  0.017008    0.021340        1  0.000031  0.466932        0   \n",
       "2   444946     3  0.089457    0.025674        1  0.000046  0.660308        0   \n",
       "3  3127597     2  0.009397    0.011322        1  0.021394  0.282052        1   \n",
       "4  3396409     5  0.074140    0.019809        1  0.000061  0.396925        1   \n",
       "\n",
       "   midday  afternoon  ...        startx        starty          endx  \\\n",
       "0       0          1  ...  7.625899e+06  1.249168e+06  7.624254e+06   \n",
       "1       0          0  ...  7.632835e+06  1.271211e+06  7.633464e+06   \n",
       "2       0          0  ...  7.631953e+06  1.246781e+06  7.631104e+06   \n",
       "3       0          0  ...  7.633023e+06  1.238315e+06  7.632900e+06   \n",
       "4       0          0  ...  7.630482e+06  1.241910e+06  7.631047e+06   \n",
       "\n",
       "           endy  p_nearby_leisure  p_nearby_food  p_nearby_shops  \\\n",
       "0  1.249322e+06          0.666667       0.166667        0.000000   \n",
       "1  1.273263e+06          0.000000       0.000000        0.000000   \n",
       "2  1.244594e+06          0.195489       0.120301        0.135338   \n",
       "3  1.239433e+06          0.131579       0.236842        0.263158   \n",
       "4  1.243823e+06          0.239796       0.163265        0.096939   \n",
       "\n",
       "   p_nearby_pickup  p_nearby_education  p_nearby_health  \n",
       "0         0.166667            0.000000         0.000000  \n",
       "1         0.000000            0.000000         0.000000  \n",
       "2         0.030075            0.481203         0.037594  \n",
       "3         0.210526            0.052632         0.105263  \n",
       "4         0.015306            0.428571         0.056122  \n",
       "\n",
       "[5 rows x 22 columns]"
      ]
     },
     "execution_count": 37,
     "metadata": {},
     "output_type": "execute_result"
    }
   ],
   "source": [
    "X_test.head()"
   ]
  },
  {
   "cell_type": "markdown",
   "metadata": {},
   "source": [
    "## 2.3  Remove trip ID's and coords\n",
    "...as these are not needed for the analysis, but are used later to identify trips and do oversampling"
   ]
  },
  {
   "cell_type": "code",
   "execution_count": 38,
   "metadata": {},
   "outputs": [],
   "source": [
    "# keep coords\n",
    "X_train_coords = X_train[['id_trip','startx','starty','endx','endy']]\n",
    "X_test_coords = X_test[['id_trip','startx','starty','endx','endy']]\n",
    "\n",
    "# drop unneeded features\n",
    "X_train = X_train.drop(['startx','starty','endx','endy'],axis=1)\n",
    "X_test = X_test.drop(['startx','starty','endx','endy'],axis=1)"
   ]
  },
  {
   "cell_type": "code",
   "execution_count": 39,
   "metadata": {},
   "outputs": [],
   "source": [
    "# keep training ids\n",
    "training_ids = X_train['id_trip'].copy()\n",
    "X_train = X_train.drop('id_trip', axis=1)\n",
    "testing_ids = X_test['id_trip'].copy()\n",
    "X_test = X_test.drop('id_trip', axis=1)\n"
   ]
  },
  {
   "cell_type": "code",
   "execution_count": 40,
   "metadata": {},
   "outputs": [
    {
     "data": {
      "text/plain": [
       "Index(['mode', 'duration', 'distance_m', 'weekday', 'precip', 'temp',\n",
       "       'morning', 'midday', 'afternoon', 'evening', 'midnight',\n",
       "       'p_nearby_leisure', 'p_nearby_food', 'p_nearby_shops',\n",
       "       'p_nearby_pickup', 'p_nearby_education', 'p_nearby_health'],\n",
       "      dtype='object')"
      ]
     },
     "execution_count": 40,
     "metadata": {},
     "output_type": "execute_result"
    }
   ],
   "source": [
    "X_train.columns"
   ]
  },
  {
   "cell_type": "code",
   "execution_count": 41,
   "metadata": {},
   "outputs": [],
   "source": [
    "## flatten data i.e. from Pd.Series to np.array\n",
    "y_train = np.ravel(y_train)\n",
    "y_test = np.ravel(y_test)"
   ]
  },
  {
   "cell_type": "code",
   "execution_count": 42,
   "metadata": {},
   "outputs": [
    {
     "name": "stdout",
     "output_type": "stream",
     "text": [
      "all_features:\n",
      "\n",
      " ['mode', 'duration', 'distance_m', 'weekday', 'precip', 'temp', 'morning', 'midday', 'afternoon', 'evening', 'midnight', 'p_nearby_leisure', 'p_nearby_food', 'p_nearby_shops', 'p_nearby_pickup', 'p_nearby_education', 'p_nearby_health']\n"
     ]
    }
   ],
   "source": [
    "feature_list = list(X_train.columns)\n",
    "print('all_features:\\n\\n', feature_list)"
   ]
  },
  {
   "cell_type": "code",
   "execution_count": 43,
   "metadata": {},
   "outputs": [
    {
     "data": {
      "text/plain": [
       "Index(['mode', 'duration', 'distance_m', 'weekday', 'precip', 'temp',\n",
       "       'morning', 'midday', 'afternoon', 'evening', 'midnight',\n",
       "       'p_nearby_leisure', 'p_nearby_food', 'p_nearby_shops',\n",
       "       'p_nearby_pickup', 'p_nearby_education', 'p_nearby_health'],\n",
       "      dtype='object')"
      ]
     },
     "execution_count": 43,
     "metadata": {},
     "output_type": "execute_result"
    }
   ],
   "source": [
    "X_train.columns"
   ]
  },
  {
   "cell_type": "code",
   "execution_count": 44,
   "metadata": {},
   "outputs": [],
   "source": [
    "# needed for CV scores\n",
    "reduced_X = all_X.copy()\n",
    "reduced_X = reduced_X.drop(['id_trip','startx','starty','endx','endy'],axis=1)"
   ]
  },
  {
   "cell_type": "markdown",
   "metadata": {
    "scrolled": false
   },
   "source": [
    "# 3. Begin Modelling\n",
    "#### Section Overview:\n",
    "3.1 Define model functions and test modelling   \n",
    "3.2 Preliminary modelling for important feature extraction  \n",
    "3.3 Re-run models  \n",
    "\n",
    "#### Model functions:\n",
    "- `run_rf` == run the random forest classification model.\n",
    "- `run_logit` == run the nested classification model.\n",
    "\n",
    "#### Notes:\n",
    "\n",
    "#### Technical Notes:\n",
    "- each model will have a cross-validation option. To use this the function parameters will need to be set to `cv=True` and `cv_val` to the number of k-folds defaulting to `cv_val=10`"
   ]
  },
  {
   "cell_type": "markdown",
   "metadata": {},
   "source": [
    "### 3.1 Define model functions and test"
   ]
  },
  {
   "cell_type": "code",
   "execution_count": 45,
   "metadata": {},
   "outputs": [],
   "source": [
    "# All Model functions\n",
    "def run_rf(X_train, X_test, y_train, y_test, n_estimators=128):\n",
    "    \"\"\"\n",
    "        Run a random forest classification model with option to use cross-validation\n",
    "    \"\"\"\n",
    "    clf = sklearn.ensemble.RandomForestClassifier(n_estimators=n_estimators)\n",
    "    clf.fit(X_train, y_train)\n",
    "    score = clf.score(X_test,y_test)\n",
    "    preds = clf.predict(X_test)\n",
    "    print(\"Random Forest Classifcation accuracy:\", score)\n",
    "    return clf, score, preds\n",
    "\n",
    "def shuffle_data(X,y):\n",
    "    shuffled_data = pd.concat([X, y],axis=1)\n",
    "    shuffled_data = sklearn.utils.shuffle(shuffled_data)\n",
    "    shuffled_data = shuffled_data.reset_index(drop=True)\n",
    "    shuffled_X = shuffled_data[shuffled_data.columns[shuffled_data.columns != 'purpose']]\n",
    "    shuffled_y = shuffled_data[['purpose']]\n",
    "    return shuffled_X, shuffled_y"
   ]
  },
  {
   "cell_type": "markdown",
   "metadata": {},
   "source": [
    "#### 3.1.1 test models"
   ]
  },
  {
   "cell_type": "code",
   "execution_count": 46,
   "metadata": {
    "scrolled": true
   },
   "outputs": [
    {
     "name": "stdout",
     "output_type": "stream",
     "text": [
      "Random Forest Classifcation accuracy: 0.5064329666231587\n",
      "CPU times: user 9.41 s, sys: 147 ms, total: 9.55 s\n",
      "Wall time: 9.58 s\n"
     ]
    }
   ],
   "source": [
    "%%time\n",
    "rf_clf, rf_score, rf_preds = run_rf(X_train, X_test, y_train, y_test)"
   ]
  },
  {
   "cell_type": "code",
   "execution_count": 47,
   "metadata": {},
   "outputs": [],
   "source": [
    "shuffled_X, shuffled_y = shuffle_data(reduced_X,all_y)"
   ]
  },
  {
   "cell_type": "code",
   "execution_count": 48,
   "metadata": {},
   "outputs": [
    {
     "data": {
      "text/html": [
       "<div>\n",
       "<style scoped>\n",
       "    .dataframe tbody tr th:only-of-type {\n",
       "        vertical-align: middle;\n",
       "    }\n",
       "\n",
       "    .dataframe tbody tr th {\n",
       "        vertical-align: top;\n",
       "    }\n",
       "\n",
       "    .dataframe thead th {\n",
       "        text-align: right;\n",
       "    }\n",
       "</style>\n",
       "<table border=\"1\" class=\"dataframe\">\n",
       "  <thead>\n",
       "    <tr style=\"text-align: right;\">\n",
       "      <th></th>\n",
       "      <th>mode</th>\n",
       "      <th>duration</th>\n",
       "      <th>distance_m</th>\n",
       "      <th>weekday</th>\n",
       "      <th>precip</th>\n",
       "      <th>temp</th>\n",
       "      <th>morning</th>\n",
       "      <th>midday</th>\n",
       "      <th>afternoon</th>\n",
       "      <th>evening</th>\n",
       "      <th>midnight</th>\n",
       "      <th>p_nearby_leisure</th>\n",
       "      <th>p_nearby_food</th>\n",
       "      <th>p_nearby_shops</th>\n",
       "      <th>p_nearby_pickup</th>\n",
       "      <th>p_nearby_education</th>\n",
       "      <th>p_nearby_health</th>\n",
       "    </tr>\n",
       "  </thead>\n",
       "  <tbody>\n",
       "    <tr>\n",
       "      <th>0</th>\n",
       "      <td>0</td>\n",
       "      <td>0.107874</td>\n",
       "      <td>0.011425</td>\n",
       "      <td>1</td>\n",
       "      <td>0.001275</td>\n",
       "      <td>0.389820</td>\n",
       "      <td>0</td>\n",
       "      <td>0</td>\n",
       "      <td>0</td>\n",
       "      <td>0</td>\n",
       "      <td>1</td>\n",
       "      <td>0.357143</td>\n",
       "      <td>0.171429</td>\n",
       "      <td>0.214286</td>\n",
       "      <td>0.085714</td>\n",
       "      <td>0.071429</td>\n",
       "      <td>0.100000</td>\n",
       "    </tr>\n",
       "    <tr>\n",
       "      <th>1</th>\n",
       "      <td>1</td>\n",
       "      <td>0.200808</td>\n",
       "      <td>0.078077</td>\n",
       "      <td>1</td>\n",
       "      <td>0.000031</td>\n",
       "      <td>0.353266</td>\n",
       "      <td>0</td>\n",
       "      <td>1</td>\n",
       "      <td>0</td>\n",
       "      <td>0</td>\n",
       "      <td>0</td>\n",
       "      <td>0.282353</td>\n",
       "      <td>0.258824</td>\n",
       "      <td>0.176471</td>\n",
       "      <td>0.011765</td>\n",
       "      <td>0.223529</td>\n",
       "      <td>0.047059</td>\n",
       "    </tr>\n",
       "    <tr>\n",
       "      <th>2</th>\n",
       "      <td>1</td>\n",
       "      <td>0.301353</td>\n",
       "      <td>0.108815</td>\n",
       "      <td>1</td>\n",
       "      <td>0.000137</td>\n",
       "      <td>0.257360</td>\n",
       "      <td>1</td>\n",
       "      <td>0</td>\n",
       "      <td>0</td>\n",
       "      <td>0</td>\n",
       "      <td>0</td>\n",
       "      <td>0.260870</td>\n",
       "      <td>0.318841</td>\n",
       "      <td>0.231884</td>\n",
       "      <td>0.028986</td>\n",
       "      <td>0.072464</td>\n",
       "      <td>0.086957</td>\n",
       "    </tr>\n",
       "    <tr>\n",
       "      <th>3</th>\n",
       "      <td>2</td>\n",
       "      <td>0.038433</td>\n",
       "      <td>0.025281</td>\n",
       "      <td>0</td>\n",
       "      <td>0.009622</td>\n",
       "      <td>0.592349</td>\n",
       "      <td>0</td>\n",
       "      <td>0</td>\n",
       "      <td>0</td>\n",
       "      <td>1</td>\n",
       "      <td>0</td>\n",
       "      <td>0.326087</td>\n",
       "      <td>0.108696</td>\n",
       "      <td>0.086957</td>\n",
       "      <td>0.434783</td>\n",
       "      <td>0.043478</td>\n",
       "      <td>0.000000</td>\n",
       "    </tr>\n",
       "    <tr>\n",
       "      <th>4</th>\n",
       "      <td>0</td>\n",
       "      <td>0.088423</td>\n",
       "      <td>0.010505</td>\n",
       "      <td>1</td>\n",
       "      <td>0.082340</td>\n",
       "      <td>0.308516</td>\n",
       "      <td>0</td>\n",
       "      <td>1</td>\n",
       "      <td>0</td>\n",
       "      <td>0</td>\n",
       "      <td>0</td>\n",
       "      <td>0.000000</td>\n",
       "      <td>0.500000</td>\n",
       "      <td>0.250000</td>\n",
       "      <td>0.000000</td>\n",
       "      <td>0.250000</td>\n",
       "      <td>0.000000</td>\n",
       "    </tr>\n",
       "  </tbody>\n",
       "</table>\n",
       "</div>"
      ],
      "text/plain": [
       "   mode  duration  distance_m  weekday    precip      temp  morning  midday  \\\n",
       "0     0  0.107874    0.011425        1  0.001275  0.389820        0       0   \n",
       "1     1  0.200808    0.078077        1  0.000031  0.353266        0       1   \n",
       "2     1  0.301353    0.108815        1  0.000137  0.257360        1       0   \n",
       "3     2  0.038433    0.025281        0  0.009622  0.592349        0       0   \n",
       "4     0  0.088423    0.010505        1  0.082340  0.308516        0       1   \n",
       "\n",
       "   afternoon  evening  midnight  p_nearby_leisure  p_nearby_food  \\\n",
       "0          0        0         1          0.357143       0.171429   \n",
       "1          0        0         0          0.282353       0.258824   \n",
       "2          0        0         0          0.260870       0.318841   \n",
       "3          0        1         0          0.326087       0.108696   \n",
       "4          0        0         0          0.000000       0.500000   \n",
       "\n",
       "   p_nearby_shops  p_nearby_pickup  p_nearby_education  p_nearby_health  \n",
       "0        0.214286         0.085714            0.071429         0.100000  \n",
       "1        0.176471         0.011765            0.223529         0.047059  \n",
       "2        0.231884         0.028986            0.072464         0.086957  \n",
       "3        0.086957         0.434783            0.043478         0.000000  \n",
       "4        0.250000         0.000000            0.250000         0.000000  "
      ]
     },
     "execution_count": 48,
     "metadata": {},
     "output_type": "execute_result"
    }
   ],
   "source": [
    "shuffled_X.head()"
   ]
  },
  {
   "cell_type": "code",
   "execution_count": 49,
   "metadata": {},
   "outputs": [
    {
     "name": "stdout",
     "output_type": "stream",
     "text": [
      "predictions for each class by RF: Counter({0: 6976, 2: 4973, 1: 1982, 4: 1236, 5: 464, 3: 458}) \n",
      "\n",
      "              precision    recall  f1-score   support\n",
      "\n",
      "           0       0.50      0.69      0.58      5108\n",
      "           1       0.42      0.29      0.34      2807\n",
      "           2       0.51      0.57      0.54      4424\n",
      "           3       0.41      0.15      0.22      1271\n",
      "           4       0.69      0.58      0.63      1464\n",
      "           5       0.50      0.23      0.31      1015\n",
      "\n",
      "    accuracy                           0.51     16089\n",
      "   macro avg       0.51      0.42      0.44     16089\n",
      "weighted avg       0.50      0.51      0.49     16089\n",
      "\n"
     ]
    }
   ],
   "source": [
    "print('predictions for each class by RF:', collections.Counter(rf_preds), '\\n')\n",
    "# {'leisure': 0, 'food_drink': 1, 'shops': 2,\n",
    "# 'pick_up_drop_off': 3, 'education': 4, 'health': 5}\n",
    "print(sklearn.metrics.classification_report(y_test, rf_preds))"
   ]
  },
  {
   "cell_type": "code",
   "execution_count": 50,
   "metadata": {
    "scrolled": true
   },
   "outputs": [
    {
     "name": "stdout",
     "output_type": "stream",
     "text": [
      "CPU times: user 51.8 s, sys: 967 ms, total: 52.8 s\n",
      "Wall time: 52.9 s\n"
     ]
    }
   ],
   "source": [
    "%%time\n",
    "rf_cv_scores = sklearn.model_selection.cross_val_score(rf_clf,shuffled_X, np.ravel(shuffled_y), cv=5)"
   ]
  },
  {
   "cell_type": "code",
   "execution_count": 51,
   "metadata": {},
   "outputs": [
    {
     "data": {
      "text/plain": [
       "array([0.5256844 , 0.52348236, 0.51846154, 0.51671795, 0.51651621])"
      ]
     },
     "execution_count": 51,
     "metadata": {},
     "output_type": "execute_result"
    }
   ],
   "source": [
    "rf_cv_scores"
   ]
  },
  {
   "cell_type": "markdown",
   "metadata": {},
   "source": [
    "### 3.2 Subset data by feature importance metric"
   ]
  },
  {
   "cell_type": "code",
   "execution_count": 52,
   "metadata": {},
   "outputs": [],
   "source": [
    "def feature_selection(model, X_train, X_test, y_train, y_test, threshold):\n",
    "    model.fit(X_train, y_train)\n",
    "    print(\"model score before feature extraction: \", model.score(X_test, y_test))\n",
    "    perm = PermutationImportance(model).fit(X_test, y_test)\n",
    "    \n",
    "    \n",
    "    # perm.feature_importances_ attribute is now available, it can be used\n",
    "    # for feature selection - let's e.g. select features which increase\n",
    "    # accuracy by at least 0.01:\n",
    "    X_train_subset = X_train[X_train.columns[perm.feature_importances_ > threshold]]\n",
    "    X_test_subset = X_test[X_test.columns[perm.feature_importances_ > threshold]]\n",
    "    \n",
    "    return model, X_train_subset, X_test_subset, perm\n",
    "    "
   ]
  },
  {
   "cell_type": "code",
   "execution_count": 53,
   "metadata": {},
   "outputs": [
    {
     "name": "stdout",
     "output_type": "stream",
     "text": [
      "0.5079246690285288\n"
     ]
    },
    {
     "data": {
      "text/plain": [
       "Index(['mode', 'distance_m', 'weekday', 'temp', 'midnight', 'p_nearby_leisure',\n",
       "       'p_nearby_food', 'p_nearby_shops', 'p_nearby_education'],\n",
       "      dtype='object')"
      ]
     },
     "execution_count": 53,
     "metadata": {},
     "output_type": "execute_result"
    }
   ],
   "source": [
    "## EXAMPLE OF USE\n",
    "clf = sklearn.ensemble.RandomForestClassifier(n_estimators=128, n_jobs=-1)\n",
    "\n",
    "clf.fit(X_train, y_train)\n",
    "print(clf.score(X_test, y_test))\n",
    "perm = PermutationImportance(clf).fit(X_test, y_test)\n",
    "# perm.feature_importances_ attribute is now available, it can be used\n",
    "# for feature selection - let's e.g. select features which increase\n",
    "# accuracy by at least 0.01:\n",
    "sel = SelectFromModel(perm, threshold=0.01, prefit=True)\n",
    "X_test.columns[perm.feature_importances_ > 0.01]"
   ]
  },
  {
   "cell_type": "code",
   "execution_count": 54,
   "metadata": {},
   "outputs": [
    {
     "name": "stdout",
     "output_type": "stream",
     "text": [
      "model score before feature extraction:  0.5079246690285288\n",
      "CPU times: user 1min 31s, sys: 2.51 s, total: 1min 33s\n",
      "Wall time: 36.4 s\n"
     ]
    },
    {
     "data": {
      "text/html": [
       "\n",
       "    <style>\n",
       "    table.eli5-weights tr:hover {\n",
       "        filter: brightness(85%);\n",
       "    }\n",
       "</style>\n",
       "\n",
       "\n",
       "\n",
       "    \n",
       "\n",
       "    \n",
       "\n",
       "    \n",
       "\n",
       "    \n",
       "\n",
       "    \n",
       "\n",
       "    \n",
       "\n",
       "\n",
       "    \n",
       "\n",
       "    \n",
       "\n",
       "    \n",
       "\n",
       "    \n",
       "\n",
       "    \n",
       "\n",
       "    \n",
       "\n",
       "\n",
       "    \n",
       "\n",
       "    \n",
       "\n",
       "    \n",
       "\n",
       "    \n",
       "\n",
       "    \n",
       "        <table class=\"eli5-weights eli5-feature-importances\" style=\"border-collapse: collapse; border: none; margin-top: 0em; table-layout: auto;\">\n",
       "    <thead>\n",
       "    <tr style=\"border: none;\">\n",
       "        <th style=\"padding: 0 1em 0 0.5em; text-align: right; border: none;\">Weight</th>\n",
       "        <th style=\"padding: 0 0.5em 0 0.5em; text-align: left; border: none;\">Feature</th>\n",
       "    </tr>\n",
       "    </thead>\n",
       "    <tbody>\n",
       "    \n",
       "        <tr style=\"background-color: hsl(120, 100.00%, 80.00%); border: none;\">\n",
       "            <td style=\"padding: 0 1em 0 0.5em; text-align: right; border: none;\">\n",
       "                0.0481\n",
       "                \n",
       "                    &plusmn; 0.0038\n",
       "                \n",
       "            </td>\n",
       "            <td style=\"padding: 0 0.5em 0 0.5em; text-align: left; border: none;\">\n",
       "                x13\n",
       "            </td>\n",
       "        </tr>\n",
       "    \n",
       "        <tr style=\"background-color: hsl(120, 100.00%, 81.34%); border: none;\">\n",
       "            <td style=\"padding: 0 1em 0 0.5em; text-align: right; border: none;\">\n",
       "                0.0435\n",
       "                \n",
       "                    &plusmn; 0.0024\n",
       "                \n",
       "            </td>\n",
       "            <td style=\"padding: 0 0.5em 0 0.5em; text-align: left; border: none;\">\n",
       "                x0\n",
       "            </td>\n",
       "        </tr>\n",
       "    \n",
       "        <tr style=\"background-color: hsl(120, 100.00%, 81.82%); border: none;\">\n",
       "            <td style=\"padding: 0 1em 0 0.5em; text-align: right; border: none;\">\n",
       "                0.0420\n",
       "                \n",
       "                    &plusmn; 0.0025\n",
       "                \n",
       "            </td>\n",
       "            <td style=\"padding: 0 0.5em 0 0.5em; text-align: left; border: none;\">\n",
       "                x15\n",
       "            </td>\n",
       "        </tr>\n",
       "    \n",
       "        <tr style=\"background-color: hsl(120, 100.00%, 85.71%); border: none;\">\n",
       "            <td style=\"padding: 0 1em 0 0.5em; text-align: right; border: none;\">\n",
       "                0.0297\n",
       "                \n",
       "                    &plusmn; 0.0024\n",
       "                \n",
       "            </td>\n",
       "            <td style=\"padding: 0 0.5em 0 0.5em; text-align: left; border: none;\">\n",
       "                x10\n",
       "            </td>\n",
       "        </tr>\n",
       "    \n",
       "        <tr style=\"background-color: hsl(120, 100.00%, 86.07%); border: none;\">\n",
       "            <td style=\"padding: 0 1em 0 0.5em; text-align: right; border: none;\">\n",
       "                0.0287\n",
       "                \n",
       "                    &plusmn; 0.0024\n",
       "                \n",
       "            </td>\n",
       "            <td style=\"padding: 0 0.5em 0 0.5em; text-align: left; border: none;\">\n",
       "                x3\n",
       "            </td>\n",
       "        </tr>\n",
       "    \n",
       "        <tr style=\"background-color: hsl(120, 100.00%, 86.46%); border: none;\">\n",
       "            <td style=\"padding: 0 1em 0 0.5em; text-align: right; border: none;\">\n",
       "                0.0275\n",
       "                \n",
       "                    &plusmn; 0.0034\n",
       "                \n",
       "            </td>\n",
       "            <td style=\"padding: 0 0.5em 0 0.5em; text-align: left; border: none;\">\n",
       "                x5\n",
       "            </td>\n",
       "        </tr>\n",
       "    \n",
       "        <tr style=\"background-color: hsl(120, 100.00%, 88.31%); border: none;\">\n",
       "            <td style=\"padding: 0 1em 0 0.5em; text-align: right; border: none;\">\n",
       "                0.0223\n",
       "                \n",
       "                    &plusmn; 0.0040\n",
       "                \n",
       "            </td>\n",
       "            <td style=\"padding: 0 0.5em 0 0.5em; text-align: left; border: none;\">\n",
       "                x11\n",
       "            </td>\n",
       "        </tr>\n",
       "    \n",
       "        <tr style=\"background-color: hsl(120, 100.00%, 90.27%); border: none;\">\n",
       "            <td style=\"padding: 0 1em 0 0.5em; text-align: right; border: none;\">\n",
       "                0.0172\n",
       "                \n",
       "                    &plusmn; 0.0044\n",
       "                \n",
       "            </td>\n",
       "            <td style=\"padding: 0 0.5em 0 0.5em; text-align: left; border: none;\">\n",
       "                x2\n",
       "            </td>\n",
       "        </tr>\n",
       "    \n",
       "        <tr style=\"background-color: hsl(120, 100.00%, 91.88%); border: none;\">\n",
       "            <td style=\"padding: 0 1em 0 0.5em; text-align: right; border: none;\">\n",
       "                0.0133\n",
       "                \n",
       "                    &plusmn; 0.0035\n",
       "                \n",
       "            </td>\n",
       "            <td style=\"padding: 0 0.5em 0 0.5em; text-align: left; border: none;\">\n",
       "                x12\n",
       "            </td>\n",
       "        </tr>\n",
       "    \n",
       "        <tr style=\"background-color: hsl(120, 100.00%, 93.05%); border: none;\">\n",
       "            <td style=\"padding: 0 1em 0 0.5em; text-align: right; border: none;\">\n",
       "                0.0106\n",
       "                \n",
       "                    &plusmn; 0.0021\n",
       "                \n",
       "            </td>\n",
       "            <td style=\"padding: 0 0.5em 0 0.5em; text-align: left; border: none;\">\n",
       "                x14\n",
       "            </td>\n",
       "        </tr>\n",
       "    \n",
       "        <tr style=\"background-color: hsl(120, 100.00%, 93.60%); border: none;\">\n",
       "            <td style=\"padding: 0 1em 0 0.5em; text-align: right; border: none;\">\n",
       "                0.0094\n",
       "                \n",
       "                    &plusmn; 0.0038\n",
       "                \n",
       "            </td>\n",
       "            <td style=\"padding: 0 0.5em 0 0.5em; text-align: left; border: none;\">\n",
       "                x16\n",
       "            </td>\n",
       "        </tr>\n",
       "    \n",
       "        <tr style=\"background-color: hsl(120, 100.00%, 93.79%); border: none;\">\n",
       "            <td style=\"padding: 0 1em 0 0.5em; text-align: right; border: none;\">\n",
       "                0.0090\n",
       "                \n",
       "                    &plusmn; 0.0028\n",
       "                \n",
       "            </td>\n",
       "            <td style=\"padding: 0 0.5em 0 0.5em; text-align: left; border: none;\">\n",
       "                x4\n",
       "            </td>\n",
       "        </tr>\n",
       "    \n",
       "        <tr style=\"background-color: hsl(120, 100.00%, 95.12%); border: none;\">\n",
       "            <td style=\"padding: 0 1em 0 0.5em; text-align: right; border: none;\">\n",
       "                0.0064\n",
       "                \n",
       "                    &plusmn; 0.0015\n",
       "                \n",
       "            </td>\n",
       "            <td style=\"padding: 0 0.5em 0 0.5em; text-align: left; border: none;\">\n",
       "                x6\n",
       "            </td>\n",
       "        </tr>\n",
       "    \n",
       "        <tr style=\"background-color: hsl(120, 100.00%, 95.12%); border: none;\">\n",
       "            <td style=\"padding: 0 1em 0 0.5em; text-align: right; border: none;\">\n",
       "                0.0064\n",
       "                \n",
       "                    &plusmn; 0.0015\n",
       "                \n",
       "            </td>\n",
       "            <td style=\"padding: 0 0.5em 0 0.5em; text-align: left; border: none;\">\n",
       "                x1\n",
       "            </td>\n",
       "        </tr>\n",
       "    \n",
       "        <tr style=\"background-color: hsl(120, 100.00%, 96.49%); border: none;\">\n",
       "            <td style=\"padding: 0 1em 0 0.5em; text-align: right; border: none;\">\n",
       "                0.0040\n",
       "                \n",
       "                    &plusmn; 0.0017\n",
       "                \n",
       "            </td>\n",
       "            <td style=\"padding: 0 0.5em 0 0.5em; text-align: left; border: none;\">\n",
       "                x8\n",
       "            </td>\n",
       "        </tr>\n",
       "    \n",
       "        <tr style=\"background-color: hsl(120, 100.00%, 96.57%); border: none;\">\n",
       "            <td style=\"padding: 0 1em 0 0.5em; text-align: right; border: none;\">\n",
       "                0.0039\n",
       "                \n",
       "                    &plusmn; 0.0013\n",
       "                \n",
       "            </td>\n",
       "            <td style=\"padding: 0 0.5em 0 0.5em; text-align: left; border: none;\">\n",
       "                x7\n",
       "            </td>\n",
       "        </tr>\n",
       "    \n",
       "        <tr style=\"background-color: hsl(120, 100.00%, 97.61%); border: none;\">\n",
       "            <td style=\"padding: 0 1em 0 0.5em; text-align: right; border: none;\">\n",
       "                0.0023\n",
       "                \n",
       "                    &plusmn; 0.0018\n",
       "                \n",
       "            </td>\n",
       "            <td style=\"padding: 0 0.5em 0 0.5em; text-align: left; border: none;\">\n",
       "                x9\n",
       "            </td>\n",
       "        </tr>\n",
       "    \n",
       "    \n",
       "    </tbody>\n",
       "</table>\n",
       "    \n",
       "\n",
       "    \n",
       "\n",
       "\n",
       "    \n",
       "\n",
       "    \n",
       "\n",
       "    \n",
       "\n",
       "    \n",
       "\n",
       "    \n",
       "\n",
       "    \n",
       "\n",
       "\n",
       "\n"
      ],
      "text/plain": [
       "<IPython.core.display.HTML object>"
      ]
     },
     "execution_count": 54,
     "metadata": {},
     "output_type": "execute_result"
    }
   ],
   "source": [
    "%%time\n",
    "clf = sklearn.ensemble.RandomForestClassifier(n_estimators=128, n_jobs=-1)\n",
    "clf, X_train_subset, X_test_subset, perm = feature_selection(clf, X_train, X_test, y_train, y_test,threshold=0.01)\n",
    "eli5.show_weights(perm)"
   ]
  },
  {
   "cell_type": "code",
   "execution_count": 55,
   "metadata": {
    "scrolled": true
   },
   "outputs": [
    {
     "name": "stdout",
     "output_type": "stream",
     "text": [
      "important columns:\n",
      " Index(['mode', 'temp', 'midnight', 'weekday', 'p_nearby_education',\n",
      "       'distance_m', 'p_nearby_shops', 'precip'],\n",
      "      dtype='object')\n"
     ]
    }
   ],
   "source": [
    "print('important columns:\\n',X_test.columns[[0,5,10,3,15,2,13,4]])"
   ]
  },
  {
   "cell_type": "code",
   "execution_count": 56,
   "metadata": {},
   "outputs": [
    {
     "data": {
      "text/html": [
       "<div>\n",
       "<style scoped>\n",
       "    .dataframe tbody tr th:only-of-type {\n",
       "        vertical-align: middle;\n",
       "    }\n",
       "\n",
       "    .dataframe tbody tr th {\n",
       "        vertical-align: top;\n",
       "    }\n",
       "\n",
       "    .dataframe thead th {\n",
       "        text-align: right;\n",
       "    }\n",
       "</style>\n",
       "<table border=\"1\" class=\"dataframe\">\n",
       "  <thead>\n",
       "    <tr style=\"text-align: right;\">\n",
       "      <th></th>\n",
       "      <th>mode</th>\n",
       "      <th>distance_m</th>\n",
       "      <th>weekday</th>\n",
       "      <th>temp</th>\n",
       "      <th>midnight</th>\n",
       "      <th>p_nearby_leisure</th>\n",
       "      <th>p_nearby_food</th>\n",
       "      <th>p_nearby_shops</th>\n",
       "      <th>p_nearby_pickup</th>\n",
       "      <th>p_nearby_education</th>\n",
       "    </tr>\n",
       "  </thead>\n",
       "  <tbody>\n",
       "    <tr>\n",
       "      <th>0</th>\n",
       "      <td>2</td>\n",
       "      <td>0.015059</td>\n",
       "      <td>1</td>\n",
       "      <td>0.333150</td>\n",
       "      <td>0</td>\n",
       "      <td>0.000000</td>\n",
       "      <td>0.250000</td>\n",
       "      <td>0.250000</td>\n",
       "      <td>0.250000</td>\n",
       "      <td>0.250000</td>\n",
       "    </tr>\n",
       "    <tr>\n",
       "      <th>1</th>\n",
       "      <td>2</td>\n",
       "      <td>0.034086</td>\n",
       "      <td>1</td>\n",
       "      <td>0.775837</td>\n",
       "      <td>1</td>\n",
       "      <td>0.500000</td>\n",
       "      <td>0.000000</td>\n",
       "      <td>0.000000</td>\n",
       "      <td>0.000000</td>\n",
       "      <td>0.000000</td>\n",
       "    </tr>\n",
       "    <tr>\n",
       "      <th>2</th>\n",
       "      <td>2</td>\n",
       "      <td>0.138435</td>\n",
       "      <td>0</td>\n",
       "      <td>0.415893</td>\n",
       "      <td>0</td>\n",
       "      <td>0.000000</td>\n",
       "      <td>0.500000</td>\n",
       "      <td>0.000000</td>\n",
       "      <td>0.500000</td>\n",
       "      <td>0.000000</td>\n",
       "    </tr>\n",
       "    <tr>\n",
       "      <th>3</th>\n",
       "      <td>2</td>\n",
       "      <td>0.027076</td>\n",
       "      <td>1</td>\n",
       "      <td>0.418278</td>\n",
       "      <td>0</td>\n",
       "      <td>0.500000</td>\n",
       "      <td>0.500000</td>\n",
       "      <td>0.000000</td>\n",
       "      <td>0.000000</td>\n",
       "      <td>0.000000</td>\n",
       "    </tr>\n",
       "    <tr>\n",
       "      <th>4</th>\n",
       "      <td>3</td>\n",
       "      <td>0.031316</td>\n",
       "      <td>1</td>\n",
       "      <td>0.513285</td>\n",
       "      <td>0</td>\n",
       "      <td>0.130682</td>\n",
       "      <td>0.130682</td>\n",
       "      <td>0.153409</td>\n",
       "      <td>0.039773</td>\n",
       "      <td>0.505682</td>\n",
       "    </tr>\n",
       "  </tbody>\n",
       "</table>\n",
       "</div>"
      ],
      "text/plain": [
       "   mode  distance_m  weekday      temp  midnight  p_nearby_leisure  \\\n",
       "0     2    0.015059        1  0.333150         0          0.000000   \n",
       "1     2    0.034086        1  0.775837         1          0.500000   \n",
       "2     2    0.138435        0  0.415893         0          0.000000   \n",
       "3     2    0.027076        1  0.418278         0          0.500000   \n",
       "4     3    0.031316        1  0.513285         0          0.130682   \n",
       "\n",
       "   p_nearby_food  p_nearby_shops  p_nearby_pickup  p_nearby_education  \n",
       "0       0.250000        0.250000         0.250000            0.250000  \n",
       "1       0.000000        0.000000         0.000000            0.000000  \n",
       "2       0.500000        0.000000         0.500000            0.000000  \n",
       "3       0.500000        0.000000         0.000000            0.000000  \n",
       "4       0.130682        0.153409         0.039773            0.505682  "
      ]
     },
     "execution_count": 56,
     "metadata": {},
     "output_type": "execute_result"
    }
   ],
   "source": [
    "X_train_subset.head()"
   ]
  },
  {
   "cell_type": "code",
   "execution_count": 57,
   "metadata": {},
   "outputs": [],
   "source": [
    "sel = SelectFromModel(perm, threshold=0.01, prefit=True)"
   ]
  },
  {
   "cell_type": "code",
   "execution_count": 58,
   "metadata": {},
   "outputs": [],
   "source": [
    "subset_shuffled_X = sel.transform(shuffled_X)\n",
    "subset_shuffled_X = pd.DataFrame(subset_shuffled_X, columns=X_train_subset.columns)"
   ]
  },
  {
   "cell_type": "code",
   "execution_count": 59,
   "metadata": {},
   "outputs": [
    {
     "data": {
      "text/html": [
       "<div>\n",
       "<style scoped>\n",
       "    .dataframe tbody tr th:only-of-type {\n",
       "        vertical-align: middle;\n",
       "    }\n",
       "\n",
       "    .dataframe tbody tr th {\n",
       "        vertical-align: top;\n",
       "    }\n",
       "\n",
       "    .dataframe thead th {\n",
       "        text-align: right;\n",
       "    }\n",
       "</style>\n",
       "<table border=\"1\" class=\"dataframe\">\n",
       "  <thead>\n",
       "    <tr style=\"text-align: right;\">\n",
       "      <th></th>\n",
       "      <th>mode</th>\n",
       "      <th>distance_m</th>\n",
       "      <th>weekday</th>\n",
       "      <th>temp</th>\n",
       "      <th>midnight</th>\n",
       "      <th>p_nearby_leisure</th>\n",
       "      <th>p_nearby_food</th>\n",
       "      <th>p_nearby_shops</th>\n",
       "      <th>p_nearby_pickup</th>\n",
       "      <th>p_nearby_education</th>\n",
       "    </tr>\n",
       "  </thead>\n",
       "  <tbody>\n",
       "    <tr>\n",
       "      <th>0</th>\n",
       "      <td>0.0</td>\n",
       "      <td>0.011425</td>\n",
       "      <td>1.0</td>\n",
       "      <td>0.38982</td>\n",
       "      <td>1.0</td>\n",
       "      <td>0.357143</td>\n",
       "      <td>0.171429</td>\n",
       "      <td>0.214286</td>\n",
       "      <td>0.085714</td>\n",
       "      <td>0.071429</td>\n",
       "    </tr>\n",
       "  </tbody>\n",
       "</table>\n",
       "</div>"
      ],
      "text/plain": [
       "   mode  distance_m  weekday     temp  midnight  p_nearby_leisure  \\\n",
       "0   0.0    0.011425      1.0  0.38982       1.0          0.357143   \n",
       "\n",
       "   p_nearby_food  p_nearby_shops  p_nearby_pickup  p_nearby_education  \n",
       "0       0.171429        0.214286         0.085714            0.071429  "
      ]
     },
     "execution_count": 59,
     "metadata": {},
     "output_type": "execute_result"
    }
   ],
   "source": [
    "subset_shuffled_X.head(1)"
   ]
  },
  {
   "cell_type": "code",
   "execution_count": 60,
   "metadata": {},
   "outputs": [],
   "source": [
    "## re-shuffle\n",
    "subset_shuffled_X, shuffled_y = shuffle_data(subset_shuffled_X, shuffled_y)"
   ]
  },
  {
   "cell_type": "code",
   "execution_count": 61,
   "metadata": {},
   "outputs": [
    {
     "data": {
      "text/html": [
       "<div>\n",
       "<style scoped>\n",
       "    .dataframe tbody tr th:only-of-type {\n",
       "        vertical-align: middle;\n",
       "    }\n",
       "\n",
       "    .dataframe tbody tr th {\n",
       "        vertical-align: top;\n",
       "    }\n",
       "\n",
       "    .dataframe thead th {\n",
       "        text-align: right;\n",
       "    }\n",
       "</style>\n",
       "<table border=\"1\" class=\"dataframe\">\n",
       "  <thead>\n",
       "    <tr style=\"text-align: right;\">\n",
       "      <th></th>\n",
       "      <th>mode</th>\n",
       "      <th>distance_m</th>\n",
       "      <th>weekday</th>\n",
       "      <th>temp</th>\n",
       "      <th>midnight</th>\n",
       "      <th>p_nearby_leisure</th>\n",
       "      <th>p_nearby_food</th>\n",
       "      <th>p_nearby_shops</th>\n",
       "      <th>p_nearby_pickup</th>\n",
       "      <th>p_nearby_education</th>\n",
       "    </tr>\n",
       "  </thead>\n",
       "  <tbody>\n",
       "    <tr>\n",
       "      <th>0</th>\n",
       "      <td>2.0</td>\n",
       "      <td>0.085189</td>\n",
       "      <td>1.0</td>\n",
       "      <td>0.324407</td>\n",
       "      <td>0.0</td>\n",
       "      <td>0.285714</td>\n",
       "      <td>0.285714</td>\n",
       "      <td>0.214286</td>\n",
       "      <td>0.0</td>\n",
       "      <td>0.071429</td>\n",
       "    </tr>\n",
       "  </tbody>\n",
       "</table>\n",
       "</div>"
      ],
      "text/plain": [
       "   mode  distance_m  weekday      temp  midnight  p_nearby_leisure  \\\n",
       "0   2.0    0.085189      1.0  0.324407       0.0          0.285714   \n",
       "\n",
       "   p_nearby_food  p_nearby_shops  p_nearby_pickup  p_nearby_education  \n",
       "0       0.285714        0.214286              0.0            0.071429  "
      ]
     },
     "execution_count": 61,
     "metadata": {},
     "output_type": "execute_result"
    }
   ],
   "source": [
    "subset_shuffled_X.head(1)"
   ]
  },
  {
   "cell_type": "markdown",
   "metadata": {},
   "source": [
    "### 3.3 Re-build the models with new subset data\n",
    "\n",
    "#### Note:\n",
    "\n",
    "purpose = {'leisure': 0, 'food_drink': 1, 'shops': 2, 'pick_up_drop_off': 3, 'education': 4, 'health': 5}  "
   ]
  },
  {
   "cell_type": "code",
   "execution_count": 62,
   "metadata": {
    "scrolled": true
   },
   "outputs": [
    {
     "name": "stdout",
     "output_type": "stream",
     "text": [
      "Random Forest Classifcation accuracy: 0.4808875629311952\n"
     ]
    }
   ],
   "source": [
    "rf_clf, rf_score, rf_preds = run_rf(X_train_subset, X_test_subset, y_train, y_test)"
   ]
  },
  {
   "cell_type": "code",
   "execution_count": 63,
   "metadata": {},
   "outputs": [
    {
     "name": "stdout",
     "output_type": "stream",
     "text": [
      "predictions for each class by RF: Counter({0: 6844, 2: 4886, 1: 2132, 4: 1235, 3: 514, 5: 478}) \n",
      "\n",
      "              precision    recall  f1-score   support\n",
      "\n",
      "           0       0.49      0.66      0.56      5108\n",
      "           1       0.38      0.29      0.33      2807\n",
      "           2       0.49      0.54      0.51      4424\n",
      "           3       0.33      0.14      0.19      1271\n",
      "           4       0.65      0.55      0.60      1464\n",
      "           5       0.42      0.20      0.27      1015\n",
      "\n",
      "    accuracy                           0.48     16089\n",
      "   macro avg       0.46      0.40      0.41     16089\n",
      "weighted avg       0.47      0.48      0.46     16089\n",
      "\n"
     ]
    }
   ],
   "source": [
    "print('predictions for each class by RF:', collections.Counter(rf_preds), '\\n')\n",
    "# {'leisure': 0, 'food_drink': 1, 'shops': 2,\n",
    "# 'pick_up_drop_off': 3, 'education': 4, 'health': 5}\n",
    "print(sklearn.metrics.classification_report(y_test, rf_preds))"
   ]
  },
  {
   "cell_type": "code",
   "execution_count": 64,
   "metadata": {},
   "outputs": [
    {
     "name": "stdout",
     "output_type": "stream",
     "text": [
      "CPU times: user 47.7 s, sys: 1.19 s, total: 48.9 s\n",
      "Wall time: 49.5 s\n"
     ]
    }
   ],
   "source": [
    "%%time\n",
    "rf_cv_scores = sklearn.model_selection.cross_val_score(rf_clf,subset_shuffled_X, np.ravel(shuffled_y), cv=5)"
   ]
  },
  {
   "cell_type": "code",
   "execution_count": 65,
   "metadata": {},
   "outputs": [
    {
     "data": {
      "text/plain": [
       "array([0.51286784, 0.50697293, 0.50707692, 0.51076923, 0.50133361])"
      ]
     },
     "execution_count": 65,
     "metadata": {},
     "output_type": "execute_result"
    }
   ],
   "source": [
    "rf_cv_scores"
   ]
  },
  {
   "cell_type": "markdown",
   "metadata": {},
   "source": [
    "# 4 Improve models\n",
    "### Overview:\n",
    "4.1 Encode model inputs (for ANN/SVC)   \n",
    "4.2 Re-run models with encoded inputs  \n",
    "4.3 Oversample  \n",
    "4.4 add POI categories to model  "
   ]
  },
  {
   "cell_type": "markdown",
   "metadata": {},
   "source": [
    "### 4.1 Encode model inputs\n",
    "The model inputs are encoded to improve the performance of ANN/SVC models. Specifically by One-hot encoding all the \n",
    "\n",
    "#### Encoded inputs:\n",
    "- Trip mode *(f)*\n",
    "- Cardinal Direction *(f)*\n",
    "- Trip starting & ending cluster from K-means (see `./Notebooks/preprocessing/metric_creation/clustering.ipynb`)\n",
    "- Temporal cluster from LDA\n",
    "- Land-use at trip starting and ending points *(f)* (see `./Notebooks/preprocessing/metric_creation/land_use_poi.ipynb`)\n",
    "\n",
    "*(f) == factors*\n",
    "\n",
    "#### Note:\n",
    "- for factor numbers see Data/model_inputs folder e.g. `./Data/model_inputs/gdf_2016_land_use_factors.txt`"
   ]
  },
  {
   "cell_type": "code",
   "execution_count": 66,
   "metadata": {},
   "outputs": [],
   "source": [
    "# for One Hot Encoded data\n",
    "enc_X_train = X_train.copy()\n",
    "enc_X_test = X_test.copy()\n",
    "enc_y_train = pd.DataFrame(y_train, columns=['purpose']).copy()\n",
    "enc_y_test = pd.DataFrame(y_test, columns=['purpose']).copy()"
   ]
  },
  {
   "cell_type": "code",
   "execution_count": 67,
   "metadata": {},
   "outputs": [],
   "source": [
    "def encode_model_inputs(data, col):\n",
    "    \"\"\"\n",
    "        function for applying a OneHotEncoder to a input feature \n",
    "    \"\"\"\n",
    "    encoded_input = ''\n",
    "    if col in data.columns:\n",
    "        encoded_input = enc.fit_transform(data[col].values.reshape(-1, 1)).toarray()\n",
    "    return encoded_input\n"
   ]
  },
  {
   "cell_type": "code",
   "execution_count": 68,
   "metadata": {},
   "outputs": [],
   "source": [
    "enc = sklearn.preprocessing.OneHotEncoder(handle_unknown='ignore')\n"
   ]
  },
  {
   "cell_type": "code",
   "execution_count": 69,
   "metadata": {},
   "outputs": [],
   "source": [
    "encoded_inputs_train = {}\n",
    "encoded_inputs_test = {}\n",
    "for col in [\"mode\"]:\n",
    "    if col in enc_X_train.columns:\n",
    "        # 1. encode inputs\n",
    "        encoded_inputs_train[col] = encode_model_inputs(enc_X_train, col)\n",
    "        encoded_inputs_test[col] = encode_model_inputs(enc_X_test, col)\n",
    "        # 2. make a temporary df with encoded inputs and column names of format *col*_*factor*\n",
    "        col_df_train = pd.DataFrame(encoded_inputs_train[col], columns=['%s_%s' % (col, i) for i in range(encoded_inputs_train[col].shape[1])])\n",
    "        col_df_test = pd.DataFrame(encoded_inputs_test[col], columns=['%s_%s' % (col, i) for i in range(encoded_inputs_test[col].shape[1])])\n",
    "        # 3. drop column from main data so that they can be concatenated\n",
    "        enc_X_train = enc_X_train.drop(col, axis=1)\n",
    "        enc_X_test = enc_X_test.drop(col, axis=1)\n",
    "        # 4. concatenate the two data sets\n",
    "        enc_X_train = pd.concat([enc_X_train, col_df_train], axis=1)\n",
    "        enc_X_test = pd.concat([enc_X_test, col_df_test], axis=1)\n",
    "\n",
    "encoded_inputs_train['purpose'] = encode_model_inputs(enc_y_train, 'purpose')\n",
    "encoded_inputs_test['purpose'] = encode_model_inputs(enc_y_test, 'purpose')"
   ]
  },
  {
   "cell_type": "code",
   "execution_count": 70,
   "metadata": {},
   "outputs": [
    {
     "data": {
      "text/plain": [
       "Index(['duration', 'distance_m', 'weekday', 'precip', 'temp', 'morning',\n",
       "       'midday', 'afternoon', 'evening', 'midnight', 'p_nearby_leisure',\n",
       "       'p_nearby_food', 'p_nearby_shops', 'p_nearby_pickup',\n",
       "       'p_nearby_education', 'p_nearby_health', 'mode_0', 'mode_1', 'mode_2',\n",
       "       'mode_3', 'mode_4', 'mode_5'],\n",
       "      dtype='object')"
      ]
     },
     "execution_count": 70,
     "metadata": {},
     "output_type": "execute_result"
    }
   ],
   "source": [
    "# view new data with columns following the *col*_*factor* syntax\n",
    "enc_X_train.columns"
   ]
  },
  {
   "cell_type": "code",
   "execution_count": 71,
   "metadata": {},
   "outputs": [
    {
     "name": "stderr",
     "output_type": "stream",
     "text": [
      "/Applications/anaconda/envs/st-ds/lib/python3.7/site-packages/ipykernel_launcher.py:7: DataConversionWarning: A column-vector y was passed when a 1d array was expected. Please change the shape of y to (n_samples,), for example using ravel().\n",
      "  import sys\n"
     ]
    },
    {
     "name": "stdout",
     "output_type": "stream",
     "text": [
      "Random Forest Classifcation accuracy: 0.5084840574305426\n"
     ]
    }
   ],
   "source": [
    "rf_clf, rf_score, rf_preds = run_rf(enc_X_train, enc_X_test, enc_y_train, enc_y_test)"
   ]
  },
  {
   "cell_type": "code",
   "execution_count": 72,
   "metadata": {},
   "outputs": [
    {
     "name": "stdout",
     "output_type": "stream",
     "text": [
      "predictions for each class by RF: Counter({0: 6884, 2: 5023, 1: 2042, 4: 1224, 3: 463, 5: 453}) \n",
      "\n",
      "              precision    recall  f1-score   support\n",
      "\n",
      "           0       0.51      0.68      0.58      5108\n",
      "           1       0.42      0.31      0.36      2807\n",
      "           2       0.51      0.58      0.54      4424\n",
      "           3       0.41      0.15      0.22      1271\n",
      "           4       0.70      0.58      0.63      1464\n",
      "           5       0.51      0.23      0.32      1015\n",
      "\n",
      "    accuracy                           0.51     16089\n",
      "   macro avg       0.51      0.42      0.44     16089\n",
      "weighted avg       0.50      0.51      0.49     16089\n",
      "\n"
     ]
    }
   ],
   "source": [
    "print('predictions for each class by RF:', collections.Counter(rf_preds), '\\n')\n",
    "# {'leisure': 0, 'food_drink': 1, 'shops': 2,\n",
    "# 'pick_up_drop_off': 3, 'education': 4, 'health': 5}\n",
    "print(sklearn.metrics.classification_report(y_test, rf_preds))"
   ]
  },
  {
   "cell_type": "code",
   "execution_count": 73,
   "metadata": {},
   "outputs": [],
   "source": [
    "all_enc_X = pd.concat([enc_X_train,enc_X_test],axis=0).reset_index(drop=True)\n",
    "all_enc_y = pd.concat([enc_y_train, enc_y_test],axis=0).reset_index(drop=True)"
   ]
  },
  {
   "cell_type": "code",
   "execution_count": 74,
   "metadata": {},
   "outputs": [
    {
     "data": {
      "text/html": [
       "<div>\n",
       "<style scoped>\n",
       "    .dataframe tbody tr th:only-of-type {\n",
       "        vertical-align: middle;\n",
       "    }\n",
       "\n",
       "    .dataframe tbody tr th {\n",
       "        vertical-align: top;\n",
       "    }\n",
       "\n",
       "    .dataframe thead th {\n",
       "        text-align: right;\n",
       "    }\n",
       "</style>\n",
       "<table border=\"1\" class=\"dataframe\">\n",
       "  <thead>\n",
       "    <tr style=\"text-align: right;\">\n",
       "      <th></th>\n",
       "      <th>duration</th>\n",
       "      <th>distance_m</th>\n",
       "      <th>weekday</th>\n",
       "      <th>precip</th>\n",
       "      <th>temp</th>\n",
       "      <th>morning</th>\n",
       "      <th>midday</th>\n",
       "      <th>afternoon</th>\n",
       "      <th>evening</th>\n",
       "      <th>midnight</th>\n",
       "      <th>...</th>\n",
       "      <th>p_nearby_shops</th>\n",
       "      <th>p_nearby_pickup</th>\n",
       "      <th>p_nearby_education</th>\n",
       "      <th>p_nearby_health</th>\n",
       "      <th>mode_0</th>\n",
       "      <th>mode_1</th>\n",
       "      <th>mode_2</th>\n",
       "      <th>mode_3</th>\n",
       "      <th>mode_4</th>\n",
       "      <th>mode_5</th>\n",
       "    </tr>\n",
       "  </thead>\n",
       "  <tbody>\n",
       "    <tr>\n",
       "      <th>48748</th>\n",
       "      <td>0.025559</td>\n",
       "      <td>0.007380</td>\n",
       "      <td>1</td>\n",
       "      <td>0.081366</td>\n",
       "      <td>0.617143</td>\n",
       "      <td>0</td>\n",
       "      <td>0</td>\n",
       "      <td>0</td>\n",
       "      <td>1</td>\n",
       "      <td>0</td>\n",
       "      <td>...</td>\n",
       "      <td>0.288462</td>\n",
       "      <td>0.038462</td>\n",
       "      <td>0.038462</td>\n",
       "      <td>0.096154</td>\n",
       "      <td>0.0</td>\n",
       "      <td>1.0</td>\n",
       "      <td>0.0</td>\n",
       "      <td>0.0</td>\n",
       "      <td>0.0</td>\n",
       "      <td>0.0</td>\n",
       "    </tr>\n",
       "    <tr>\n",
       "      <th>48749</th>\n",
       "      <td>0.086450</td>\n",
       "      <td>0.129731</td>\n",
       "      <td>1</td>\n",
       "      <td>0.379206</td>\n",
       "      <td>0.696968</td>\n",
       "      <td>0</td>\n",
       "      <td>0</td>\n",
       "      <td>0</td>\n",
       "      <td>0</td>\n",
       "      <td>1</td>\n",
       "      <td>...</td>\n",
       "      <td>0.388889</td>\n",
       "      <td>0.166667</td>\n",
       "      <td>0.000000</td>\n",
       "      <td>0.000000</td>\n",
       "      <td>0.0</td>\n",
       "      <td>0.0</td>\n",
       "      <td>1.0</td>\n",
       "      <td>0.0</td>\n",
       "      <td>0.0</td>\n",
       "      <td>0.0</td>\n",
       "    </tr>\n",
       "    <tr>\n",
       "      <th>48750</th>\n",
       "      <td>0.097444</td>\n",
       "      <td>0.049527</td>\n",
       "      <td>1</td>\n",
       "      <td>0.294600</td>\n",
       "      <td>0.588271</td>\n",
       "      <td>0</td>\n",
       "      <td>1</td>\n",
       "      <td>0</td>\n",
       "      <td>0</td>\n",
       "      <td>0</td>\n",
       "      <td>...</td>\n",
       "      <td>0.350000</td>\n",
       "      <td>0.050000</td>\n",
       "      <td>0.200000</td>\n",
       "      <td>0.050000</td>\n",
       "      <td>0.0</td>\n",
       "      <td>0.0</td>\n",
       "      <td>1.0</td>\n",
       "      <td>0.0</td>\n",
       "      <td>0.0</td>\n",
       "      <td>0.0</td>\n",
       "    </tr>\n",
       "    <tr>\n",
       "      <th>48751</th>\n",
       "      <td>0.040124</td>\n",
       "      <td>0.008617</td>\n",
       "      <td>0</td>\n",
       "      <td>0.136399</td>\n",
       "      <td>0.770588</td>\n",
       "      <td>0</td>\n",
       "      <td>0</td>\n",
       "      <td>0</td>\n",
       "      <td>0</td>\n",
       "      <td>1</td>\n",
       "      <td>...</td>\n",
       "      <td>0.112195</td>\n",
       "      <td>0.014634</td>\n",
       "      <td>0.434146</td>\n",
       "      <td>0.053659</td>\n",
       "      <td>0.0</td>\n",
       "      <td>0.0</td>\n",
       "      <td>0.0</td>\n",
       "      <td>1.0</td>\n",
       "      <td>0.0</td>\n",
       "      <td>0.0</td>\n",
       "    </tr>\n",
       "    <tr>\n",
       "      <th>48752</th>\n",
       "      <td>0.011182</td>\n",
       "      <td>0.008249</td>\n",
       "      <td>1</td>\n",
       "      <td>0.000000</td>\n",
       "      <td>0.400937</td>\n",
       "      <td>1</td>\n",
       "      <td>0</td>\n",
       "      <td>0</td>\n",
       "      <td>0</td>\n",
       "      <td>0</td>\n",
       "      <td>...</td>\n",
       "      <td>0.000000</td>\n",
       "      <td>0.000000</td>\n",
       "      <td>0.000000</td>\n",
       "      <td>0.000000</td>\n",
       "      <td>0.0</td>\n",
       "      <td>0.0</td>\n",
       "      <td>1.0</td>\n",
       "      <td>0.0</td>\n",
       "      <td>0.0</td>\n",
       "      <td>0.0</td>\n",
       "    </tr>\n",
       "  </tbody>\n",
       "</table>\n",
       "<p>5 rows × 22 columns</p>\n",
       "</div>"
      ],
      "text/plain": [
       "       duration  distance_m  weekday    precip      temp  morning  midday  \\\n",
       "48748  0.025559    0.007380        1  0.081366  0.617143        0       0   \n",
       "48749  0.086450    0.129731        1  0.379206  0.696968        0       0   \n",
       "48750  0.097444    0.049527        1  0.294600  0.588271        0       1   \n",
       "48751  0.040124    0.008617        0  0.136399  0.770588        0       0   \n",
       "48752  0.011182    0.008249        1  0.000000  0.400937        1       0   \n",
       "\n",
       "       afternoon  evening  midnight  ...  p_nearby_shops  p_nearby_pickup  \\\n",
       "48748          0        1         0  ...        0.288462         0.038462   \n",
       "48749          0        0         1  ...        0.388889         0.166667   \n",
       "48750          0        0         0  ...        0.350000         0.050000   \n",
       "48751          0        0         1  ...        0.112195         0.014634   \n",
       "48752          0        0         0  ...        0.000000         0.000000   \n",
       "\n",
       "       p_nearby_education  p_nearby_health  mode_0  mode_1  mode_2  mode_3  \\\n",
       "48748            0.038462         0.096154     0.0     1.0     0.0     0.0   \n",
       "48749            0.000000         0.000000     0.0     0.0     1.0     0.0   \n",
       "48750            0.200000         0.050000     0.0     0.0     1.0     0.0   \n",
       "48751            0.434146         0.053659     0.0     0.0     0.0     1.0   \n",
       "48752            0.000000         0.000000     0.0     0.0     1.0     0.0   \n",
       "\n",
       "       mode_4  mode_5  \n",
       "48748     0.0     0.0  \n",
       "48749     0.0     0.0  \n",
       "48750     0.0     0.0  \n",
       "48751     0.0     0.0  \n",
       "48752     0.0     0.0  \n",
       "\n",
       "[5 rows x 22 columns]"
      ]
     },
     "execution_count": 74,
     "metadata": {},
     "output_type": "execute_result"
    }
   ],
   "source": [
    "all_enc_X.tail()"
   ]
  },
  {
   "cell_type": "code",
   "execution_count": 75,
   "metadata": {},
   "outputs": [],
   "source": [
    "shuffled_enc_X, shuffled_enc_y = shuffle_data(all_enc_X, all_enc_y)"
   ]
  },
  {
   "cell_type": "code",
   "execution_count": 76,
   "metadata": {},
   "outputs": [
    {
     "data": {
      "text/html": [
       "<div>\n",
       "<style scoped>\n",
       "    .dataframe tbody tr th:only-of-type {\n",
       "        vertical-align: middle;\n",
       "    }\n",
       "\n",
       "    .dataframe tbody tr th {\n",
       "        vertical-align: top;\n",
       "    }\n",
       "\n",
       "    .dataframe thead th {\n",
       "        text-align: right;\n",
       "    }\n",
       "</style>\n",
       "<table border=\"1\" class=\"dataframe\">\n",
       "  <thead>\n",
       "    <tr style=\"text-align: right;\">\n",
       "      <th></th>\n",
       "      <th>duration</th>\n",
       "      <th>distance_m</th>\n",
       "      <th>weekday</th>\n",
       "      <th>precip</th>\n",
       "      <th>temp</th>\n",
       "      <th>morning</th>\n",
       "      <th>midday</th>\n",
       "      <th>afternoon</th>\n",
       "      <th>evening</th>\n",
       "      <th>midnight</th>\n",
       "      <th>...</th>\n",
       "      <th>p_nearby_shops</th>\n",
       "      <th>p_nearby_pickup</th>\n",
       "      <th>p_nearby_education</th>\n",
       "      <th>p_nearby_health</th>\n",
       "      <th>mode_0</th>\n",
       "      <th>mode_1</th>\n",
       "      <th>mode_2</th>\n",
       "      <th>mode_3</th>\n",
       "      <th>mode_4</th>\n",
       "      <th>mode_5</th>\n",
       "    </tr>\n",
       "  </thead>\n",
       "  <tbody>\n",
       "    <tr>\n",
       "      <th>48748</th>\n",
       "      <td>0.274948</td>\n",
       "      <td>0.579247</td>\n",
       "      <td>1</td>\n",
       "      <td>0.000000</td>\n",
       "      <td>0.230876</td>\n",
       "      <td>1</td>\n",
       "      <td>0</td>\n",
       "      <td>0</td>\n",
       "      <td>0</td>\n",
       "      <td>0</td>\n",
       "      <td>...</td>\n",
       "      <td>0.000000</td>\n",
       "      <td>0.000000</td>\n",
       "      <td>0.000000</td>\n",
       "      <td>0.000000</td>\n",
       "      <td>0.0</td>\n",
       "      <td>0.0</td>\n",
       "      <td>1.0</td>\n",
       "      <td>0.0</td>\n",
       "      <td>0.0</td>\n",
       "      <td>0.0</td>\n",
       "    </tr>\n",
       "    <tr>\n",
       "      <th>48749</th>\n",
       "      <td>0.098384</td>\n",
       "      <td>0.008433</td>\n",
       "      <td>1</td>\n",
       "      <td>0.000046</td>\n",
       "      <td>0.571037</td>\n",
       "      <td>0</td>\n",
       "      <td>0</td>\n",
       "      <td>0</td>\n",
       "      <td>1</td>\n",
       "      <td>0</td>\n",
       "      <td>...</td>\n",
       "      <td>0.120000</td>\n",
       "      <td>0.120000</td>\n",
       "      <td>0.120000</td>\n",
       "      <td>0.000000</td>\n",
       "      <td>1.0</td>\n",
       "      <td>0.0</td>\n",
       "      <td>0.0</td>\n",
       "      <td>0.0</td>\n",
       "      <td>0.0</td>\n",
       "      <td>0.0</td>\n",
       "    </tr>\n",
       "    <tr>\n",
       "      <th>48750</th>\n",
       "      <td>0.475662</td>\n",
       "      <td>0.021104</td>\n",
       "      <td>0</td>\n",
       "      <td>0.000015</td>\n",
       "      <td>0.915131</td>\n",
       "      <td>0</td>\n",
       "      <td>0</td>\n",
       "      <td>0</td>\n",
       "      <td>1</td>\n",
       "      <td>0</td>\n",
       "      <td>...</td>\n",
       "      <td>0.142857</td>\n",
       "      <td>0.000000</td>\n",
       "      <td>0.000000</td>\n",
       "      <td>0.285714</td>\n",
       "      <td>1.0</td>\n",
       "      <td>0.0</td>\n",
       "      <td>0.0</td>\n",
       "      <td>0.0</td>\n",
       "      <td>0.0</td>\n",
       "      <td>0.0</td>\n",
       "    </tr>\n",
       "    <tr>\n",
       "      <th>48751</th>\n",
       "      <td>0.050742</td>\n",
       "      <td>0.016651</td>\n",
       "      <td>1</td>\n",
       "      <td>0.000379</td>\n",
       "      <td>0.669221</td>\n",
       "      <td>0</td>\n",
       "      <td>0</td>\n",
       "      <td>0</td>\n",
       "      <td>1</td>\n",
       "      <td>0</td>\n",
       "      <td>...</td>\n",
       "      <td>0.258065</td>\n",
       "      <td>0.043011</td>\n",
       "      <td>0.053763</td>\n",
       "      <td>0.010753</td>\n",
       "      <td>0.0</td>\n",
       "      <td>0.0</td>\n",
       "      <td>0.0</td>\n",
       "      <td>1.0</td>\n",
       "      <td>0.0</td>\n",
       "      <td>0.0</td>\n",
       "    </tr>\n",
       "    <tr>\n",
       "      <th>48752</th>\n",
       "      <td>0.105525</td>\n",
       "      <td>0.013910</td>\n",
       "      <td>0</td>\n",
       "      <td>0.194482</td>\n",
       "      <td>0.301818</td>\n",
       "      <td>0</td>\n",
       "      <td>0</td>\n",
       "      <td>0</td>\n",
       "      <td>1</td>\n",
       "      <td>0</td>\n",
       "      <td>...</td>\n",
       "      <td>0.000000</td>\n",
       "      <td>0.000000</td>\n",
       "      <td>0.000000</td>\n",
       "      <td>0.000000</td>\n",
       "      <td>0.0</td>\n",
       "      <td>0.0</td>\n",
       "      <td>1.0</td>\n",
       "      <td>0.0</td>\n",
       "      <td>0.0</td>\n",
       "      <td>0.0</td>\n",
       "    </tr>\n",
       "  </tbody>\n",
       "</table>\n",
       "<p>5 rows × 22 columns</p>\n",
       "</div>"
      ],
      "text/plain": [
       "       duration  distance_m  weekday    precip      temp  morning  midday  \\\n",
       "48748  0.274948    0.579247        1  0.000000  0.230876        1       0   \n",
       "48749  0.098384    0.008433        1  0.000046  0.571037        0       0   \n",
       "48750  0.475662    0.021104        0  0.000015  0.915131        0       0   \n",
       "48751  0.050742    0.016651        1  0.000379  0.669221        0       0   \n",
       "48752  0.105525    0.013910        0  0.194482  0.301818        0       0   \n",
       "\n",
       "       afternoon  evening  midnight  ...  p_nearby_shops  p_nearby_pickup  \\\n",
       "48748          0        0         0  ...        0.000000         0.000000   \n",
       "48749          0        1         0  ...        0.120000         0.120000   \n",
       "48750          0        1         0  ...        0.142857         0.000000   \n",
       "48751          0        1         0  ...        0.258065         0.043011   \n",
       "48752          0        1         0  ...        0.000000         0.000000   \n",
       "\n",
       "       p_nearby_education  p_nearby_health  mode_0  mode_1  mode_2  mode_3  \\\n",
       "48748            0.000000         0.000000     0.0     0.0     1.0     0.0   \n",
       "48749            0.120000         0.000000     1.0     0.0     0.0     0.0   \n",
       "48750            0.000000         0.285714     1.0     0.0     0.0     0.0   \n",
       "48751            0.053763         0.010753     0.0     0.0     0.0     1.0   \n",
       "48752            0.000000         0.000000     0.0     0.0     1.0     0.0   \n",
       "\n",
       "       mode_4  mode_5  \n",
       "48748     0.0     0.0  \n",
       "48749     0.0     0.0  \n",
       "48750     0.0     0.0  \n",
       "48751     0.0     0.0  \n",
       "48752     0.0     0.0  \n",
       "\n",
       "[5 rows x 22 columns]"
      ]
     },
     "execution_count": 76,
     "metadata": {},
     "output_type": "execute_result"
    }
   ],
   "source": [
    "shuffled_enc_X.tail()"
   ]
  },
  {
   "cell_type": "code",
   "execution_count": 77,
   "metadata": {},
   "outputs": [],
   "source": [
    "rf_cv_scores = sklearn.model_selection.cross_val_score(rf_clf,shuffled_enc_X, np.ravel(shuffled_enc_y), cv=5)"
   ]
  },
  {
   "cell_type": "code",
   "execution_count": 78,
   "metadata": {},
   "outputs": [
    {
     "data": {
      "text/plain": [
       "array([0.52414642, 0.51753486, 0.52051282, 0.52594872, 0.5172343 ])"
      ]
     },
     "execution_count": 78,
     "metadata": {},
     "output_type": "execute_result"
    }
   ],
   "source": [
    "rf_cv_scores"
   ]
  },
  {
   "cell_type": "markdown",
   "metadata": {},
   "source": [
    "# 4.3 Oversample\n",
    "## 4.3.1 Load in data"
   ]
  },
  {
   "cell_type": "code",
   "execution_count": 79,
   "metadata": {},
   "outputs": [],
   "source": [
    "# define all categorical/nominal features\n",
    "categorical_features = [True,False,False,True,False,False,True,True,True,True,True,False,False,False,False]\n",
    "ros = SMOTENC(categorical_features, random_state=0)"
   ]
  },
  {
   "cell_type": "code",
   "execution_count": 80,
   "metadata": {},
   "outputs": [],
   "source": [
    "X_train_with_ID = pd.concat([pd.DataFrame(training_ids, columns=['id_trip']),X_train],axis=1)"
   ]
  },
  {
   "cell_type": "code",
   "execution_count": 81,
   "metadata": {},
   "outputs": [
    {
     "name": "stdout",
     "output_type": "stream",
     "text": [
      "CPU times: user 1min 49s, sys: 2.95 s, total: 1min 52s\n",
      "Wall time: 1min 52s\n"
     ]
    }
   ],
   "source": [
    "%%time\n",
    "oversampled_X_train, oversampled_y_train = ros.fit_resample(X_train_with_ID, y_train)\n"
   ]
  },
  {
   "cell_type": "code",
   "execution_count": 82,
   "metadata": {},
   "outputs": [
    {
     "name": "stdout",
     "output_type": "stream",
     "text": [
      "Before:\n",
      " Counter({0: 10371, 2: 8981, 1: 5697, 4: 2973, 3: 2581, 5: 2061})\n",
      "After:\n",
      " Counter({1: 10371, 0: 10371, 4: 10371, 2: 10371, 3: 10371, 5: 10371})\n"
     ]
    }
   ],
   "source": [
    "# check if oversampling worked\n",
    "print('Before:\\n',collections.Counter(y_train))\n",
    "print('After:\\n',collections.Counter(oversampled_y_train))"
   ]
  },
  {
   "cell_type": "code",
   "execution_count": 83,
   "metadata": {},
   "outputs": [],
   "source": [
    "oversampled_X_train = pd.DataFrame(oversampled_X_train, columns=X_train_with_ID.columns)"
   ]
  },
  {
   "cell_type": "code",
   "execution_count": 84,
   "metadata": {},
   "outputs": [
    {
     "data": {
      "text/html": [
       "<div>\n",
       "<style scoped>\n",
       "    .dataframe tbody tr th:only-of-type {\n",
       "        vertical-align: middle;\n",
       "    }\n",
       "\n",
       "    .dataframe tbody tr th {\n",
       "        vertical-align: top;\n",
       "    }\n",
       "\n",
       "    .dataframe thead th {\n",
       "        text-align: right;\n",
       "    }\n",
       "</style>\n",
       "<table border=\"1\" class=\"dataframe\">\n",
       "  <thead>\n",
       "    <tr style=\"text-align: right;\">\n",
       "      <th></th>\n",
       "      <th>id_trip</th>\n",
       "      <th>mode</th>\n",
       "      <th>duration</th>\n",
       "      <th>distance_m</th>\n",
       "      <th>weekday</th>\n",
       "      <th>precip</th>\n",
       "      <th>temp</th>\n",
       "      <th>morning</th>\n",
       "      <th>midday</th>\n",
       "      <th>afternoon</th>\n",
       "      <th>evening</th>\n",
       "      <th>midnight</th>\n",
       "      <th>p_nearby_leisure</th>\n",
       "      <th>p_nearby_food</th>\n",
       "      <th>p_nearby_shops</th>\n",
       "      <th>p_nearby_pickup</th>\n",
       "      <th>p_nearby_education</th>\n",
       "      <th>p_nearby_health</th>\n",
       "    </tr>\n",
       "  </thead>\n",
       "  <tbody>\n",
       "    <tr>\n",
       "      <th>0</th>\n",
       "      <td>3592784.0</td>\n",
       "      <td>2.0</td>\n",
       "      <td>0.015505</td>\n",
       "      <td>0.015059</td>\n",
       "      <td>1.0</td>\n",
       "      <td>0.018937</td>\n",
       "      <td>0.333150</td>\n",
       "      <td>0.0</td>\n",
       "      <td>0.0</td>\n",
       "      <td>1.0</td>\n",
       "      <td>0.0</td>\n",
       "      <td>0.0</td>\n",
       "      <td>0.000000</td>\n",
       "      <td>0.250000</td>\n",
       "      <td>0.250000</td>\n",
       "      <td>0.250000</td>\n",
       "      <td>0.250000</td>\n",
       "      <td>0.000000</td>\n",
       "    </tr>\n",
       "    <tr>\n",
       "      <th>1</th>\n",
       "      <td>152350.0</td>\n",
       "      <td>2.0</td>\n",
       "      <td>0.048111</td>\n",
       "      <td>0.034086</td>\n",
       "      <td>1.0</td>\n",
       "      <td>0.035834</td>\n",
       "      <td>0.775837</td>\n",
       "      <td>0.0</td>\n",
       "      <td>0.0</td>\n",
       "      <td>0.0</td>\n",
       "      <td>0.0</td>\n",
       "      <td>1.0</td>\n",
       "      <td>0.500000</td>\n",
       "      <td>0.000000</td>\n",
       "      <td>0.000000</td>\n",
       "      <td>0.000000</td>\n",
       "      <td>0.000000</td>\n",
       "      <td>0.500000</td>\n",
       "    </tr>\n",
       "    <tr>\n",
       "      <th>2</th>\n",
       "      <td>1959960.0</td>\n",
       "      <td>2.0</td>\n",
       "      <td>0.156737</td>\n",
       "      <td>0.138435</td>\n",
       "      <td>0.0</td>\n",
       "      <td>0.509026</td>\n",
       "      <td>0.415893</td>\n",
       "      <td>0.0</td>\n",
       "      <td>0.0</td>\n",
       "      <td>0.0</td>\n",
       "      <td>1.0</td>\n",
       "      <td>0.0</td>\n",
       "      <td>0.000000</td>\n",
       "      <td>0.500000</td>\n",
       "      <td>0.000000</td>\n",
       "      <td>0.500000</td>\n",
       "      <td>0.000000</td>\n",
       "      <td>0.000000</td>\n",
       "    </tr>\n",
       "    <tr>\n",
       "      <th>3</th>\n",
       "      <td>204665.0</td>\n",
       "      <td>2.0</td>\n",
       "      <td>0.126010</td>\n",
       "      <td>0.027076</td>\n",
       "      <td>1.0</td>\n",
       "      <td>0.292437</td>\n",
       "      <td>0.418278</td>\n",
       "      <td>0.0</td>\n",
       "      <td>0.0</td>\n",
       "      <td>0.0</td>\n",
       "      <td>1.0</td>\n",
       "      <td>0.0</td>\n",
       "      <td>0.500000</td>\n",
       "      <td>0.500000</td>\n",
       "      <td>0.000000</td>\n",
       "      <td>0.000000</td>\n",
       "      <td>0.000000</td>\n",
       "      <td>0.000000</td>\n",
       "    </tr>\n",
       "    <tr>\n",
       "      <th>4</th>\n",
       "      <td>123314.0</td>\n",
       "      <td>3.0</td>\n",
       "      <td>0.077711</td>\n",
       "      <td>0.031316</td>\n",
       "      <td>1.0</td>\n",
       "      <td>0.000076</td>\n",
       "      <td>0.513285</td>\n",
       "      <td>0.0</td>\n",
       "      <td>1.0</td>\n",
       "      <td>0.0</td>\n",
       "      <td>0.0</td>\n",
       "      <td>0.0</td>\n",
       "      <td>0.130682</td>\n",
       "      <td>0.130682</td>\n",
       "      <td>0.153409</td>\n",
       "      <td>0.039773</td>\n",
       "      <td>0.505682</td>\n",
       "      <td>0.039773</td>\n",
       "    </tr>\n",
       "  </tbody>\n",
       "</table>\n",
       "</div>"
      ],
      "text/plain": [
       "     id_trip  mode  duration  distance_m  weekday    precip      temp  \\\n",
       "0  3592784.0   2.0  0.015505    0.015059      1.0  0.018937  0.333150   \n",
       "1   152350.0   2.0  0.048111    0.034086      1.0  0.035834  0.775837   \n",
       "2  1959960.0   2.0  0.156737    0.138435      0.0  0.509026  0.415893   \n",
       "3   204665.0   2.0  0.126010    0.027076      1.0  0.292437  0.418278   \n",
       "4   123314.0   3.0  0.077711    0.031316      1.0  0.000076  0.513285   \n",
       "\n",
       "   morning  midday  afternoon  evening  midnight  p_nearby_leisure  \\\n",
       "0      0.0     0.0        1.0      0.0       0.0          0.000000   \n",
       "1      0.0     0.0        0.0      0.0       1.0          0.500000   \n",
       "2      0.0     0.0        0.0      1.0       0.0          0.000000   \n",
       "3      0.0     0.0        0.0      1.0       0.0          0.500000   \n",
       "4      0.0     1.0        0.0      0.0       0.0          0.130682   \n",
       "\n",
       "   p_nearby_food  p_nearby_shops  p_nearby_pickup  p_nearby_education  \\\n",
       "0       0.250000        0.250000         0.250000            0.250000   \n",
       "1       0.000000        0.000000         0.000000            0.000000   \n",
       "2       0.500000        0.000000         0.500000            0.000000   \n",
       "3       0.500000        0.000000         0.000000            0.000000   \n",
       "4       0.130682        0.153409         0.039773            0.505682   \n",
       "\n",
       "   p_nearby_health  \n",
       "0         0.000000  \n",
       "1         0.500000  \n",
       "2         0.000000  \n",
       "3         0.000000  \n",
       "4         0.039773  "
      ]
     },
     "execution_count": 84,
     "metadata": {},
     "output_type": "execute_result"
    }
   ],
   "source": [
    "oversampled_X_train.head()"
   ]
  },
  {
   "cell_type": "code",
   "execution_count": 85,
   "metadata": {},
   "outputs": [
    {
     "data": {
      "text/plain": [
       "3593194.0    66\n",
       "3472482.0    62\n",
       "3254598.0    58\n",
       "3587543.0    52\n",
       "3432071.0    47\n",
       "             ..\n",
       "2786168.0     1\n",
       "3067273.0     1\n",
       "155998.0      1\n",
       "413812.0      1\n",
       "7.0           1\n",
       "Name: id_trip, Length: 32664, dtype: int64"
      ]
     },
     "execution_count": 85,
     "metadata": {},
     "output_type": "execute_result"
    }
   ],
   "source": [
    "oversampled_X_train['id_trip'].value_counts()"
   ]
  },
  {
   "cell_type": "code",
   "execution_count": 86,
   "metadata": {},
   "outputs": [
    {
     "data": {
      "text/html": [
       "<div>\n",
       "<style scoped>\n",
       "    .dataframe tbody tr th:only-of-type {\n",
       "        vertical-align: middle;\n",
       "    }\n",
       "\n",
       "    .dataframe tbody tr th {\n",
       "        vertical-align: top;\n",
       "    }\n",
       "\n",
       "    .dataframe thead th {\n",
       "        text-align: right;\n",
       "    }\n",
       "</style>\n",
       "<table border=\"1\" class=\"dataframe\">\n",
       "  <thead>\n",
       "    <tr style=\"text-align: right;\">\n",
       "      <th></th>\n",
       "      <th>id_trip</th>\n",
       "      <th>mode</th>\n",
       "      <th>duration</th>\n",
       "      <th>distance_m</th>\n",
       "      <th>weekday</th>\n",
       "      <th>precip</th>\n",
       "      <th>temp</th>\n",
       "      <th>morning</th>\n",
       "      <th>midday</th>\n",
       "      <th>afternoon</th>\n",
       "      <th>evening</th>\n",
       "      <th>midnight</th>\n",
       "      <th>p_nearby_leisure</th>\n",
       "      <th>p_nearby_food</th>\n",
       "      <th>p_nearby_shops</th>\n",
       "      <th>p_nearby_pickup</th>\n",
       "      <th>p_nearby_education</th>\n",
       "      <th>p_nearby_health</th>\n",
       "    </tr>\n",
       "  </thead>\n",
       "  <tbody>\n",
       "    <tr>\n",
       "      <th>27689</th>\n",
       "      <td>3593194.0</td>\n",
       "      <td>1.0</td>\n",
       "      <td>0.097726</td>\n",
       "      <td>0.011529</td>\n",
       "      <td>0.0</td>\n",
       "      <td>0.063846</td>\n",
       "      <td>0.349079</td>\n",
       "      <td>0.0</td>\n",
       "      <td>1.0</td>\n",
       "      <td>0.0</td>\n",
       "      <td>0.0</td>\n",
       "      <td>0.0</td>\n",
       "      <td>0.322581</td>\n",
       "      <td>0.137097</td>\n",
       "      <td>0.346774</td>\n",
       "      <td>0.056452</td>\n",
       "      <td>0.040323</td>\n",
       "      <td>0.096774</td>\n",
       "    </tr>\n",
       "    <tr>\n",
       "      <th>54072</th>\n",
       "      <td>3593194.0</td>\n",
       "      <td>1.0</td>\n",
       "      <td>0.193531</td>\n",
       "      <td>0.006294</td>\n",
       "      <td>0.0</td>\n",
       "      <td>0.257855</td>\n",
       "      <td>0.433107</td>\n",
       "      <td>0.0</td>\n",
       "      <td>0.0</td>\n",
       "      <td>0.0</td>\n",
       "      <td>0.0</td>\n",
       "      <td>0.0</td>\n",
       "      <td>0.377986</td>\n",
       "      <td>0.262540</td>\n",
       "      <td>0.226514</td>\n",
       "      <td>0.031647</td>\n",
       "      <td>0.037023</td>\n",
       "      <td>0.064291</td>\n",
       "    </tr>\n",
       "    <tr>\n",
       "      <th>54135</th>\n",
       "      <td>3593194.0</td>\n",
       "      <td>1.0</td>\n",
       "      <td>0.115669</td>\n",
       "      <td>0.006294</td>\n",
       "      <td>0.0</td>\n",
       "      <td>0.051208</td>\n",
       "      <td>0.324251</td>\n",
       "      <td>0.0</td>\n",
       "      <td>1.0</td>\n",
       "      <td>0.0</td>\n",
       "      <td>0.0</td>\n",
       "      <td>0.0</td>\n",
       "      <td>0.323285</td>\n",
       "      <td>0.197678</td>\n",
       "      <td>0.287249</td>\n",
       "      <td>0.070486</td>\n",
       "      <td>0.036319</td>\n",
       "      <td>0.084984</td>\n",
       "    </tr>\n",
       "    <tr>\n",
       "      <th>54156</th>\n",
       "      <td>3593194.0</td>\n",
       "      <td>1.0</td>\n",
       "      <td>0.045646</td>\n",
       "      <td>0.000171</td>\n",
       "      <td>0.0</td>\n",
       "      <td>0.073643</td>\n",
       "      <td>0.349079</td>\n",
       "      <td>0.0</td>\n",
       "      <td>1.0</td>\n",
       "      <td>0.0</td>\n",
       "      <td>0.0</td>\n",
       "      <td>0.0</td>\n",
       "      <td>0.306264</td>\n",
       "      <td>0.121980</td>\n",
       "      <td>0.322539</td>\n",
       "      <td>0.037975</td>\n",
       "      <td>0.027125</td>\n",
       "      <td>0.184117</td>\n",
       "    </tr>\n",
       "    <tr>\n",
       "      <th>54165</th>\n",
       "      <td>3593194.0</td>\n",
       "      <td>1.0</td>\n",
       "      <td>0.022661</td>\n",
       "      <td>0.000171</td>\n",
       "      <td>0.0</td>\n",
       "      <td>0.080634</td>\n",
       "      <td>0.349079</td>\n",
       "      <td>0.0</td>\n",
       "      <td>1.0</td>\n",
       "      <td>0.0</td>\n",
       "      <td>0.0</td>\n",
       "      <td>0.0</td>\n",
       "      <td>0.280061</td>\n",
       "      <td>0.108719</td>\n",
       "      <td>0.326158</td>\n",
       "      <td>0.011524</td>\n",
       "      <td>0.034573</td>\n",
       "      <td>0.238965</td>\n",
       "    </tr>\n",
       "    <tr>\n",
       "      <th>54340</th>\n",
       "      <td>3593194.0</td>\n",
       "      <td>1.0</td>\n",
       "      <td>0.098096</td>\n",
       "      <td>0.006294</td>\n",
       "      <td>0.0</td>\n",
       "      <td>0.063585</td>\n",
       "      <td>0.324251</td>\n",
       "      <td>0.0</td>\n",
       "      <td>1.0</td>\n",
       "      <td>0.0</td>\n",
       "      <td>0.0</td>\n",
       "      <td>0.0</td>\n",
       "      <td>0.322595</td>\n",
       "      <td>0.138345</td>\n",
       "      <td>0.345548</td>\n",
       "      <td>0.056741</td>\n",
       "      <td>0.040240</td>\n",
       "      <td>0.096531</td>\n",
       "    </tr>\n",
       "    <tr>\n",
       "      <th>54412</th>\n",
       "      <td>3593194.0</td>\n",
       "      <td>1.0</td>\n",
       "      <td>0.096725</td>\n",
       "      <td>0.000171</td>\n",
       "      <td>0.0</td>\n",
       "      <td>0.231828</td>\n",
       "      <td>0.349079</td>\n",
       "      <td>0.0</td>\n",
       "      <td>1.0</td>\n",
       "      <td>0.0</td>\n",
       "      <td>0.0</td>\n",
       "      <td>0.0</td>\n",
       "      <td>0.272238</td>\n",
       "      <td>0.082760</td>\n",
       "      <td>0.517170</td>\n",
       "      <td>0.026382</td>\n",
       "      <td>0.046879</td>\n",
       "      <td>0.054571</td>\n",
       "    </tr>\n",
       "    <tr>\n",
       "      <th>54450</th>\n",
       "      <td>3593194.0</td>\n",
       "      <td>1.0</td>\n",
       "      <td>0.224860</td>\n",
       "      <td>0.006294</td>\n",
       "      <td>0.0</td>\n",
       "      <td>0.165566</td>\n",
       "      <td>0.433107</td>\n",
       "      <td>0.0</td>\n",
       "      <td>0.0</td>\n",
       "      <td>0.0</td>\n",
       "      <td>0.0</td>\n",
       "      <td>0.0</td>\n",
       "      <td>0.375626</td>\n",
       "      <td>0.265515</td>\n",
       "      <td>0.210714</td>\n",
       "      <td>0.045293</td>\n",
       "      <td>0.033534</td>\n",
       "      <td>0.069318</td>\n",
       "    </tr>\n",
       "    <tr>\n",
       "      <th>54468</th>\n",
       "      <td>3593194.0</td>\n",
       "      <td>1.0</td>\n",
       "      <td>0.130781</td>\n",
       "      <td>0.006294</td>\n",
       "      <td>0.0</td>\n",
       "      <td>0.022884</td>\n",
       "      <td>0.324251</td>\n",
       "      <td>0.0</td>\n",
       "      <td>1.0</td>\n",
       "      <td>0.0</td>\n",
       "      <td>0.0</td>\n",
       "      <td>0.0</td>\n",
       "      <td>0.383012</td>\n",
       "      <td>0.262383</td>\n",
       "      <td>0.140525</td>\n",
       "      <td>0.058459</td>\n",
       "      <td>0.076987</td>\n",
       "      <td>0.078634</td>\n",
       "    </tr>\n",
       "    <tr>\n",
       "      <th>54548</th>\n",
       "      <td>3593194.0</td>\n",
       "      <td>1.0</td>\n",
       "      <td>0.068636</td>\n",
       "      <td>0.006294</td>\n",
       "      <td>0.0</td>\n",
       "      <td>0.025704</td>\n",
       "      <td>0.324251</td>\n",
       "      <td>0.0</td>\n",
       "      <td>1.0</td>\n",
       "      <td>0.0</td>\n",
       "      <td>0.0</td>\n",
       "      <td>0.0</td>\n",
       "      <td>0.373855</td>\n",
       "      <td>0.269497</td>\n",
       "      <td>0.255854</td>\n",
       "      <td>0.036652</td>\n",
       "      <td>0.010283</td>\n",
       "      <td>0.053859</td>\n",
       "    </tr>\n",
       "  </tbody>\n",
       "</table>\n",
       "</div>"
      ],
      "text/plain": [
       "         id_trip  mode  duration  distance_m  weekday    precip      temp  \\\n",
       "27689  3593194.0   1.0  0.097726    0.011529      0.0  0.063846  0.349079   \n",
       "54072  3593194.0   1.0  0.193531    0.006294      0.0  0.257855  0.433107   \n",
       "54135  3593194.0   1.0  0.115669    0.006294      0.0  0.051208  0.324251   \n",
       "54156  3593194.0   1.0  0.045646    0.000171      0.0  0.073643  0.349079   \n",
       "54165  3593194.0   1.0  0.022661    0.000171      0.0  0.080634  0.349079   \n",
       "54340  3593194.0   1.0  0.098096    0.006294      0.0  0.063585  0.324251   \n",
       "54412  3593194.0   1.0  0.096725    0.000171      0.0  0.231828  0.349079   \n",
       "54450  3593194.0   1.0  0.224860    0.006294      0.0  0.165566  0.433107   \n",
       "54468  3593194.0   1.0  0.130781    0.006294      0.0  0.022884  0.324251   \n",
       "54548  3593194.0   1.0  0.068636    0.006294      0.0  0.025704  0.324251   \n",
       "\n",
       "       morning  midday  afternoon  evening  midnight  p_nearby_leisure  \\\n",
       "27689      0.0     1.0        0.0      0.0       0.0          0.322581   \n",
       "54072      0.0     0.0        0.0      0.0       0.0          0.377986   \n",
       "54135      0.0     1.0        0.0      0.0       0.0          0.323285   \n",
       "54156      0.0     1.0        0.0      0.0       0.0          0.306264   \n",
       "54165      0.0     1.0        0.0      0.0       0.0          0.280061   \n",
       "54340      0.0     1.0        0.0      0.0       0.0          0.322595   \n",
       "54412      0.0     1.0        0.0      0.0       0.0          0.272238   \n",
       "54450      0.0     0.0        0.0      0.0       0.0          0.375626   \n",
       "54468      0.0     1.0        0.0      0.0       0.0          0.383012   \n",
       "54548      0.0     1.0        0.0      0.0       0.0          0.373855   \n",
       "\n",
       "       p_nearby_food  p_nearby_shops  p_nearby_pickup  p_nearby_education  \\\n",
       "27689       0.137097        0.346774         0.056452            0.040323   \n",
       "54072       0.262540        0.226514         0.031647            0.037023   \n",
       "54135       0.197678        0.287249         0.070486            0.036319   \n",
       "54156       0.121980        0.322539         0.037975            0.027125   \n",
       "54165       0.108719        0.326158         0.011524            0.034573   \n",
       "54340       0.138345        0.345548         0.056741            0.040240   \n",
       "54412       0.082760        0.517170         0.026382            0.046879   \n",
       "54450       0.265515        0.210714         0.045293            0.033534   \n",
       "54468       0.262383        0.140525         0.058459            0.076987   \n",
       "54548       0.269497        0.255854         0.036652            0.010283   \n",
       "\n",
       "       p_nearby_health  \n",
       "27689         0.096774  \n",
       "54072         0.064291  \n",
       "54135         0.084984  \n",
       "54156         0.184117  \n",
       "54165         0.238965  \n",
       "54340         0.096531  \n",
       "54412         0.054571  \n",
       "54450         0.069318  \n",
       "54468         0.078634  \n",
       "54548         0.053859  "
      ]
     },
     "execution_count": 86,
     "metadata": {},
     "output_type": "execute_result"
    }
   ],
   "source": [
    "# view new data\n",
    "oversampled_X_train.loc[oversampled_X_train['id_trip'] == 3593194].head(10)"
   ]
  },
  {
   "cell_type": "code",
   "execution_count": 87,
   "metadata": {},
   "outputs": [],
   "source": [
    "oversampled_training_ids = oversampled_X_train['id_trip']\n",
    "oversampled_X_train.drop('id_trip',axis=1,inplace=True)"
   ]
  },
  {
   "cell_type": "code",
   "execution_count": 88,
   "metadata": {
    "scrolled": true
   },
   "outputs": [],
   "source": [
    "all_train = pd.concat([oversampled_X_train, pd.DataFrame(oversampled_y_train, columns=['purpose'])],axis=1)"
   ]
  },
  {
   "cell_type": "code",
   "execution_count": 89,
   "metadata": {},
   "outputs": [],
   "source": [
    "## shuffle data\n",
    "all_train = sklearn.utils.shuffle(all_train)"
   ]
  },
  {
   "cell_type": "code",
   "execution_count": 90,
   "metadata": {},
   "outputs": [
    {
     "data": {
      "text/html": [
       "<div>\n",
       "<style scoped>\n",
       "    .dataframe tbody tr th:only-of-type {\n",
       "        vertical-align: middle;\n",
       "    }\n",
       "\n",
       "    .dataframe tbody tr th {\n",
       "        vertical-align: top;\n",
       "    }\n",
       "\n",
       "    .dataframe thead th {\n",
       "        text-align: right;\n",
       "    }\n",
       "</style>\n",
       "<table border=\"1\" class=\"dataframe\">\n",
       "  <thead>\n",
       "    <tr style=\"text-align: right;\">\n",
       "      <th></th>\n",
       "      <th>mode</th>\n",
       "      <th>duration</th>\n",
       "      <th>distance_m</th>\n",
       "      <th>weekday</th>\n",
       "      <th>precip</th>\n",
       "      <th>temp</th>\n",
       "      <th>morning</th>\n",
       "      <th>midday</th>\n",
       "      <th>afternoon</th>\n",
       "      <th>evening</th>\n",
       "      <th>midnight</th>\n",
       "      <th>p_nearby_leisure</th>\n",
       "      <th>p_nearby_food</th>\n",
       "      <th>p_nearby_shops</th>\n",
       "      <th>p_nearby_pickup</th>\n",
       "      <th>p_nearby_education</th>\n",
       "      <th>p_nearby_health</th>\n",
       "      <th>purpose</th>\n",
       "    </tr>\n",
       "  </thead>\n",
       "  <tbody>\n",
       "    <tr>\n",
       "      <th>36434</th>\n",
       "      <td>2.0</td>\n",
       "      <td>0.254897</td>\n",
       "      <td>0.018511</td>\n",
       "      <td>1.0</td>\n",
       "      <td>0.000697</td>\n",
       "      <td>0.307329</td>\n",
       "      <td>1.0</td>\n",
       "      <td>0.0</td>\n",
       "      <td>0.0</td>\n",
       "      <td>0.0</td>\n",
       "      <td>0.0</td>\n",
       "      <td>0.087653</td>\n",
       "      <td>0.149576</td>\n",
       "      <td>0.693496</td>\n",
       "      <td>0.000000</td>\n",
       "      <td>0.043733</td>\n",
       "      <td>0.025542</td>\n",
       "      <td>1</td>\n",
       "    </tr>\n",
       "    <tr>\n",
       "      <th>54230</th>\n",
       "      <td>0.0</td>\n",
       "      <td>0.107228</td>\n",
       "      <td>0.004985</td>\n",
       "      <td>0.0</td>\n",
       "      <td>0.344161</td>\n",
       "      <td>0.672741</td>\n",
       "      <td>0.0</td>\n",
       "      <td>0.0</td>\n",
       "      <td>0.0</td>\n",
       "      <td>0.0</td>\n",
       "      <td>0.0</td>\n",
       "      <td>0.058899</td>\n",
       "      <td>0.058899</td>\n",
       "      <td>0.657970</td>\n",
       "      <td>0.044174</td>\n",
       "      <td>0.014725</td>\n",
       "      <td>0.165333</td>\n",
       "      <td>5</td>\n",
       "    </tr>\n",
       "    <tr>\n",
       "      <th>33264</th>\n",
       "      <td>1.0</td>\n",
       "      <td>0.159594</td>\n",
       "      <td>0.019566</td>\n",
       "      <td>1.0</td>\n",
       "      <td>0.242414</td>\n",
       "      <td>0.650088</td>\n",
       "      <td>0.0</td>\n",
       "      <td>0.0</td>\n",
       "      <td>0.0</td>\n",
       "      <td>0.0</td>\n",
       "      <td>1.0</td>\n",
       "      <td>0.221843</td>\n",
       "      <td>0.189954</td>\n",
       "      <td>0.422427</td>\n",
       "      <td>0.061382</td>\n",
       "      <td>0.066697</td>\n",
       "      <td>0.037696</td>\n",
       "      <td>1</td>\n",
       "    </tr>\n",
       "    <tr>\n",
       "      <th>4111</th>\n",
       "      <td>0.0</td>\n",
       "      <td>0.122251</td>\n",
       "      <td>0.006015</td>\n",
       "      <td>1.0</td>\n",
       "      <td>0.081366</td>\n",
       "      <td>0.585484</td>\n",
       "      <td>0.0</td>\n",
       "      <td>0.0</td>\n",
       "      <td>0.0</td>\n",
       "      <td>0.0</td>\n",
       "      <td>1.0</td>\n",
       "      <td>0.391304</td>\n",
       "      <td>0.130435</td>\n",
       "      <td>0.217391</td>\n",
       "      <td>0.130435</td>\n",
       "      <td>0.043478</td>\n",
       "      <td>0.086957</td>\n",
       "      <td>2</td>\n",
       "    </tr>\n",
       "    <tr>\n",
       "      <th>18334</th>\n",
       "      <td>2.0</td>\n",
       "      <td>0.065025</td>\n",
       "      <td>0.021385</td>\n",
       "      <td>0.0</td>\n",
       "      <td>0.000015</td>\n",
       "      <td>0.881692</td>\n",
       "      <td>0.0</td>\n",
       "      <td>0.0</td>\n",
       "      <td>0.0</td>\n",
       "      <td>1.0</td>\n",
       "      <td>0.0</td>\n",
       "      <td>0.333333</td>\n",
       "      <td>0.333333</td>\n",
       "      <td>0.333333</td>\n",
       "      <td>0.000000</td>\n",
       "      <td>0.000000</td>\n",
       "      <td>0.000000</td>\n",
       "      <td>2</td>\n",
       "    </tr>\n",
       "  </tbody>\n",
       "</table>\n",
       "</div>"
      ],
      "text/plain": [
       "       mode  duration  distance_m  weekday    precip      temp  morning  \\\n",
       "36434   2.0  0.254897    0.018511      1.0  0.000697  0.307329      1.0   \n",
       "54230   0.0  0.107228    0.004985      0.0  0.344161  0.672741      0.0   \n",
       "33264   1.0  0.159594    0.019566      1.0  0.242414  0.650088      0.0   \n",
       "4111    0.0  0.122251    0.006015      1.0  0.081366  0.585484      0.0   \n",
       "18334   2.0  0.065025    0.021385      0.0  0.000015  0.881692      0.0   \n",
       "\n",
       "       midday  afternoon  evening  midnight  p_nearby_leisure  p_nearby_food  \\\n",
       "36434     0.0        0.0      0.0       0.0          0.087653       0.149576   \n",
       "54230     0.0        0.0      0.0       0.0          0.058899       0.058899   \n",
       "33264     0.0        0.0      0.0       1.0          0.221843       0.189954   \n",
       "4111      0.0        0.0      0.0       1.0          0.391304       0.130435   \n",
       "18334     0.0        0.0      1.0       0.0          0.333333       0.333333   \n",
       "\n",
       "       p_nearby_shops  p_nearby_pickup  p_nearby_education  p_nearby_health  \\\n",
       "36434        0.693496         0.000000            0.043733         0.025542   \n",
       "54230        0.657970         0.044174            0.014725         0.165333   \n",
       "33264        0.422427         0.061382            0.066697         0.037696   \n",
       "4111         0.217391         0.130435            0.043478         0.086957   \n",
       "18334        0.333333         0.000000            0.000000         0.000000   \n",
       "\n",
       "       purpose  \n",
       "36434        1  \n",
       "54230        5  \n",
       "33264        1  \n",
       "4111         2  \n",
       "18334        2  "
      ]
     },
     "execution_count": 90,
     "metadata": {},
     "output_type": "execute_result"
    }
   ],
   "source": [
    "all_train.head()"
   ]
  },
  {
   "cell_type": "code",
   "execution_count": 91,
   "metadata": {},
   "outputs": [],
   "source": [
    "oversampled_y_train = all_train['purpose']\n",
    "oversampled_X_train = all_train.drop('purpose',axis=1)\n",
    "\n",
    "## flatten data i.e. from Pd.Series to np.array\n",
    "oversampled_y_train = np.ravel(oversampled_y_train)"
   ]
  },
  {
   "cell_type": "code",
   "execution_count": 92,
   "metadata": {},
   "outputs": [
    {
     "name": "stdout",
     "output_type": "stream",
     "text": [
      "Random Forest Classifcation accuracy: 0.48660575548511403\n",
      "CPU times: user 19.4 s, sys: 198 ms, total: 19.6 s\n",
      "Wall time: 19.7 s\n"
     ]
    }
   ],
   "source": [
    "%%time\n",
    "over_rf_clf, over_rf_score, over_rf_preds = run_rf(oversampled_X_train, X_test, oversampled_y_train, y_test)"
   ]
  },
  {
   "cell_type": "code",
   "execution_count": 93,
   "metadata": {},
   "outputs": [
    {
     "name": "stdout",
     "output_type": "stream",
     "text": [
      "predictions for each class by RF: Counter({0: 5780, 2: 4253, 1: 2506, 4: 1531, 5: 1062, 3: 957}) \n",
      "\n",
      "              precision    recall  f1-score   support\n",
      "\n",
      "           0       0.53      0.60      0.56      5108\n",
      "           1       0.39      0.34      0.36      2807\n",
      "           2       0.53      0.51      0.52      4424\n",
      "           3       0.29      0.22      0.25      1271\n",
      "           4       0.60      0.63      0.62      1464\n",
      "           5       0.32      0.34      0.33      1015\n",
      "\n",
      "    accuracy                           0.49     16089\n",
      "   macro avg       0.44      0.44      0.44     16089\n",
      "weighted avg       0.48      0.49      0.48     16089\n",
      "\n"
     ]
    }
   ],
   "source": [
    "print('predictions for each class by RF:', collections.Counter(over_rf_preds), '\\n')\n",
    "# {'leisure': 0, 'food_drink': 1, 'shops': 2,\n",
    "# 'pick_up_drop_off': 3, 'education': 4, 'health': 5}\n",
    "print(sklearn.metrics.classification_report(y_test, over_rf_preds))"
   ]
  },
  {
   "cell_type": "code",
   "execution_count": 94,
   "metadata": {
    "scrolled": true
   },
   "outputs": [],
   "source": [
    "a = pd.concat([pd.DataFrame(oversampled_y_train, columns=['purpose']), \\\n",
    "                                pd.DataFrame(y_test, columns=['purpose'])]).reset_index()"
   ]
  },
  {
   "cell_type": "code",
   "execution_count": 95,
   "metadata": {},
   "outputs": [],
   "source": [
    "b = pd.concat([oversampled_X_train,X_test]).reset_index()"
   ]
  },
  {
   "cell_type": "code",
   "execution_count": 96,
   "metadata": {},
   "outputs": [],
   "source": [
    "shuffled_X, shuffled_y = shuffle_data(a,b)"
   ]
  },
  {
   "cell_type": "code",
   "execution_count": 97,
   "metadata": {},
   "outputs": [],
   "source": [
    "rf_cv_scores = sklearn.model_selection.cross_val_score(rf_clf,shuffled_X, np.ravel(shuffled_y), cv=5)"
   ]
  },
  {
   "cell_type": "code",
   "execution_count": 98,
   "metadata": {},
   "outputs": [
    {
     "data": {
      "text/plain": [
       "array([0.69620172, 0.6936287 , 0.69214071, 0.69761205, 0.69810357])"
      ]
     },
     "execution_count": 98,
     "metadata": {},
     "output_type": "execute_result"
    }
   ],
   "source": [
    "rf_cv_scores"
   ]
  },
  {
   "cell_type": "markdown",
   "metadata": {},
   "source": [
    "# under-sampling"
   ]
  },
  {
   "cell_type": "code",
   "execution_count": 99,
   "metadata": {},
   "outputs": [],
   "source": [
    "rus = RandomUnderSampler(random_state=0)"
   ]
  },
  {
   "cell_type": "code",
   "execution_count": 100,
   "metadata": {},
   "outputs": [],
   "source": [
    "undersampled_X_train, undersampled_y_train = rus.fit_resample(X_train_with_ID, y_train)"
   ]
  },
  {
   "cell_type": "code",
   "execution_count": 101,
   "metadata": {},
   "outputs": [
    {
     "data": {
      "text/plain": [
       "array([[4.14767000e+05, 3.00000000e+00, 3.88084946e-02, ...,\n",
       "        3.09278351e-02, 3.09278351e-02, 3.09278351e-02],\n",
       "       [1.05433000e+05, 3.00000000e+00, 1.62187559e-01, ...,\n",
       "        9.09090909e-02, 0.00000000e+00, 9.09090909e-02],\n",
       "       [9.64800000e+04, 0.00000000e+00, 1.03364029e-02, ...,\n",
       "        7.93650794e-03, 3.17460317e-02, 7.93650794e-03],\n",
       "       ...,\n",
       "       [2.43224600e+06, 2.00000000e+00, 1.77598196e-02, ...,\n",
       "        1.70212766e-01, 8.51063830e-02, 4.25531915e-02],\n",
       "       [2.01502500e+06, 3.00000000e+00, 1.19996241e-01, ...,\n",
       "        0.00000000e+00, 7.69230769e-02, 7.69230769e-02],\n",
       "       [3.46492100e+06, 2.00000000e+00, 9.94174027e-02, ...,\n",
       "        0.00000000e+00, 0.00000000e+00, 5.00000000e-01]])"
      ]
     },
     "execution_count": 101,
     "metadata": {},
     "output_type": "execute_result"
    }
   ],
   "source": [
    "undersampled_X_train"
   ]
  },
  {
   "cell_type": "code",
   "execution_count": 102,
   "metadata": {},
   "outputs": [],
   "source": [
    "undersampled_X_train = pd.DataFrame(undersampled_X_train, columns=X_train_with_ID.columns)"
   ]
  },
  {
   "cell_type": "code",
   "execution_count": 103,
   "metadata": {},
   "outputs": [],
   "source": [
    "undersampled_training_ids = undersampled_X_train['id_trip']"
   ]
  },
  {
   "cell_type": "code",
   "execution_count": 104,
   "metadata": {},
   "outputs": [],
   "source": [
    "undersampled_X_train.drop('id_trip',axis=1,inplace=True)"
   ]
  },
  {
   "cell_type": "code",
   "execution_count": 105,
   "metadata": {},
   "outputs": [
    {
     "name": "stdout",
     "output_type": "stream",
     "text": [
      "Random Forest Classifcation accuracy: 0.43240723475666604\n",
      "CPU times: user 4.04 s, sys: 101 ms, total: 4.14 s\n",
      "Wall time: 4.3 s\n"
     ]
    }
   ],
   "source": [
    "%%time\n",
    "under_rf_clf, under_rf_score, under_rf_preds = run_rf(undersampled_X_train, X_test,\\\n",
    "                                                                      undersampled_y_train, y_test)"
   ]
  },
  {
   "cell_type": "code",
   "execution_count": 106,
   "metadata": {},
   "outputs": [
    {
     "name": "stdout",
     "output_type": "stream",
     "text": [
      "predictions for each class by RF: Counter({0: 3723, 2: 3603, 1: 2770, 3: 2180, 5: 1927, 4: 1886}) \n",
      "\n",
      "              precision    recall  f1-score   support\n",
      "\n",
      "           0       0.55      0.40      0.46      5108\n",
      "           1       0.36      0.35      0.36      2807\n",
      "           2       0.54      0.44      0.49      4424\n",
      "           3       0.22      0.38      0.28      1271\n",
      "           4       0.53      0.68      0.59      1464\n",
      "           5       0.25      0.47      0.32      1015\n",
      "\n",
      "    accuracy                           0.43     16089\n",
      "   macro avg       0.41      0.45      0.42     16089\n",
      "weighted avg       0.47      0.43      0.44     16089\n",
      "\n"
     ]
    }
   ],
   "source": [
    "print('predictions for each class by RF:', collections.Counter(under_rf_preds), '\\n')\n",
    "# {'leisure': 0, 'food_drink': 1, 'shops': 2,\n",
    "# 'pick_up_drop_off': 3, 'education': 4, 'health': 5}\n",
    "print(sklearn.metrics.classification_report(y_test, under_rf_preds))"
   ]
  },
  {
   "cell_type": "markdown",
   "metadata": {},
   "source": [
    "## Problems:\n",
    "1. oversampling doesn't know to estimate one binary for morning, afternoon etc.\n",
    "2. oversampling will affect p_nearby"
   ]
  },
  {
   "cell_type": "code",
   "execution_count": 107,
   "metadata": {},
   "outputs": [],
   "source": [
    "# fin"
   ]
  }
 ],
 "metadata": {
  "kernelspec": {
   "display_name": "Python 3",
   "language": "python",
   "name": "python3"
  },
  "language_info": {
   "codemirror_mode": {
    "name": "ipython",
    "version": 3
   },
   "file_extension": ".py",
   "mimetype": "text/x-python",
   "name": "python",
   "nbconvert_exporter": "python",
   "pygments_lexer": "ipython3",
   "version": "3.7.3"
  }
 },
 "nbformat": 4,
 "nbformat_minor": 2
}
