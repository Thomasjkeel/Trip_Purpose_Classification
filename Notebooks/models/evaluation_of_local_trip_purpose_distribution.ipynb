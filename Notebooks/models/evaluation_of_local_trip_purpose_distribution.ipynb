{
 "cells": [
  {
   "cell_type": "code",
   "execution_count": 1,
   "metadata": {},
   "outputs": [],
   "source": [
    "import geopandas as gpd\n",
    "import matplotlib.pyplot as plt\n",
    "from matplotlib.patches import Patch\n",
    "from matplotlib.lines import Line2D\n",
    "import pandas as pd\n",
    "import shapely\n",
    "import numpy as np\n",
    "import seaborn as sns\n",
    "import random\n",
    "\n",
    "\n",
    "%matplotlib inline"
   ]
  },
  {
   "cell_type": "markdown",
   "metadata": {},
   "source": [
    "## load in data"
   ]
  },
  {
   "cell_type": "code",
   "execution_count": 2,
   "metadata": {},
   "outputs": [],
   "source": [
    "all_17 = gpd.read_file('../../Data/mtl_trajet/mtl_trajet_2017_final.shp')"
   ]
  },
  {
   "cell_type": "code",
   "execution_count": 3,
   "metadata": {},
   "outputs": [],
   "source": [
    "# turn these new columns into datetime objects\n",
    "all_17['starttime'] = pd.to_datetime(all_17['starttime'])\n",
    "all_17['endtime'] = pd.to_datetime(all_17['endtime'])"
   ]
  },
  {
   "cell_type": "markdown",
   "metadata": {},
   "source": [
    "## calculate data for average nearby purpose proportions"
   ]
  },
  {
   "cell_type": "code",
   "execution_count": 4,
   "metadata": {},
   "outputs": [],
   "source": [
    "def calculate_average_nearby_purposes(data, purpose_type, buffer_size_m):\n",
    "    \"\"\"\n",
    "        function for calculating average nearby trip purposes based on a buffer size and a given purpos type\n",
    "    \"\"\"\n",
    "    data['geometry'] = data.apply(lambda row: shapely.geometry.Point(row['endx'],row['endy']),axis=1)\n",
    "    geo_data = gpd.GeoDataFrame(data,crs=\"EPSG:3347\")\n",
    "    # calculate X m buffers around each trip end point\n",
    "    geo_data['buffers'] = geo_data['geometry'].apply(lambda row: row.buffer(buffer_size_m))\n",
    "    # get a geo-dataframe with only the Trip ID,trip end buffer and trip purpose\n",
    "    only_buffers = geo_data.loc[geo_data.purpose == purpose_type][['id_trip','buffers']]\n",
    "    only_buffers = gpd.GeoDataFrame(only_buffers.rename(columns={'buffers':'geometry'}), crs=\"EPSG:3347\")\n",
    "    \n",
    "    joined_data = gpd.sjoin(only_buffers, geo_data, op='intersects', how='left')\n",
    "\n",
    "    ## drop duplicates (as each trip will fall within a buffer of itself)\n",
    "    to_drop = joined_data[['id_trip_left','id_trip_right']].apply(lambda row: True \\\n",
    "                                                                if row['id_trip_left'] == row['id_trip_right']\\\n",
    "                                                                else False, axis=1)\n",
    "    joined_data = joined_data[~to_drop]\n",
    "    \n",
    "    ## Compute the proportion of nearby purposes types for each trip/row\n",
    "    grouped_data = joined_data.groupby(['id_trip_left', 'purpose']).agg({'mode':'count'})\n",
    "    grouped_data = grouped_data.unstack().apply(lambda row: row/row.sum(),axis=1)['mode'].reset_index()*100\n",
    "    grouped_data = grouped_data.fillna(0.0)\n",
    "    return grouped_data[[0,1,2,3,4,5]].mean().values"
   ]
  },
  {
   "cell_type": "code",
   "execution_count": 5,
   "metadata": {
    "scrolled": true
   },
   "outputs": [
    {
     "name": "stdout",
     "output_type": "stream",
     "text": [
      "50 0\n",
      "50 1\n",
      "50 2\n",
      "50 3\n",
      "50 4\n",
      "50 5\n",
      "100 0\n",
      "100 1\n",
      "100 2\n",
      "100 3\n",
      "100 4\n",
      "100 5\n",
      "150 0\n",
      "150 1\n",
      "150 2\n",
      "150 3\n",
      "150 4\n",
      "150 5\n",
      "200 0\n",
      "200 1\n",
      "200 2\n",
      "200 3\n",
      "200 4\n",
      "200 5\n",
      "250 0\n",
      "250 1\n",
      "250 2\n",
      "250 3\n",
      "250 4\n",
      "250 5\n",
      "300 0\n",
      "300 1\n",
      "300 2\n",
      "300 3\n",
      "300 4\n",
      "300 5\n",
      "350 0\n",
      "350 1\n",
      "350 2\n",
      "350 3\n",
      "350 4\n",
      "350 5\n",
      "400 0\n",
      "400 1\n",
      "400 2\n",
      "400 3\n",
      "400 4\n",
      "400 5\n",
      "CPU times: user 6min 29s, sys: 3.34 s, total: 6min 33s\n",
      "Wall time: 6min 32s\n"
     ]
    }
   ],
   "source": [
    "%%time\n",
    "ALL_AVERAGE_NEARBY_PURPOSES = {}\n",
    "all_buffers = [50,100,150,200,250,300,350,400]\n",
    "all_purposes = [0,1,2,3,4,5]\n",
    "for buffer_size in all_buffers:\n",
    "    for pur in all_purposes:\n",
    "        print(buffer_size, pur)\n",
    "        vals = calculate_average_nearby_purposes(data=all_17, purpose_type=pur, buffer_size_m=buffer_size)\n",
    "        ALL_AVERAGE_NEARBY_PURPOSES[str(pur)+str(buffer_size)] = vals.tolist()"
   ]
  },
  {
   "cell_type": "code",
   "execution_count": 6,
   "metadata": {},
   "outputs": [],
   "source": [
    "all_av_np_df = pd.DataFrame.from_dict(ALL_AVERAGE_NEARBY_PURPOSES)"
   ]
  },
  {
   "cell_type": "code",
   "execution_count": 7,
   "metadata": {},
   "outputs": [
    {
     "data": {
      "text/html": [
       "<div>\n",
       "<style scoped>\n",
       "    .dataframe tbody tr th:only-of-type {\n",
       "        vertical-align: middle;\n",
       "    }\n",
       "\n",
       "    .dataframe tbody tr th {\n",
       "        vertical-align: top;\n",
       "    }\n",
       "\n",
       "    .dataframe thead th {\n",
       "        text-align: right;\n",
       "    }\n",
       "</style>\n",
       "<table border=\"1\" class=\"dataframe\">\n",
       "  <thead>\n",
       "    <tr style=\"text-align: right;\">\n",
       "      <th></th>\n",
       "      <th>050</th>\n",
       "      <th>150</th>\n",
       "      <th>250</th>\n",
       "      <th>350</th>\n",
       "      <th>450</th>\n",
       "      <th>550</th>\n",
       "      <th>0100</th>\n",
       "      <th>1100</th>\n",
       "      <th>2100</th>\n",
       "      <th>3100</th>\n",
       "      <th>...</th>\n",
       "      <th>2350</th>\n",
       "      <th>3350</th>\n",
       "      <th>4350</th>\n",
       "      <th>5350</th>\n",
       "      <th>0400</th>\n",
       "      <th>1400</th>\n",
       "      <th>2400</th>\n",
       "      <th>3400</th>\n",
       "      <th>4400</th>\n",
       "      <th>5400</th>\n",
       "    </tr>\n",
       "  </thead>\n",
       "  <tbody>\n",
       "    <tr>\n",
       "      <th>0</th>\n",
       "      <td>48.427927</td>\n",
       "      <td>31.976453</td>\n",
       "      <td>25.999223</td>\n",
       "      <td>29.519332</td>\n",
       "      <td>17.862159</td>\n",
       "      <td>30.593658</td>\n",
       "      <td>46.547046</td>\n",
       "      <td>32.201711</td>\n",
       "      <td>27.333097</td>\n",
       "      <td>30.993885</td>\n",
       "      <td>...</td>\n",
       "      <td>29.560636</td>\n",
       "      <td>33.800409</td>\n",
       "      <td>25.035613</td>\n",
       "      <td>32.585115</td>\n",
       "      <td>41.469795</td>\n",
       "      <td>33.198026</td>\n",
       "      <td>29.832844</td>\n",
       "      <td>33.975181</td>\n",
       "      <td>25.871792</td>\n",
       "      <td>32.818193</td>\n",
       "    </tr>\n",
       "    <tr>\n",
       "      <th>1</th>\n",
       "      <td>11.879590</td>\n",
       "      <td>22.942372</td>\n",
       "      <td>11.944393</td>\n",
       "      <td>9.249496</td>\n",
       "      <td>6.950745</td>\n",
       "      <td>10.359029</td>\n",
       "      <td>11.798634</td>\n",
       "      <td>21.010574</td>\n",
       "      <td>12.326725</td>\n",
       "      <td>9.339247</td>\n",
       "      <td>...</td>\n",
       "      <td>12.331573</td>\n",
       "      <td>10.308804</td>\n",
       "      <td>9.546457</td>\n",
       "      <td>10.942109</td>\n",
       "      <td>11.763534</td>\n",
       "      <td>16.213800</td>\n",
       "      <td>12.295405</td>\n",
       "      <td>10.526266</td>\n",
       "      <td>9.680070</td>\n",
       "      <td>11.129491</td>\n",
       "    </tr>\n",
       "    <tr>\n",
       "      <th>2</th>\n",
       "      <td>25.147585</td>\n",
       "      <td>31.141592</td>\n",
       "      <td>50.728337</td>\n",
       "      <td>22.966770</td>\n",
       "      <td>11.584660</td>\n",
       "      <td>27.586944</td>\n",
       "      <td>26.127283</td>\n",
       "      <td>32.406382</td>\n",
       "      <td>48.267984</td>\n",
       "      <td>24.095995</td>\n",
       "      <td>...</td>\n",
       "      <td>43.266828</td>\n",
       "      <td>28.718998</td>\n",
       "      <td>17.311116</td>\n",
       "      <td>29.692269</td>\n",
       "      <td>28.603078</td>\n",
       "      <td>33.053068</td>\n",
       "      <td>42.631911</td>\n",
       "      <td>29.176692</td>\n",
       "      <td>18.222387</td>\n",
       "      <td>30.072047</td>\n",
       "    </tr>\n",
       "    <tr>\n",
       "      <th>3</th>\n",
       "      <td>4.824992</td>\n",
       "      <td>4.066019</td>\n",
       "      <td>3.850639</td>\n",
       "      <td>27.598415</td>\n",
       "      <td>3.173349</td>\n",
       "      <td>5.544743</td>\n",
       "      <td>5.223635</td>\n",
       "      <td>4.236587</td>\n",
       "      <td>4.208431</td>\n",
       "      <td>24.238573</td>\n",
       "      <td>...</td>\n",
       "      <td>5.207211</td>\n",
       "      <td>15.216531</td>\n",
       "      <td>3.995964</td>\n",
       "      <td>6.368295</td>\n",
       "      <td>5.911416</td>\n",
       "      <td>5.110296</td>\n",
       "      <td>5.309205</td>\n",
       "      <td>14.565024</td>\n",
       "      <td>3.972361</td>\n",
       "      <td>6.308567</td>\n",
       "    </tr>\n",
       "    <tr>\n",
       "      <th>4</th>\n",
       "      <td>6.159312</td>\n",
       "      <td>6.568410</td>\n",
       "      <td>4.138868</td>\n",
       "      <td>6.717411</td>\n",
       "      <td>58.079159</td>\n",
       "      <td>7.123349</td>\n",
       "      <td>6.676328</td>\n",
       "      <td>6.746397</td>\n",
       "      <td>4.475387</td>\n",
       "      <td>6.894227</td>\n",
       "      <td>...</td>\n",
       "      <td>5.983926</td>\n",
       "      <td>7.485606</td>\n",
       "      <td>41.039431</td>\n",
       "      <td>8.763830</td>\n",
       "      <td>8.395022</td>\n",
       "      <td>8.847594</td>\n",
       "      <td>6.259695</td>\n",
       "      <td>7.357384</td>\n",
       "      <td>39.194726</td>\n",
       "      <td>8.839120</td>\n",
       "    </tr>\n",
       "    <tr>\n",
       "      <th>5</th>\n",
       "      <td>3.560593</td>\n",
       "      <td>3.305155</td>\n",
       "      <td>3.338540</td>\n",
       "      <td>3.948576</td>\n",
       "      <td>2.349929</td>\n",
       "      <td>18.792277</td>\n",
       "      <td>3.627074</td>\n",
       "      <td>3.398350</td>\n",
       "      <td>3.388376</td>\n",
       "      <td>4.438072</td>\n",
       "      <td>...</td>\n",
       "      <td>3.649826</td>\n",
       "      <td>4.469652</td>\n",
       "      <td>3.071419</td>\n",
       "      <td>11.648382</td>\n",
       "      <td>3.857155</td>\n",
       "      <td>3.577214</td>\n",
       "      <td>3.670940</td>\n",
       "      <td>4.399454</td>\n",
       "      <td>3.058665</td>\n",
       "      <td>10.832582</td>\n",
       "    </tr>\n",
       "  </tbody>\n",
       "</table>\n",
       "<p>6 rows × 48 columns</p>\n",
       "</div>"
      ],
      "text/plain": [
       "         050        150        250        350        450        550  \\\n",
       "0  48.427927  31.976453  25.999223  29.519332  17.862159  30.593658   \n",
       "1  11.879590  22.942372  11.944393   9.249496   6.950745  10.359029   \n",
       "2  25.147585  31.141592  50.728337  22.966770  11.584660  27.586944   \n",
       "3   4.824992   4.066019   3.850639  27.598415   3.173349   5.544743   \n",
       "4   6.159312   6.568410   4.138868   6.717411  58.079159   7.123349   \n",
       "5   3.560593   3.305155   3.338540   3.948576   2.349929  18.792277   \n",
       "\n",
       "        0100       1100       2100       3100  ...       2350       3350  \\\n",
       "0  46.547046  32.201711  27.333097  30.993885  ...  29.560636  33.800409   \n",
       "1  11.798634  21.010574  12.326725   9.339247  ...  12.331573  10.308804   \n",
       "2  26.127283  32.406382  48.267984  24.095995  ...  43.266828  28.718998   \n",
       "3   5.223635   4.236587   4.208431  24.238573  ...   5.207211  15.216531   \n",
       "4   6.676328   6.746397   4.475387   6.894227  ...   5.983926   7.485606   \n",
       "5   3.627074   3.398350   3.388376   4.438072  ...   3.649826   4.469652   \n",
       "\n",
       "        4350       5350       0400       1400       2400       3400  \\\n",
       "0  25.035613  32.585115  41.469795  33.198026  29.832844  33.975181   \n",
       "1   9.546457  10.942109  11.763534  16.213800  12.295405  10.526266   \n",
       "2  17.311116  29.692269  28.603078  33.053068  42.631911  29.176692   \n",
       "3   3.995964   6.368295   5.911416   5.110296   5.309205  14.565024   \n",
       "4  41.039431   8.763830   8.395022   8.847594   6.259695   7.357384   \n",
       "5   3.071419  11.648382   3.857155   3.577214   3.670940   4.399454   \n",
       "\n",
       "        4400       5400  \n",
       "0  25.871792  32.818193  \n",
       "1   9.680070  11.129491  \n",
       "2  18.222387  30.072047  \n",
       "3   3.972361   6.308567  \n",
       "4  39.194726   8.839120  \n",
       "5   3.058665  10.832582  \n",
       "\n",
       "[6 rows x 48 columns]"
      ]
     },
     "execution_count": 7,
     "metadata": {},
     "output_type": "execute_result"
    }
   ],
   "source": [
    "# view data\n",
    "all_av_np_df"
   ]
  },
  {
   "cell_type": "code",
   "execution_count": 8,
   "metadata": {},
   "outputs": [],
   "source": [
    "## save data\n",
    "# pd.DataFrame.from_dict(ALL_AVERAGE_NEARBY_PURPOSES).to_csv('all_average_nearby_purposes.csv',index=False)"
   ]
  },
  {
   "cell_type": "markdown",
   "metadata": {},
   "source": [
    "## create visualisation"
   ]
  },
  {
   "cell_type": "code",
   "execution_count": 9,
   "metadata": {},
   "outputs": [],
   "source": [
    "def get_slice(data, pur, other_pur):\n",
    "#     other_pur = pur + num_away % 6\n",
    "    return all_av_np_df[str(other_pur)+'50'][pur], all_av_np_df[str(other_pur)+'100'][pur],\\\n",
    "            all_av_np_df[str(other_pur)+'150'][pur],all_av_np_df[str(other_pur)+'200'][pur],\\\n",
    "            all_av_np_df[str(other_pur)+'250'][pur],all_av_np_df[str(other_pur)+'300'][pur],\\\n",
    "            all_av_np_df[str(other_pur)+'350'][pur],all_av_np_df[str(other_pur)+'400'][pur]\n"
   ]
  },
  {
   "cell_type": "code",
   "execution_count": 10,
   "metadata": {},
   "outputs": [
    {
     "data": {
      "text/plain": [
       "(48.42792734036415,\n",
       " 46.54704623759209,\n",
       " 45.672667291151015,\n",
       " 44.71892843448574,\n",
       " 43.63333387439377,\n",
       " 42.71957570428986,\n",
       " 41.98450910708149,\n",
       " 41.46979483319099)"
      ]
     },
     "execution_count": 10,
     "metadata": {},
     "output_type": "execute_result"
    }
   ],
   "source": [
    "# test get slice function\n",
    "get_slice(all_av_np_df, 0, 0)"
   ]
  },
  {
   "cell_type": "code",
   "execution_count": 11,
   "metadata": {},
   "outputs": [],
   "source": [
    "def create_x_coords(start_val, number_vals):\n",
    "    coords = []\n",
    "    current_val = start_val\n",
    "    for i in range(number_vals):\n",
    "        coords.append(current_val)\n",
    "        current_val += 0.5\n",
    "    return coords"
   ]
  },
  {
   "cell_type": "markdown",
   "metadata": {},
   "source": [
    "# Visualize!"
   ]
  },
  {
   "cell_type": "code",
   "execution_count": 12,
   "metadata": {},
   "outputs": [],
   "source": [
    "x_ticks = []\n",
    "\n",
    "for num in np.arange(0,30, 5):\n",
    "    x_ticks.extend(create_x_coords(start_val=num, number_vals=8))"
   ]
  },
  {
   "cell_type": "code",
   "execution_count": 13,
   "metadata": {},
   "outputs": [
    {
     "data": {
      "text/plain": [
       "<matplotlib.legend.Legend at 0x7efc8b34c850>"
      ]
     },
     "execution_count": 13,
     "metadata": {},
     "output_type": "execute_result"
    },
    {
     "data": {
      "image/png": "[encoded data removed]",
      "text/plain": [
       "<Figure size 1080x360 with 1 Axes>"
      ]
     },
     "metadata": {},
     "output_type": "display_data"
    }
   ],
   "source": [
    "sns.set_style('white')\n",
    "fig, ax = plt.subplots(1, figsize=(15,5))\n",
    "# markers = ['$L$','$S$','$C$','$P$','$E$','$H$']\n",
    "LONG_NAMES = ['Leisure','Food','Shopping','Pick-up','Education','Health']\n",
    "COLOURBLIND_PALETTE = [\"#7b85d4\",\"#f37738\",\"#83c995\",\"#d7369e\",\"#c4c9d8\",\"#859795\",\"#e9d043\",\"#ad5b50\", \"#ffa07a\", \"k\"]\n",
    "# markers = ['o','v','*','s','P','D']\n",
    "# for i in range(6):\n",
    "#     ax.scatter(*create_x_y(), marker=markers[i], c=COLOURBLIND_PALETTE[i],alpha=.75, s=100)\n",
    "for i in range(6):\n",
    "    ax.plot(create_x_coords(start_val=0, number_vals=8),get_slice(all_av_np_df, i, 0),\n",
    "           marker='s', markersize=4,c=COLOURBLIND_PALETTE[i])\n",
    "    ax.plot(create_x_coords(start_val=5, number_vals=8),get_slice(all_av_np_df, i, 1),\n",
    "           marker='s', markersize=4,c=COLOURBLIND_PALETTE[i])\n",
    "    ax.plot(create_x_coords(start_val=10, number_vals=8),get_slice(all_av_np_df, i, 2),\n",
    "           marker='s', markersize=4,c=COLOURBLIND_PALETTE[i])\n",
    "    ax.plot(create_x_coords(start_val=15, number_vals=8),get_slice(all_av_np_df, i, 3),\n",
    "           marker='s', markersize=4,c=COLOURBLIND_PALETTE[i])\n",
    "    ax.plot(create_x_coords(start_val=20, number_vals=8),get_slice(all_av_np_df, i, 4),\n",
    "           marker='s', markersize=4,c=COLOURBLIND_PALETTE[i])\n",
    "    ax.plot(create_x_coords(start_val=25, number_vals=8),get_slice(all_av_np_df, i, 5),\n",
    "           marker='o', markersize=4,c=COLOURBLIND_PALETTE[i])\n",
    "    \n",
    "legend_elements = [Line2D([0], [0], color=COLOURBLIND_PALETTE[i],marker='s', lw=2,) for i in range(len(COLOURBLIND_PALETTE))]\n",
    "\n",
    "plt.xlim(-0.5,30)\n",
    "plt.ylim(0,100)\n",
    "plt.xticks(x_ticks, ['<50 m','<100 m','<150 m', '<200 m','<250 m','<300 m','<350 m','<400 m']*6,fontsize=10, rotation=-90);\n",
    "plt.yticks(np.arange(0,101,10),size=14)\n",
    "plt.ylabel(\"Average percent of nearby trip purposes\", size=16)\n",
    "to_add = 5\n",
    "value = 0\n",
    "for i, nm in enumerate(LONG_NAMES):\n",
    "    plt.text(value+0.75,-30, nm, c=COLOURBLIND_PALETTE[i],size=18)\n",
    "    value+=to_add\n",
    "ax.grid(axis='y')\n",
    "ax.legend(legend_elements, LONG_NAMES,fontsize=16, loc='upper left', ncol=len(LONG_NAMES), fancybox=True)\n",
    "# plt.savefig('../../other/images/average_nearby_trip_purposes.tif',bbox_inches='tight', dpi = 300)"
   ]
  },
  {
   "cell_type": "code",
   "execution_count": 14,
   "metadata": {},
   "outputs": [],
   "source": [
    "??ax.legend"
   ]
  },
  {
   "cell_type": "code",
   "execution_count": null,
   "metadata": {},
   "outputs": [],
   "source": []
  },
  {
   "cell_type": "code",
   "execution_count": null,
   "metadata": {},
   "outputs": [],
   "source": []
  }
 ],
 "metadata": {
  "kernelspec": {
   "display_name": "Python 3",
   "language": "python",
   "name": "python3"
  },
  "language_info": {
   "codemirror_mode": {
    "name": "ipython",
    "version": 3
   },
   "file_extension": ".py",
   "mimetype": "text/x-python",
   "name": "python",
   "nbconvert_exporter": "python",
   "pygments_lexer": "ipython3",
   "version": "3.8.2"
  }
 },
 "nbformat": 4,
 "nbformat_minor": 2
}
