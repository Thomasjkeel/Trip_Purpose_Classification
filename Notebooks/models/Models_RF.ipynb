{
 "cells": [
  {
   "cell_type": "markdown",
   "metadata": {},
   "source": [
    "Trip Purpose Estimation"
   ]
  },
  {
   "cell_type": "markdown",
   "metadata": {},
   "source": [
    "# Loading packages"
   ]
  },
  {
   "cell_type": "code",
   "execution_count": 1,
   "metadata": {
    "scrolled": true
   },
   "outputs": [
    {
     "name": "stderr",
     "output_type": "stream",
     "text": [
      "Using TensorFlow backend.\n",
      "/Applications/anaconda/envs/st-ds/lib/python3.7/site-packages/tensorflow/python/framework/dtypes.py:516: FutureWarning: Passing (type, 1) or '1type' as a synonym of type is deprecated; in a future version of numpy, it will be understood as (type, (1,)) / '(1,)type'.\n",
      "  _np_qint8 = np.dtype([(\"qint8\", np.int8, 1)])\n",
      "/Applications/anaconda/envs/st-ds/lib/python3.7/site-packages/tensorflow/python/framework/dtypes.py:517: FutureWarning: Passing (type, 1) or '1type' as a synonym of type is deprecated; in a future version of numpy, it will be understood as (type, (1,)) / '(1,)type'.\n",
      "  _np_quint8 = np.dtype([(\"quint8\", np.uint8, 1)])\n",
      "/Applications/anaconda/envs/st-ds/lib/python3.7/site-packages/tensorflow/python/framework/dtypes.py:518: FutureWarning: Passing (type, 1) or '1type' as a synonym of type is deprecated; in a future version of numpy, it will be understood as (type, (1,)) / '(1,)type'.\n",
      "  _np_qint16 = np.dtype([(\"qint16\", np.int16, 1)])\n",
      "/Applications/anaconda/envs/st-ds/lib/python3.7/site-packages/tensorflow/python/framework/dtypes.py:519: FutureWarning: Passing (type, 1) or '1type' as a synonym of type is deprecated; in a future version of numpy, it will be understood as (type, (1,)) / '(1,)type'.\n",
      "  _np_quint16 = np.dtype([(\"quint16\", np.uint16, 1)])\n",
      "/Applications/anaconda/envs/st-ds/lib/python3.7/site-packages/tensorflow/python/framework/dtypes.py:520: FutureWarning: Passing (type, 1) or '1type' as a synonym of type is deprecated; in a future version of numpy, it will be understood as (type, (1,)) / '(1,)type'.\n",
      "  _np_qint32 = np.dtype([(\"qint32\", np.int32, 1)])\n",
      "/Applications/anaconda/envs/st-ds/lib/python3.7/site-packages/tensorflow/python/framework/dtypes.py:525: FutureWarning: Passing (type, 1) or '1type' as a synonym of type is deprecated; in a future version of numpy, it will be understood as (type, (1,)) / '(1,)type'.\n",
      "  np_resource = np.dtype([(\"resource\", np.ubyte, 1)])\n",
      "/Applications/anaconda/envs/st-ds/lib/python3.7/site-packages/tensorboard/compat/tensorflow_stub/dtypes.py:541: FutureWarning: Passing (type, 1) or '1type' as a synonym of type is deprecated; in a future version of numpy, it will be understood as (type, (1,)) / '(1,)type'.\n",
      "  _np_qint8 = np.dtype([(\"qint8\", np.int8, 1)])\n",
      "/Applications/anaconda/envs/st-ds/lib/python3.7/site-packages/tensorboard/compat/tensorflow_stub/dtypes.py:542: FutureWarning: Passing (type, 1) or '1type' as a synonym of type is deprecated; in a future version of numpy, it will be understood as (type, (1,)) / '(1,)type'.\n",
      "  _np_quint8 = np.dtype([(\"quint8\", np.uint8, 1)])\n",
      "/Applications/anaconda/envs/st-ds/lib/python3.7/site-packages/tensorboard/compat/tensorflow_stub/dtypes.py:543: FutureWarning: Passing (type, 1) or '1type' as a synonym of type is deprecated; in a future version of numpy, it will be understood as (type, (1,)) / '(1,)type'.\n",
      "  _np_qint16 = np.dtype([(\"qint16\", np.int16, 1)])\n",
      "/Applications/anaconda/envs/st-ds/lib/python3.7/site-packages/tensorboard/compat/tensorflow_stub/dtypes.py:544: FutureWarning: Passing (type, 1) or '1type' as a synonym of type is deprecated; in a future version of numpy, it will be understood as (type, (1,)) / '(1,)type'.\n",
      "  _np_quint16 = np.dtype([(\"quint16\", np.uint16, 1)])\n",
      "/Applications/anaconda/envs/st-ds/lib/python3.7/site-packages/tensorboard/compat/tensorflow_stub/dtypes.py:545: FutureWarning: Passing (type, 1) or '1type' as a synonym of type is deprecated; in a future version of numpy, it will be understood as (type, (1,)) / '(1,)type'.\n",
      "  _np_qint32 = np.dtype([(\"qint32\", np.int32, 1)])\n",
      "/Applications/anaconda/envs/st-ds/lib/python3.7/site-packages/tensorboard/compat/tensorflow_stub/dtypes.py:550: FutureWarning: Passing (type, 1) or '1type' as a synonym of type is deprecated; in a future version of numpy, it will be understood as (type, (1,)) / '(1,)type'.\n",
      "  np_resource = np.dtype([(\"resource\", np.ubyte, 1)])\n"
     ]
    }
   ],
   "source": [
    "import pandas as pd\n",
    "import geopandas as gpd\n",
    "import shapely\n",
    "import matplotlib.pyplot as plt\n",
    "import numpy as np\n",
    "import seaborn as sns\n",
    "import collections\n",
    "import sklearn\n",
    "import sklearn.preprocessing\n",
    "import sklearn.model_selection\n",
    "import sklearn.ensemble\n",
    "import rfpimp\n",
    "from sklearn.feature_selection import SelectFromModel\n",
    "import random\n",
    "import datetime\n",
    "\n",
    "# oversampling\n",
    "from imblearn.over_sampling import SMOTENC\n",
    "from imblearn.under_sampling import RandomUnderSampler\n",
    "\n",
    "%matplotlib inline"
   ]
  },
  {
   "cell_type": "markdown",
   "metadata": {},
   "source": [
    "# Loading data"
   ]
  },
  {
   "cell_type": "markdown",
   "metadata": {},
   "source": [
    "The data should contain the nearby POI information from the Google Place API. \n",
    "\n",
    "`Preprocessing is needed`\n",
    "\n",
    "Consider using the POI types from the paper by Emagun et al."
   ]
  },
  {
   "cell_type": "code",
   "execution_count": 2,
   "metadata": {},
   "outputs": [],
   "source": [
    "X_16 = pd.read_csv('../../Data/model_inputs/gdf_2016_X.csv')\n",
    "y_16 = pd.read_csv('../../Data/model_inputs/gdf_2016_y.csv')\n",
    "X_17 = pd.read_csv('../../Data/model_inputs/gdf_2017_X.csv')\n",
    "y_17 = pd.read_csv('../../Data/model_inputs/gdf_2017_y.csv')"
   ]
  },
  {
   "cell_type": "code",
   "execution_count": 3,
   "metadata": {},
   "outputs": [],
   "source": [
    "X_all = X_17#pd.concat([X_16, X_17],axis=0)\n",
    "y_all = y_17#pd.concat([y_16, y_17],axis=0)"
   ]
  },
  {
   "cell_type": "markdown",
   "metadata": {},
   "source": [
    "The encoding of **purpose** and **mode** is as follows. Note that the trips of home and work have been removed.\n",
    "\n",
    "- purpose: {'leisure': 0, 'food_drink': 1, 'shops': 2, 'pick_up_drop_off': 3, 'education': 4, 'health': 5}\n",
    "- mode: {'walking': 0, 'public_transport': 1, 'car': 2, 'cycling': 3, 'public_transport, car': 4, 'other': 5}"
   ]
  },
  {
   "cell_type": "code",
   "execution_count": 4,
   "metadata": {},
   "outputs": [
    {
     "data": {
      "text/plain": [
       "2    9906\n",
       "0    5913\n",
       "3    3514\n",
       "1    3380\n",
       "4     175\n",
       "5      60\n",
       "Name: mode, dtype: int64"
      ]
     },
     "execution_count": 4,
     "metadata": {},
     "output_type": "execute_result"
    }
   ],
   "source": [
    "X_all['mode'].value_counts()"
   ]
  },
  {
   "cell_type": "code",
   "execution_count": 5,
   "metadata": {},
   "outputs": [
    {
     "data": {
      "text/plain": [
       "Index(['id_trip', 'mode', 'duration', 'distance_m', 'weekday', 'precip',\n",
       "       'temp', 'morning', 'midday', 'afternoon', 'evening', 'midnight',\n",
       "       'startx', 'starty', 'endx', 'endy'],\n",
       "      dtype='object')"
      ]
     },
     "execution_count": 5,
     "metadata": {},
     "output_type": "execute_result"
    }
   ],
   "source": [
    "X_all.columns"
   ]
  },
  {
   "cell_type": "markdown",
   "metadata": {},
   "source": [
    "The meaning of X variables is shown below.\n",
    "\n",
    "| Variable | Meaning | Unit |\n",
    "|:-------- | :-------- | :---- |\n",
    "| id_trip | Unique ID | NA |\n",
    "| mode | Trip mode | {'walking': 0, 'public_transport': 1, 'car': 2, 'cycling': 3, 'public_transport, car': 4, 'other': 5} |\n",
    "| duration | Trip duration | Second |\n",
    "| distance_m | Euclidean trip distance calculated from nodes along a Shapely LineString object | Metre |\n",
    "| weekday | Whether this trip occurs in a weekday (Monday to Friday) | {1:True, 0:False} |\n",
    "| precip | Total precipitation within a given hour on a given date | mm |\n",
    "| temp | Average Temperature within a given hour on a given date | Celcius |\n",
    "| morning | Whether this trip occurs in the morning time 0600-1059 | {1:True, 0:False} |\n",
    "| afternoon | Whether this trip occurs in the afternoon time 1100-1359 | {1:True, 0:False} |\n",
    "| evening | Whether this trip occurs in the evening time 1700-2159 | {1:True, 0:False} |\n",
    "| midnight | Whether this trip occurs in the midnight time 2200-0559 | {1:True, 0:False} |\n",
    "| startx | The x coordinate of the starting point in the TBC reference system | Metre |\n",
    "| starty | The y coordinate of the starting point in the TBC reference system | Metre |\n",
    "| endx | The x coordinate of the ending point in the TBC reference system | Metre |\n",
    "| endy | The y coordinate of the ending point in the TBC reference system | Metre |"
   ]
  },
  {
   "cell_type": "code",
   "execution_count": 6,
   "metadata": {},
   "outputs": [],
   "source": [
    "# replace False and True with 0 and 1, respectively\n",
    "X_all = X_all.replace({True: 1, False: 0})"
   ]
  },
  {
   "cell_type": "code",
   "execution_count": 7,
   "metadata": {},
   "outputs": [
    {
     "data": {
      "text/html": [
       "<div>\n",
       "<style scoped>\n",
       "    .dataframe tbody tr th:only-of-type {\n",
       "        vertical-align: middle;\n",
       "    }\n",
       "\n",
       "    .dataframe tbody tr th {\n",
       "        vertical-align: top;\n",
       "    }\n",
       "\n",
       "    .dataframe thead th {\n",
       "        text-align: right;\n",
       "    }\n",
       "</style>\n",
       "<table border=\"1\" class=\"dataframe\">\n",
       "  <thead>\n",
       "    <tr style=\"text-align: right;\">\n",
       "      <th></th>\n",
       "      <th>id_trip</th>\n",
       "      <th>mode</th>\n",
       "      <th>duration</th>\n",
       "      <th>distance_m</th>\n",
       "      <th>weekday</th>\n",
       "      <th>precip</th>\n",
       "      <th>temp</th>\n",
       "      <th>morning</th>\n",
       "      <th>midday</th>\n",
       "      <th>afternoon</th>\n",
       "      <th>evening</th>\n",
       "      <th>midnight</th>\n",
       "      <th>startx</th>\n",
       "      <th>starty</th>\n",
       "      <th>endx</th>\n",
       "      <th>endy</th>\n",
       "    </tr>\n",
       "  </thead>\n",
       "  <tbody>\n",
       "    <tr>\n",
       "      <th>0</th>\n",
       "      <td>150744</td>\n",
       "      <td>2</td>\n",
       "      <td>862</td>\n",
       "      <td>9935.922336</td>\n",
       "      <td>1</td>\n",
       "      <td>0.000000e+00</td>\n",
       "      <td>16.910884</td>\n",
       "      <td>1</td>\n",
       "      <td>0</td>\n",
       "      <td>0</td>\n",
       "      <td>0</td>\n",
       "      <td>0</td>\n",
       "      <td>7.624322e+06</td>\n",
       "      <td>1.247673e+06</td>\n",
       "      <td>7.631864e+06</td>\n",
       "      <td>1.250415e+06</td>\n",
       "    </tr>\n",
       "    <tr>\n",
       "      <th>1</th>\n",
       "      <td>35763</td>\n",
       "      <td>2</td>\n",
       "      <td>1873</td>\n",
       "      <td>6832.113937</td>\n",
       "      <td>1</td>\n",
       "      <td>9.972328e-07</td>\n",
       "      <td>18.007062</td>\n",
       "      <td>0</td>\n",
       "      <td>1</td>\n",
       "      <td>0</td>\n",
       "      <td>0</td>\n",
       "      <td>0</td>\n",
       "      <td>7.641919e+06</td>\n",
       "      <td>1.236661e+06</td>\n",
       "      <td>7.641941e+06</td>\n",
       "      <td>1.236732e+06</td>\n",
       "    </tr>\n",
       "    <tr>\n",
       "      <th>2</th>\n",
       "      <td>323826</td>\n",
       "      <td>2</td>\n",
       "      <td>1165</td>\n",
       "      <td>12233.968564</td>\n",
       "      <td>1</td>\n",
       "      <td>9.972328e-07</td>\n",
       "      <td>18.007062</td>\n",
       "      <td>0</td>\n",
       "      <td>1</td>\n",
       "      <td>0</td>\n",
       "      <td>0</td>\n",
       "      <td>0</td>\n",
       "      <td>7.625699e+06</td>\n",
       "      <td>1.248427e+06</td>\n",
       "      <td>7.616671e+06</td>\n",
       "      <td>1.252917e+06</td>\n",
       "    </tr>\n",
       "    <tr>\n",
       "      <th>3</th>\n",
       "      <td>375668</td>\n",
       "      <td>2</td>\n",
       "      <td>820</td>\n",
       "      <td>3612.405991</td>\n",
       "      <td>1</td>\n",
       "      <td>1.495849e-06</td>\n",
       "      <td>20.940647</td>\n",
       "      <td>0</td>\n",
       "      <td>1</td>\n",
       "      <td>0</td>\n",
       "      <td>0</td>\n",
       "      <td>0</td>\n",
       "      <td>7.630948e+06</td>\n",
       "      <td>1.253394e+06</td>\n",
       "      <td>7.630941e+06</td>\n",
       "      <td>1.253445e+06</td>\n",
       "    </tr>\n",
       "    <tr>\n",
       "      <th>4</th>\n",
       "      <td>212877</td>\n",
       "      <td>2</td>\n",
       "      <td>1316</td>\n",
       "      <td>26428.385191</td>\n",
       "      <td>1</td>\n",
       "      <td>1.495849e-06</td>\n",
       "      <td>23.092603</td>\n",
       "      <td>0</td>\n",
       "      <td>0</td>\n",
       "      <td>1</td>\n",
       "      <td>0</td>\n",
       "      <td>0</td>\n",
       "      <td>7.631318e+06</td>\n",
       "      <td>1.252962e+06</td>\n",
       "      <td>7.646416e+06</td>\n",
       "      <td>1.264378e+06</td>\n",
       "    </tr>\n",
       "  </tbody>\n",
       "</table>\n",
       "</div>"
      ],
      "text/plain": [
       "   id_trip  mode  duration    distance_m  weekday        precip       temp  \\\n",
       "0   150744     2       862   9935.922336        1  0.000000e+00  16.910884   \n",
       "1    35763     2      1873   6832.113937        1  9.972328e-07  18.007062   \n",
       "2   323826     2      1165  12233.968564        1  9.972328e-07  18.007062   \n",
       "3   375668     2       820   3612.405991        1  1.495849e-06  20.940647   \n",
       "4   212877     2      1316  26428.385191        1  1.495849e-06  23.092603   \n",
       "\n",
       "   morning  midday  afternoon  evening  midnight        startx        starty  \\\n",
       "0        1       0          0        0         0  7.624322e+06  1.247673e+06   \n",
       "1        0       1          0        0         0  7.641919e+06  1.236661e+06   \n",
       "2        0       1          0        0         0  7.625699e+06  1.248427e+06   \n",
       "3        0       1          0        0         0  7.630948e+06  1.253394e+06   \n",
       "4        0       0          1        0         0  7.631318e+06  1.252962e+06   \n",
       "\n",
       "           endx          endy  \n",
       "0  7.631864e+06  1.250415e+06  \n",
       "1  7.641941e+06  1.236732e+06  \n",
       "2  7.616671e+06  1.252917e+06  \n",
       "3  7.630941e+06  1.253445e+06  \n",
       "4  7.646416e+06  1.264378e+06  "
      ]
     },
     "execution_count": 7,
     "metadata": {},
     "output_type": "execute_result"
    }
   ],
   "source": [
    "X_all.head()"
   ]
  },
  {
   "cell_type": "code",
   "execution_count": 8,
   "metadata": {},
   "outputs": [
    {
     "data": {
      "text/plain": [
       "Index(['purpose'], dtype='object')"
      ]
     },
     "execution_count": 8,
     "metadata": {},
     "output_type": "execute_result"
    }
   ],
   "source": [
    "y_all.columns"
   ]
  },
  {
   "cell_type": "code",
   "execution_count": 9,
   "metadata": {},
   "outputs": [
    {
     "name": "stdout",
     "output_type": "stream",
     "text": [
      "The size of each trip purpose:\n"
     ]
    },
    {
     "data": {
      "text/plain": [
       "0    8049\n",
       "2    7723\n",
       "1    2714\n",
       "4    2175\n",
       "3    1379\n",
       "5     908\n",
       "Name: purpose, dtype: int64"
      ]
     },
     "execution_count": 9,
     "metadata": {},
     "output_type": "execute_result"
    }
   ],
   "source": [
    "print('The size of each trip purpose:')\n",
    "y_all['purpose'].value_counts()"
   ]
  },
  {
   "cell_type": "markdown",
   "metadata": {},
   "source": [
    "# Variable settings and algorithms"
   ]
  },
  {
   "cell_type": "markdown",
   "metadata": {},
   "source": [
    " There are four settings of variables\n",
    " - Basic (without nearby trip purposes or Google nearby Places)\n",
    " - Basic and nearby trips\n",
    " - Basic and Google POIs\n",
    " - Baisc and nearby trips and Google POIs \n",
    " \n",
    " \n",
    " There are two algorithms:\n",
    " - Random Forest\n",
    " - Nested Logit\n",
    " \n",
    " \n",
    " Based on exhaustive combinations of settings and algorithms, eight models will be trained.\n",
    " \n",
    " In this notebook, we will compare four random forest models. Each model will be tuned using GridSearchCV.\n",
    " \n",
    " The basic variables include the following:\n",
    " - 'mode'\n",
    " - 'duration'\n",
    " - 'distance_m'\n",
    " - 'weekday'\n",
    " - 'precip'\n",
    " - 'temp'\n",
    " - 'morning' \n",
    " - 'midday' \n",
    " - 'afternoon'\n",
    " - 'evening'\n",
    " - 'midnight'\n",
    " \n",
    " \n",
    " There is no need to normalise continuous variables before using RF."
   ]
  },
  {
   "cell_type": "markdown",
   "metadata": {},
   "source": [
    "## Utility functions"
   ]
  },
  {
   "cell_type": "markdown",
   "metadata": {},
   "source": [
    "### A function that runs a standard random forest model"
   ]
  },
  {
   "cell_type": "code",
   "execution_count": 10,
   "metadata": {},
   "outputs": [],
   "source": [
    "def run_rf(X_train, X_test, y_train, y_test, n_estimators=100, max_depth=None):\n",
    "    \"\"\"\n",
    "        Run a random forest classification model\n",
    "    \"\"\"\n",
    "    clf = sklearn.ensemble.RandomForestClassifier(n_estimators=n_estimators, max_depth=max_depth)\n",
    "    clf.fit(X_train, y_train)\n",
    "    score = clf.score(X_test,y_test)\n",
    "    preds = clf.predict(X_test)\n",
    "    #print(\"Random Forest Classifcation accuracy:\", score)\n",
    "    return clf, score, preds"
   ]
  },
  {
   "cell_type": "markdown",
   "metadata": {},
   "source": [
    "### A function to compute the proportions of nearby trip purposes in the training data (TK)"
   ]
  },
  {
   "cell_type": "code",
   "execution_count": 11,
   "metadata": {},
   "outputs": [],
   "source": [
    "def compute_nearby_purposes(y_train, X_train, X_test, buffer_size_m=200):\n",
    "    \"\"\"\n",
    "        Augment the training and testing data with the proportions of nearby trip purposes in the training data.\n",
    "        :param y_train: (dataframe) the trip purpose of the training data, which is used to compute proportions of nearby trip purposes. Should contain a column of 'purpose'\n",
    "        :param X_train: (dataframe) the predictor variables of the training data. Should contain three columns of 'id', endx' and 'endy'.\n",
    "        :param X_test: (dataframe) the predictor variables of the testing data. Should contain two columns of 'id', 'endx' and 'endy'.\n",
    "        :param buffer_size_m: (int) the size of the buffer in metres around each trip end.\n",
    "        :return: (list) [X_train_aug, X_test_aug]. X_train_aug and X_test_aug are the X_train and X_test augmented with extra columns, respectively. The new columns are ['p_nearby_0', 'p_nearby_1', 'p_nearby_2', 'p_nearby_3', 'p_nearby_4', 'p_nearby_5']\n",
    "        Note: when selecting the trips close to a trip in the training data, remember to exclude this trip itself using the 'id' column.\n",
    "        Note: EPSG:3347 == Canada Lambert Projection\n",
    "    \"\"\"\n",
    "    ## merge train and test X back together\n",
    "    all_X = pd.concat([X_train, X_test],axis=0)\n",
    "    \n",
    "    ## initialise a geo-dataframe of all the X values and create a buffer of 200 m around each trip (for each row)\n",
    "    all_X['geometry'] = all_X.apply(lambda row: shapely.geometry.Point(row['endx'],row['endy']),axis=1)\n",
    "    geo_X = gpd.GeoDataFrame(all_X,crs=\"EPSG:3347\")\n",
    "    \n",
    "    # calculate 200 m buffers around each trip end point\n",
    "    geo_X['buffers'] = geo_X['geometry'].apply(lambda row: row.buffer(buffer_size_m))\n",
    "    \n",
    "    # get a geo-dataframe with only the Trip ID,trip end buffer and trip purpose\n",
    "    only_buffers = geo_X[['id_trip','buffers']]\n",
    "    only_buffers = gpd.GeoDataFrame(only_buffers.rename(columns={'buffers':'geometry'}), crs=\"EPSG:3347\")\n",
    "    \n",
    "    \n",
    "    ## intialise a geo-dataframe of only the training data\n",
    "    # Note: only the purposes of trips of the training dataset are known so this is why we need to create a seperate geoDataFrame of only the training data\n",
    "    all_train = pd.concat([X_train,y_train],axis=1)\n",
    "    all_train.reset_index(drop=True,inplace=True)\n",
    "    all_train['geometry'] = all_train.apply(lambda row: shapely.geometry.Point(row['endx'],row['endy']),axis=1)\n",
    "    geo_train = gpd.GeoDataFrame(all_train,crs=\"EPSG:3347\")\n",
    "\n",
    "    ## perform the spatial join between a buffer of each trip and trip end points from exclusively the training data.\n",
    "    # Note: here we are extracting the purpose of trips where the trip end points from the training geo-dataframe (type==Point) intersect with a buffer of all the trip end points (type==Polygon) \n",
    "    joined_data = gpd.sjoin(only_buffers, geo_train, op='intersects', how='left')\n",
    "\n",
    "    ## drop duplicates (as each trip will fall within a buffer of itself)\n",
    "    to_drop = joined_data[['id_trip_left','id_trip_right']].apply(lambda row: True \\\n",
    "                                                                if row['id_trip_left'] == row['id_trip_right']\\\n",
    "                                                                else False, axis=1)\n",
    "    joined_data = joined_data[~to_drop]\n",
    "    \n",
    "    ## Compute the proportion of nearby purposes types for each trip/row\n",
    "    grouped_data = joined_data.groupby(['id_trip_left', 'purpose']).agg({'mode':'count'})\n",
    "    grouped_data = grouped_data.unstack().apply(lambda row: row/row.sum(),axis=1)['mode'].reset_index()\n",
    "    grouped_data = grouped_data.fillna(0.0)\n",
    "    \n",
    "    ## rename columns\n",
    "    new_columns = ['id_trip','p_nearby_0','p_nearby_1','p_nearby_2','p_nearby_3','p_nearby_4',\\\n",
    "                       'p_nearby_5']\n",
    "    grouped_data.columns = new_columns\n",
    "    \n",
    "    ## Merge p_nearby columns back to X_train and X_test\n",
    "    all_X = all_X.merge(grouped_data, on='id_trip', how='left')\n",
    "    all_X = all_X.fillna(0.0)\n",
    "    X_train_aug = X_train.merge(all_X[new_columns], on='id_trip')\n",
    "    X_test_aug = X_test.merge(all_X[new_columns], on='id_trip')\n",
    "    return X_train_aug, X_test_aug"
   ]
  },
  {
   "cell_type": "markdown",
   "metadata": {},
   "source": [
    "# Basic RF"
   ]
  },
  {
   "cell_type": "code",
   "execution_count": 12,
   "metadata": {},
   "outputs": [],
   "source": [
    "basic_variables = ['mode', 'duration', 'distance_m', 'weekday', 'precip',\n",
    "       'temp', 'morning', 'midday', 'afternoon', 'evening', 'midnight']\n",
    "\n",
    "# needed for nearby purpose computation \n",
    "temporary_variables = ['id_trip','endx','endy']\n",
    "\n",
    "# extract all variables\n",
    "X_all_basic_variables = X_all[basic_variables + temporary_variables]"
   ]
  },
  {
   "cell_type": "code",
   "execution_count": 13,
   "metadata": {},
   "outputs": [
    {
     "name": "stdout",
     "output_type": "stream",
     "text": [
      "(22948, 14)\n",
      "(22948, 1)\n",
      "(22948,)\n"
     ]
    }
   ],
   "source": [
    "print(X_all_basic_variables.shape)\n",
    "print(y_all.shape)\n",
    "print(np.ravel(y_all).shape)"
   ]
  },
  {
   "cell_type": "code",
   "execution_count": 14,
   "metadata": {},
   "outputs": [],
   "source": [
    "# split training testing data\n",
    "rd_state = 42\n",
    "\n",
    "X_train, X_test, y_train, y_test = sklearn.model_selection.train_test_split(\n",
    "    X_all_basic_variables, y_all, stratify=y_all, random_state=rd_state)"
   ]
  },
  {
   "cell_type": "code",
   "execution_count": 15,
   "metadata": {
    "scrolled": true
   },
   "outputs": [],
   "source": [
    "# compute nearby purposes\n",
    "X_train, X_test = compute_nearby_purposes(y_train, X_train, X_test, 200)"
   ]
  },
  {
   "cell_type": "code",
   "execution_count": 16,
   "metadata": {},
   "outputs": [],
   "source": [
    "# preserve Trip IDs of training and testing data\n",
    "X_train_IDs = X_train['id_trip']\n",
    "X_test_IDs = X_test['id_trip']"
   ]
  },
  {
   "cell_type": "code",
   "execution_count": 17,
   "metadata": {
    "scrolled": true
   },
   "outputs": [],
   "source": [
    "# remove columns which are not needed\n",
    "X_train = X_train.drop(columns=temporary_variables, axis=1)\n",
    "X_test = X_test.drop(columns=temporary_variables, axis=1)"
   ]
  },
  {
   "cell_type": "code",
   "execution_count": 18,
   "metadata": {},
   "outputs": [],
   "source": [
    "# flatten y train data\n",
    "y_train = np.ravel(y_train)\n",
    "y_test = np.ravel(y_test)"
   ]
  },
  {
   "cell_type": "code",
   "execution_count": 19,
   "metadata": {},
   "outputs": [],
   "source": [
    "# run the random forest algorithm on this dataset\n",
    "rf_clf, rf_accuracy_rest, rf_pred_test = run_rf(X_train, X_test, y_train, y_test)"
   ]
  },
  {
   "cell_type": "code",
   "execution_count": 20,
   "metadata": {},
   "outputs": [
    {
     "name": "stdout",
     "output_type": "stream",
     "text": [
      "Accuracy on training data:  0.9999418976236129\n",
      "Accuracy on testing data:  0.5438382429841381\n"
     ]
    }
   ],
   "source": [
    "# print results\n",
    "print(\"Accuracy on training data: \", rf_clf.score(X_train, y_train))\n",
    "print(\"Accuracy on testing data: \", rf_accuracy_rest)"
   ]
  },
  {
   "cell_type": "markdown",
   "metadata": {},
   "source": [
    "The prediciton accuracy on the training and testing data is 1.0 and 0.511, respectively, indicating that the model is overfitting."
   ]
  },
  {
   "cell_type": "code",
   "execution_count": 21,
   "metadata": {},
   "outputs": [
    {
     "name": "stdout",
     "output_type": "stream",
     "text": [
      "              precision    recall  f1-score   support\n",
      "\n",
      "           0       0.54      0.67      0.60      2012\n",
      "           1       0.35      0.11      0.17       678\n",
      "           2       0.54      0.63      0.58      1931\n",
      "           3       0.45      0.15      0.22       345\n",
      "           4       0.70      0.74      0.72       544\n",
      "           5       0.44      0.09      0.15       227\n",
      "\n",
      "    accuracy                           0.54      5737\n",
      "   macro avg       0.50      0.40      0.41      5737\n",
      "weighted avg       0.52      0.54      0.51      5737\n",
      "\n"
     ]
    }
   ],
   "source": [
    "print(sklearn.metrics.classification_report(y_test, rf_pred_test))"
   ]
  },
  {
   "cell_type": "markdown",
   "metadata": {},
   "source": [
    "It is seen that the F1 is the highest for the trips of type 0 and 2, and the lowest for type 3 and 5."
   ]
  },
  {
   "cell_type": "markdown",
   "metadata": {},
   "source": [
    "## Feature importance"
   ]
  },
  {
   "cell_type": "code",
   "execution_count": 22,
   "metadata": {},
   "outputs": [],
   "source": [
    "# n_samples is set as 5000 by default. \n",
    "# Setting n_samples as -1 means entire validation set\n",
    "# the score metric used is accuracy, aka number of records that are correctly predicted\n",
    "imp = rfpimp.importances(rf_clf, X_test, y_test, n_samples=-1)"
   ]
  },
  {
   "cell_type": "code",
   "execution_count": 23,
   "metadata": {},
   "outputs": [
    {
     "name": "stdout",
     "output_type": "stream",
     "text": [
      "            Importance\n",
      "Feature               \n",
      "p_nearby_4    0.046191\n",
      "p_nearby_2    0.032595\n",
      "midnight      0.032595\n",
      "p_nearby_0    0.025972\n",
      "weekday       0.016036\n",
      "distance_m    0.008192\n",
      "mode          0.008018\n",
      "midday        0.007321\n",
      "evening       0.005578\n",
      "p_nearby_5    0.004881\n",
      "p_nearby_3    0.002789\n",
      "duration      0.001917\n",
      "p_nearby_1    0.001394\n",
      "temp          0.001046\n",
      "morning       0.000872\n",
      "afternoon     0.000872\n",
      "precip       -0.006624\n"
     ]
    }
   ],
   "source": [
    "print(imp)"
   ]
  },
  {
   "cell_type": "code",
   "execution_count": 24,
   "metadata": {},
   "outputs": [
    {
     "data": {
      "image/png": "[encoded data removed]",
      "text/plain": [
       "<Figure size 288x270.72 with 1 Axes>"
      ]
     },
     "metadata": {
      "needs_background": "light"
     },
     "output_type": "display_data"
    }
   ],
   "source": [
    "viz = rfpimp.plot_importances(imp)\n",
    "viz.view()"
   ]
  },
  {
   "cell_type": "markdown",
   "metadata": {},
   "source": [
    "It can be seen that the most important variables are:\n",
    "- purpose_nearby_2 # shops\n",
    "- purpose_nearby_4 # education\n",
    "- mode\n",
    "- temp\n",
    "- purpose_nearby_0 # leisure\n",
    "- weekday\n",
    "- purpose_nearby_1 # food/drink\n",
    "- distance_m\n",
    "- purpose_nearby_3 # pick-up/drop-off\n",
    "- purpose_nearby_5 # health\n",
    "- midnight\n",
    "- duration"
   ]
  },
  {
   "cell_type": "markdown",
   "metadata": {},
   "source": [
    "## Model tuning"
   ]
  },
  {
   "cell_type": "markdown",
   "metadata": {},
   "source": [
    "The hyperparameter of **n_estimators** will be tuned using *GridSearchCV*."
   ]
  },
  {
   "cell_type": "code",
   "execution_count": 25,
   "metadata": {},
   "outputs": [
    {
     "name": "stderr",
     "output_type": "stream",
     "text": [
      "/Applications/anaconda/envs/st-ds/lib/python3.7/site-packages/sklearn/model_selection/_split.py:1978: FutureWarning: The default value of cv will change from 3 to 5 in version 0.22. Specify it explicitly to silence this warning.\n",
      "  warnings.warn(CV_WARNING, FutureWarning)\n"
     ]
    },
    {
     "name": "stdout",
     "output_type": "stream",
     "text": [
      "Best parameters set found on development set:\n",
      "\n",
      "{'n_estimators': 200}\n",
      "\n",
      "Grid scores on development set:\n",
      "\n",
      "0.524 (+/-0.009) for {'n_estimators': 10}\n",
      "0.557 (+/-0.009) for {'n_estimators': 50}\n",
      "0.563 (+/-0.002) for {'n_estimators': 100}\n",
      "0.566 (+/-0.003) for {'n_estimators': 200}\n",
      "\n",
      "Detailed classification report:\n",
      "\n",
      "The model is trained on the full evaluation set.\n",
      "The scores are computed on the full evaluation set.\n",
      "\n",
      "              precision    recall  f1-score   support\n",
      "\n",
      "           0       0.54      0.68      0.60      2012\n",
      "           1       0.38      0.12      0.18       678\n",
      "           2       0.54      0.64      0.59      1931\n",
      "           3       0.45      0.15      0.23       345\n",
      "           4       0.71      0.74      0.72       544\n",
      "           5       0.36      0.08      0.13       227\n",
      "\n",
      "    accuracy                           0.55      5737\n",
      "   macro avg       0.50      0.40      0.41      5737\n",
      "weighted avg       0.53      0.55      0.52      5737\n",
      "\n"
     ]
    }
   ],
   "source": [
    "# testing on different n_estimators\n",
    "list_n_estimators = [10, 50, 100, 200]\n",
    "\n",
    "# by default n_estimator in random forest is 100\n",
    "parameters = {'n_estimators': list_n_estimators}\n",
    "\n",
    "# use the default 5-fold cross validation. \n",
    "# About CV: For integer/None inputs, if the estimator is a classifier and y is either binary or multiclass, StratifiedKFold is used. \n",
    "# In all other cases, KFold is used.\n",
    "gscv_rfc = sklearn.model_selection.GridSearchCV(sklearn.ensemble.RandomForestClassifier(), parameters)\n",
    "gscv_rfc.fit(X_train, y_train)\n",
    "\n",
    "print(\"Best parameters set found on development set:\")\n",
    "print()\n",
    "print(gscv_rfc.best_params_)\n",
    "print()\n",
    "print(\"Grid scores on development set:\")\n",
    "print()\n",
    "means = gscv_rfc.cv_results_['mean_test_score']\n",
    "stds = gscv_rfc.cv_results_['std_test_score']\n",
    "for mean, std, params in zip(means, stds, gscv_rfc.cv_results_['params']):\n",
    "    print(\"%0.3f (+/-%0.03f) for %r\"\n",
    "          % (mean, std * 2, params))\n",
    "print()\n",
    "\n",
    "print(\"Detailed classification report:\")\n",
    "print()\n",
    "print(\"The model is trained on the full evaluation set.\")\n",
    "print(\"The scores are computed on the full evaluation set.\")\n",
    "print()\n",
    "y_true, y_pred = y_test, gscv_rfc.predict(X_test)\n",
    "print(sklearn.metrics.classification_report(y_true, y_pred))\n"
   ]
  },
  {
   "cell_type": "code",
   "execution_count": 26,
   "metadata": {
    "scrolled": true
   },
   "outputs": [
    {
     "name": "stderr",
     "output_type": "stream",
     "text": [
      "/Applications/anaconda/envs/st-ds/lib/python3.7/site-packages/sklearn/model_selection/_split.py:1978: FutureWarning: The default value of cv will change from 3 to 5 in version 0.22. Specify it explicitly to silence this warning.\n",
      "  warnings.warn(CV_WARNING, FutureWarning)\n",
      "/Applications/anaconda/envs/st-ds/lib/python3.7/site-packages/sklearn/ensemble/forest.py:245: FutureWarning: The default value of n_estimators will change from 10 in version 0.20 to 100 in 0.22.\n",
      "  \"10 in version 0.20 to 100 in 0.22.\", FutureWarning)\n",
      "/Applications/anaconda/envs/st-ds/lib/python3.7/site-packages/sklearn/ensemble/forest.py:245: FutureWarning: The default value of n_estimators will change from 10 in version 0.20 to 100 in 0.22.\n",
      "  \"10 in version 0.20 to 100 in 0.22.\", FutureWarning)\n",
      "/Applications/anaconda/envs/st-ds/lib/python3.7/site-packages/sklearn/ensemble/forest.py:245: FutureWarning: The default value of n_estimators will change from 10 in version 0.20 to 100 in 0.22.\n",
      "  \"10 in version 0.20 to 100 in 0.22.\", FutureWarning)\n",
      "/Applications/anaconda/envs/st-ds/lib/python3.7/site-packages/sklearn/ensemble/forest.py:245: FutureWarning: The default value of n_estimators will change from 10 in version 0.20 to 100 in 0.22.\n",
      "  \"10 in version 0.20 to 100 in 0.22.\", FutureWarning)\n",
      "/Applications/anaconda/envs/st-ds/lib/python3.7/site-packages/sklearn/ensemble/forest.py:245: FutureWarning: The default value of n_estimators will change from 10 in version 0.20 to 100 in 0.22.\n",
      "  \"10 in version 0.20 to 100 in 0.22.\", FutureWarning)\n",
      "/Applications/anaconda/envs/st-ds/lib/python3.7/site-packages/sklearn/ensemble/forest.py:245: FutureWarning: The default value of n_estimators will change from 10 in version 0.20 to 100 in 0.22.\n",
      "  \"10 in version 0.20 to 100 in 0.22.\", FutureWarning)\n",
      "/Applications/anaconda/envs/st-ds/lib/python3.7/site-packages/sklearn/ensemble/forest.py:245: FutureWarning: The default value of n_estimators will change from 10 in version 0.20 to 100 in 0.22.\n",
      "  \"10 in version 0.20 to 100 in 0.22.\", FutureWarning)\n",
      "/Applications/anaconda/envs/st-ds/lib/python3.7/site-packages/sklearn/ensemble/forest.py:245: FutureWarning: The default value of n_estimators will change from 10 in version 0.20 to 100 in 0.22.\n",
      "  \"10 in version 0.20 to 100 in 0.22.\", FutureWarning)\n",
      "/Applications/anaconda/envs/st-ds/lib/python3.7/site-packages/sklearn/ensemble/forest.py:245: FutureWarning: The default value of n_estimators will change from 10 in version 0.20 to 100 in 0.22.\n",
      "  \"10 in version 0.20 to 100 in 0.22.\", FutureWarning)\n",
      "/Applications/anaconda/envs/st-ds/lib/python3.7/site-packages/sklearn/ensemble/forest.py:245: FutureWarning: The default value of n_estimators will change from 10 in version 0.20 to 100 in 0.22.\n",
      "  \"10 in version 0.20 to 100 in 0.22.\", FutureWarning)\n",
      "/Applications/anaconda/envs/st-ds/lib/python3.7/site-packages/sklearn/ensemble/forest.py:245: FutureWarning: The default value of n_estimators will change from 10 in version 0.20 to 100 in 0.22.\n",
      "  \"10 in version 0.20 to 100 in 0.22.\", FutureWarning)\n",
      "/Applications/anaconda/envs/st-ds/lib/python3.7/site-packages/sklearn/ensemble/forest.py:245: FutureWarning: The default value of n_estimators will change from 10 in version 0.20 to 100 in 0.22.\n",
      "  \"10 in version 0.20 to 100 in 0.22.\", FutureWarning)\n"
     ]
    },
    {
     "name": "stdout",
     "output_type": "stream",
     "text": [
      "Best parameters set found on development set:\n",
      "\n",
      "{'max_depth': 10}\n",
      "\n",
      "Grid scores on development set:\n",
      "\n",
      "0.545 (+/-0.004) for {'max_depth': 10}\n",
      "0.528 (+/-0.010) for {'max_depth': 20}\n",
      "0.525 (+/-0.005) for {'max_depth': 50}\n",
      "0.522 (+/-0.011) for {'max_depth': 100}\n",
      "\n",
      "Detailed classification report:\n",
      "\n",
      "The model is trained on the full evaluation set.\n",
      "The scores are computed on the full evaluation set.\n",
      "\n",
      "              precision    recall  f1-score   support\n",
      "\n",
      "           0       0.54      0.68      0.60      2012\n",
      "           1       0.31      0.03      0.05       678\n",
      "           2       0.52      0.68      0.59      1931\n",
      "           3       0.42      0.09      0.14       345\n",
      "           4       0.71      0.70      0.70       544\n",
      "           5       0.42      0.07      0.12       227\n",
      "\n",
      "    accuracy                           0.54      5737\n",
      "   macro avg       0.49      0.37      0.37      5737\n",
      "weighted avg       0.51      0.54      0.50      5737\n",
      "\n"
     ]
    },
    {
     "name": "stderr",
     "output_type": "stream",
     "text": [
      "/Applications/anaconda/envs/st-ds/lib/python3.7/site-packages/sklearn/ensemble/forest.py:245: FutureWarning: The default value of n_estimators will change from 10 in version 0.20 to 100 in 0.22.\n",
      "  \"10 in version 0.20 to 100 in 0.22.\", FutureWarning)\n"
     ]
    }
   ],
   "source": [
    "# testing on different max_depth\n",
    "\n",
    "# by default n_estimator in random forest is 100\n",
    "parameters = {'max_depth': [10, 20, 50, 100]}\n",
    "\n",
    "# use the default 5-fold cross validation. \n",
    "# About CV: For integer/None inputs, if the estimator is a classifier and y is either binary or multiclass, StratifiedKFold is used. \n",
    "# In all other cases, KFold is used.\n",
    "gscv_rfc = sklearn.model_selection.GridSearchCV(sklearn.ensemble.RandomForestClassifier(), parameters)\n",
    "gscv_rfc.fit(X_train, y_train)\n",
    "\n",
    "print(\"Best parameters set found on development set:\")\n",
    "print()\n",
    "print(gscv_rfc.best_params_)\n",
    "print()\n",
    "print(\"Grid scores on development set:\")\n",
    "print()\n",
    "means = gscv_rfc.cv_results_['mean_test_score']\n",
    "stds = gscv_rfc.cv_results_['std_test_score']\n",
    "for mean, std, params in zip(means, stds, gscv_rfc.cv_results_['params']):\n",
    "    print(\"%0.3f (+/-%0.03f) for %r\"\n",
    "          % (mean, std * 2, params))\n",
    "print()\n",
    "\n",
    "print(\"Detailed classification report:\")\n",
    "print()\n",
    "print(\"The model is trained on the full evaluation set.\")\n",
    "print(\"The scores are computed on the full evaluation set.\")\n",
    "print()\n",
    "y_true, y_pred = y_test, gscv_rfc.predict(X_test)\n",
    "print(sklearn.metrics.classification_report(y_true, y_pred))\n"
   ]
  },
  {
   "cell_type": "code",
   "execution_count": 27,
   "metadata": {},
   "outputs": [
    {
     "name": "stderr",
     "output_type": "stream",
     "text": [
      "/Applications/anaconda/envs/st-ds/lib/python3.7/site-packages/sklearn/model_selection/_split.py:1978: FutureWarning: The default value of cv will change from 3 to 5 in version 0.22. Specify it explicitly to silence this warning.\n",
      "  warnings.warn(CV_WARNING, FutureWarning)\n"
     ]
    },
    {
     "name": "stdout",
     "output_type": "stream",
     "text": [
      "Best parameters set found on development set:\n",
      "\n",
      "{'max_depth': 100, 'n_estimators': 200}\n",
      "\n",
      "Grid scores on development set:\n",
      "\n",
      "0.544 (+/-0.010) for {'max_depth': 10, 'n_estimators': 10}\n",
      "0.554 (+/-0.006) for {'max_depth': 10, 'n_estimators': 50}\n",
      "0.555 (+/-0.008) for {'max_depth': 10, 'n_estimators': 100}\n",
      "0.555 (+/-0.011) for {'max_depth': 10, 'n_estimators': 200}\n",
      "0.531 (+/-0.014) for {'max_depth': 20, 'n_estimators': 10}\n",
      "0.556 (+/-0.006) for {'max_depth': 20, 'n_estimators': 50}\n",
      "0.564 (+/-0.002) for {'max_depth': 20, 'n_estimators': 100}\n",
      "0.564 (+/-0.002) for {'max_depth': 20, 'n_estimators': 200}\n",
      "0.522 (+/-0.010) for {'max_depth': 50, 'n_estimators': 10}\n",
      "0.556 (+/-0.006) for {'max_depth': 50, 'n_estimators': 50}\n",
      "0.562 (+/-0.004) for {'max_depth': 50, 'n_estimators': 100}\n",
      "0.561 (+/-0.000) for {'max_depth': 50, 'n_estimators': 200}\n",
      "0.527 (+/-0.007) for {'max_depth': 100, 'n_estimators': 10}\n",
      "0.557 (+/-0.006) for {'max_depth': 100, 'n_estimators': 50}\n",
      "0.562 (+/-0.002) for {'max_depth': 100, 'n_estimators': 100}\n",
      "0.565 (+/-0.002) for {'max_depth': 100, 'n_estimators': 200}\n",
      "\n",
      "Detailed classification report:\n",
      "\n",
      "The model is trained on the full evaluation set.\n",
      "The scores are computed on the full evaluation set.\n",
      "\n",
      "              precision    recall  f1-score   support\n",
      "\n",
      "           0       0.54      0.68      0.60      2012\n",
      "           1       0.38      0.11      0.18       678\n",
      "           2       0.54      0.64      0.59      1931\n",
      "           3       0.44      0.15      0.22       345\n",
      "           4       0.70      0.73      0.71       544\n",
      "           5       0.31      0.07      0.11       227\n",
      "\n",
      "    accuracy                           0.55      5737\n",
      "   macro avg       0.49      0.40      0.40      5737\n",
      "weighted avg       0.52      0.55      0.52      5737\n",
      "\n"
     ]
    }
   ],
   "source": [
    "# testing n_estimators and max_depth\n",
    "\n",
    "# by default n_estimator in random forest is 100\n",
    "parameters = {'max_depth': [10, 20, 50, 100], 'n_estimators':[10, 50, 100, 200]}\n",
    "\n",
    "# use the default 5-fold cross validation. \n",
    "# About CV: For integer/None inputs, if the estimator is a classifier and y is either binary or multiclass, StratifiedKFold is used. \n",
    "# In all other cases, KFold is used.\n",
    "gscv_rfc = sklearn.model_selection.GridSearchCV(sklearn.ensemble.RandomForestClassifier(), parameters)\n",
    "gscv_rfc.fit(X_train, y_train)\n",
    "\n",
    "print(\"Best parameters set found on development set:\")\n",
    "print()\n",
    "print(gscv_rfc.best_params_)\n",
    "print()\n",
    "print(\"Grid scores on development set:\")\n",
    "print()\n",
    "means = gscv_rfc.cv_results_['mean_test_score']\n",
    "stds = gscv_rfc.cv_results_['std_test_score']\n",
    "for mean, std, params in zip(means, stds, gscv_rfc.cv_results_['params']):\n",
    "    print(\"%0.3f (+/-%0.03f) for %r\"\n",
    "          % (mean, std * 2, params))\n",
    "print()\n",
    "\n",
    "print(\"Detailed classification report:\")\n",
    "print()\n",
    "print(\"The model is trained on the full evaluation set.\")\n",
    "print(\"The scores are computed on the full evaluation set.\")\n",
    "print()\n",
    "y_true, y_pred = y_test, gscv_rfc.predict(X_test)\n",
    "print(sklearn.metrics.classification_report(y_true, y_pred))"
   ]
  },
  {
   "cell_type": "markdown",
   "metadata": {},
   "source": [
    "The best hyperparameter found is **{'max_depth': 20, 'n_estimators': 200}**."
   ]
  },
  {
   "cell_type": "markdown",
   "metadata": {},
   "source": [
    "## Oversampling"
   ]
  },
  {
   "cell_type": "code",
   "execution_count": 28,
   "metadata": {},
   "outputs": [
    {
     "data": {
      "text/plain": [
       "Index(['mode', 'duration', 'distance_m', 'weekday', 'precip', 'temp',\n",
       "       'morning', 'midday', 'afternoon', 'evening', 'midnight', 'p_nearby_0',\n",
       "       'p_nearby_1', 'p_nearby_2', 'p_nearby_3', 'p_nearby_4', 'p_nearby_5'],\n",
       "      dtype='object')"
      ]
     },
     "execution_count": 28,
     "metadata": {},
     "output_type": "execute_result"
    }
   ],
   "source": [
    "X_train.columns"
   ]
  },
  {
   "cell_type": "code",
   "execution_count": 29,
   "metadata": {},
   "outputs": [],
   "source": [
    "# define categorical variables\n",
    "list_categorical_var = ['mode', 'weekday', 'morning', 'midday', 'afternoon', 'evening', 'midnight']\n",
    "mark_cateogrical_var = [e in list_categorical_var for e in X_train.columns]\n",
    "rd_state = 42\n",
    "\n",
    "sm = SMOTENC(random_state=rd_state, categorical_features=mark_cateogrical_var)\n",
    "X_train_res, y_train_res = sm.fit_resample(X_train, y_train)"
   ]
  },
  {
   "cell_type": "code",
   "execution_count": 30,
   "metadata": {},
   "outputs": [
    {
     "name": "stdout",
     "output_type": "stream",
     "text": [
      "Number per trip purpose in y_train\n",
      "0    6037\n",
      "2    5792\n",
      "1    2036\n",
      "4    1631\n",
      "3    1034\n",
      "5     681\n",
      "dtype: int64\n",
      "Number per trip purpose in y_train_res\n",
      "5    6037\n",
      "4    6037\n",
      "3    6037\n",
      "2    6037\n",
      "1    6037\n",
      "0    6037\n",
      "dtype: int64\n"
     ]
    }
   ],
   "source": [
    "# check number of trip purposes in y_train\n",
    "print(\"Number per trip purpose in y_train\")\n",
    "print(pd.Series(y_train).value_counts())\n",
    "print(\"Number per trip purpose in y_train_res\")\n",
    "print(pd.Series(y_train_res).value_counts())\n",
    "# check number of trip purposes in y_train_res"
   ]
  },
  {
   "cell_type": "code",
   "execution_count": 31,
   "metadata": {},
   "outputs": [
    {
     "name": "stdout",
     "output_type": "stream",
     "text": [
      "Accuracy on training data:  0.9999418976236129\n",
      "Accuracy on testing data:  0.5478473069548545\n"
     ]
    }
   ],
   "source": [
    "rf, rf_accuracy_test, rf_pred_test = run_rf(X_train, X_test, y_train, y_test,\\\n",
    "                                                        n_estimators=200, max_depth=20)\n",
    "print(\"Accuracy on training data: \", rf_clf.score(X_train, y_train))\n",
    "print(\"Accuracy on testing data: \", rf_accuracy_test)"
   ]
  },
  {
   "cell_type": "code",
   "execution_count": 32,
   "metadata": {},
   "outputs": [
    {
     "name": "stdout",
     "output_type": "stream",
     "text": [
      "              precision    recall  f1-score   support\n",
      "\n",
      "           0       0.54      0.67      0.60      2012\n",
      "           1       0.40      0.11      0.17       678\n",
      "           2       0.54      0.65      0.59      1931\n",
      "           3       0.44      0.14      0.21       345\n",
      "           4       0.71      0.74      0.72       544\n",
      "           5       0.38      0.08      0.13       227\n",
      "\n",
      "    accuracy                           0.55      5737\n",
      "   macro avg       0.50      0.40      0.40      5737\n",
      "weighted avg       0.53      0.55      0.51      5737\n",
      "\n"
     ]
    }
   ],
   "source": [
    "print(sklearn.metrics.classification_report(y_test, rf_pred_test))"
   ]
  },
  {
   "cell_type": "code",
   "execution_count": 33,
   "metadata": {},
   "outputs": [
    {
     "name": "stdout",
     "output_type": "stream",
     "text": [
      "Accuracy on training data:  0.6590193804869968\n",
      "Accuracy on testing data:  0.5291964441345651\n"
     ]
    }
   ],
   "source": [
    "# compare the model using resampled data and \n",
    "rf_res, rf_res_accuracy_test, rf_res_pred_test = run_rf(X_train_res, X_test, y_train_res, y_test,\\\n",
    "                                                        n_estimators=200, max_depth=20)\n",
    "# print results\n",
    "print(\"Accuracy on training data: \", rf_clf.score(X_train_res, y_train_res))\n",
    "print(\"Accuracy on testing data: \", rf_res_accuracy_test)"
   ]
  },
  {
   "cell_type": "markdown",
   "metadata": {},
   "source": [
    "The encoding of **purpose** and **mode** is as follows. Note that the trips of home and work have been removed.\n",
    "\n",
    "- purpose: {'leisure': 0, 'food_drink': 1, 'shops': 2, 'pick_up_drop_off': 3, 'education': 4, 'health': 5}\n",
    "- mode: {'walking': 0, 'public_transport': 1, 'car': 2, 'cycling': 3, 'public_transport, car': 4, 'other': 5}"
   ]
  },
  {
   "cell_type": "code",
   "execution_count": 34,
   "metadata": {},
   "outputs": [
    {
     "name": "stdout",
     "output_type": "stream",
     "text": [
      "              precision    recall  f1-score   support\n",
      "\n",
      "           0       0.58      0.61      0.60      2012\n",
      "           1       0.32      0.29      0.30       678\n",
      "           2       0.58      0.54      0.56      1931\n",
      "           3       0.29      0.31      0.30       345\n",
      "           4       0.66      0.78      0.71       544\n",
      "           5       0.23      0.22      0.23       227\n",
      "\n",
      "    accuracy                           0.53      5737\n",
      "   macro avg       0.44      0.46      0.45      5737\n",
      "weighted avg       0.53      0.53      0.53      5737\n",
      "\n"
     ]
    }
   ],
   "source": [
    "print(sklearn.metrics.classification_report(y_test, rf_res_pred_test))"
   ]
  },
  {
   "cell_type": "markdown",
   "metadata": {},
   "source": [
    "The oversampling doesn't lead to increase on the prediction accuracy. More predictor variables are needed for this task."
   ]
  },
  {
   "cell_type": "markdown",
   "metadata": {},
   "source": [
    "# Export model results\n",
    "#### Functions in this section:\n",
    "1. `model_setup` – Randomises the stratified train/test split and Trip IDs used  \n",
    "2. `merge_predictions_to_data` – Code to join predictions of testing set back to original data"
   ]
  },
  {
   "cell_type": "code",
   "execution_count": 35,
   "metadata": {},
   "outputs": [],
   "source": [
    "## Globals for columns to keep in the X data\n",
    "BASIC_VARIABLES = ['mode', 'duration', 'distance_m', 'weekday', 'precip',\n",
    "       'temp', 'morning', 'midday', 'afternoon', 'evening', 'midnight']\n",
    "TEMPORARY_VARIABLES = ['id_trip','endx','endy'] # needed for nearby purpose computation \n",
    "\n",
    "\n",
    "def model_setup(X, y, rd_state):\n",
    "    \"\"\"\n",
    "        Sets up the model by carrying out the train/test splits as well as calculating the nearby purposes columns\n",
    "        :param X: (dataframe) Independent variables\n",
    "        :param y: (dataframe) Dependent variable\n",
    "        :param rd_state: (int) Random state used for stratified train/test split\n",
    "    \"\"\"\n",
    "    ## extract all variables needed based on global column list (see globals)\n",
    "    X = X[BASIC_VARIABLES + TEMPORARY_VARIABLES]\n",
    "    \n",
    "    ## perform stratified train/test split\n",
    "    X_train, X_test, y_train, y_test = sklearn.model_selection.train_test_split(\n",
    "        X, y, stratify=y, random_state=rd_state)\n",
    "    \n",
    "    ## compute nearby purposes\n",
    "    X_train, X_test = compute_nearby_purposes(y_train, X_train, X_test, 200)\n",
    "    \n",
    "    ## preserve Trip IDs of training and testing data\n",
    "    X_train_IDs = X_train['id_trip']\n",
    "    X_test_IDs = X_test['id_trip']\n",
    "    \n",
    "    # remove columns which are not needed\n",
    "    X_train = X_train.drop(columns=TEMPORARY_VARIABLES, axis=1)\n",
    "    X_test = X_test.drop(columns=TEMPORARY_VARIABLES, axis=1)\n",
    "    \n",
    "    # flatten y train data\n",
    "    y_train = np.ravel(y_train)\n",
    "    y_test = np.ravel(y_test)\n",
    "    \n",
    "    return X_train, X_test, y_train, y_test, X_train_IDs, X_test_IDs\n",
    "\n",
    "\n",
    "def merge_predictions_to_data(original_data, predictions, X_test, y_test, test_ids):\n",
    "    \"\"\"\n",
    "        Merge the predictions made by the model on the testing set back to the original data by merging on the trip ID\n",
    "        :param original_data: (dataframe) Original dataframe from which train-test split is carried out\n",
    "        :param predictions: (array) Predictions made on the testing set\n",
    "        :param test_ids: (array) trip IDs for each row in the testing set\n",
    "        :return original_data_with_preds: (dataframe) New dataframe containing only the testing set trip IDs and with predictions for these\n",
    "    \"\"\"\n",
    "    ## make predictions into dataframe\n",
    "    # apply series to the array of predictions\n",
    "    predictions = pd.Series(predictions)\n",
    "    # make a dataframe of ID, purpose and prediction\n",
    "    prediction_data = pd.DataFrame([test_ids, y_test, predictions]).T\n",
    "    prediction_data.columns = ['id_trip','purpose','prediction']\n",
    "    # join back to X_test\n",
    "    X_test = pd.concat([X_test, prediction_data],axis=1)\n",
    "    \n",
    "    ## merge to original\n",
    "    # get columns to perform merge on (to miss out duplicates)\n",
    "    cols_to_use = list(prediction_data.columns.difference(X_17.columns))\n",
    "    cols_to_use += ['id_trip', 'p_nearby_0','p_nearby_1','p_nearby_2','p_nearby_3','p_nearby_4','p_nearby_5']\n",
    "\n",
    "    # perform inner join\n",
    "    original_data_with_preds = original_data.merge(X_test[cols_to_use], on='id_trip', how='inner')\n",
    "    return original_data_with_preds\n",
    "    "
   ]
  },
  {
   "cell_type": "code",
   "execution_count": 36,
   "metadata": {},
   "outputs": [
    {
     "name": "stdout",
     "output_type": "stream",
     "text": [
      "605\n"
     ]
    }
   ],
   "source": [
    "# set a random seed for train test split\n",
    "random.seed(datetime.datetime.now())\n",
    "rd_state = random.randint(0,1001)\n",
    "print(rd_state)"
   ]
  },
  {
   "cell_type": "code",
   "execution_count": 37,
   "metadata": {},
   "outputs": [
    {
     "name": "stdout",
     "output_type": "stream",
     "text": [
      "CPU times: user 36.4 s, sys: 634 ms, total: 37.1 s\n",
      "Wall time: 37.3 s\n"
     ]
    }
   ],
   "source": [
    "%%time\n",
    "# create new set of train/test data\n",
    "X_train, X_test, y_train, y_test, X_train_IDs, X_test_IDs = model_setup(X_17, y_17, rd_state)"
   ]
  },
  {
   "cell_type": "code",
   "execution_count": 38,
   "metadata": {},
   "outputs": [
    {
     "name": "stdout",
     "output_type": "stream",
     "text": [
      "accuracy on testing data: 0.5492417639881472\n"
     ]
    }
   ],
   "source": [
    "# carry out modelling\n",
    "rf, rf_accuracy_test, rf_preds = run_rf(X_train, X_test, y_train, y_test,\\\n",
    "                                                        n_estimators=200, max_depth=20)\n",
    "print('accuracy on testing data:', rf_accuracy_test)"
   ]
  },
  {
   "cell_type": "code",
   "execution_count": 39,
   "metadata": {
    "scrolled": false
   },
   "outputs": [
    {
     "name": "stdout",
     "output_type": "stream",
     "text": [
      "mode                    3\n",
      "duration             3603\n",
      "distance_m        2862.76\n",
      "weekday                 1\n",
      "precip        0.000750916\n",
      "temp              16.0571\n",
      "morning             False\n",
      "midday              False\n",
      "afternoon           False\n",
      "evening             False\n",
      "midnight             True\n",
      "p_nearby_0       0.705882\n",
      "p_nearby_1       0.117647\n",
      "p_nearby_2       0.176471\n",
      "p_nearby_3              0\n",
      "p_nearby_4              0\n",
      "p_nearby_5              0\n",
      "Name: 0, dtype: object\n"
     ]
    },
    {
     "data": {
      "text/html": [
       "<div>\n",
       "<style scoped>\n",
       "    .dataframe tbody tr th:only-of-type {\n",
       "        vertical-align: middle;\n",
       "    }\n",
       "\n",
       "    .dataframe tbody tr th {\n",
       "        vertical-align: top;\n",
       "    }\n",
       "\n",
       "    .dataframe thead th {\n",
       "        text-align: right;\n",
       "    }\n",
       "</style>\n",
       "<table border=\"1\" class=\"dataframe\">\n",
       "  <thead>\n",
       "    <tr style=\"text-align: right;\">\n",
       "      <th></th>\n",
       "      <th>id_trip</th>\n",
       "      <th>mode</th>\n",
       "      <th>duration</th>\n",
       "      <th>distance_m</th>\n",
       "      <th>weekday</th>\n",
       "      <th>precip</th>\n",
       "      <th>temp</th>\n",
       "      <th>morning</th>\n",
       "      <th>midday</th>\n",
       "      <th>afternoon</th>\n",
       "      <th>evening</th>\n",
       "      <th>midnight</th>\n",
       "      <th>startx</th>\n",
       "      <th>starty</th>\n",
       "      <th>endx</th>\n",
       "      <th>endy</th>\n",
       "    </tr>\n",
       "  </thead>\n",
       "  <tbody>\n",
       "    <tr>\n",
       "      <th>17285</th>\n",
       "      <td>435174</td>\n",
       "      <td>3</td>\n",
       "      <td>3603</td>\n",
       "      <td>2862.764494</td>\n",
       "      <td>1</td>\n",
       "      <td>0.000751</td>\n",
       "      <td>16.05711</td>\n",
       "      <td>0</td>\n",
       "      <td>0</td>\n",
       "      <td>0</td>\n",
       "      <td>0</td>\n",
       "      <td>1</td>\n",
       "      <td>7.624681e+06</td>\n",
       "      <td>1.246457e+06</td>\n",
       "      <td>7.626269e+06</td>\n",
       "      <td>1.247517e+06</td>\n",
       "    </tr>\n",
       "  </tbody>\n",
       "</table>\n",
       "</div>"
      ],
      "text/plain": [
       "       id_trip  mode  duration   distance_m  weekday    precip      temp  \\\n",
       "17285   435174     3      3603  2862.764494        1  0.000751  16.05711   \n",
       "\n",
       "       morning  midday  afternoon  evening  midnight        startx  \\\n",
       "17285        0       0          0        0         1  7.624681e+06   \n",
       "\n",
       "             starty          endx          endy  \n",
       "17285  1.246457e+06  7.626269e+06  1.247517e+06  "
      ]
     },
     "execution_count": 39,
     "metadata": {},
     "output_type": "execute_result"
    }
   ],
   "source": [
    "## DATA CHECK: to see if the ids still match up between the X_test and the original data\n",
    "print(X_test.iloc[0])\n",
    "X_all.loc[X_all.id_trip == X_test_IDs[0]]"
   ]
  },
  {
   "cell_type": "code",
   "execution_count": 40,
   "metadata": {},
   "outputs": [],
   "source": [
    "# merge predictions back to data\n",
    "data_with_preds = merge_predictions_to_data(X_all, rf_preds, X_test, y_test, X_test_IDs)"
   ]
  },
  {
   "cell_type": "code",
   "execution_count": 41,
   "metadata": {},
   "outputs": [
    {
     "data": {
      "text/html": [
       "<div>\n",
       "<style scoped>\n",
       "    .dataframe tbody tr th:only-of-type {\n",
       "        vertical-align: middle;\n",
       "    }\n",
       "\n",
       "    .dataframe tbody tr th {\n",
       "        vertical-align: top;\n",
       "    }\n",
       "\n",
       "    .dataframe thead th {\n",
       "        text-align: right;\n",
       "    }\n",
       "</style>\n",
       "<table border=\"1\" class=\"dataframe\">\n",
       "  <thead>\n",
       "    <tr style=\"text-align: right;\">\n",
       "      <th></th>\n",
       "      <th>id_trip</th>\n",
       "      <th>mode</th>\n",
       "      <th>duration</th>\n",
       "      <th>distance_m</th>\n",
       "      <th>weekday</th>\n",
       "      <th>precip</th>\n",
       "      <th>temp</th>\n",
       "      <th>morning</th>\n",
       "      <th>midday</th>\n",
       "      <th>afternoon</th>\n",
       "      <th>...</th>\n",
       "      <th>endx</th>\n",
       "      <th>endy</th>\n",
       "      <th>prediction</th>\n",
       "      <th>purpose</th>\n",
       "      <th>p_nearby_0</th>\n",
       "      <th>p_nearby_1</th>\n",
       "      <th>p_nearby_2</th>\n",
       "      <th>p_nearby_3</th>\n",
       "      <th>p_nearby_4</th>\n",
       "      <th>p_nearby_5</th>\n",
       "    </tr>\n",
       "  </thead>\n",
       "  <tbody>\n",
       "    <tr>\n",
       "      <th>0</th>\n",
       "      <td>150744</td>\n",
       "      <td>2</td>\n",
       "      <td>862</td>\n",
       "      <td>9935.922336</td>\n",
       "      <td>1</td>\n",
       "      <td>0.000000</td>\n",
       "      <td>16.910884</td>\n",
       "      <td>1</td>\n",
       "      <td>0</td>\n",
       "      <td>0</td>\n",
       "      <td>...</td>\n",
       "      <td>7.631864e+06</td>\n",
       "      <td>1.250415e+06</td>\n",
       "      <td>2</td>\n",
       "      <td>3</td>\n",
       "      <td>0.133333</td>\n",
       "      <td>0.033333</td>\n",
       "      <td>0.766667</td>\n",
       "      <td>0.033333</td>\n",
       "      <td>0.033333</td>\n",
       "      <td>0.000000</td>\n",
       "    </tr>\n",
       "    <tr>\n",
       "      <th>1</th>\n",
       "      <td>257884</td>\n",
       "      <td>3</td>\n",
       "      <td>110</td>\n",
       "      <td>347.261519</td>\n",
       "      <td>1</td>\n",
       "      <td>0.000062</td>\n",
       "      <td>26.659408</td>\n",
       "      <td>0</td>\n",
       "      <td>0</td>\n",
       "      <td>0</td>\n",
       "      <td>...</td>\n",
       "      <td>7.630828e+06</td>\n",
       "      <td>1.250138e+06</td>\n",
       "      <td>2</td>\n",
       "      <td>2</td>\n",
       "      <td>0.250000</td>\n",
       "      <td>0.000000</td>\n",
       "      <td>0.250000</td>\n",
       "      <td>0.500000</td>\n",
       "      <td>0.000000</td>\n",
       "      <td>0.000000</td>\n",
       "    </tr>\n",
       "    <tr>\n",
       "      <th>2</th>\n",
       "      <td>410129</td>\n",
       "      <td>2</td>\n",
       "      <td>569</td>\n",
       "      <td>4605.407008</td>\n",
       "      <td>1</td>\n",
       "      <td>0.000099</td>\n",
       "      <td>25.860051</td>\n",
       "      <td>0</td>\n",
       "      <td>0</td>\n",
       "      <td>0</td>\n",
       "      <td>...</td>\n",
       "      <td>7.658376e+06</td>\n",
       "      <td>1.256748e+06</td>\n",
       "      <td>2</td>\n",
       "      <td>3</td>\n",
       "      <td>0.000000</td>\n",
       "      <td>0.000000</td>\n",
       "      <td>0.000000</td>\n",
       "      <td>0.000000</td>\n",
       "      <td>0.000000</td>\n",
       "      <td>0.000000</td>\n",
       "    </tr>\n",
       "    <tr>\n",
       "      <th>3</th>\n",
       "      <td>45863</td>\n",
       "      <td>2</td>\n",
       "      <td>1037</td>\n",
       "      <td>16426.302328</td>\n",
       "      <td>1</td>\n",
       "      <td>0.000099</td>\n",
       "      <td>22.094541</td>\n",
       "      <td>0</td>\n",
       "      <td>0</td>\n",
       "      <td>0</td>\n",
       "      <td>...</td>\n",
       "      <td>7.628635e+06</td>\n",
       "      <td>1.250061e+06</td>\n",
       "      <td>0</td>\n",
       "      <td>2</td>\n",
       "      <td>0.357143</td>\n",
       "      <td>0.071429</td>\n",
       "      <td>0.357143</td>\n",
       "      <td>0.000000</td>\n",
       "      <td>0.142857</td>\n",
       "      <td>0.071429</td>\n",
       "    </tr>\n",
       "    <tr>\n",
       "      <th>4</th>\n",
       "      <td>452030</td>\n",
       "      <td>2</td>\n",
       "      <td>1008</td>\n",
       "      <td>6500.370675</td>\n",
       "      <td>1</td>\n",
       "      <td>0.000000</td>\n",
       "      <td>18.627913</td>\n",
       "      <td>0</td>\n",
       "      <td>1</td>\n",
       "      <td>0</td>\n",
       "      <td>...</td>\n",
       "      <td>7.615643e+06</td>\n",
       "      <td>1.247518e+06</td>\n",
       "      <td>2</td>\n",
       "      <td>5</td>\n",
       "      <td>0.000000</td>\n",
       "      <td>0.000000</td>\n",
       "      <td>1.000000</td>\n",
       "      <td>0.000000</td>\n",
       "      <td>0.000000</td>\n",
       "      <td>0.000000</td>\n",
       "    </tr>\n",
       "  </tbody>\n",
       "</table>\n",
       "<p>5 rows × 24 columns</p>\n",
       "</div>"
      ],
      "text/plain": [
       "   id_trip  mode  duration    distance_m  weekday    precip       temp  \\\n",
       "0   150744     2       862   9935.922336        1  0.000000  16.910884   \n",
       "1   257884     3       110    347.261519        1  0.000062  26.659408   \n",
       "2   410129     2       569   4605.407008        1  0.000099  25.860051   \n",
       "3    45863     2      1037  16426.302328        1  0.000099  22.094541   \n",
       "4   452030     2      1008   6500.370675        1  0.000000  18.627913   \n",
       "\n",
       "   morning  midday  afternoon  ...          endx          endy  prediction  \\\n",
       "0        1       0          0  ...  7.631864e+06  1.250415e+06           2   \n",
       "1        0       0          0  ...  7.630828e+06  1.250138e+06           2   \n",
       "2        0       0          0  ...  7.658376e+06  1.256748e+06           2   \n",
       "3        0       0          0  ...  7.628635e+06  1.250061e+06           0   \n",
       "4        0       1          0  ...  7.615643e+06  1.247518e+06           2   \n",
       "\n",
       "   purpose  p_nearby_0  p_nearby_1  p_nearby_2  p_nearby_3  p_nearby_4  \\\n",
       "0        3    0.133333    0.033333    0.766667    0.033333    0.033333   \n",
       "1        2    0.250000    0.000000    0.250000    0.500000    0.000000   \n",
       "2        3    0.000000    0.000000    0.000000    0.000000    0.000000   \n",
       "3        2    0.357143    0.071429    0.357143    0.000000    0.142857   \n",
       "4        5    0.000000    0.000000    1.000000    0.000000    0.000000   \n",
       "\n",
       "   p_nearby_5  \n",
       "0    0.000000  \n",
       "1    0.000000  \n",
       "2    0.000000  \n",
       "3    0.071429  \n",
       "4    0.000000  \n",
       "\n",
       "[5 rows x 24 columns]"
      ]
     },
     "execution_count": 41,
     "metadata": {},
     "output_type": "execute_result"
    }
   ],
   "source": [
    "# view data\n",
    "data_with_preds.head()"
   ]
  },
  {
   "cell_type": "code",
   "execution_count": 42,
   "metadata": {},
   "outputs": [],
   "source": [
    "# append times for start and end of trip\n",
    "start_end_times = gpd.read_file('../../Data/mtl_trajet/mtl_trajet_2017_final.shp')[['id_trip','starttime','endtime']]\n"
   ]
  },
  {
   "cell_type": "code",
   "execution_count": 43,
   "metadata": {},
   "outputs": [],
   "source": [
    "data_with_preds = data_with_preds.merge(start_end_times, on='id_trip')"
   ]
  },
  {
   "cell_type": "code",
   "execution_count": 44,
   "metadata": {},
   "outputs": [
    {
     "data": {
      "text/html": [
       "<div>\n",
       "<style scoped>\n",
       "    .dataframe tbody tr th:only-of-type {\n",
       "        vertical-align: middle;\n",
       "    }\n",
       "\n",
       "    .dataframe tbody tr th {\n",
       "        vertical-align: top;\n",
       "    }\n",
       "\n",
       "    .dataframe thead th {\n",
       "        text-align: right;\n",
       "    }\n",
       "</style>\n",
       "<table border=\"1\" class=\"dataframe\">\n",
       "  <thead>\n",
       "    <tr style=\"text-align: right;\">\n",
       "      <th></th>\n",
       "      <th>id_trip</th>\n",
       "      <th>mode</th>\n",
       "      <th>duration</th>\n",
       "      <th>distance_m</th>\n",
       "      <th>weekday</th>\n",
       "      <th>precip</th>\n",
       "      <th>temp</th>\n",
       "      <th>morning</th>\n",
       "      <th>midday</th>\n",
       "      <th>afternoon</th>\n",
       "      <th>...</th>\n",
       "      <th>prediction</th>\n",
       "      <th>purpose</th>\n",
       "      <th>p_nearby_0</th>\n",
       "      <th>p_nearby_1</th>\n",
       "      <th>p_nearby_2</th>\n",
       "      <th>p_nearby_3</th>\n",
       "      <th>p_nearby_4</th>\n",
       "      <th>p_nearby_5</th>\n",
       "      <th>starttime</th>\n",
       "      <th>endtime</th>\n",
       "    </tr>\n",
       "  </thead>\n",
       "  <tbody>\n",
       "    <tr>\n",
       "      <th>0</th>\n",
       "      <td>150744</td>\n",
       "      <td>2</td>\n",
       "      <td>862</td>\n",
       "      <td>9935.922336</td>\n",
       "      <td>1</td>\n",
       "      <td>0.000000</td>\n",
       "      <td>16.910884</td>\n",
       "      <td>1</td>\n",
       "      <td>0</td>\n",
       "      <td>0</td>\n",
       "      <td>...</td>\n",
       "      <td>2</td>\n",
       "      <td>3</td>\n",
       "      <td>0.133333</td>\n",
       "      <td>0.033333</td>\n",
       "      <td>0.766667</td>\n",
       "      <td>0.033333</td>\n",
       "      <td>0.033333</td>\n",
       "      <td>0.000000</td>\n",
       "      <td>2017-09-18 10:02:50</td>\n",
       "      <td>2017-09-18 10:17:12</td>\n",
       "    </tr>\n",
       "    <tr>\n",
       "      <th>1</th>\n",
       "      <td>257884</td>\n",
       "      <td>3</td>\n",
       "      <td>110</td>\n",
       "      <td>347.261519</td>\n",
       "      <td>1</td>\n",
       "      <td>0.000062</td>\n",
       "      <td>26.659408</td>\n",
       "      <td>0</td>\n",
       "      <td>0</td>\n",
       "      <td>0</td>\n",
       "      <td>...</td>\n",
       "      <td>2</td>\n",
       "      <td>2</td>\n",
       "      <td>0.250000</td>\n",
       "      <td>0.000000</td>\n",
       "      <td>0.250000</td>\n",
       "      <td>0.500000</td>\n",
       "      <td>0.000000</td>\n",
       "      <td>0.000000</td>\n",
       "      <td>2017-09-18 20:50:10</td>\n",
       "      <td>2017-09-18 20:52:00</td>\n",
       "    </tr>\n",
       "    <tr>\n",
       "      <th>2</th>\n",
       "      <td>410129</td>\n",
       "      <td>2</td>\n",
       "      <td>569</td>\n",
       "      <td>4605.407008</td>\n",
       "      <td>1</td>\n",
       "      <td>0.000099</td>\n",
       "      <td>25.860051</td>\n",
       "      <td>0</td>\n",
       "      <td>0</td>\n",
       "      <td>0</td>\n",
       "      <td>...</td>\n",
       "      <td>2</td>\n",
       "      <td>3</td>\n",
       "      <td>0.000000</td>\n",
       "      <td>0.000000</td>\n",
       "      <td>0.000000</td>\n",
       "      <td>0.000000</td>\n",
       "      <td>0.000000</td>\n",
       "      <td>0.000000</td>\n",
       "      <td>2017-09-18 21:20:24</td>\n",
       "      <td>2017-09-18 21:29:53</td>\n",
       "    </tr>\n",
       "    <tr>\n",
       "      <th>3</th>\n",
       "      <td>45863</td>\n",
       "      <td>2</td>\n",
       "      <td>1037</td>\n",
       "      <td>16426.302328</td>\n",
       "      <td>1</td>\n",
       "      <td>0.000099</td>\n",
       "      <td>22.094541</td>\n",
       "      <td>0</td>\n",
       "      <td>0</td>\n",
       "      <td>0</td>\n",
       "      <td>...</td>\n",
       "      <td>0</td>\n",
       "      <td>2</td>\n",
       "      <td>0.357143</td>\n",
       "      <td>0.071429</td>\n",
       "      <td>0.357143</td>\n",
       "      <td>0.000000</td>\n",
       "      <td>0.142857</td>\n",
       "      <td>0.071429</td>\n",
       "      <td>2017-09-19 00:40:14</td>\n",
       "      <td>2017-09-19 00:57:31</td>\n",
       "    </tr>\n",
       "    <tr>\n",
       "      <th>4</th>\n",
       "      <td>452030</td>\n",
       "      <td>2</td>\n",
       "      <td>1008</td>\n",
       "      <td>6500.370675</td>\n",
       "      <td>1</td>\n",
       "      <td>0.000000</td>\n",
       "      <td>18.627913</td>\n",
       "      <td>0</td>\n",
       "      <td>1</td>\n",
       "      <td>0</td>\n",
       "      <td>...</td>\n",
       "      <td>2</td>\n",
       "      <td>5</td>\n",
       "      <td>0.000000</td>\n",
       "      <td>0.000000</td>\n",
       "      <td>1.000000</td>\n",
       "      <td>0.000000</td>\n",
       "      <td>0.000000</td>\n",
       "      <td>0.000000</td>\n",
       "      <td>2017-09-19 11:48:18</td>\n",
       "      <td>2017-09-19 12:05:06</td>\n",
       "    </tr>\n",
       "  </tbody>\n",
       "</table>\n",
       "<p>5 rows × 26 columns</p>\n",
       "</div>"
      ],
      "text/plain": [
       "   id_trip  mode  duration    distance_m  weekday    precip       temp  \\\n",
       "0   150744     2       862   9935.922336        1  0.000000  16.910884   \n",
       "1   257884     3       110    347.261519        1  0.000062  26.659408   \n",
       "2   410129     2       569   4605.407008        1  0.000099  25.860051   \n",
       "3    45863     2      1037  16426.302328        1  0.000099  22.094541   \n",
       "4   452030     2      1008   6500.370675        1  0.000000  18.627913   \n",
       "\n",
       "   morning  midday  afternoon  ...  prediction  purpose  p_nearby_0  \\\n",
       "0        1       0          0  ...           2        3    0.133333   \n",
       "1        0       0          0  ...           2        2    0.250000   \n",
       "2        0       0          0  ...           2        3    0.000000   \n",
       "3        0       0          0  ...           0        2    0.357143   \n",
       "4        0       1          0  ...           2        5    0.000000   \n",
       "\n",
       "   p_nearby_1  p_nearby_2  p_nearby_3  p_nearby_4  p_nearby_5  \\\n",
       "0    0.033333    0.766667    0.033333    0.033333    0.000000   \n",
       "1    0.000000    0.250000    0.500000    0.000000    0.000000   \n",
       "2    0.000000    0.000000    0.000000    0.000000    0.000000   \n",
       "3    0.071429    0.357143    0.000000    0.142857    0.071429   \n",
       "4    0.000000    1.000000    0.000000    0.000000    0.000000   \n",
       "\n",
       "             starttime              endtime  \n",
       "0  2017-09-18 10:02:50  2017-09-18 10:17:12  \n",
       "1  2017-09-18 20:50:10  2017-09-18 20:52:00  \n",
       "2  2017-09-18 21:20:24  2017-09-18 21:29:53  \n",
       "3  2017-09-19 00:40:14  2017-09-19 00:57:31  \n",
       "4  2017-09-19 11:48:18  2017-09-19 12:05:06  \n",
       "\n",
       "[5 rows x 26 columns]"
      ]
     },
     "execution_count": 44,
     "metadata": {},
     "output_type": "execute_result"
    }
   ],
   "source": [
    "data_with_preds.head()"
   ]
  },
  {
   "cell_type": "code",
   "execution_count": 45,
   "metadata": {},
   "outputs": [],
   "source": [
    "# save data \n",
    "data_with_preds.to_csv('../../Data/model_outputs/predictions_17.csv',index=False)"
   ]
  },
  {
   "cell_type": "markdown",
   "metadata": {},
   "source": [
    "# POI_RF"
   ]
  },
  {
   "cell_type": "code",
   "execution_count": null,
   "metadata": {},
   "outputs": [],
   "source": []
  },
  {
   "cell_type": "code",
   "execution_count": null,
   "metadata": {},
   "outputs": [],
   "source": []
  },
  {
   "cell_type": "markdown",
   "metadata": {},
   "source": [
    "## One vs many\n",
    "see: https://stackoverflow.com/questions/56090541/how-to-plot-precision-and-recall-of-multiclass-classifier/56092736"
   ]
  },
  {
   "cell_type": "code",
   "execution_count": 46,
   "metadata": {},
   "outputs": [
    {
     "name": "stdout",
     "output_type": "stream",
     "text": [
      "CPU times: user 37.5 s, sys: 634 ms, total: 38.1 s\n",
      "Wall time: 38.3 s\n"
     ]
    }
   ],
   "source": [
    "%%time\n",
    "# create new set of train/test data\n",
    "X_train, X_test, y_train, y_test, X_train_IDs, X_test_IDs = model_setup(X_17, y_17, rd_state=42)"
   ]
  },
  {
   "cell_type": "code",
   "execution_count": 47,
   "metadata": {},
   "outputs": [],
   "source": [
    "sklearn.preprocessing.label_binarize(y_train, classes=[0,1,2,3,4,5])\n",
    "y_train = sklearn.preprocessing.label_binarize(y_train, classes=[0,1,2,3,4,5])\n",
    "y_test = sklearn.preprocessing.label_binarize(y_test, classes=[0,1,2,3,4,5])"
   ]
  },
  {
   "cell_type": "code",
   "execution_count": 48,
   "metadata": {},
   "outputs": [],
   "source": [
    "import sklearn.multiclass"
   ]
  },
  {
   "cell_type": "code",
   "execution_count": 49,
   "metadata": {},
   "outputs": [],
   "source": [
    "clf = sklearn.multiclass.OneVsRestClassifier(sklearn.ensemble.RandomForestClassifier(n_estimators=200,\n",
    "                             max_depth=20,\n",
    "                             random_state=42))\n",
    "clf.fit(X_train, y_train)\n",
    "\n",
    "y_score = clf.predict_proba(X_test)"
   ]
  },
  {
   "cell_type": "code",
   "execution_count": 50,
   "metadata": {},
   "outputs": [
    {
     "data": {
      "text/plain": [
       "0.3780721631514729"
      ]
     },
     "execution_count": 50,
     "metadata": {},
     "output_type": "execute_result"
    }
   ],
   "source": [
    "clf.score(X_test, y_test)"
   ]
  },
  {
   "cell_type": "code",
   "execution_count": 51,
   "metadata": {},
   "outputs": [
    {
     "data": {
      "image/png": "[encoded data removed]",
      "text/plain": [
       "<Figure size 432x288 with 1 Axes>"
      ]
     },
     "metadata": {
      "needs_background": "light"
     },
     "output_type": "display_data"
    }
   ],
   "source": [
    "# precision recall curve\n",
    "precision = dict()\n",
    "recall = dict()\n",
    "for i in range(6):\n",
    "    precision[i], recall[i], _ = sklearn.metrics.precision_recall_curve(y_test[:, i],\n",
    "                                                        y_score[:, i])\n",
    "    plt.plot(recall[i], precision[i], lw=2, label='class {}'.format(i))\n",
    "\n",
    "plt.xlabel(\"recall\")\n",
    "plt.ylabel(\"precision\")\n",
    "plt.legend(loc=\"best\")\n",
    "plt.title(\"precision vs. recall curve\")\n",
    "plt.show()"
   ]
  },
  {
   "cell_type": "code",
   "execution_count": null,
   "metadata": {},
   "outputs": [],
   "source": []
  }
 ],
 "metadata": {
  "kernelspec": {
   "display_name": "Python 3",
   "language": "python",
   "name": "python3"
  },
  "language_info": {
   "codemirror_mode": {
    "name": "ipython",
    "version": 3
   },
   "file_extension": ".py",
   "mimetype": "text/x-python",
   "name": "python",
   "nbconvert_exporter": "python",
   "pygments_lexer": "ipython3",
   "version": "3.7.3"
  },
  "toc": {
   "base_numbering": 1,
   "nav_menu": {},
   "number_sections": true,
   "sideBar": true,
   "skip_h1_title": false,
   "title_cell": "Table of Contents",
   "title_sidebar": "Contents",
   "toc_cell": false,
   "toc_position": {},
   "toc_section_display": true,
   "toc_window_display": true
  }
 },
 "nbformat": 4,
 "nbformat_minor": 2
}
